{
 "cells": [
  {
   "cell_type": "code",
   "execution_count": 1,
   "id": "b81de950",
   "metadata": {},
   "outputs": [],
   "source": [
    "import pandas as pd\n",
    "import numpy as np\n",
    "import h5py\n",
    "from scipy.special import logsumexp\n",
    "from tqdm.notebook import tqdm\n",
    "tqdm.pandas()"
   ]
  },
  {
   "cell_type": "code",
   "execution_count": 2,
   "id": "d9ad3e31",
   "metadata": {},
   "outputs": [],
   "source": [
    "import chart_studio.plotly as py\n",
    "import plotly.graph_objects as go\n",
    "\n",
    "import igraph"
   ]
  },
  {
   "cell_type": "code",
   "execution_count": 3,
   "id": "4ad096e7",
   "metadata": {},
   "outputs": [],
   "source": [
    "with h5py.File('/net/seq/data2/projects/sabramov/SuperIndex/dnase-0209/output/normalized_matrices.hdf5', 'r') as f:\n",
    "    sample_ids = f['samples'][:].astype(str)"
   ]
  },
  {
   "cell_type": "code",
   "execution_count": 4,
   "id": "98a47629",
   "metadata": {},
   "outputs": [
    {
     "data": {
      "text/html": [
       "<div>\n",
       "<style scoped>\n",
       "    .dataframe tbody tr th:only-of-type {\n",
       "        vertical-align: middle;\n",
       "    }\n",
       "\n",
       "    .dataframe tbody tr th {\n",
       "        vertical-align: top;\n",
       "    }\n",
       "\n",
       "    .dataframe thead th {\n",
       "        text-align: right;\n",
       "    }\n",
       "</style>\n",
       "<table border=\"1\" class=\"dataframe\">\n",
       "  <thead>\n",
       "    <tr style=\"text-align: right;\">\n",
       "      <th></th>\n",
       "      <th>tc_number</th>\n",
       "      <th>ds_number</th>\n",
       "      <th>ln_number</th>\n",
       "      <th>passed_agg_qc</th>\n",
       "      <th>hotspot1_spot</th>\n",
       "      <th>hotspot2_spot</th>\n",
       "      <th>nuclear_percent_duplication</th>\n",
       "      <th>taxonomy_name</th>\n",
       "      <th>ontology_id</th>\n",
       "      <th>ontology_term</th>\n",
       "      <th>...</th>\n",
       "      <th>dedupped_subsampled_spot1</th>\n",
       "      <th>dupRate_5M</th>\n",
       "      <th>library_kit</th>\n",
       "      <th>ln</th>\n",
       "      <th>nuclear_aligned</th>\n",
       "      <th>total_aligned</th>\n",
       "      <th>alignment_quality</th>\n",
       "      <th>dhsCounts_AllSamplesIndex</th>\n",
       "      <th>read_depth</th>\n",
       "      <th>log_align</th>\n",
       "    </tr>\n",
       "    <tr>\n",
       "      <th>id</th>\n",
       "      <th></th>\n",
       "      <th></th>\n",
       "      <th></th>\n",
       "      <th></th>\n",
       "      <th></th>\n",
       "      <th></th>\n",
       "      <th></th>\n",
       "      <th></th>\n",
       "      <th></th>\n",
       "      <th></th>\n",
       "      <th></th>\n",
       "      <th></th>\n",
       "      <th></th>\n",
       "      <th></th>\n",
       "      <th></th>\n",
       "      <th></th>\n",
       "      <th></th>\n",
       "      <th></th>\n",
       "      <th></th>\n",
       "      <th></th>\n",
       "      <th></th>\n",
       "    </tr>\n",
       "  </thead>\n",
       "  <tbody>\n",
       "    <tr>\n",
       "      <th>AG80700</th>\n",
       "      <td>6976</td>\n",
       "      <td>DS14320</td>\n",
       "      <td>LN3035</td>\n",
       "      <td>YES</td>\n",
       "      <td>0.5805</td>\n",
       "      <td>0.4312</td>\n",
       "      <td>19.1227</td>\n",
       "      <td>h.WI-38</td>\n",
       "      <td>EFO:0001260</td>\n",
       "      <td>WI38</td>\n",
       "      <td>...</td>\n",
       "      <td>0.4664</td>\n",
       "      <td>0.084913</td>\n",
       "      <td>PE</td>\n",
       "      <td>LN3035</td>\n",
       "      <td>21539393.0</td>\n",
       "      <td>35421258.0</td>\n",
       "      <td>0.608092</td>\n",
       "      <td>62051.0</td>\n",
       "      <td>21516913.0</td>\n",
       "      <td>7.320983</td>\n",
       "    </tr>\n",
       "    <tr>\n",
       "      <th>AG80701</th>\n",
       "      <td>6977</td>\n",
       "      <td>DS14315</td>\n",
       "      <td>LN3034</td>\n",
       "      <td>YES</td>\n",
       "      <td>0.6998</td>\n",
       "      <td>0.5295</td>\n",
       "      <td>23.9026</td>\n",
       "      <td>h.WI-38</td>\n",
       "      <td>EFO:0001260</td>\n",
       "      <td>WI38</td>\n",
       "      <td>...</td>\n",
       "      <td>0.5765</td>\n",
       "      <td>0.111073</td>\n",
       "      <td>PE</td>\n",
       "      <td>LN3034</td>\n",
       "      <td>20727548.0</td>\n",
       "      <td>34235166.0</td>\n",
       "      <td>0.605446</td>\n",
       "      <td>68843.0</td>\n",
       "      <td>20534118.0</td>\n",
       "      <td>7.305907</td>\n",
       "    </tr>\n",
       "    <tr>\n",
       "      <th>AG80698</th>\n",
       "      <td>6974</td>\n",
       "      <td>DS14328</td>\n",
       "      <td>LN3037</td>\n",
       "      <td>YES</td>\n",
       "      <td>0.4922</td>\n",
       "      <td>0.2903</td>\n",
       "      <td>12.4819</td>\n",
       "      <td>h.WI-38</td>\n",
       "      <td>EFO:0001260</td>\n",
       "      <td>WI38</td>\n",
       "      <td>...</td>\n",
       "      <td>0.3903</td>\n",
       "      <td>0.045887</td>\n",
       "      <td>PE</td>\n",
       "      <td>LN3037</td>\n",
       "      <td>24003639.0</td>\n",
       "      <td>34127036.0</td>\n",
       "      <td>0.703361</td>\n",
       "      <td>50237.0</td>\n",
       "      <td>23976239.0</td>\n",
       "      <td>7.366547</td>\n",
       "    </tr>\n",
       "    <tr>\n",
       "      <th>AG80699</th>\n",
       "      <td>6975</td>\n",
       "      <td>DS14323</td>\n",
       "      <td>LN3036</td>\n",
       "      <td>YES</td>\n",
       "      <td>0.6416</td>\n",
       "      <td>0.4020</td>\n",
       "      <td>18.2760</td>\n",
       "      <td>h.WI-38</td>\n",
       "      <td>EFO:0001260</td>\n",
       "      <td>WI38</td>\n",
       "      <td>...</td>\n",
       "      <td>0.5361</td>\n",
       "      <td>0.067307</td>\n",
       "      <td>PE</td>\n",
       "      <td>LN3036</td>\n",
       "      <td>24984098.0</td>\n",
       "      <td>34253236.0</td>\n",
       "      <td>0.729394</td>\n",
       "      <td>60925.0</td>\n",
       "      <td>24965490.0</td>\n",
       "      <td>7.387349</td>\n",
       "    </tr>\n",
       "    <tr>\n",
       "      <th>AG80796</th>\n",
       "      <td>6419</td>\n",
       "      <td>DS12393</td>\n",
       "      <td>LN2503</td>\n",
       "      <td>YES</td>\n",
       "      <td>0.5689</td>\n",
       "      <td>0.4299</td>\n",
       "      <td>21.6078</td>\n",
       "      <td>CMK</td>\n",
       "      <td>EFO:0003037</td>\n",
       "      <td>CMK</td>\n",
       "      <td>...</td>\n",
       "      <td>0.4431</td>\n",
       "      <td>0.078924</td>\n",
       "      <td>PE</td>\n",
       "      <td>LN2503</td>\n",
       "      <td>32730192.0</td>\n",
       "      <td>60738773.0</td>\n",
       "      <td>0.538868</td>\n",
       "      <td>68501.0</td>\n",
       "      <td>32693071.0</td>\n",
       "      <td>7.503502</td>\n",
       "    </tr>\n",
       "    <tr>\n",
       "      <th>...</th>\n",
       "      <td>...</td>\n",
       "      <td>...</td>\n",
       "      <td>...</td>\n",
       "      <td>...</td>\n",
       "      <td>...</td>\n",
       "      <td>...</td>\n",
       "      <td>...</td>\n",
       "      <td>...</td>\n",
       "      <td>...</td>\n",
       "      <td>...</td>\n",
       "      <td>...</td>\n",
       "      <td>...</td>\n",
       "      <td>...</td>\n",
       "      <td>...</td>\n",
       "      <td>...</td>\n",
       "      <td>...</td>\n",
       "      <td>...</td>\n",
       "      <td>...</td>\n",
       "      <td>...</td>\n",
       "      <td>...</td>\n",
       "      <td>...</td>\n",
       "    </tr>\n",
       "    <tr>\n",
       "      <th>AG6932</th>\n",
       "      <td>7522</td>\n",
       "      <td>DS39309</td>\n",
       "      <td>LN42982C</td>\n",
       "      <td>NO</td>\n",
       "      <td>0.2566</td>\n",
       "      <td>0.1794</td>\n",
       "      <td>13.7181</td>\n",
       "      <td>h.smooth muscle cell</td>\n",
       "      <td>CL:0000192</td>\n",
       "      <td>smooth muscle cell</td>\n",
       "      <td>...</td>\n",
       "      <td>0.2496</td>\n",
       "      <td>0.007212</td>\n",
       "      <td>Thruplex DNA-Seq H</td>\n",
       "      <td>LN42982C</td>\n",
       "      <td>219501818.0</td>\n",
       "      <td>264602842.0</td>\n",
       "      <td>0.829552</td>\n",
       "      <td>107648.0</td>\n",
       "      <td>193679177.0</td>\n",
       "      <td>8.326304</td>\n",
       "    </tr>\n",
       "    <tr>\n",
       "      <th>AG6933</th>\n",
       "      <td>7523</td>\n",
       "      <td>DS39312</td>\n",
       "      <td>LN42983C</td>\n",
       "      <td>NO</td>\n",
       "      <td>0.2594</td>\n",
       "      <td>0.1888</td>\n",
       "      <td>12.8734</td>\n",
       "      <td>h.smooth muscle cell</td>\n",
       "      <td>CL:0000192</td>\n",
       "      <td>smooth muscle cell</td>\n",
       "      <td>...</td>\n",
       "      <td>0.2524</td>\n",
       "      <td>0.005988</td>\n",
       "      <td>Thruplex DNA-Seq H</td>\n",
       "      <td>LN42983C</td>\n",
       "      <td>242141104.0</td>\n",
       "      <td>293510790.0</td>\n",
       "      <td>0.824982</td>\n",
       "      <td>134383.0</td>\n",
       "      <td>210615155.0</td>\n",
       "      <td>8.369217</td>\n",
       "    </tr>\n",
       "    <tr>\n",
       "      <th>AG6944</th>\n",
       "      <td>2400</td>\n",
       "      <td>DS55923</td>\n",
       "      <td>LN43606A</td>\n",
       "      <td>YES</td>\n",
       "      <td>0.4793</td>\n",
       "      <td>0.5028</td>\n",
       "      <td>42.7986</td>\n",
       "      <td>h.DE</td>\n",
       "      <td>CL:0000223</td>\n",
       "      <td>endodermal cell</td>\n",
       "      <td>...</td>\n",
       "      <td>0.4638</td>\n",
       "      <td>0.014498</td>\n",
       "      <td>Thruplex DNA-Seq Q</td>\n",
       "      <td>LN43606A</td>\n",
       "      <td>458528756.0</td>\n",
       "      <td>569316312.0</td>\n",
       "      <td>0.805402</td>\n",
       "      <td>301804.0</td>\n",
       "      <td>455107921.0</td>\n",
       "      <td>8.649232</td>\n",
       "    </tr>\n",
       "    <tr>\n",
       "      <th>AG6936</th>\n",
       "      <td>7526</td>\n",
       "      <td>DS39603</td>\n",
       "      <td>LN42989C</td>\n",
       "      <td>YES</td>\n",
       "      <td>0.4296</td>\n",
       "      <td>0.3768</td>\n",
       "      <td>19.5207</td>\n",
       "      <td>h.DE</td>\n",
       "      <td>CL:0000223</td>\n",
       "      <td>endodermal cell</td>\n",
       "      <td>...</td>\n",
       "      <td>0.4172</td>\n",
       "      <td>0.010229</td>\n",
       "      <td>Thruplex DNA-Seq H</td>\n",
       "      <td>LN42989C</td>\n",
       "      <td>235932466.0</td>\n",
       "      <td>296112954.0</td>\n",
       "      <td>0.796765</td>\n",
       "      <td>136871.0</td>\n",
       "      <td>233839183.0</td>\n",
       "      <td>8.360716</td>\n",
       "    </tr>\n",
       "    <tr>\n",
       "      <th>AG72440</th>\n",
       "      <td>11355</td>\n",
       "      <td>DS76812</td>\n",
       "      <td>LN60001A</td>\n",
       "      <td>YES</td>\n",
       "      <td>0.3483</td>\n",
       "      <td>0.1815</td>\n",
       "      <td>7.8514</td>\n",
       "      <td>h.PGP1.iPSC</td>\n",
       "      <td>EFO:0007950</td>\n",
       "      <td>GM23338</td>\n",
       "      <td>...</td>\n",
       "      <td>0.3320</td>\n",
       "      <td>0.004798</td>\n",
       "      <td>ThruPLEX DNA-seq Kit</td>\n",
       "      <td>LN60001A</td>\n",
       "      <td>165515930.0</td>\n",
       "      <td>194223517.0</td>\n",
       "      <td>0.852193</td>\n",
       "      <td>89072.0</td>\n",
       "      <td>164051090.0</td>\n",
       "      <td>8.209901</td>\n",
       "    </tr>\n",
       "  </tbody>\n",
       "</table>\n",
       "<p>3780 rows × 78 columns</p>\n",
       "</div>"
      ],
      "text/plain": [
       "         tc_number ds_number ln_number passed_agg_qc  hotspot1_spot  \\\n",
       "id                                                                    \n",
       "AG80700       6976   DS14320    LN3035           YES         0.5805   \n",
       "AG80701       6977   DS14315    LN3034           YES         0.6998   \n",
       "AG80698       6974   DS14328    LN3037           YES         0.4922   \n",
       "AG80699       6975   DS14323    LN3036           YES         0.6416   \n",
       "AG80796       6419   DS12393    LN2503           YES         0.5689   \n",
       "...            ...       ...       ...           ...            ...   \n",
       "AG6932        7522   DS39309  LN42982C            NO         0.2566   \n",
       "AG6933        7523   DS39312  LN42983C            NO         0.2594   \n",
       "AG6944        2400   DS55923  LN43606A           YES         0.4793   \n",
       "AG6936        7526   DS39603  LN42989C           YES         0.4296   \n",
       "AG72440      11355   DS76812  LN60001A           YES         0.3483   \n",
       "\n",
       "         hotspot2_spot  nuclear_percent_duplication         taxonomy_name  \\\n",
       "id                                                                          \n",
       "AG80700         0.4312                      19.1227               h.WI-38   \n",
       "AG80701         0.5295                      23.9026               h.WI-38   \n",
       "AG80698         0.2903                      12.4819               h.WI-38   \n",
       "AG80699         0.4020                      18.2760               h.WI-38   \n",
       "AG80796         0.4299                      21.6078                   CMK   \n",
       "...                ...                          ...                   ...   \n",
       "AG6932          0.1794                      13.7181  h.smooth muscle cell   \n",
       "AG6933          0.1888                      12.8734  h.smooth muscle cell   \n",
       "AG6944          0.5028                      42.7986                  h.DE   \n",
       "AG6936          0.3768                      19.5207                  h.DE   \n",
       "AG72440         0.1815                       7.8514           h.PGP1.iPSC   \n",
       "\n",
       "         ontology_id       ontology_term  ... dedupped_subsampled_spot1  \\\n",
       "id                                        ...                             \n",
       "AG80700  EFO:0001260                WI38  ...                    0.4664   \n",
       "AG80701  EFO:0001260                WI38  ...                    0.5765   \n",
       "AG80698  EFO:0001260                WI38  ...                    0.3903   \n",
       "AG80699  EFO:0001260                WI38  ...                    0.5361   \n",
       "AG80796  EFO:0003037                 CMK  ...                    0.4431   \n",
       "...              ...                 ...  ...                       ...   \n",
       "AG6932    CL:0000192  smooth muscle cell  ...                    0.2496   \n",
       "AG6933    CL:0000192  smooth muscle cell  ...                    0.2524   \n",
       "AG6944    CL:0000223     endodermal cell  ...                    0.4638   \n",
       "AG6936    CL:0000223     endodermal cell  ...                    0.4172   \n",
       "AG72440  EFO:0007950             GM23338  ...                    0.3320   \n",
       "\n",
       "        dupRate_5M           library_kit        ln nuclear_aligned  \\\n",
       "id                                                                   \n",
       "AG80700   0.084913                    PE    LN3035      21539393.0   \n",
       "AG80701   0.111073                    PE    LN3034      20727548.0   \n",
       "AG80698   0.045887                    PE    LN3037      24003639.0   \n",
       "AG80699   0.067307                    PE    LN3036      24984098.0   \n",
       "AG80796   0.078924                    PE    LN2503      32730192.0   \n",
       "...            ...                   ...       ...             ...   \n",
       "AG6932    0.007212    Thruplex DNA-Seq H  LN42982C     219501818.0   \n",
       "AG6933    0.005988    Thruplex DNA-Seq H  LN42983C     242141104.0   \n",
       "AG6944    0.014498    Thruplex DNA-Seq Q  LN43606A     458528756.0   \n",
       "AG6936    0.010229    Thruplex DNA-Seq H  LN42989C     235932466.0   \n",
       "AG72440   0.004798  ThruPLEX DNA-seq Kit  LN60001A     165515930.0   \n",
       "\n",
       "        total_aligned alignment_quality dhsCounts_AllSamplesIndex  \\\n",
       "id                                                                  \n",
       "AG80700    35421258.0          0.608092                   62051.0   \n",
       "AG80701    34235166.0          0.605446                   68843.0   \n",
       "AG80698    34127036.0          0.703361                   50237.0   \n",
       "AG80699    34253236.0          0.729394                   60925.0   \n",
       "AG80796    60738773.0          0.538868                   68501.0   \n",
       "...               ...               ...                       ...   \n",
       "AG6932    264602842.0          0.829552                  107648.0   \n",
       "AG6933    293510790.0          0.824982                  134383.0   \n",
       "AG6944    569316312.0          0.805402                  301804.0   \n",
       "AG6936    296112954.0          0.796765                  136871.0   \n",
       "AG72440   194223517.0          0.852193                   89072.0   \n",
       "\n",
       "          read_depth  log_align  \n",
       "id                               \n",
       "AG80700   21516913.0   7.320983  \n",
       "AG80701   20534118.0   7.305907  \n",
       "AG80698   23976239.0   7.366547  \n",
       "AG80699   24965490.0   7.387349  \n",
       "AG80796   32693071.0   7.503502  \n",
       "...              ...        ...  \n",
       "AG6932   193679177.0   8.326304  \n",
       "AG6933   210615155.0   8.369217  \n",
       "AG6944   455107921.0   8.649232  \n",
       "AG6936   233839183.0   8.360716  \n",
       "AG72440  164051090.0   8.209901  \n",
       "\n",
       "[3780 rows x 78 columns]"
      ]
     },
     "execution_count": 4,
     "metadata": {},
     "output_type": "execute_result"
    }
   ],
   "source": [
    "emb_meta = pd.read_table('/net/seq/data2/projects/ENCODE4Plus/indexes/index_altius_23-05-11/metadata/ENCODE4plus_master_metadata_for_analysis.tsv')\n",
    "# emb_meta = emb_meta.set_index('id').loc[sample_ids]\n",
    "emb_meta = emb_meta.set_index('id')\n",
    "emb_meta['log_align'] = np.log10(emb_meta['autosomal_align'])\n",
    "emb_meta"
   ]
  },
  {
   "cell_type": "code",
   "execution_count": 5,
   "id": "344eeb31",
   "metadata": {
    "scrolled": false
   },
   "outputs": [],
   "source": [
    "## saved version\n",
    "\n",
    "# import pandas as pd\n",
    "\n",
    "# def assign_category_if_enough_samples(row, df, columns_list, cat_column, tr):\n",
    "#     if pd.isna(row[cat_column]):\n",
    "#         return ['NA']\n",
    "#     vc = df[\n",
    "#         df.eval(' & '.join([f'{col} == \"{row[col]}\"' for col in columns_list]))\n",
    "#     ][cat_column].value_counts()\n",
    "#     if vc[row[cat_column]] >= tr:\n",
    "#         return [row[cat_column]]\n",
    "#     else:\n",
    "#         return ['Other']\n",
    "\n",
    "# def get_cluster(row, df, tr):\n",
    "#     ret = [row['disease_pathology'], row['sampling_origin']]\n",
    "#     if row['disease_pathology'] == 'Normal':\n",
    "#         if row['sampling_origin'] == 'Cultured':\n",
    "#             if row['state'] == 'Cell line':\n",
    "#                 ret += ['CellLine'] + assign_category_if_enough_samples(\n",
    "#                     row, df,\n",
    "#                     columns_list=['disease_pathology',\n",
    "#                                     'sampling_origin',\n",
    "#                                     'state'],\n",
    "#                     cat_column='cell_type',\n",
    "#                     tr=tr\n",
    "#                 )\n",
    "#             else:\n",
    "#                 ret += ['StemAndPrimary']\n",
    "#         elif row['sampling_origin'] == 'Tissue':\n",
    "#             if pd.isna(row['growth_stage']):\n",
    "#                 ret += ['NA']\n",
    "#             else:\n",
    "#                 if row['growth_stage'] == 'Postnatal':\n",
    "#                     ret += ['Postnatal']\n",
    "#                 else:\n",
    "#                     ret += ['Fetal']\n",
    "\n",
    "#                 assert not pd.isna(row['system'])\n",
    "#                 ret += [row[\"system\"]]\n",
    "                \n",
    "#                 ret += assign_category_if_enough_samples(\n",
    "#                     row, df,\n",
    "#                     columns_list=['disease_pathology',\n",
    "#                                     'sampling_origin',\n",
    "#                                     'growth_stage',\n",
    "#                                     'system'],\n",
    "#                     cat_column='organ',\n",
    "#                     tr=tr\n",
    "#                 )\n",
    "\n",
    "#                 # Further splitting up two biggest organs\n",
    "#                 if row['growth_stage'] == 'Postnatal':\n",
    "#                     if row['organ'] == 'Blood':\n",
    "#                         assert not pd.isna(row['subsystem'])\n",
    "#                         assert not pd.isna(row['cell_type'])\n",
    "#                         ret += [row[\"subsystem\"], row[\"cell_type\"]]\n",
    "#                     elif row['organ'] == 'Brain':\n",
    "#                         ret += assign_category_if_enough_samples(\n",
    "#                             row, df,\n",
    "#                             columns_list=['disease_pathology',\n",
    "#                                             'sampling_origin',\n",
    "#                                             'growth_stage',\n",
    "#                                             'organ'],\n",
    "#                             cat_column='organ_region',\n",
    "#                             tr=tr\n",
    "#                         )\n",
    "#     elif row['disease_pathology'] == 'Cancer':\n",
    "#         assert not pd.isna(row['system'])\n",
    "#         ret += [row['system']] + assign_category_if_enough_samples(\n",
    "#             row, df,\n",
    "#             columns_list=['disease_pathology',\n",
    "#                             'sampling_origin',\n",
    "#                             'system'],\n",
    "#             cat_column='cell_type',\n",
    "#             tr=tr\n",
    "#         )\n",
    "#     else:\n",
    "#         print(row['disease_pathology'])\n",
    "#         print(row)\n",
    "#         raise ValueError\n",
    "    \n",
    "#     return '@'.join(ret)\n",
    "\n",
    "# def get_ontology_term(row, df, tr):\n",
    "#     ret = row['annotation_ontology'].split('@')\n",
    "#     if ret[-1] not in ['Other', 'NA']:\n",
    "#         ret += assign_category_if_enough_samples(\n",
    "#             row, df,\n",
    "#             columns_list=['annotation_ontology'],\n",
    "#             cat_column='ontology_term',\n",
    "#             tr=tr\n",
    "#         )\n",
    "#     return '@'.join(ret)\n",
    "\n",
    "\n",
    "# def add_annotation_ontology(df, tr=15):\n",
    "#     # Temporary workaround for AG72376 AG72354 AG72351 AG72349\n",
    "#     df.loc[df['subsystem'] == 'B-cell', 'subsystem'] = 'Lymphoid'\n",
    "\n",
    "#     # Temporary workaround for AG7206\n",
    "#     df.loc['AG7206', ['disease_pathology', 'sampling_origin', 'system', 'cell_type']] =\\\n",
    "#         pd.Series(['Cancer', 'Cultured', 'Hematopoietic', 'Lymphoblast'],\n",
    "#                   index=['disease_pathology', 'sampling_origin', 'system', 'cell_type'])\n",
    "    \n",
    "#     df['annotation_ontology'] = df.progress_apply(lambda row: get_cluster(row, df, tr), axis=1)\n",
    "#     df['annotation_ontology'] = df.progress_apply(lambda row: get_ontology_term(row, df, tr), axis=1)\n",
    "\n",
    "#     return df"
   ]
  },
  {
   "cell_type": "code",
   "execution_count": 6,
   "id": "4d6cfd7a",
   "metadata": {},
   "outputs": [],
   "source": [
    "# df = add_annotation_ontology(emb_meta, tr=1)\n",
    "# df['annotation_ontology'] = df['annotation_ontology'].str.replace('NA', \"Other\")"
   ]
  },
  {
   "cell_type": "code",
   "execution_count": 7,
   "id": "a9f5d70c",
   "metadata": {},
   "outputs": [
    {
     "data": {
      "text/plain": [
       "Index(['tc_number', 'ds_number', 'ln_number', 'passed_agg_qc', 'hotspot1_spot',\n",
       "       'hotspot2_spot', 'nuclear_percent_duplication', 'taxonomy_name',\n",
       "       'ontology_id', 'ontology_term', 'disease_pathology', 'sampling_origin',\n",
       "       'state', 'growth_stage', 'system', 'subsystem', 'organ', 'organ_region',\n",
       "       'cell_type', 'immune_cells_subtype', 't_cells_subpopulation',\n",
       "       'cell_markers', 'side_position', 'germ_layer', 'description',\n",
       "       'donor_id', 'donor_age', 'donor_age_units', 'donor_sex',\n",
       "       'donor_ethnicity', 'donor_health_condition', 'vendor_name',\n",
       "       'perturbation', 'treatment_name', 'treatment_details', 'dose',\n",
       "       'dose_units', 'filtered_alignments_bam', 'bam_index', 'hotspot_peaks',\n",
       "       'hotspot_peaks_1per', 'hotspot_peaks_point1per', 'footprint', 'adapter',\n",
       "       'total_alignments', 'all_aligned', 'all_mapq_filter', 'autosomal_align',\n",
       "       'chr_m', 'hotspot1_num_bases', 'hotspot1_num_spots',\n",
       "       'hotspot2_num_bases', 'hotspot2_num_spots', 'insert_ft_eleven',\n",
       "       'insert_ls_ratio', 'paired_aligned', 'paired_autosomal_align',\n",
       "       'paired_nuclear_align', 'picard_median_insert_size',\n",
       "       'picard_percent_duplication', 'raj_dataset', 'tag', 'footprintdir',\n",
       "       'num_footprints', 'ag_id', 'db', 'original_sub_spot1',\n",
       "       'nf_subsampled_spot1', 'dedupped_subsampled_spot1', 'dupRate_5M',\n",
       "       'library_kit', 'ln', 'nuclear_aligned', 'total_aligned',\n",
       "       'alignment_quality', 'dhsCounts_AllSamplesIndex', 'read_depth',\n",
       "       'log_align'],\n",
       "      dtype='object')"
      ]
     },
     "execution_count": 7,
     "metadata": {},
     "output_type": "execute_result"
    }
   ],
   "source": [
    "df = emb_meta.copy()\n",
    "df.columns"
   ]
  },
  {
   "cell_type": "code",
   "execution_count": 8,
   "id": "77fe28dc",
   "metadata": {},
   "outputs": [
    {
     "data": {
      "text/html": [
       "<div>\n",
       "<style scoped>\n",
       "    .dataframe tbody tr th:only-of-type {\n",
       "        vertical-align: middle;\n",
       "    }\n",
       "\n",
       "    .dataframe tbody tr th {\n",
       "        vertical-align: top;\n",
       "    }\n",
       "\n",
       "    .dataframe thead th {\n",
       "        text-align: right;\n",
       "    }\n",
       "</style>\n",
       "<table border=\"1\" class=\"dataframe\">\n",
       "  <thead>\n",
       "    <tr style=\"text-align: right;\">\n",
       "      <th></th>\n",
       "      <th>sampling_origin</th>\n",
       "      <th>disease_pathology</th>\n",
       "      <th>state</th>\n",
       "      <th>cell_type</th>\n",
       "    </tr>\n",
       "    <tr>\n",
       "      <th>id</th>\n",
       "      <th></th>\n",
       "      <th></th>\n",
       "      <th></th>\n",
       "      <th></th>\n",
       "    </tr>\n",
       "  </thead>\n",
       "  <tbody>\n",
       "    <tr>\n",
       "      <th>AG80850</th>\n",
       "      <td>Cultured</td>\n",
       "      <td>Cancer</td>\n",
       "      <td>Cell line</td>\n",
       "      <td>Lymphoblast</td>\n",
       "    </tr>\n",
       "    <tr>\n",
       "      <th>AG80851</th>\n",
       "      <td>Cultured</td>\n",
       "      <td>Cancer</td>\n",
       "      <td>Cell line</td>\n",
       "      <td>Lymphoblast</td>\n",
       "    </tr>\n",
       "    <tr>\n",
       "      <th>AG80615</th>\n",
       "      <td>Cultured</td>\n",
       "      <td>Cancer</td>\n",
       "      <td>Cell line</td>\n",
       "      <td>Lymphoblast</td>\n",
       "    </tr>\n",
       "    <tr>\n",
       "      <th>AG80660</th>\n",
       "      <td>Cultured</td>\n",
       "      <td>Cancer</td>\n",
       "      <td>Cell line</td>\n",
       "      <td>Lymphoblast</td>\n",
       "    </tr>\n",
       "    <tr>\n",
       "      <th>AG10628</th>\n",
       "      <td>Cultured</td>\n",
       "      <td>Cancer</td>\n",
       "      <td>Cell line</td>\n",
       "      <td>Lymphoblast</td>\n",
       "    </tr>\n",
       "    <tr>\n",
       "      <th>...</th>\n",
       "      <td>...</td>\n",
       "      <td>...</td>\n",
       "      <td>...</td>\n",
       "      <td>...</td>\n",
       "    </tr>\n",
       "    <tr>\n",
       "      <th>AG82621</th>\n",
       "      <td>Cultured</td>\n",
       "      <td>Cancer</td>\n",
       "      <td>Cell line</td>\n",
       "      <td>Lymphoblast</td>\n",
       "    </tr>\n",
       "    <tr>\n",
       "      <th>AG82619</th>\n",
       "      <td>Cultured</td>\n",
       "      <td>Cancer</td>\n",
       "      <td>Cell line</td>\n",
       "      <td>Lymphoblast</td>\n",
       "    </tr>\n",
       "    <tr>\n",
       "      <th>AG82618</th>\n",
       "      <td>Cultured</td>\n",
       "      <td>Cancer</td>\n",
       "      <td>Cell line</td>\n",
       "      <td>Lymphoblast</td>\n",
       "    </tr>\n",
       "    <tr>\n",
       "      <th>AG82617</th>\n",
       "      <td>Cultured</td>\n",
       "      <td>Cancer</td>\n",
       "      <td>Cell line</td>\n",
       "      <td>Lymphoblast</td>\n",
       "    </tr>\n",
       "    <tr>\n",
       "      <th>AG7206</th>\n",
       "      <td>NaN</td>\n",
       "      <td>NaN</td>\n",
       "      <td>NaN</td>\n",
       "      <td>Lymphoblast</td>\n",
       "    </tr>\n",
       "  </tbody>\n",
       "</table>\n",
       "<p>215 rows × 4 columns</p>\n",
       "</div>"
      ],
      "text/plain": [
       "        sampling_origin disease_pathology      state    cell_type\n",
       "id                                                               \n",
       "AG80850        Cultured            Cancer  Cell line  Lymphoblast\n",
       "AG80851        Cultured            Cancer  Cell line  Lymphoblast\n",
       "AG80615        Cultured            Cancer  Cell line  Lymphoblast\n",
       "AG80660        Cultured            Cancer  Cell line  Lymphoblast\n",
       "AG10628        Cultured            Cancer  Cell line  Lymphoblast\n",
       "...                 ...               ...        ...          ...\n",
       "AG82621        Cultured            Cancer  Cell line  Lymphoblast\n",
       "AG82619        Cultured            Cancer  Cell line  Lymphoblast\n",
       "AG82618        Cultured            Cancer  Cell line  Lymphoblast\n",
       "AG82617        Cultured            Cancer  Cell line  Lymphoblast\n",
       "AG7206              NaN               NaN        NaN  Lymphoblast\n",
       "\n",
       "[215 rows x 4 columns]"
      ]
     },
     "execution_count": 8,
     "metadata": {},
     "output_type": "execute_result"
    }
   ],
   "source": [
    "df[df['ontology_term'] == 'K562'][['sampling_origin', 'disease_pathology', 'state', 'cell_type']]"
   ]
  },
  {
   "cell_type": "code",
   "execution_count": 9,
   "id": "a64178ff",
   "metadata": {},
   "outputs": [],
   "source": [
    "# Hotfixes\n",
    "df.loc[df['ontology_term'] == 'L1-S8', 'cell_type'] = 'Progenitor'\n",
    "df.loc[df['ontology_term'] == 'GM23338', 'state'] = 'Stem cells'\n",
    "df.loc[df.eval('disease_pathology == \"Normal\" & sampling_origin == \"Tissue\" & state == \"Cell line\"'), 'sampling_origin'] = 'Cultured'\n",
    "ids = df.loc[df.eval('disease_pathology == \"Normal\" & sampling_origin == \"Tissue\" & growth_stage == \"Embryonic\"'), :].index\n",
    "df.loc[ids, 'sampling_origin'] = 'Cultured'\n",
    "df.loc[ids, 'state'] = 'Stem cells'\n",
    "df.loc[df.eval('disease_pathology == \"Normal\" & sampling_origin == \"Tissue\"') & pd.isna(df['growth_stage']), 'growth_stage'] = 'Postnatal'\n",
    "df.loc[df.eval('disease_pathology == \"Normal\" & sampling_origin == \"Tissue\" & growth_stage == \"Neonatal\"'), 'growth_stage'] = 'Postnatal'\n",
    "df.loc[df['ds_number'] == 'DS55951', 'sampling_origin'] = 'Cultured'\n",
    "df.loc[df['ds_number'] == 'DS52908', 'sampling_origin'] = 'Cultured'\n",
    "df.loc[df['ds_number'] == 'DS52908', 'disease_pathology'] = 'Cancer'\n",
    "df.loc[df['ds_number'] == 'DS52908', 'state'] = 'Cell line'\n",
    "df.loc[df['ds_number'] == 'DS52908', 'cell_type'] = 'Lymphoblast'\n",
    "df.loc[df.eval('disease_pathology == \"Normal\" & sampling_origin == \"Cultured\" & state == \"Primary\"')\n",
    "       & df['description'].str.contains('differentiated'), 'state'] = 'Differentiated stem cells'"
   ]
  },
  {
   "cell_type": "code",
   "execution_count": 69,
   "id": "083629c9",
   "metadata": {},
   "outputs": [],
   "source": [
    "# ontology_configuration = {\n",
    "#     '0': ['Root', 'Root', None],\n",
    "#     '1': ['Sampling origin', 'sampling_origin', None],\n",
    "#     '2': ['Disease pathology', 'disease_pathology', None],\n",
    "#     '3': ['Growth stage', 'growth_stage', 'sampling_origin == \"Tissue\" & disease_pathology == \"Normal\"'],\n",
    "#     '4.1': ['System', 'system', 'sampling_origin != \"Cultured\" | disease_pathology != \"Normal\"'],\n",
    "#     '4.2': ['State', 'state', 'sampling_origin == \"Cultured\" & disease_pathology == \"Normal\"'],\n",
    "#     '5.1': ['Cell type', 'cell_type', 'sampling_origin == \"Cultured\"'],\n",
    "#     '5.2': ['Organ', 'organ', 'sampling_origin == \"Tissue\"'],\n",
    "#     '6.1': ['Organ region', 'organ_region', 'sampling_origin == \"Tissue\" & disease_pathology == \"Normal\" & growth_stage == \"Postnatal\" & organ == \"Brain\"'],\n",
    "#     '6.2': ['Subsystem', 'subsystem', 'sampling_origin == \"Tissue\" & disease_pathology == \"Normal\" & growth_stage == \"Postnatal\" & organ == \"Blood\"'],\n",
    "#     '7': ['Blood cell type', 'cell_type', 'sampling_origin == \"Tissue\" & disease_pathology == \"Normal\" & growth_stage == \"Postnatal\" & organ == \"Blood\"'],\n",
    "#     '8': ['Ontology term', 'ontology_term', None],\n",
    "# }\n",
    "\n",
    "ontology_configuration = [\n",
    "    {\n",
    "      'level': 0,\n",
    "      'display_name': 'Root',\n",
    "      'column_name': 'Root',\n",
    "      'condition': None,\n",
    "    },\n",
    "    {\n",
    "      'level': 1,\n",
    "      'display_name': 'Sampling origin',\n",
    "      'column_name': 'sampling_origin',\n",
    "      'condition': None,\n",
    "    },\n",
    "    {\n",
    "      'level': 2,\n",
    "      'display_name': 'Disease pathology',\n",
    "      'column_name': 'disease_pathology',\n",
    "      'condition': None,\n",
    "    },\n",
    "    {\n",
    "      'level': 3,\n",
    "      'display_name': 'State',\n",
    "      'column_name': 'state',\n",
    "      'condition': 'sampling_origin == \"Cultured\"',# & disease_pathology == \"Normal\"',\n",
    "    },\n",
    "    {\n",
    "      'level': 3,\n",
    "      'display_name': 'Growth stage',\n",
    "      'column_name': 'growth_stage',\n",
    "      'condition': 'sampling_origin == \"Tissue\" & disease_pathology == \"Normal\"',\n",
    "    },\n",
    "    {\n",
    "      'level': 4,\n",
    "      'display_name': 'System',\n",
    "      'column_name': 'system',\n",
    "      'condition': 'sampling_origin != \"Cultured\" | disease_pathology != \"Normal\" | state == \"Primary\"',\n",
    "    },\n",
    "    {\n",
    "      'level': 5,\n",
    "      'display_name': 'Subsystem',\n",
    "      'column_name': 'subsystem',\n",
    "      'condition': 'sampling_origin == \"Tissue\" & disease_pathology == \"Normal\" & growth_stage == \"Postnatal\" & (system == \"Hematopoietic\" | system == \"Nervous\")',\n",
    "    },\n",
    "    {\n",
    "      'level': 6,\n",
    "      'display_name': 'Organ',\n",
    "      'column_name': 'organ',\n",
    "      'condition': 'sampling_origin == \"Tissue\" | (sampling_origin == \"Cultured\" & disease_pathology == \"Normal\" & state == \"Primary\")',\n",
    "    },\n",
    "#     {\n",
    "#       'level': 8,\n",
    "#       'display_name': 'Organ region',\n",
    "#       'column_name': 'organ_region',\n",
    "#       'condition': 'sampling_origin == \"Tissue\" & disease_pathology == \"Normal\" & growth_stage == \"Postnatal\" & organ == \"Brain\"',\n",
    "#     },\n",
    "    {\n",
    "      'level': 7,\n",
    "      'display_name': 'Cell type',\n",
    "      'column_name': 'cell_type',\n",
    "      'condition': '(sampling_origin == \"Cultured\" & state != \"Primary\" & state != \"Stem cells\") | (sampling_origin == \"Tissue\" & disease_pathology == \"Normal\" & growth_stage == \"Postnatal\" & organ == \"Blood\")',\n",
    "    },\n",
    "    {\n",
    "      'level': 8,\n",
    "      'display_name': 'Ontology term',\n",
    "      'column_name': 'ontology_term',\n",
    "      'condition': None,\n",
    "    },\n",
    "]\n",
    "\n",
    "def join_row(row, oc, skip_na):\n",
    "    res = ''\n",
    "    for ind in row.index:\n",
    "        if row[ind] != 'NA' or not skip_na:\n",
    "            entry = [x for x in oc if x['display_name'] == ind][0]\n",
    "            res += f\"{entry['display_name']}: {row[ind]}|{entry['level']}@\"\n",
    "    return res[:-1]\n",
    "\n",
    "def add_ontology(df, ontology_configuration, skip_na=True):\n",
    "    work = df.copy()\n",
    "    for entry in ontology_configuration:\n",
    "        if entry['column_name'] in work.columns:\n",
    "            column_name = work[entry['column_name']]\n",
    "        else:\n",
    "            column_name = entry['column_name']\n",
    "        work[entry['display_name']] = 'NA'\n",
    "        work.loc[slice(None) if entry['condition'] is None else work.eval(entry['condition']), entry['display_name']] = column_name\n",
    "    work.fillna('MISSING', inplace=True)\n",
    "    df['annotation_ontology'] = work.loc[:, [x['display_name'] for x in ontology_configuration]].apply(\n",
    "        lambda row: join_row(row, ontology_configuration, skip_na), axis=1)\n",
    "        "
   ]
  },
  {
   "cell_type": "code",
   "execution_count": 70,
   "id": "1d2e8386",
   "metadata": {},
   "outputs": [],
   "source": [
    "def accumulate_tokens(lis):\n",
    "    total = None\n",
    "    for x in lis:\n",
    "        total = f'{total}@{x}' if total is not None else x\n",
    "        yield total\n",
    "\n",
    "def get_graph_params(evc):\n",
    "    edges = []\n",
    "    labels = []\n",
    "    values = []\n",
    "    count = []\n",
    "    layers = []\n",
    "    for ont, cnt in evc.items():\n",
    "        tokens = ont.split('@')\n",
    "        tokens = list(accumulate_tokens(tokens))\n",
    "        for i, token in enumerate(tokens):\n",
    "            if token in labels:\n",
    "                v = labels.index(token)\n",
    "            else:\n",
    "                labels.append(token)\n",
    "                values.append(0)\n",
    "                count.append(0)\n",
    "                layers.append(int(token.split('|')[-1]))\n",
    "                v = len(labels) - 1\n",
    "            if i > 0:\n",
    "                edge = [labels.index(tokens[i - 1]), v]\n",
    "                if edge not in edges:\n",
    "                    edges.append(edge)\n",
    "            values[v] += cnt\n",
    "            count[v] += 1\n",
    "    \n",
    "    transform_label = lambda x: '@'.join([z for z in map(lambda y: y.split(\"|\")[0], x.split('@')) if 'NA' not in z])\n",
    "    transformed_labels = [transform_label(x) for x in labels]\n",
    "    labels = [f'{label.split(\"@\")[-1].split(\"|\")[0]} ({value})' for label, value in zip(labels, values)]\n",
    "\n",
    "    return edges, labels, transformed_labels, values, count, layers"
   ]
  },
  {
   "cell_type": "code",
   "execution_count": 71,
   "id": "edd51f28",
   "metadata": {},
   "outputs": [],
   "source": [
    "import igraph\n",
    "from igraph import Graph, EdgeSeq\n",
    "\n",
    "add_ontology(df, ontology_configuration)\n",
    "evc = df['annotation_ontology'].value_counts().sort_index()\n",
    "\n",
    "edges, labels, transformed_labels, values, count, layers = get_graph_params(evc)\n",
    "nr_vertices = len(labels)\n",
    "g = Graph(len(labels), edges=edges)\n",
    "\n",
    "E = edges\n",
    "M = max(layers)"
   ]
  },
  {
   "cell_type": "code",
   "execution_count": 112,
   "id": "c9c4ae61",
   "metadata": {},
   "outputs": [
    {
     "name": "stdout",
     "output_type": "stream",
     "text": [
      "593\n",
      "390\n"
     ]
    }
   ],
   "source": [
    "from collections import deque\n",
    "\n",
    "def gap(level, M):\n",
    "    return {\n",
    "        1: 0.5,\n",
    "        2: 4,\n",
    "        3: 4,\n",
    "        4: 4,\n",
    "        5: 4,\n",
    "        6: 10,\n",
    "        7: 20,\n",
    "        8: 20,\n",
    "    }[M - level]\n",
    "\n",
    "class QueueDict():\n",
    "    def __init__(self, root, M):\n",
    "        self.q = {}\n",
    "        for i in range(M + 1):\n",
    "            if i == 0:\n",
    "                self.q[i] = deque([root])\n",
    "            else:\n",
    "                self.q[i] = deque([])\n",
    "\n",
    "                \n",
    "    def append(self, v, layer):\n",
    "        self.q[layer].append(v)\n",
    "        \n",
    "    def pop(self):\n",
    "        for dq in self.q.values():\n",
    "            if dq:\n",
    "                return dq.pop()\n",
    "    \n",
    "    def __bool__(self):\n",
    "        return any(x for x in self.q.values())\n",
    "\n",
    "    \n",
    "def level_search(g, layers, root, M, q=None, res=None):\n",
    "    if q is None:\n",
    "        q = QueueDict(root, M)\n",
    "        res = []\n",
    "\n",
    "    while q:\n",
    "        v = q.pop()\n",
    "        res.append(v)\n",
    "        for n in g.neighbors(v):\n",
    "            if layers[v] < layers[n]:\n",
    "                q.append(n, layers[n])\n",
    "                level_search(g, layers, n, M, q, res)\n",
    "            \n",
    "    return res\n",
    "\n",
    "\n",
    "v_order = level_search(g, layers, 0, M)\n",
    "print(len(v_order))\n",
    "ordered_layers = [layers[v] for v in v_order]\n",
    "ordered_leaves = [v for v, l in zip(v_order, ordered_layers) if l == M]\n",
    "print(len(ordered_leaves))\n",
    "v_widths = {}\n",
    "Xpos = {}\n",
    "prev = None\n",
    "current_x = 0\n",
    "for v in ordered_leaves:\n",
    "    if prev is not None:\n",
    "        current_x += gap(min([\n",
    "            layers[x] for x in g.get_shortest_paths(prev, v)[0]\n",
    "        ]), M)\n",
    "    prev = v\n",
    "    Xpos[v] = current_x\n",
    "for l in range(M)[::-1]:\n",
    "    for v in v_order:\n",
    "        if layers[v] == l:\n",
    "            children = [Xpos[x] for x in g.neighbors(v) if layers[x] > layers[v]]\n",
    "            Xpos[v] = np.mean(children)\n",
    "            v_widths[v] = np.max(children) - np.min(children)\n",
    "Xn = [Xpos[v] for v in range(nr_vertices)]\n",
    "Yn  = [M - layers[k] for k in range(len(Xn))]\n",
    "# Xe = []\n",
    "# Ye = []\n",
    "# for edge in E:\n",
    "#     Xe+=[Xn[edge[0]],Xn[edge[1]], None]\n",
    "#     Ye+=[Yn[edge[0]],Yn[edge[1]], None]\n",
    "splines = []\n",
    "widths = []\n",
    "a1 = 0.5\n",
    "a2 = 0.5\n",
    "for edge in E:\n",
    "    splines += [[Xn[edge[0]], Yn[edge[0]],\n",
    "                 Xn[edge[0]], Yn[edge[0]] + a1*(Yn[edge[1]] - Yn[edge[0]]),\n",
    "                 Xn[edge[1]], Yn[edge[1]] + a2*(Yn[edge[0]] - Yn[edge[1]]), \n",
    "                 Xn[edge[1]], Yn[edge[1]]]]\n",
    "    widths.append(values[edge[1]])\n",
    "    \n",
    "max_y = max(Yn)\n",
    "min_y = min(Yn)\n",
    "max_x = max(Xn)\n",
    "min_x = min(Xn)\n",
    "# def convert_from_polar(x, y, min_x, max_x, min_y, max_y):\n",
    "#     phi = 2 * np.pi * (x - min_x) / (max_x - min_x)\n",
    "#     r = 1 - (y - min_y) / (max_y - min_y)\n",
    "#     return r * np.sin(phi), r * np.cos(phi)\n",
    "\n",
    "# def transform_spline(s, min_x, max_x, min_y, max_y):\n",
    "#     pairs = [s[i:i+2] for i in range(0, len(s), 2)]\n",
    "#     ret = [convert_from_polar(a, b, min_x, max_x, min_y, max_y) for a, b in pairs]\n",
    "#     return [b for a in ret for b in a]\n",
    "\n",
    "# Xn, Yn = zip(*[convert_from_polar(a, b, min_x, max_x, min_y, max_y) for a, b in zip(Xn, Yn)])\n",
    "# splines = [transform_spline(s, min_x, max_x, min_y, max_y) for s in splines]"
   ]
  },
  {
   "cell_type": "code",
   "execution_count": 113,
   "id": "a3f08414",
   "metadata": {},
   "outputs": [
    {
     "data": {
      "text/plain": [
       "'M 358.44111009700754,8 C 358.44111009700754,7.5 166.2930935778237,7.5 166.2930935778237,7'"
      ]
     },
     "execution_count": 113,
     "metadata": {},
     "output_type": "execute_result"
    }
   ],
   "source": [
    "\"M {0},{1} C {2},{3} {4},{5} {6},{7}\".format(*splines[0])"
   ]
  },
  {
   "cell_type": "code",
   "execution_count": 114,
   "id": "8ef4cd6d",
   "metadata": {},
   "outputs": [],
   "source": [
    "colors = ['#DB4551' if 'MISSING' in label else '#6175c1' for label in labels]\n",
    "fun = lambda x: np.log2(1+x)#*np.power(x, 1/6)\n",
    "sizes = [fun(x) for x in values]\n",
    "fwidths = [0.5*fun(x) for x in widths]"
   ]
  },
  {
   "cell_type": "code",
   "execution_count": 145,
   "id": "ca4f4518",
   "metadata": {},
   "outputs": [],
   "source": [
    "nodes_to_annotate = [v for v in v_order if 0 < layers[v] <= 3]"
   ]
  },
  {
   "cell_type": "code",
   "execution_count": 154,
   "id": "5afbf611",
   "metadata": {
    "scrolled": false
   },
   "outputs": [
    {
     "data": {
      "application/vnd.plotly.v1+json": {
       "config": {
        "plotlyServerURL": "https://plot.ly"
       },
       "data": [
        {
         "hoverinfo": "text",
         "marker": {
          "color": [
           "#6175c1",
           "#6175c1",
           "#6175c1",
           "#6175c1",
           "#6175c1",
           "#6175c1",
           "#6175c1",
           "#6175c1",
           "#6175c1",
           "#6175c1",
           "#6175c1",
           "#6175c1",
           "#6175c1",
           "#6175c1",
           "#6175c1",
           "#6175c1",
           "#6175c1",
           "#DB4551",
           "#6175c1",
           "#6175c1",
           "#6175c1",
           "#DB4551",
           "#6175c1",
           "#6175c1",
           "#6175c1",
           "#6175c1",
           "#6175c1",
           "#6175c1",
           "#6175c1",
           "#6175c1",
           "#6175c1",
           "#6175c1",
           "#6175c1",
           "#6175c1",
           "#6175c1",
           "#6175c1",
           "#DB4551",
           "#6175c1",
           "#6175c1",
           "#6175c1",
           "#6175c1",
           "#6175c1",
           "#6175c1",
           "#6175c1",
           "#6175c1",
           "#6175c1",
           "#6175c1",
           "#6175c1",
           "#6175c1",
           "#6175c1",
           "#6175c1",
           "#6175c1",
           "#6175c1",
           "#6175c1",
           "#DB4551",
           "#6175c1",
           "#6175c1",
           "#6175c1",
           "#6175c1",
           "#6175c1",
           "#6175c1",
           "#6175c1",
           "#6175c1",
           "#6175c1",
           "#6175c1",
           "#6175c1",
           "#6175c1",
           "#6175c1",
           "#6175c1",
           "#6175c1",
           "#6175c1",
           "#6175c1",
           "#6175c1",
           "#6175c1",
           "#6175c1",
           "#DB4551",
           "#6175c1",
           "#6175c1",
           "#6175c1",
           "#DB4551",
           "#6175c1",
           "#6175c1",
           "#6175c1",
           "#6175c1",
           "#6175c1",
           "#6175c1",
           "#6175c1",
           "#6175c1",
           "#DB4551",
           "#6175c1",
           "#6175c1",
           "#6175c1",
           "#6175c1",
           "#6175c1",
           "#6175c1",
           "#6175c1",
           "#6175c1",
           "#6175c1",
           "#6175c1",
           "#6175c1",
           "#6175c1",
           "#6175c1",
           "#6175c1",
           "#6175c1",
           "#6175c1",
           "#6175c1",
           "#6175c1",
           "#6175c1",
           "#6175c1",
           "#6175c1",
           "#6175c1",
           "#6175c1",
           "#6175c1",
           "#DB4551",
           "#6175c1",
           "#6175c1",
           "#6175c1",
           "#6175c1",
           "#6175c1",
           "#6175c1",
           "#6175c1",
           "#6175c1",
           "#6175c1",
           "#6175c1",
           "#6175c1",
           "#6175c1",
           "#6175c1",
           "#6175c1",
           "#6175c1",
           "#6175c1",
           "#6175c1",
           "#6175c1",
           "#6175c1",
           "#6175c1",
           "#6175c1",
           "#6175c1",
           "#6175c1",
           "#6175c1",
           "#6175c1",
           "#6175c1",
           "#6175c1",
           "#6175c1",
           "#6175c1",
           "#6175c1",
           "#6175c1",
           "#6175c1",
           "#6175c1",
           "#6175c1",
           "#6175c1",
           "#6175c1",
           "#6175c1",
           "#6175c1",
           "#6175c1",
           "#6175c1",
           "#DB4551",
           "#6175c1",
           "#6175c1",
           "#6175c1",
           "#6175c1",
           "#6175c1",
           "#6175c1",
           "#6175c1",
           "#6175c1",
           "#6175c1",
           "#6175c1",
           "#6175c1",
           "#6175c1",
           "#6175c1",
           "#6175c1",
           "#6175c1",
           "#6175c1",
           "#6175c1",
           "#6175c1",
           "#6175c1",
           "#6175c1",
           "#DB4551",
           "#6175c1",
           "#6175c1",
           "#6175c1",
           "#6175c1",
           "#6175c1",
           "#6175c1",
           "#6175c1",
           "#6175c1",
           "#6175c1",
           "#6175c1",
           "#6175c1",
           "#6175c1",
           "#6175c1",
           "#6175c1",
           "#6175c1",
           "#DB4551",
           "#6175c1",
           "#6175c1",
           "#6175c1",
           "#6175c1",
           "#6175c1",
           "#6175c1",
           "#6175c1",
           "#6175c1",
           "#6175c1",
           "#6175c1",
           "#6175c1",
           "#6175c1",
           "#6175c1",
           "#6175c1",
           "#6175c1",
           "#6175c1",
           "#6175c1",
           "#6175c1",
           "#6175c1",
           "#6175c1",
           "#6175c1",
           "#6175c1",
           "#6175c1",
           "#6175c1",
           "#6175c1",
           "#6175c1",
           "#DB4551",
           "#6175c1",
           "#6175c1",
           "#6175c1",
           "#6175c1",
           "#6175c1",
           "#6175c1",
           "#6175c1",
           "#6175c1",
           "#6175c1",
           "#6175c1",
           "#6175c1",
           "#6175c1",
           "#6175c1",
           "#6175c1",
           "#6175c1",
           "#6175c1",
           "#6175c1",
           "#6175c1",
           "#6175c1",
           "#6175c1",
           "#6175c1",
           "#6175c1",
           "#6175c1",
           "#6175c1",
           "#6175c1",
           "#6175c1",
           "#6175c1",
           "#6175c1",
           "#6175c1",
           "#6175c1",
           "#6175c1",
           "#6175c1",
           "#6175c1",
           "#6175c1",
           "#6175c1",
           "#6175c1",
           "#6175c1",
           "#6175c1",
           "#6175c1",
           "#6175c1",
           "#6175c1",
           "#6175c1",
           "#6175c1",
           "#6175c1",
           "#6175c1",
           "#6175c1",
           "#6175c1",
           "#6175c1",
           "#6175c1",
           "#6175c1",
           "#6175c1",
           "#6175c1",
           "#6175c1",
           "#6175c1",
           "#6175c1",
           "#6175c1",
           "#6175c1",
           "#6175c1",
           "#6175c1",
           "#6175c1",
           "#6175c1",
           "#6175c1",
           "#6175c1",
           "#6175c1",
           "#6175c1",
           "#6175c1",
           "#6175c1",
           "#6175c1",
           "#6175c1",
           "#6175c1",
           "#6175c1",
           "#6175c1",
           "#6175c1",
           "#6175c1",
           "#6175c1",
           "#6175c1",
           "#6175c1",
           "#6175c1",
           "#6175c1",
           "#6175c1",
           "#6175c1",
           "#6175c1",
           "#6175c1",
           "#6175c1",
           "#6175c1",
           "#6175c1",
           "#6175c1",
           "#6175c1",
           "#6175c1",
           "#6175c1",
           "#6175c1",
           "#6175c1",
           "#6175c1",
           "#6175c1",
           "#6175c1",
           "#6175c1",
           "#6175c1",
           "#6175c1",
           "#6175c1",
           "#6175c1",
           "#6175c1",
           "#6175c1",
           "#6175c1",
           "#6175c1",
           "#6175c1",
           "#6175c1",
           "#6175c1",
           "#6175c1",
           "#6175c1",
           "#6175c1",
           "#6175c1",
           "#6175c1",
           "#6175c1",
           "#6175c1",
           "#6175c1",
           "#6175c1",
           "#6175c1",
           "#6175c1",
           "#6175c1",
           "#6175c1",
           "#6175c1",
           "#6175c1",
           "#6175c1",
           "#6175c1",
           "#6175c1",
           "#6175c1",
           "#6175c1",
           "#6175c1",
           "#6175c1",
           "#6175c1",
           "#6175c1",
           "#6175c1",
           "#6175c1",
           "#6175c1",
           "#6175c1",
           "#6175c1",
           "#6175c1",
           "#6175c1",
           "#6175c1",
           "#6175c1",
           "#6175c1",
           "#6175c1",
           "#6175c1",
           "#6175c1",
           "#6175c1",
           "#6175c1",
           "#6175c1",
           "#6175c1",
           "#6175c1",
           "#6175c1",
           "#6175c1",
           "#6175c1",
           "#6175c1",
           "#6175c1",
           "#6175c1",
           "#6175c1",
           "#6175c1",
           "#6175c1",
           "#6175c1",
           "#6175c1",
           "#6175c1",
           "#6175c1",
           "#6175c1",
           "#6175c1",
           "#6175c1",
           "#6175c1",
           "#6175c1",
           "#6175c1",
           "#6175c1",
           "#6175c1",
           "#6175c1",
           "#6175c1",
           "#6175c1",
           "#6175c1",
           "#6175c1",
           "#6175c1",
           "#6175c1",
           "#6175c1",
           "#6175c1",
           "#6175c1",
           "#6175c1",
           "#6175c1",
           "#6175c1",
           "#6175c1",
           "#6175c1",
           "#6175c1",
           "#6175c1",
           "#6175c1",
           "#6175c1",
           "#6175c1",
           "#6175c1",
           "#6175c1",
           "#6175c1",
           "#6175c1",
           "#6175c1",
           "#6175c1",
           "#6175c1",
           "#6175c1",
           "#6175c1",
           "#6175c1",
           "#6175c1",
           "#6175c1",
           "#6175c1",
           "#6175c1",
           "#6175c1",
           "#6175c1",
           "#6175c1",
           "#6175c1",
           "#6175c1",
           "#6175c1",
           "#6175c1",
           "#6175c1",
           "#6175c1",
           "#6175c1",
           "#6175c1",
           "#6175c1",
           "#6175c1",
           "#6175c1",
           "#6175c1",
           "#6175c1",
           "#6175c1",
           "#6175c1",
           "#6175c1",
           "#6175c1",
           "#6175c1",
           "#6175c1",
           "#6175c1",
           "#6175c1",
           "#6175c1",
           "#6175c1",
           "#6175c1",
           "#6175c1",
           "#6175c1",
           "#6175c1",
           "#6175c1",
           "#6175c1",
           "#6175c1",
           "#6175c1",
           "#6175c1",
           "#6175c1",
           "#6175c1",
           "#6175c1",
           "#6175c1",
           "#6175c1",
           "#6175c1",
           "#6175c1",
           "#6175c1",
           "#6175c1",
           "#6175c1",
           "#6175c1",
           "#6175c1",
           "#6175c1",
           "#6175c1",
           "#6175c1",
           "#6175c1",
           "#6175c1",
           "#6175c1",
           "#6175c1",
           "#6175c1",
           "#6175c1",
           "#6175c1",
           "#6175c1",
           "#6175c1",
           "#6175c1",
           "#6175c1",
           "#6175c1",
           "#6175c1",
           "#6175c1",
           "#6175c1",
           "#DB4551",
           "#6175c1",
           "#6175c1",
           "#6175c1",
           "#6175c1",
           "#6175c1",
           "#6175c1",
           "#6175c1",
           "#6175c1",
           "#6175c1",
           "#6175c1",
           "#6175c1",
           "#6175c1",
           "#6175c1",
           "#6175c1",
           "#6175c1",
           "#6175c1",
           "#6175c1",
           "#6175c1",
           "#6175c1",
           "#6175c1",
           "#6175c1",
           "#6175c1",
           "#6175c1",
           "#6175c1",
           "#6175c1",
           "#6175c1",
           "#6175c1",
           "#6175c1",
           "#6175c1",
           "#6175c1",
           "#6175c1",
           "#6175c1",
           "#6175c1",
           "#6175c1",
           "#DB4551",
           "#DB4551",
           "#6175c1",
           "#6175c1",
           "#6175c1",
           "#6175c1",
           "#6175c1",
           "#6175c1",
           "#6175c1",
           "#6175c1",
           "#6175c1",
           "#6175c1",
           "#6175c1",
           "#6175c1",
           "#6175c1",
           "#6175c1",
           "#6175c1",
           "#6175c1",
           "#6175c1",
           "#6175c1",
           "#6175c1",
           "#6175c1",
           "#6175c1",
           "#6175c1",
           "#6175c1",
           "#6175c1",
           "#6175c1",
           "#6175c1",
           "#6175c1",
           "#6175c1",
           "#6175c1",
           "#6175c1",
           "#6175c1",
           "#6175c1",
           "#6175c1",
           "#6175c1",
           "#6175c1",
           "#6175c1",
           "#6175c1",
           "#6175c1",
           "#6175c1",
           "#6175c1",
           "#6175c1",
           "#6175c1",
           "#6175c1",
           "#6175c1",
           "#6175c1",
           "#6175c1",
           "#6175c1",
           "#6175c1",
           "#6175c1",
           "#6175c1",
           "#6175c1",
           "#6175c1",
           "#6175c1",
           "#6175c1",
           "#6175c1",
           "#6175c1",
           "#6175c1",
           "#6175c1",
           "#6175c1",
           "#6175c1",
           "#6175c1",
           "#6175c1",
           "#6175c1",
           "#6175c1",
           "#6175c1",
           "#6175c1",
           "#6175c1",
           "#6175c1"
          ],
          "line": {
           "color": "rgb(50,50,50)",
           "width": 0.5
          },
          "opacity": 1,
          "size": [
           11.884552133987235,
           10.207014320177532,
           10.041659151637214,
           10.041659151637214,
           3.169925001442312,
           1.584962500721156,
           1.584962500721156,
           2.807354922057604,
           1.584962500721156,
           2.321928094887362,
           5.357552004618084,
           4,
           2.584962500721156,
           1.584962500721156,
           2.321928094887362,
           1.584962500721156,
           1.584962500721156,
           4.700439718141093,
           4.584962500721156,
           1.584962500721156,
           1.584962500721156,
           1.584962500721156,
           1.584962500721156,
           8.51175265376738,
           2.321928094887362,
           1.584962500721156,
           1.584962500721156,
           2.807354922057604,
           2.807354922057604,
           7.906890595608519,
           3.169925001442312,
           1.584962500721156,
           3.321928094887362,
           7.754887502163468,
           1.584962500721156,
           2,
           4.754887502163468,
           2.321928094887362,
           1.584962500721156,
           1.584962500721156,
           1.584962500721156,
           1.584962500721156,
           3.9068905956085187,
           1.584962500721156,
           1.584962500721156,
           3.584962500721156,
           1,
           3.4594316186372973,
           1.584962500721156,
           1.584962500721156,
           5.977279923499917,
           2.321928094887362,
           1.584962500721156,
           3.9068905956085187,
           1.584962500721156,
           3.4594316186372973,
           3.700439718141092,
           3.4594316186372973,
           1.584962500721156,
           1,
           2.584962500721156,
           2,
           2,
           3,
           3,
           1.584962500721156,
           1.584962500721156,
           1.584962500721156,
           1.584962500721156,
           1.584962500721156,
           7.515699838284043,
           6.303780748177103,
           6.303780748177103,
           6.643856189774724,
           6.643856189774724,
           2.584962500721156,
           1.584962500721156,
           2,
           4.169925001442312,
           4.169925001442312,
           1.584962500721156,
           2.321928094887362,
           2.584962500721156,
           2.321928094887362,
           1.584962500721156,
           4.392317422778761,
           1.584962500721156,
           1.584962500721156,
           3.4594316186372973,
           1,
           1.584962500721156,
           1.584962500721156,
           2.321928094887362,
           1,
           3.169925001442312,
           2.321928094887362,
           2.321928094887362,
           3.321928094887362,
           3.321928094887362,
           2,
           1.584962500721156,
           1.584962500721156,
           1.584962500721156,
           8.654636028527968,
           8.599912842187127,
           1.584962500721156,
           2.321928094887362,
           2,
           2.321928094887362,
           1.584962500721156,
           3,
           3.169925001442312,
           3.321928094887362,
           1.584962500721156,
           1.584962500721156,
           2.807354922057604,
           2.807354922057604,
           2,
           4.857980995127572,
           3,
           3.169925001442312,
           2.807354922057604,
           4.523561956057013,
           3.700439718141092,
           4.807354922057604,
           4.643856189774724,
           2.321928094887362,
           3.169925001442312,
           2.807354922057604,
           3.169925001442312,
           1.584962500721156,
           3,
           4.321928094887363,
           1.584962500721156,
           4.584962500721156,
           4.392317422778761,
           5.285402218862249,
           2.807354922057604,
           2.321928094887362,
           2,
           3,
           3,
           5,
           3.4594316186372973,
           2.321928094887362,
           2.807354922057604,
           2.584962500721156,
           1.584962500721156,
           2,
           3,
           2.584962500721156,
           1.584962500721156,
           1,
           1.584962500721156,
           1.584962500721156,
           1.584962500721156,
           7.011227255423254,
           5.523561956057013,
           3.9068905956085187,
           1,
           1,
           1.584962500721156,
           3.321928094887362,
           1,
           1.584962500721156,
           1.584962500721156,
           3.807354922057604,
           1,
           1.584962500721156,
           1.584962500721156,
           1.584962500721156,
           1.584962500721156,
           1,
           1,
           1.584962500721156,
           3.321928094887362,
           1.584962500721156,
           2,
           1.584962500721156,
           1.584962500721156,
           2.321928094887362,
           2.321928094887362,
           2,
           2,
           4.807354922057604,
           1,
           1,
           1,
           1,
           1.584962500721156,
           1.584962500721156,
           3.700439718141092,
           1.584962500721156,
           1,
           1.584962500721156,
           2,
           2,
           1,
           1.584962500721156,
           1.584962500721156,
           1.584962500721156,
           1.584962500721156,
           2.321928094887362,
           1.584962500721156,
           1.584962500721156,
           2,
           1.584962500721156,
           1,
           4.087462841250339,
           2.807354922057604,
           2.807354922057604,
           1.584962500721156,
           1.584962500721156,
           1,
           1,
           2.807354922057604,
           2.321928094887362,
           2.321928094887362,
           1.584962500721156,
           1.584962500721156,
           1.584962500721156,
           1.584962500721156,
           1.584962500721156,
           1,
           1,
           1,
           1,
           1,
           1,
           5.357552004618084,
           1.584962500721156,
           1,
           2.321928094887362,
           2,
           3.700439718141092,
           1.584962500721156,
           1.584962500721156,
           1.584962500721156,
           1.584962500721156,
           1,
           1,
           2.321928094887362,
           1.584962500721156,
           1.584962500721156,
           11.344295907915816,
           2.321928094887362,
           2.321928094887362,
           2.321928094887362,
           2.321928094887362,
           11.342074667999139,
           8.64745842645492,
           4.906890595608519,
           2,
           1.584962500721156,
           1,
           4.754887502163468,
           1.584962500721156,
           1.584962500721156,
           2,
           1,
           4.247927513443585,
           5.169925001442312,
           2.584962500721156,
           1,
           1,
           1,
           1,
           1,
           1.584962500721156,
           1.584962500721156,
           1.584962500721156,
           1.584962500721156,
           2.321928094887362,
           1.584962500721156,
           1.584962500721156,
           1.584962500721156,
           1.584962500721156,
           1.584962500721156,
           1.584962500721156,
           4.247927513443585,
           1.584962500721156,
           4.087462841250339,
           5.554588851677638,
           4,
           4,
           3.807354922057604,
           3.807354922057604,
           4,
           4,
           2,
           2,
           1,
           1,
           1,
           3,
           3,
           3,
           3.700439718141092,
           1.584962500721156,
           1.584962500721156,
           1.584962500721156,
           1.584962500721156,
           3.169925001442312,
           1.584962500721156,
           1.584962500721156,
           1.584962500721156,
           1.584962500721156,
           5.285402218862249,
           5.20945336562895,
           4.857980995127572,
           3.169925001442312,
           1.584962500721156,
           1.584962500721156,
           3.584962500721156,
           3.4594316186372973,
           3.4594316186372973,
           1,
           1,
           5.954196310386875,
           2,
           2,
           2,
           2,
           5.754887502163468,
           4.321928094887363,
           4,
           4,
           2.321928094887362,
           1.584962500721156,
           1.584962500721156,
           5.426264754702098,
           4.700439718141093,
           1.584962500721156,
           1.584962500721156,
           1.584962500721156,
           4.321928094887363,
           3.169925001442312,
           2,
           2.584962500721156,
           3.321928094887362,
           1.584962500721156,
           3,
           2,
           1,
           1,
           1.584962500721156,
           1.584962500721156,
           5.392317422778761,
           5.392317422778761,
           3.807354922057604,
           4.169925001442312,
           3.584962500721156,
           6.228818690495881,
           1,
           1,
           6.20945336562895,
           1.584962500721156,
           4.247927513443585,
           3.169925001442312,
           4.247927513443585,
           4.169925001442312,
           3.4594316186372973,
           11.100662339005199,
           6,
           2.584962500721156,
           2.584962500721156,
           2,
           1,
           1.584962500721156,
           5.20945336562895,
           1,
           1,
           1,
           3.169925001442312,
           3.321928094887362,
           3,
           1,
           1,
           1,
           1,
           1,
           2.321928094887362,
           2.321928094887362,
           2.321928094887362,
           3.584962500721156,
           3,
           2.321928094887362,
           1.584962500721156,
           1.584962500721156,
           1.584962500721156,
           1.584962500721156,
           5.087462841250339,
           2.321928094887362,
           1.584962500721156,
           1.584962500721156,
           2.321928094887362,
           1.584962500721156,
           1.584962500721156,
           1.584962500721156,
           1.584962500721156,
           1,
           1,
           1.584962500721156,
           1.584962500721156,
           4.247927513443585,
           1.584962500721156,
           1.584962500721156,
           1.584962500721156,
           1.584962500721156,
           1.584962500721156,
           1.584962500721156,
           2.807354922057604,
           1.584962500721156,
           1.584962500721156,
           5.392317422778761,
           4.700439718141093,
           1.584962500721156,
           2,
           2.321928094887362,
           2.584962500721156,
           1,
           3.4594316186372973,
           1.584962500721156,
           1,
           1,
           1,
           1,
           1.584962500721156,
           1.584962500721156,
           3,
           2.807354922057604,
           1,
           2.321928094887362,
           1,
           2,
           5.700439718141093,
           3.700439718141092,
           3.700439718141092,
           4.754887502163468,
           4.754887502163468,
           3.807354922057604,
           3.807354922057604,
           1.584962500721156,
           1.584962500721156,
           1.584962500721156,
           9.917372079476841,
           9.014020470314934,
           8.930737337562887,
           3.700439718141092,
           2.584962500721156,
           1.584962500721156,
           1,
           2.321928094887362,
           5.954196310386875,
           5.614709844115208,
           3.807354922057604,
           8.696967526234287,
           2.807354922057604,
           1,
           7.442943495848728,
           6.044394119358453,
           2,
           1,
           6.285402218862249,
           3.700439718141092,
           3,
           3.584962500721156,
           1,
           1.584962500721156,
           1.584962500721156,
           1,
           1.584962500721156,
           2.807354922057604,
           1.584962500721156,
           1.584962500721156,
           1.584962500721156,
           1.584962500721156,
           3,
           1,
           1.584962500721156,
           2,
           2.807354922057604,
           4.169925001442312,
           3.169925001442312,
           3.169925001442312,
           4.459431618637297,
           2.584962500721156,
           4.087462841250339,
           2.321928094887362,
           2.321928094887362,
           2.321928094887362,
           8.689997971419446,
           8.689997971419446,
           7.2761244052742375,
           7.2761244052742375,
           6.700439718141093,
           6.700439718141093,
           1.584962500721156,
           1,
           1,
           7.266786540694901,
           7.266786540694901,
           5.129283016944966,
           5.129283016944966,
           5.129283016944966,
           5.129283016944966,
           3.4594316186372973,
           3.4594316186372973,
           1,
           3.321928094887362,
           4.857980995127572,
           2,
           1,
           1.584962500721156,
           3.169925001442312,
           2.321928094887362,
           2.321928094887362,
           4.169925001442312,
           2.321928094887362,
           2.321928094887362,
           1.584962500721156,
           2.321928094887362,
           2,
           1.584962500721156,
           1.584962500721156,
           1.584962500721156,
           4.169925001442312,
           4.169925001442312,
           2.321928094887362,
           2.807354922057604,
           2.584962500721156,
           1.584962500721156,
           9.845490050944376,
           9.837627933171404,
           9.810571634741146,
           2.807354922057604,
           1,
           1.584962500721156,
           1,
           6.087462841250339,
           6.189824558880018,
           6.129283016944966,
           2,
           6.357552004618084,
           1.584962500721156,
           1,
           6.087462841250339,
           6.442943495848728,
           6.108524456778169,
           6,
           1,
           5.832890014164741,
           6.129283016944966,
           2,
           1,
           5.614709844115208,
           6.189824558880018,
           5.882643049361842,
           4.169925001442312,
           4.169925001442312,
           2.584962500721156,
           2.584962500721156,
           1,
           2.321928094887362,
           4.247927513443585,
           3.4594316186372973,
           3.4594316186372973,
           2.321928094887362,
           1.584962500721156,
           1.584962500721156,
           1,
           1,
           2,
           2,
           4.807354922057604,
           4.807354922057604,
           1.584962500721156,
           2.584962500721156,
           2.584962500721156,
           2,
           3.321928094887362,
           2,
           4.247927513443585,
           4.169925001442312,
           1,
           1.584962500721156,
           1.584962500721156,
           1,
           2.807354922057604,
           2,
           1.584962500721156,
           1,
           1
          ],
          "sizemode": "diameter",
          "symbol": "circle"
         },
         "mode": "markers",
         "text": [
          "Root: Root (3780)",
          "Sampling origin: Cultured (1181)",
          "Disease pathology: Cancer (1053)",
          "State: Cell line (1053)",
          "System: Connective (8)",
          "Cell type: Epithelial-like cancer cell (2)",
          "Ontology term: HT1080 (2)",
          "Cell type: Fibroblast (6)",
          "Ontology term: EH (2)",
          "Ontology term: WI38 (4)",
          "System: Digestive (40)",
          "Cell type: Epithelial-like cancer cell (15)",
          "Ontology term: Caco-2 (5)",
          "Ontology term: HCT116 (2)",
          "Ontology term: HT-29 (4)",
          "Ontology term: LoVo (2)",
          "Ontology term: SW480 (2)",
          "Cell type: MISSING (25)",
          "Ontology term: HCT116 (23)",
          "Ontology term: RKO (2)",
          "System: Endocrine (2)",
          "Cell type: MISSING (2)",
          "Ontology term: Panc1 (2)",
          "System: Hematopoietic (364)",
          "Cell type: B-cell (4)",
          "Ontology term: NCI-H929 (2)",
          "Ontology term: RPMI 8226 (2)",
          "Cell type: Erythroblast (6)",
          "Ontology term: TF-1.CN5a.1 (6)",
          "Cell type: Lymphoblast (239)",
          "Ontology term: AML-193 (8)",
          "Ontology term: GDM1 (2)",
          "Ontology term: GF-D8 (9)",
          "Ontology term: K562 (215)",
          "Ontology term: MM.1S (2)",
          "Ontology term: NAMALWA (3)",
          "Cell type: MISSING (26)",
          "Ontology term: DND-41 (4)",
          "Ontology term: KARPAS-422 (2)",
          "Ontology term: KBM-7 (2)",
          "Ontology term: NB4 (2)",
          "Ontology term: OCI-LY7 (2)",
          "Ontology term: SIG-M5 (14)",
          "Cell type: Macrophage (2)",
          "Ontology term: MV-4-11 (2)",
          "Cell type: Megakaryoblast (11)",
          "Ontology term: CMK (1)",
          "Ontology term: UT-7 (10)",
          "Cell type: Monocyte (2)",
          "Ontology term: THP-1 (2)",
          "Cell type: Myeloblast (62)",
          "Ontology term: HAP-1 (4)",
          "Ontology term: KG1 (2)",
          "Ontology term: Kasumi-1 (14)",
          "Ontology term: MISSING (2)",
          "Ontology term: MOLM-13 (10)",
          "Ontology term: NOMO-1 (12)",
          "Ontology term: OCI-AML2 (10)",
          "Ontology term: OCI-M1 (2)",
          "Ontology term: OCI-M2 (1)",
          "Ontology term: SKM-1 (5)",
          "Cell type: Natural killer cell (3)",
          "Ontology term: NK-92 cell (3)",
          "Cell type: Promyeloblast (7)",
          "Ontology term: HL-60 (7)",
          "Cell type: T-cell (2)",
          "Ontology term: Jurkat, Clone E6-1 (2)",
          "System: Hepatic (2)",
          "Cell type: Epithelial-like cancer cell (2)",
          "Ontology term: HepG2 (2)",
          "System: Integumentary (182)",
          "Cell type: Epithelial-like cancer cell (78)",
          "Ontology term: T47D (78)",
          "Cell type: Lactocyte (99)",
          "Ontology term: MCF-7 (99)",
          "Cell type: MISSING (5)",
          "Ontology term: RPMI-7951 (2)",
          "Ontology term: SK-MEL-5 (3)",
          "System: Musculoskeletal (17)",
          "Cell type: MISSING (17)",
          "Ontology term: A673 (2)",
          "Ontology term: MG-63 (4)",
          "Ontology term: SJCRH30 (5)",
          "Ontology term: SJSA1 (4)",
          "Ontology term: SK-N-MC (2)",
          "System: Nervous (20)",
          "Cell type: Glial (2)",
          "Ontology term: H4 (2)",
          "Cell type: MISSING (10)",
          "Ontology term: A172 (1)",
          "Ontology term: Daoy (2)",
          "Ontology term: M059J (2)",
          "Ontology term: SK-N-DZ (4)",
          "Ontology term: SK-N-SH (1)",
          "Cell type: Neuroblast (8)",
          "Ontology term: BE2C (4)",
          "Ontology term: WERI-Rb-1 (4)",
          "System: Reproductive (9)",
          "Cell type: Epithelial-like cancer cell (9)",
          "Ontology term: HeLa-S3 (3)",
          "Ontology term: LNCaP clone FGC (2)",
          "Ontology term: NT2/D1 (2)",
          "Ontology term: PC-3 (2)",
          "System: Respiratory (402)",
          "Cell type: Epithelial-like cancer cell (387)",
          "Ontology term: A549 (2)",
          "Ontology term: COLO668 (4)",
          "Ontology term: COR-L47 (3)",
          "Ontology term: DMS 273 (4)",
          "Ontology term: DMS114 (2)",
          "Ontology term: DMS153 (7)",
          "Ontology term: DMS53 (8)",
          "Ontology term: DMS79 (9)",
          "Ontology term: MISSING (2)",
          "Ontology term: NCI-H1048 (2)",
          "Ontology term: NCI-H1092 (6)",
          "Ontology term: NCI-H1105 (6)",
          "Ontology term: NCI-H128 (3)",
          "Ontology term: NCI-H1417 (28)",
          "Ontology term: NCI-H1436 (7)",
          "Ontology term: NCI-H146 (8)",
          "Ontology term: NCI-H1694 (6)",
          "Ontology term: NCI-H187 (22)",
          "Ontology term: NCI-H1930 (12)",
          "Ontology term: NCI-H2029 (27)",
          "Ontology term: NCI-H2081 (24)",
          "Ontology term: NCI-H209 (4)",
          "Ontology term: NCI-H2107 (8)",
          "Ontology term: NCI-H2196 (6)",
          "Ontology term: NCI-H2227 (8)",
          "Ontology term: NCI-H226 (2)",
          "Ontology term: NCI-H345 (7)",
          "Ontology term: NCI-H446 (19)",
          "Ontology term: NCI-H460 (2)",
          "Ontology term: NCI-H510A (23)",
          "Ontology term: NCI-H524 (20)",
          "Ontology term: NCI-H526 (38)",
          "Ontology term: NCI-H69 (6)",
          "Ontology term: NCI-H748 (4)",
          "Ontology term: NCI-H774 (3)",
          "Ontology term: NCI-H82 (7)",
          "Ontology term: NCI-H889 (7)",
          "Ontology term: SHP77 (31)",
          "Cell type: Lymphoblast (10)",
          "Ontology term: NCI-H2141 (4)",
          "Ontology term: NCI-H2171 (6)",
          "Cell type: Type 2 pneumocyte (5)",
          "Ontology term: Calu3 (2)",
          "Ontology term: PC-9 (3)",
          "System: Urinary (7)",
          "Cell type: Epithelial-like cancer cell (5)",
          "Ontology term: ACHN (2)",
          "Ontology term: G-401 (1)",
          "Ontology term: RCC 7860 (2)",
          "Cell type: MISSING (2)",
          "Ontology term: Caki-2 (2)",
          "Disease pathology: Normal (128)",
          "State: Cell line (45)",
          "Cell type: B-cell (14)",
          "Ontology term: GM06990 (1)",
          "Ontology term: GM12864 (1)",
          "Ontology term: GM12865 (2)",
          "Ontology term: GM12878 (9)",
          "Ontology term: GM12879 (1)",
          "Cell type: Endothelial (2)",
          "Ontology term: brain microvascular endothelial cell (2)",
          "Cell type: Fibroblast (13)",
          "Ontology term: BJ (1)",
          "Ontology term: ELR (2)",
          "Ontology term: EL (2)",
          "Ontology term: HFF-Myc (2)",
          "Ontology term: HFFc6 (2)",
          "Ontology term: HS-27A (1)",
          "Ontology term: HS-5 (1)",
          "Ontology term: foreskin fibroblast (2)",
          "Cell type: MISSING (9)",
          "Ontology term: HK-2 (2)",
          "Ontology term: MCF 10A (3)",
          "Ontology term: RWPE2 (2)",
          "Ontology term: islet precursor cell (2)",
          "Cell type: Myocyte (4)",
          "Ontology term: myocyte (4)",
          "Cell type: Podocyte (3)",
          "Ontology term: glomerular visceral epithelial (3)",
          "State: Differentiated stem cells (27)",
          "Cell type: Astrocyte (1)",
          "Ontology term: Astrocyte (1)",
          "Cell type: Endodermal (1)",
          "Ontology term: endodermal (1)",
          "Cell type: Endothelial (2)",
          "Ontology term: endothelial (2)",
          "Cell type: MISSING (12)",
          "Ontology term: chondrocyte (2)",
          "Ontology term: ecto neural progenitor cell (1)",
          "Ontology term: neural crest (2)",
          "Ontology term: neuronal stem cell (3)",
          "Ontology term: smooth muscle cell (3)",
          "Ontology term: type B pancreatic (1)",
          "Cell type: Mesothelial (2)",
          "Ontology term: mesothelial cell of epicardium (2)",
          "Cell type: Myocyte (2)",
          "Ontology term: cardiac myocyte (2)",
          "Cell type: Neuron (4)",
          "Ontology term: Bipolar neuron (2)",
          "Ontology term: excitatory neuron (2)",
          "Cell type: Progenitor (3)",
          "Ontology term: nephron progenitor (2)",
          "Ontology term: progenitor cell of endocrine pancreas (1)",
          "State: Primary (16)",
          "System: Cardiovascular (6)",
          "Organ: Heart (6)",
          "Ontology term: cardiac myoblast (2)",
          "Ontology term: cardiac myocyte (2)",
          "Ontology term: cardiovascular progenitor (1)",
          "Ontology term: mesodermal (1)",
          "System: Connective (6)",
          "Organ: Lung (4)",
          "Ontology term: IMR-90 (4)",
          "Organ: MISSING (2)",
          "Ontology term: Adipocytes (2)",
          "System: Hematopoietic (2)",
          "Organ: Bone marrow (2)",
          "Ontology term: L1-S8 (2)",
          "System: Integumentary (1)",
          "Organ: Mammary (1)",
          "Ontology term: mammary epithelial (1)",
          "System: Nervous (1)",
          "Organ: Brain (1)",
          "Ontology term: brain (1)",
          "State: Stem cells (40)",
          "Ontology term: ESC derived line (2)",
          "Ontology term: GM23338 (1)",
          "Ontology term: H1 (4)",
          "Ontology term: H7 (3)",
          "Ontology term: H9 (12)",
          "Ontology term: Immortal neuronal stem cell line (2)",
          "Ontology term: Induced pluripotent stem cell line (2)",
          "Ontology term: L1-S8R (2)",
          "Ontology term: WTC11 (2)",
          "Ontology term: amniotic stem (1)",
          "Ontology term: dedifferentiated amniotic fluid mesenchymal stem (1)",
          "Ontology term: iPS DF 6.9 (4)",
          "Ontology term: mesenchymal stem (2)",
          "Ontology term: mesendoderm (2)",
          "Sampling origin: Tissue (2599)",
          "Disease pathology: Cancer (4)",
          "System: Urinary (4)",
          "Organ: Kidney (4)",
          "Ontology term: renal cell carcinoma (4)",
          "Disease pathology: Normal (2595)",
          "Growth stage: Fetal (400)",
          "System: Cardiovascular (29)",
          "Organ: Brain (3)",
          "Ontology term: brain microvascular endothelial cell (2)",
          "Ontology term: brain pericyte (1)",
          "Organ: Heart (26)",
          "Ontology term: cardiac fibroblast (2)",
          "Ontology term: cardiac myocyte (2)",
          "Ontology term: heart left ventricle (3)",
          "Ontology term: heart right ventricle (1)",
          "Ontology term: heart (18)",
          "System: Connective (35)",
          "Organ: Bone (5)",
          "Ontology term: femur (1)",
          "Ontology term: left forelimb (1)",
          "Ontology term: left hindlimb (1)",
          "Ontology term: right forelimb (1)",
          "Ontology term: right hindlimb (1)",
          "Organ: Eye (2)",
          "Ontology term: fibroblast of the conjunctiva (2)",
          "Organ: Heart (2)",
          "Ontology term: cardiac fibroblast (2)",
          "Organ: Lung (4)",
          "Ontology term: AG04450 (2)",
          "Ontology term: fibroblast of lung (2)",
          "Organ: Placenta (2)",
          "Ontology term: fibroblast of villous mesenchyme (2)",
          "Organ: Pulmonary artery (2)",
          "Ontology term: fibroblast of pulmonary artery (2)",
          "Organ: Skin (18)",
          "Ontology term: AG04449 (2)",
          "Ontology term: skin fibroblast (16)",
          "System: Digestive (46)",
          "Organ: Large intestine (15)",
          "Ontology term: large intestine (15)",
          "Organ: Small intestine (13)",
          "Ontology term: small intestine (13)",
          "Organ: Stomach (15)",
          "Ontology term: stomach (15)",
          "Organ: Tongue (3)",
          "Ontology term: tongue (3)",
          "System: Embryonic (1)",
          "Organ: Face (1)",
          "Ontology term: embryonic facial prominence (1)",
          "System: Endocrine (7)",
          "Organ: Adrenal gland (7)",
          "Ontology term: adrenal gland (7)",
          "System: Epithelial (12)",
          "Organ: Amnion (2)",
          "Ontology term: amniotic epithelial cell (2)",
          "Organ: Esophagus (2)",
          "Ontology term: epithelial cell of esophagus (2)",
          "Organ: Eye (8)",
          "Ontology term: choroid plexus epithelial cell (2)",
          "Ontology term: iris pigment epithelial cell (2)",
          "Ontology term: non-pigmented ciliary epithelial cell (2)",
          "Ontology term: retinal pigment epithelial cell (2)",
          "System: Fetal life support (38)",
          "Organ: Placenta (36)",
          "Ontology term: placenta (28)",
          "Ontology term: trophoblast cell (8)",
          "Organ: Umbilical (2)",
          "Ontology term: umbilical cord (2)",
          "System: Hematopoietic (11)",
          "Organ: Blood (10)",
          "Ontology term: thymus (10)",
          "Organ: Spleen (1)",
          "Ontology term: spleen (1)",
          "System: Musculoskeletal (61)",
          "Organ: Limb (3)",
          "Ontology term: limb (3)",
          "Organ: Liver (3)",
          "Ontology term: liver (3)",
          "Organ: Muscle (53)",
          "Ontology term: muscle of arm (19)",
          "Ontology term: muscle of back (15)",
          "Ontology term: muscle of leg (15)",
          "Ontology term: muscle of trunk (4)",
          "Organ: Vascular (2)",
          "Ontology term: smooth muscle cell of the brain vasculature (2)",
          "System: Nervous (42)",
          "Organ: Brain (25)",
          "Ontology term: Astrocyte (2)",
          "Ontology term: astrocyte of the cerebellum (2)",
          "Ontology term: astrocyte of the hippocampus (2)",
          "Ontology term: brain (19)",
          "Organ: Eye (8)",
          "Ontology term: eye (3)",
          "Ontology term: retina (5)",
          "Organ: Spinal cord (9)",
          "Ontology term: astrocyte of the spinal cord (2)",
          "Ontology term: spinal cord (7)",
          "System: Reproductive (3)",
          "Organ: Gonad (1)",
          "Ontology term: ovary (1)",
          "Organ: Testis (2)",
          "Ontology term: testis (2)",
          "System: Respiratory (41)",
          "Organ: Lung (41)",
          "Ontology term: left lung (13)",
          "Ontology term: lung (17)",
          "Ontology term: right lung (11)",
          "System: Urinary (74)",
          "Organ: Bladder (1)",
          "Ontology term: bladder organ (1)",
          "Organ: Kidney (73)",
          "Ontology term: glomerular endothelial cell (2)",
          "Ontology term: kidney (18)",
          "Ontology term: left kidney (8)",
          "Ontology term: renal cortex interstitium (18)",
          "Ontology term: renal pelvis (17)",
          "Ontology term: right kidney (10)",
          "Growth stage: Postnatal (2195)",
          "System: Cardiovascular (63)",
          "Organ: Aorta (5)",
          "Ontology term: thoracic aorta (5)",
          "Organ: Artery (3)",
          "Ontology term: coronary artery (1)",
          "Ontology term: tibial artery (2)",
          "Organ: Heart (36)",
          "Ontology term: Right ventricle myocardium inferior (1)",
          "Ontology term: Right ventricle myocardium superior (1)",
          "Ontology term: cardiac septum (1)",
          "Ontology term: heart left ventricle (8)",
          "Ontology term: heart right ventricle (9)",
          "Ontology term: heart (7)",
          "Ontology term: left cardiac atrium (1)",
          "Ontology term: left ventricle myocardium inferior (1)",
          "Ontology term: left ventricle myocardium superior (1)",
          "Ontology term: pulmonary artery endothelial cell (1)",
          "Ontology term: right atrium auricular region (1)",
          "Ontology term: right cardiac atrium (4)",
          "Organ: Lung (4)",
          "Ontology term: lung microvascular endothelial cell (4)",
          "Organ: Skin (11)",
          "Ontology term: dermis blood vessel endothelial cell (7)",
          "Ontology term: dermis microvascular lymphatic vessel endothelial cell (4)",
          "Organ: Umbilical (2)",
          "Ontology term: endothelial cell of umbilical vein (2)",
          "Organ: Vein (2)",
          "Ontology term: posterior vena cava (2)",
          "System: Connective (33)",
          "Organ: Gum (4)",
          "Ontology term: AG09319 (2)",
          "Ontology term: fibroblast of gingiva (2)",
          "Organ: Heart (4)",
          "Ontology term: cardiac fibroblast (2)",
          "Ontology term: fibroblast of the aortic adventitia (2)",
          "Organ: Lung (2)",
          "Ontology term: fibroblast of lung (2)",
          "Organ: Mammary (1)",
          "Ontology term: fibroblast of mammary gland (1)",
          "Organ: Periodontal ligament (2)",
          "Ontology term: fibroblast of peridontal ligament (2)",
          "Organ: Skin (18)",
          "Ontology term: AG09309 (2)",
          "Ontology term: AG10803 (2)",
          "Ontology term: GM04503 (2)",
          "Ontology term: GM04504 (2)",
          "Ontology term: fibroblast of dermis (2)",
          "Ontology term: fibroblast (2)",
          "Ontology term: foreskin fibroblast (6)",
          "Organ: Stroma (2)",
          "Ontology term: stromal cell of bone marrow (2)",
          "System: Digestive (41)",
          "Organ: Colon (25)",
          "Ontology term: colon epithelial (2)",
          "Ontology term: colonic mucosa (3)",
          "Ontology term: left colon (4)",
          "Ontology term: mucosa of descending colon (5)",
          "Ontology term: sigmoid colon (1)",
          "Ontology term: transverse colon (10)",
          "Organ: Esophagus (2)",
          "Ontology term: esophagus muscularis mucosa (1)",
          "Ontology term: esophagus squamous epithelium (1)",
          "Organ: Gallbladder (1)",
          "Ontology term: mucosa of gallbladder (1)",
          "Organ: Liver (2)",
          "Ontology term: hepatocyte (2)",
          "Organ: Small intestine (7)",
          "Ontology term: Peyer's patch (6)",
          "Ontology term: small intestine (1)",
          "Organ: Stomach (4)",
          "Ontology term: mucosa of stomach (1)",
          "Ontology term: stomach (3)",
          "System: Endocrine (51)",
          "Organ: Adrenal gland (12)",
          "Ontology term: adrenal gland (12)",
          "Organ: Pancreas (26)",
          "Ontology term: pancreas (26)",
          "Organ: Thyroid gland (13)",
          "Ontology term: thyroid gland (13)",
          "System: Epithelial (2)",
          "Organ: Lung (2)",
          "Ontology term: bronchial epithelial cell (2)",
          "System: Hematopoietic (966)",
          "Subsystem: Lymphoid (516)",
          "Organ: Blood (487)",
          "Cell type: B-cell (12)",
          "Ontology term: B cell (5)",
          "Ontology term: activated B cell (2)",
          "Ontology term: memory B cell (1)",
          "Ontology term: naive B cell (4)",
          "Cell type: Natural killer cell (61)",
          "Ontology term: immature natural killer cell (48)",
          "Ontology term: natural killer cell (13)",
          "Cell type: T-cell (414)",
          "Ontology term: CD4-positive, CD25-positive, alpha-beta regulatory T cell (6)",
          "Ontology term: CD4-positive, CD25-positive, alpha-beta regulatory T (1)",
          "Ontology term: CD4-positive, alpha-beta T cell (173)",
          "Ontology term: CD8-positive, alpha-beta T cell (65)",
          "Ontology term: CD8-positive, alpha-beta memory T cell (3)",
          "Ontology term: T follicular helper cell (1)",
          "Ontology term: T-cell (77)",
          "Ontology term: T-helper 1 cell (12)",
          "Ontology term: T-helper 17 cell (7)",
          "Ontology term: T-helper 2 cell (11)",
          "Ontology term: T-helper 22 cell (1)",
          "Ontology term: T-helper 9 cell (2)",
          "Ontology term: activated CD4-positive, alpha-beta T cell (2)",
          "Ontology term: activated T-helper 1 (1)",
          "Ontology term: activated T-helper 2 (2)",
          "Ontology term: activated effector memory CD4-positive, alpha-beta T cell (6)",
          "Ontology term: activated gamma-delta T cell (2)",
          "Ontology term: central memory CD4-positive, alpha-beta T cell (2)",
          "Ontology term: central memory CD8-positive, alpha-beta T cell (2)",
          "Ontology term: effector CD4-positive, alpha-beta T cell (2)",
          "Ontology term: effector memory CD8-positive, alpha-beta T cell (7)",
          "Ontology term: memory B cell (1)",
          "Ontology term: naive thymus-derived CD4-positive, alpha-beta T cell (2)",
          "Ontology term: naive thymus-derived CD8-positive, alpha-beta T cell (3)",
          "Ontology term: stimulated activated CD4-positive, alpha-beta memory T cell (6)",
          "Ontology term: stimulated activated naive CD4-positive, alpha-beta T cell (17)",
          "Organ: Spleen (8)",
          "Ontology term: spleen (8)",
          "Organ: Thymus (21)",
          "Ontology term: naive B cell (5)",
          "Ontology term: naive thymus-derived CD8-positive, alpha-beta T cell (16)",
          "Subsystem: MISSING (4)",
          "Organ: Bone marrow (4)",
          "Ontology term: bone marrow (4)",
          "Subsystem: Myeloid (412)",
          "Organ: Blood (412)",
          "Cell type: Inflammatory macrophage (154)",
          "Ontology term: inflammatory macrophage (154)",
          "Cell type: Monocyte (103)",
          "Ontology term: CD14-positive monocyte (103)",
          "Cell type: Myeloid dendritic cell (2)",
          "Ontology term: CD1c-positive myeloid dendritic cell (1)",
          "Ontology term: CD1c-positive myeloid dendritic (1)",
          "Cell type: Suppressor macrophage (153)",
          "Ontology term: suppressor macrophage (153)",
          "Subsystem: Progenitor (34)",
          "Organ: Blood (34)",
          "Cell type: Myeloid progenitor (34)",
          "Ontology term: common myeloid progenitor, CD34-positive (34)",
          "System: Hepatic (10)",
          "Organ: Liver (10)",
          "Ontology term: left lobe of liver (1)",
          "Ontology term: right lobe of liver (9)",
          "System: Integumentary (28)",
          "Organ: Fat pad (3)",
          "Ontology term: mesenteric fat pad (1)",
          "Ontology term: omental fat pad (2)",
          "Organ: Mammary (8)",
          "Ontology term: breast epithelium (4)",
          "Ontology term: mammary epithelial cell (4)",
          "Organ: Skin (17)",
          "Ontology term: foreskin keratinocyte (4)",
          "Ontology term: foreskin melanocyte (4)",
          "Ontology term: keratinocyte (2)",
          "Ontology term: lower leg skin (4)",
          "Ontology term: suprapubic skin (3)",
          "System: MISSING (2)",
          "Organ: MISSING (2)",
          "Ontology term: endodermal cell (2)",
          "System: Musculoskeletal (17)",
          "Organ: Muscle (17)",
          "Ontology term: Myotube (4)",
          "Ontology term: gastrocnemius medialis (6)",
          "Ontology term: psoas muscle (5)",
          "Ontology term: skeletal muscle cell (2)",
          "System: Nervous (919)",
          "Subsystem: Central (914)",
          "Organ: Brain (897)",
          "Ontology term: Globus pallidus (6)",
          "Ontology term: Mid frontal gyrus (1)",
          "Ontology term: Midbrain (2)",
          "Ontology term: ammon's horn (1)",
          "Ontology term: amygdala (67)",
          "Ontology term: anterior cingulate cortex (72)",
          "Ontology term: caudate nucleus (69)",
          "Ontology term: cerebellar cortex (3)",
          "Ontology term: cerebellar hemisphere (81)",
          "Ontology term: cerebellar nuclear complex (2)",
          "Ontology term: cerebellum (1)",
          "Ontology term: frontal cortex (67)",
          "Ontology term: head of caudate nucleus (86)",
          "Ontology term: hippocampus (68)",
          "Ontology term: hypothalamus (63)",
          "Ontology term: medulla (1)",
          "Ontology term: middle frontal area 46 (56)",
          "Ontology term: nucleus accumbens (69)",
          "Ontology term: occipital lobe (3)",
          "Ontology term: pons (1)",
          "Ontology term: posterior cingulate gyrus (48)",
          "Ontology term: putamen (72)",
          "Ontology term: substantia nigra (58)",
          "Organ: Spinal cord (17)",
          "Ontology term: spinal cord (17)",
          "Subsystem: Peripheral (5)",
          "Organ: Nerve (5)",
          "Ontology term: sciatic nerve (1)",
          "Ontology term: tibial nerve (4)",
          "System: Reproductive (18)",
          "Organ: Ovary (10)",
          "Ontology term: female gonad (10)",
          "Organ: Prostate (4)",
          "Ontology term: epithelial cell of prostate (2)",
          "Ontology term: prostate (2)",
          "Organ: Testis (1)",
          "Ontology term: testis (1)",
          "Organ: Uterus (3)",
          "Ontology term: uterus (3)",
          "System: Respiratory (27)",
          "Organ: Lung (27)",
          "Ontology term: bronchial epithelial cell (2)",
          "Ontology term: left lung (5)",
          "Ontology term: lower lobe of left lung (5)",
          "Ontology term: lower lobe of right lung (3)",
          "Ontology term: upper lobe of left lung (9)",
          "Ontology term: upper lobe of right lung (3)",
          "System: Urinary (18)",
          "Organ: Kidney (17)",
          "Ontology term: cortex of kidney (1)",
          "Ontology term: epithelial cell of proximal tubule (2)",
          "Ontology term: kidney epithelial cell (2)",
          "Ontology term: kidney glomerular epithelial cell (1)",
          "Ontology term: kidney tubule cell (6)",
          "Ontology term: kidney (3)",
          "Ontology term: renal cortical epithelial cell (2)",
          "Organ: Ureter (1)",
          "Ontology term: ureter (1)"
         ],
         "type": "scatter",
         "x": [
          358.44111009700754,
          166.2930935778237,
          77.67837465564739,
          77.67837465564739,
          2.125,
          0,
          0,
          4.25,
          4,
          4.5,
          12.125,
          9.5,
          8.5,
          9,
          9.5,
          10,
          10.5,
          14.75,
          14.5,
          15,
          19,
          19,
          19,
          48.79545454545455,
          23.25,
          23,
          23.5,
          27.5,
          27.5,
          32.75,
          31.5,
          32,
          32.5,
          33,
          33.5,
          34,
          39.25,
          38,
          38.5,
          39,
          39.5,
          40,
          40.5,
          44.5,
          44.5,
          48.75,
          48.5,
          49,
          53,
          53,
          59.25,
          57,
          57.5,
          58,
          58.5,
          59,
          59.5,
          60,
          60.5,
          61,
          61.5,
          65.5,
          65.5,
          69.5,
          69.5,
          73.5,
          73.5,
          77.5,
          77.5,
          77.5,
          85.58333333333333,
          81.5,
          81.5,
          85.5,
          85.5,
          89.75,
          89.5,
          90,
          95,
          95,
          94,
          94.5,
          95,
          95.5,
          96,
          105.08333333333333,
          100,
          100,
          105,
          104,
          104.5,
          105,
          105.5,
          106,
          110.25,
          110,
          110.5,
          115.25,
          115.25,
          114.5,
          115,
          115.5,
          116,
          139.75,
          129.25,
          120,
          120.5,
          121,
          121.5,
          122,
          122.5,
          123,
          123.5,
          124,
          124.5,
          125,
          125.5,
          126,
          126.5,
          127,
          127.5,
          128,
          128.5,
          129,
          129.5,
          130,
          130.5,
          131,
          131.5,
          132,
          132.5,
          133,
          133.5,
          134,
          134.5,
          135,
          135.5,
          136,
          136.5,
          137,
          137.5,
          138,
          138.5,
          142.75,
          142.5,
          143,
          147.25,
          147,
          147.5,
          154.25,
          152,
          151.5,
          152,
          152.5,
          156.5,
          156.5,
          254.9078125,
          191,
          177.5,
          176.5,
          177,
          177.5,
          178,
          178.5,
          182.5,
          182.5,
          188.25,
          186.5,
          187,
          187.5,
          188,
          188.5,
          189,
          189.5,
          190,
          194.75,
          194,
          194.5,
          195,
          195.5,
          199.5,
          199.5,
          203.5,
          203.5,
          229.03125,
          213.5,
          213.5,
          217.5,
          217.5,
          221.5,
          221.5,
          226.75,
          225.5,
          226,
          226.5,
          227,
          227.5,
          228,
          232,
          232,
          236,
          236,
          240.25,
          240,
          240.5,
          244.75,
          244.5,
          245,
          276.6,
          261,
          261,
          255,
          259,
          263,
          267,
          273,
          271,
          271,
          275,
          275,
          279,
          279,
          279,
          283,
          283,
          283,
          287,
          287,
          287,
          323,
          297,
          301,
          305,
          309,
          313,
          317,
          321,
          325,
          329,
          333,
          337,
          341,
          345,
          349,
          550.5891266161914,
          369,
          369,
          369,
          369,
          732.1782532323828,
          523.5622710622711,
          398,
          391,
          389,
          393,
          405,
          397,
          401,
          405,
          409,
          413,
          446.14285714285717,
          425,
          417,
          421,
          425,
          429,
          433,
          437,
          437,
          441,
          441,
          447,
          445,
          449,
          453,
          453,
          457,
          457,
          463,
          461,
          465,
          475,
          469,
          469,
          473,
          473,
          477,
          477,
          481,
          481,
          485,
          485,
          485,
          489,
          489,
          489,
          499,
          493,
          493,
          497,
          497,
          507,
          501,
          505,
          509,
          513,
          522,
          519,
          517,
          521,
          525,
          525,
          531,
          529,
          529,
          533,
          533,
          547.5,
          537,
          537,
          541,
          541,
          551,
          545,
          549,
          553,
          557,
          561,
          561,
          581.6666666666666,
          571,
          565,
          569,
          573,
          577,
          583,
          581,
          585,
          591,
          589,
          593,
          599,
          597,
          597,
          601,
          601,
          609,
          609,
          605,
          609,
          613,
          624,
          617,
          617,
          631,
          621,
          625,
          629,
          633,
          637,
          641,
          940.7942354024943,
          695.8571428571429,
          651,
          651,
          657,
          655,
          659,
          685,
          663,
          667,
          671,
          675,
          679,
          683,
          687,
          691,
          695,
          699,
          703,
          707,
          711,
          711,
          717,
          715,
          719,
          723,
          723,
          727,
          727,
          755,
          733,
          731,
          735,
          741,
          739,
          743,
          747,
          747,
          751,
          751,
          755,
          755,
          771,
          759,
          763,
          767,
          771,
          775,
          779,
          783,
          787,
          787,
          823.6666666666666,
          801,
          791,
          795,
          799,
          803,
          807,
          811,
          817,
          815,
          819,
          823,
          823,
          827,
          827,
          833,
          831,
          835,
          841,
          839,
          843,
          851,
          847,
          847,
          851,
          851,
          855,
          855,
          859,
          859,
          859,
          905.0954861111111,
          885.1944444444445,
          870.5833333333334,
          863.75,
          863,
          863.5,
          864,
          864.5,
          868.75,
          868.5,
          869,
          879.25,
          873,
          873.5,
          874,
          874.5,
          875,
          875.5,
          876,
          876.5,
          877,
          877.5,
          878,
          878.5,
          879,
          879.5,
          880,
          880.5,
          881,
          881.5,
          882,
          882.5,
          883,
          883.5,
          884,
          884.5,
          885,
          885.5,
          889.5,
          889.5,
          895.5,
          893.5,
          897.5,
          901.5,
          901.5,
          901.5,
          911.6875,
          911.6875,
          905.5,
          905.5,
          909.5,
          909.5,
          913.75,
          913.5,
          914,
          918,
          918,
          922,
          922,
          922,
          922,
          928,
          928,
          926,
          930,
          946,
          936,
          934,
          938,
          944,
          942,
          946,
          958,
          950,
          954,
          958,
          962,
          966,
          970,
          970,
          970,
          980,
          980,
          974,
          978,
          982,
          986,
          1073,
          1058,
          1034,
          990,
          994,
          998,
          1002,
          1006,
          1010,
          1014,
          1018,
          1022,
          1026,
          1030,
          1034,
          1038,
          1042,
          1046,
          1050,
          1054,
          1058,
          1062,
          1066,
          1070,
          1074,
          1078,
          1082,
          1082,
          1088,
          1088,
          1086,
          1090,
          1102.5,
          1094,
          1094,
          1100,
          1098,
          1102,
          1106,
          1106,
          1110,
          1110,
          1124,
          1124,
          1114,
          1118,
          1122,
          1126,
          1130,
          1134,
          1158,
          1150,
          1138,
          1142,
          1146,
          1150,
          1154,
          1158,
          1162,
          1166,
          1166
         ],
         "y": [
          8,
          7,
          6,
          5,
          4,
          1,
          0,
          1,
          0,
          0,
          4,
          1,
          0,
          0,
          0,
          0,
          0,
          1,
          0,
          0,
          4,
          1,
          0,
          4,
          1,
          0,
          0,
          1,
          0,
          1,
          0,
          0,
          0,
          0,
          0,
          0,
          1,
          0,
          0,
          0,
          0,
          0,
          0,
          1,
          0,
          1,
          0,
          0,
          1,
          0,
          1,
          0,
          0,
          0,
          0,
          0,
          0,
          0,
          0,
          0,
          0,
          1,
          0,
          1,
          0,
          1,
          0,
          4,
          1,
          0,
          4,
          1,
          0,
          1,
          0,
          1,
          0,
          0,
          4,
          1,
          0,
          0,
          0,
          0,
          0,
          4,
          1,
          0,
          1,
          0,
          0,
          0,
          0,
          0,
          1,
          0,
          0,
          4,
          1,
          0,
          0,
          0,
          0,
          4,
          1,
          0,
          0,
          0,
          0,
          0,
          0,
          0,
          0,
          0,
          0,
          0,
          0,
          0,
          0,
          0,
          0,
          0,
          0,
          0,
          0,
          0,
          0,
          0,
          0,
          0,
          0,
          0,
          0,
          0,
          0,
          0,
          0,
          0,
          0,
          0,
          0,
          0,
          0,
          1,
          0,
          0,
          1,
          0,
          0,
          4,
          1,
          0,
          0,
          0,
          1,
          0,
          6,
          5,
          1,
          0,
          0,
          0,
          0,
          0,
          1,
          0,
          1,
          0,
          0,
          0,
          0,
          0,
          0,
          0,
          0,
          1,
          0,
          0,
          0,
          0,
          1,
          0,
          1,
          0,
          5,
          1,
          0,
          1,
          0,
          1,
          0,
          1,
          0,
          0,
          0,
          0,
          0,
          0,
          1,
          0,
          1,
          0,
          1,
          0,
          0,
          1,
          0,
          0,
          5,
          4,
          2,
          0,
          0,
          0,
          0,
          4,
          2,
          0,
          2,
          0,
          4,
          2,
          0,
          4,
          2,
          0,
          4,
          2,
          0,
          5,
          0,
          0,
          0,
          0,
          0,
          0,
          0,
          0,
          0,
          0,
          0,
          0,
          0,
          0,
          7,
          6,
          4,
          2,
          0,
          6,
          5,
          4,
          2,
          0,
          0,
          2,
          0,
          0,
          0,
          0,
          0,
          4,
          2,
          0,
          0,
          0,
          0,
          0,
          2,
          0,
          2,
          0,
          2,
          0,
          0,
          2,
          0,
          2,
          0,
          2,
          0,
          0,
          4,
          2,
          0,
          2,
          0,
          2,
          0,
          2,
          0,
          4,
          2,
          0,
          4,
          2,
          0,
          4,
          2,
          0,
          2,
          0,
          2,
          0,
          0,
          0,
          0,
          4,
          2,
          0,
          0,
          2,
          0,
          4,
          2,
          0,
          2,
          0,
          4,
          2,
          0,
          2,
          0,
          2,
          0,
          0,
          0,
          0,
          2,
          0,
          4,
          2,
          0,
          0,
          0,
          0,
          2,
          0,
          0,
          2,
          0,
          0,
          4,
          2,
          0,
          2,
          0,
          4,
          2,
          0,
          0,
          0,
          4,
          2,
          0,
          2,
          0,
          0,
          0,
          0,
          0,
          0,
          5,
          4,
          2,
          0,
          2,
          0,
          0,
          2,
          0,
          0,
          0,
          0,
          0,
          0,
          0,
          0,
          0,
          0,
          0,
          0,
          2,
          0,
          2,
          0,
          0,
          2,
          0,
          2,
          0,
          4,
          2,
          0,
          0,
          2,
          0,
          0,
          2,
          0,
          2,
          0,
          2,
          0,
          2,
          0,
          0,
          0,
          0,
          0,
          0,
          0,
          2,
          0,
          4,
          2,
          0,
          0,
          0,
          0,
          0,
          0,
          2,
          0,
          0,
          2,
          0,
          2,
          0,
          2,
          0,
          0,
          2,
          0,
          0,
          4,
          2,
          0,
          2,
          0,
          2,
          0,
          4,
          2,
          0,
          4,
          3,
          2,
          1,
          0,
          0,
          0,
          0,
          1,
          0,
          0,
          1,
          0,
          0,
          0,
          0,
          0,
          0,
          0,
          0,
          0,
          0,
          0,
          0,
          0,
          0,
          0,
          0,
          0,
          0,
          0,
          0,
          0,
          0,
          0,
          0,
          0,
          0,
          2,
          0,
          2,
          0,
          0,
          3,
          2,
          0,
          3,
          2,
          1,
          0,
          1,
          0,
          1,
          0,
          0,
          1,
          0,
          3,
          2,
          1,
          0,
          4,
          2,
          0,
          0,
          4,
          2,
          0,
          0,
          2,
          0,
          0,
          2,
          0,
          0,
          0,
          0,
          0,
          4,
          2,
          0,
          4,
          2,
          0,
          0,
          0,
          0,
          4,
          3,
          2,
          0,
          0,
          0,
          0,
          0,
          0,
          0,
          0,
          0,
          0,
          0,
          0,
          0,
          0,
          0,
          0,
          0,
          0,
          0,
          0,
          0,
          0,
          0,
          2,
          0,
          3,
          2,
          0,
          0,
          4,
          2,
          0,
          2,
          0,
          0,
          2,
          0,
          2,
          0,
          4,
          2,
          0,
          0,
          0,
          0,
          0,
          0,
          4,
          2,
          0,
          0,
          0,
          0,
          0,
          0,
          0,
          2,
          0
         ]
        }
       ],
       "layout": {
        "annotations": [
         {
          "font": {
           "color": "rgb(50,50,50)",
           "size": 15
          },
          "showarrow": false,
          "text": "Ontology term",
          "x": 0,
          "xanchor": "left",
          "xref": "x domain",
          "y": 0,
          "yanchor": "bottom",
          "yref": "y"
         },
         {
          "font": {
           "color": "rgb(50,50,50)",
           "size": 15
          },
          "showarrow": false,
          "text": "Cell type",
          "x": 0,
          "xanchor": "left",
          "xref": "x domain",
          "y": 1,
          "yanchor": "bottom",
          "yref": "y"
         },
         {
          "font": {
           "color": "rgb(50,50,50)",
           "size": 15
          },
          "showarrow": false,
          "text": "Organ",
          "x": 0,
          "xanchor": "left",
          "xref": "x domain",
          "y": 2,
          "yanchor": "bottom",
          "yref": "y"
         },
         {
          "font": {
           "color": "rgb(50,50,50)",
           "size": 15
          },
          "showarrow": false,
          "text": "Subsystem",
          "x": 0,
          "xanchor": "left",
          "xref": "x domain",
          "y": 3,
          "yanchor": "bottom",
          "yref": "y"
         },
         {
          "font": {
           "color": "rgb(50,50,50)",
           "size": 15
          },
          "showarrow": false,
          "text": "System",
          "x": 0,
          "xanchor": "left",
          "xref": "x domain",
          "y": 4,
          "yanchor": "bottom",
          "yref": "y"
         },
         {
          "font": {
           "color": "rgb(50,50,50)",
           "size": 15
          },
          "showarrow": false,
          "text": "Growth stage/State",
          "x": 0,
          "xanchor": "left",
          "xref": "x domain",
          "y": 5,
          "yanchor": "bottom",
          "yref": "y"
         },
         {
          "font": {
           "color": "rgb(50,50,50)",
           "size": 15
          },
          "showarrow": false,
          "text": "Disease pathology",
          "x": 0,
          "xanchor": "left",
          "xref": "x domain",
          "y": 6,
          "yanchor": "bottom",
          "yref": "y"
         },
         {
          "font": {
           "color": "rgb(50,50,50)",
           "size": 15
          },
          "showarrow": false,
          "text": "Sampling origin",
          "x": 0,
          "xanchor": "left",
          "xref": "x domain",
          "y": 7,
          "yanchor": "bottom",
          "yref": "y"
         },
         {
          "font": {
           "color": "rgb(50,50,50)",
           "size": 8
          },
          "showarrow": false,
          "text": "Cultured",
          "x": 166.2930935778237,
          "xanchor": "center",
          "y": 7,
          "yanchor": "bottom",
          "yshift": 5
         },
         {
          "font": {
           "color": "rgb(50,50,50)",
           "size": 8
          },
          "showarrow": false,
          "text": "Cancer",
          "x": 77.67837465564739,
          "xanchor": "center",
          "y": 6,
          "yanchor": "bottom",
          "yshift": 5
         },
         {
          "font": {
           "color": "rgb(50,50,50)",
           "size": 8
          },
          "showarrow": false,
          "text": "Cell line",
          "x": 77.67837465564739,
          "xanchor": "center",
          "y": 5,
          "yanchor": "bottom",
          "yshift": 5
         },
         {
          "font": {
           "color": "rgb(50,50,50)",
           "size": 8
          },
          "showarrow": false,
          "text": "Normal",
          "x": 254.9078125,
          "xanchor": "center",
          "y": 6,
          "yanchor": "bottom",
          "yshift": 5
         },
         {
          "font": {
           "color": "rgb(50,50,50)",
           "size": 8
          },
          "showarrow": false,
          "text": "Cell line",
          "x": 191,
          "xanchor": "center",
          "y": 5,
          "yanchor": "bottom",
          "yshift": 5
         },
         {
          "font": {
           "color": "rgb(50,50,50)",
           "size": 8
          },
          "showarrow": false,
          "text": "Differentiated\nstem cells",
          "x": 229.03125,
          "xanchor": "center",
          "y": 5,
          "yanchor": "bottom",
          "yshift": 5
         },
         {
          "font": {
           "color": "rgb(50,50,50)",
           "size": 8
          },
          "showarrow": false,
          "text": "Primary",
          "x": 276.6,
          "xanchor": "center",
          "y": 5,
          "yanchor": "bottom",
          "yshift": 5
         },
         {
          "font": {
           "color": "rgb(50,50,50)",
           "size": 8
          },
          "showarrow": false,
          "text": "Stem cells",
          "x": 323,
          "xanchor": "center",
          "y": 5,
          "yanchor": "bottom",
          "yshift": 5
         },
         {
          "font": {
           "color": "rgb(50,50,50)",
           "size": 8
          },
          "showarrow": false,
          "text": "Tissue",
          "x": 550.5891266161914,
          "xanchor": "center",
          "y": 7,
          "yanchor": "bottom",
          "yshift": 5
         },
         {
          "font": {
           "color": "rgb(50,50,50)",
           "size": 8
          },
          "showarrow": false,
          "text": "Cancer",
          "x": 369,
          "xanchor": "center",
          "y": 6,
          "yanchor": "bottom",
          "yshift": 5
         },
         {
          "font": {
           "color": "rgb(50,50,50)",
           "size": 8
          },
          "showarrow": false,
          "text": "Normal",
          "x": 732.1782532323828,
          "xanchor": "center",
          "y": 6,
          "yanchor": "bottom",
          "yshift": 5
         },
         {
          "font": {
           "color": "rgb(50,50,50)",
           "size": 8
          },
          "showarrow": false,
          "text": "Fetal",
          "x": 523.5622710622711,
          "xanchor": "center",
          "y": 5,
          "yanchor": "bottom",
          "yshift": 5
         },
         {
          "font": {
           "color": "rgb(50,50,50)",
           "size": 8
          },
          "showarrow": false,
          "text": "Postnatal",
          "x": 940.7942354024943,
          "xanchor": "center",
          "y": 5,
          "yanchor": "bottom",
          "yshift": 5
         }
        ],
        "font": {
         "size": 12
        },
        "hovermode": "closest",
        "margin": {
         "b": 85,
         "l": 40,
         "r": 40,
         "t": 100
        },
        "plot_bgcolor": "rgb(255,255,255)",
        "shapes": [
         {
          "layer": "below",
          "line": {
           "color": "rgb(180,180,180)",
           "width": 5.103507160088766
          },
          "path": "M 358.44111009700754,8 C 358.44111009700754,7.5 166.2930935778237,7.5 166.2930935778237,7",
          "type": "path"
         },
         {
          "layer": "below",
          "line": {
           "color": "rgb(180,180,180)",
           "width": 5.020829575818607
          },
          "path": "M 166.2930935778237,7 C 166.2930935778237,6.5 77.67837465564739,6.5 77.67837465564739,6",
          "type": "path"
         },
         {
          "layer": "below",
          "line": {
           "color": "rgb(180,180,180)",
           "width": 5.020829575818607
          },
          "path": "M 77.67837465564739,6 C 77.67837465564739,5.5 77.67837465564739,5.5 77.67837465564739,5",
          "type": "path"
         },
         {
          "layer": "below",
          "line": {
           "color": "rgb(180,180,180)",
           "width": 1.584962500721156
          },
          "path": "M 77.67837465564739,5 C 77.67837465564739,4.5 2.125,4.5 2.125,4",
          "type": "path"
         },
         {
          "layer": "below",
          "line": {
           "color": "rgb(180,180,180)",
           "width": 0.792481250360578
          },
          "path": "M 2.125,4 C 2.125,2.5 0.0,2.5 0.0,1",
          "type": "path"
         },
         {
          "layer": "below",
          "line": {
           "color": "rgb(180,180,180)",
           "width": 0.792481250360578
          },
          "path": "M 0.0,1 C 0.0,0.5 0,0.5 0,0",
          "type": "path"
         },
         {
          "layer": "below",
          "line": {
           "color": "rgb(180,180,180)",
           "width": 1.403677461028802
          },
          "path": "M 2.125,4 C 2.125,2.5 4.25,2.5 4.25,1",
          "type": "path"
         },
         {
          "layer": "below",
          "line": {
           "color": "rgb(180,180,180)",
           "width": 0.792481250360578
          },
          "path": "M 4.25,1 C 4.25,0.5 4,0.5 4,0",
          "type": "path"
         },
         {
          "layer": "below",
          "line": {
           "color": "rgb(180,180,180)",
           "width": 1.160964047443681
          },
          "path": "M 4.25,1 C 4.25,0.5 4.5,0.5 4.5,0",
          "type": "path"
         },
         {
          "layer": "below",
          "line": {
           "color": "rgb(180,180,180)",
           "width": 2.678776002309042
          },
          "path": "M 77.67837465564739,5 C 77.67837465564739,4.5 12.125,4.5 12.125,4",
          "type": "path"
         },
         {
          "layer": "below",
          "line": {
           "color": "rgb(180,180,180)",
           "width": 2
          },
          "path": "M 12.125,4 C 12.125,2.5 9.5,2.5 9.5,1",
          "type": "path"
         },
         {
          "layer": "below",
          "line": {
           "color": "rgb(180,180,180)",
           "width": 1.292481250360578
          },
          "path": "M 9.5,1 C 9.5,0.5 8.5,0.5 8.5,0",
          "type": "path"
         },
         {
          "layer": "below",
          "line": {
           "color": "rgb(180,180,180)",
           "width": 0.792481250360578
          },
          "path": "M 9.5,1 C 9.5,0.5 9.0,0.5 9.0,0",
          "type": "path"
         },
         {
          "layer": "below",
          "line": {
           "color": "rgb(180,180,180)",
           "width": 1.160964047443681
          },
          "path": "M 9.5,1 C 9.5,0.5 9.5,0.5 9.5,0",
          "type": "path"
         },
         {
          "layer": "below",
          "line": {
           "color": "rgb(180,180,180)",
           "width": 0.792481250360578
          },
          "path": "M 9.5,1 C 9.5,0.5 10.0,0.5 10.0,0",
          "type": "path"
         },
         {
          "layer": "below",
          "line": {
           "color": "rgb(180,180,180)",
           "width": 0.792481250360578
          },
          "path": "M 9.5,1 C 9.5,0.5 10.5,0.5 10.5,0",
          "type": "path"
         },
         {
          "layer": "below",
          "line": {
           "color": "rgb(180,180,180)",
           "width": 2.3502198590705463
          },
          "path": "M 12.125,4 C 12.125,2.5 14.75,2.5 14.75,1",
          "type": "path"
         },
         {
          "layer": "below",
          "line": {
           "color": "rgb(180,180,180)",
           "width": 2.292481250360578
          },
          "path": "M 14.75,1 C 14.75,0.5 14.5,0.5 14.5,0",
          "type": "path"
         },
         {
          "layer": "below",
          "line": {
           "color": "rgb(180,180,180)",
           "width": 0.792481250360578
          },
          "path": "M 14.75,1 C 14.75,0.5 15.0,0.5 15.0,0",
          "type": "path"
         },
         {
          "layer": "below",
          "line": {
           "color": "rgb(180,180,180)",
           "width": 0.792481250360578
          },
          "path": "M 77.67837465564739,5 C 77.67837465564739,4.5 19.0,4.5 19.0,4",
          "type": "path"
         },
         {
          "layer": "below",
          "line": {
           "color": "rgb(180,180,180)",
           "width": 0.792481250360578
          },
          "path": "M 19.0,4 C 19.0,2.5 19.0,2.5 19.0,1",
          "type": "path"
         },
         {
          "layer": "below",
          "line": {
           "color": "rgb(180,180,180)",
           "width": 0.792481250360578
          },
          "path": "M 19.0,1 C 19.0,0.5 19.0,0.5 19.0,0",
          "type": "path"
         },
         {
          "layer": "below",
          "line": {
           "color": "rgb(180,180,180)",
           "width": 4.25587632688369
          },
          "path": "M 77.67837465564739,5 C 77.67837465564739,4.5 48.79545454545455,4.5 48.79545454545455,4",
          "type": "path"
         },
         {
          "layer": "below",
          "line": {
           "color": "rgb(180,180,180)",
           "width": 1.160964047443681
          },
          "path": "M 48.79545454545455,4 C 48.79545454545455,2.5 23.25,2.5 23.25,1",
          "type": "path"
         },
         {
          "layer": "below",
          "line": {
           "color": "rgb(180,180,180)",
           "width": 0.792481250360578
          },
          "path": "M 23.25,1 C 23.25,0.5 23.0,0.5 23.0,0",
          "type": "path"
         },
         {
          "layer": "below",
          "line": {
           "color": "rgb(180,180,180)",
           "width": 0.792481250360578
          },
          "path": "M 23.25,1 C 23.25,0.5 23.5,0.5 23.5,0",
          "type": "path"
         },
         {
          "layer": "below",
          "line": {
           "color": "rgb(180,180,180)",
           "width": 1.403677461028802
          },
          "path": "M 48.79545454545455,4 C 48.79545454545455,2.5 27.5,2.5 27.5,1",
          "type": "path"
         },
         {
          "layer": "below",
          "line": {
           "color": "rgb(180,180,180)",
           "width": 1.403677461028802
          },
          "path": "M 27.5,1 C 27.5,0.5 27.5,0.5 27.5,0",
          "type": "path"
         },
         {
          "layer": "below",
          "line": {
           "color": "rgb(180,180,180)",
           "width": 3.9534452978042594
          },
          "path": "M 48.79545454545455,4 C 48.79545454545455,2.5 32.75,2.5 32.75,1",
          "type": "path"
         },
         {
          "layer": "below",
          "line": {
           "color": "rgb(180,180,180)",
           "width": 1.584962500721156
          },
          "path": "M 32.75,1 C 32.75,0.5 31.5,0.5 31.5,0",
          "type": "path"
         },
         {
          "layer": "below",
          "line": {
           "color": "rgb(180,180,180)",
           "width": 0.792481250360578
          },
          "path": "M 32.75,1 C 32.75,0.5 32.0,0.5 32.0,0",
          "type": "path"
         },
         {
          "layer": "below",
          "line": {
           "color": "rgb(180,180,180)",
           "width": 1.660964047443681
          },
          "path": "M 32.75,1 C 32.75,0.5 32.5,0.5 32.5,0",
          "type": "path"
         },
         {
          "layer": "below",
          "line": {
           "color": "rgb(180,180,180)",
           "width": 3.877443751081734
          },
          "path": "M 32.75,1 C 32.75,0.5 33.0,0.5 33.0,0",
          "type": "path"
         },
         {
          "layer": "below",
          "line": {
           "color": "rgb(180,180,180)",
           "width": 0.792481250360578
          },
          "path": "M 32.75,1 C 32.75,0.5 33.5,0.5 33.5,0",
          "type": "path"
         },
         {
          "layer": "below",
          "line": {
           "color": "rgb(180,180,180)",
           "width": 1
          },
          "path": "M 32.75,1 C 32.75,0.5 34.0,0.5 34.0,0",
          "type": "path"
         },
         {
          "layer": "below",
          "line": {
           "color": "rgb(180,180,180)",
           "width": 2.377443751081734
          },
          "path": "M 48.79545454545455,4 C 48.79545454545455,2.5 39.25,2.5 39.25,1",
          "type": "path"
         },
         {
          "layer": "below",
          "line": {
           "color": "rgb(180,180,180)",
           "width": 1.160964047443681
          },
          "path": "M 39.25,1 C 39.25,0.5 38.0,0.5 38.0,0",
          "type": "path"
         },
         {
          "layer": "below",
          "line": {
           "color": "rgb(180,180,180)",
           "width": 0.792481250360578
          },
          "path": "M 39.25,1 C 39.25,0.5 38.5,0.5 38.5,0",
          "type": "path"
         },
         {
          "layer": "below",
          "line": {
           "color": "rgb(180,180,180)",
           "width": 0.792481250360578
          },
          "path": "M 39.25,1 C 39.25,0.5 39.0,0.5 39.0,0",
          "type": "path"
         },
         {
          "layer": "below",
          "line": {
           "color": "rgb(180,180,180)",
           "width": 0.792481250360578
          },
          "path": "M 39.25,1 C 39.25,0.5 39.5,0.5 39.5,0",
          "type": "path"
         },
         {
          "layer": "below",
          "line": {
           "color": "rgb(180,180,180)",
           "width": 0.792481250360578
          },
          "path": "M 39.25,1 C 39.25,0.5 40.0,0.5 40.0,0",
          "type": "path"
         },
         {
          "layer": "below",
          "line": {
           "color": "rgb(180,180,180)",
           "width": 1.9534452978042594
          },
          "path": "M 39.25,1 C 39.25,0.5 40.5,0.5 40.5,0",
          "type": "path"
         },
         {
          "layer": "below",
          "line": {
           "color": "rgb(180,180,180)",
           "width": 0.792481250360578
          },
          "path": "M 48.79545454545455,4 C 48.79545454545455,2.5 44.5,2.5 44.5,1",
          "type": "path"
         },
         {
          "layer": "below",
          "line": {
           "color": "rgb(180,180,180)",
           "width": 0.792481250360578
          },
          "path": "M 44.5,1 C 44.5,0.5 44.5,0.5 44.5,0",
          "type": "path"
         },
         {
          "layer": "below",
          "line": {
           "color": "rgb(180,180,180)",
           "width": 1.792481250360578
          },
          "path": "M 48.79545454545455,4 C 48.79545454545455,2.5 48.75,2.5 48.75,1",
          "type": "path"
         },
         {
          "layer": "below",
          "line": {
           "color": "rgb(180,180,180)",
           "width": 0.5
          },
          "path": "M 48.75,1 C 48.75,0.5 48.5,0.5 48.5,0",
          "type": "path"
         },
         {
          "layer": "below",
          "line": {
           "color": "rgb(180,180,180)",
           "width": 1.7297158093186487
          },
          "path": "M 48.75,1 C 48.75,0.5 49.0,0.5 49.0,0",
          "type": "path"
         },
         {
          "layer": "below",
          "line": {
           "color": "rgb(180,180,180)",
           "width": 0.792481250360578
          },
          "path": "M 48.79545454545455,4 C 48.79545454545455,2.5 53.0,2.5 53.0,1",
          "type": "path"
         },
         {
          "layer": "below",
          "line": {
           "color": "rgb(180,180,180)",
           "width": 0.792481250360578
          },
          "path": "M 53.0,1 C 53.0,0.5 53.0,0.5 53.0,0",
          "type": "path"
         },
         {
          "layer": "below",
          "line": {
           "color": "rgb(180,180,180)",
           "width": 2.9886399617499584
          },
          "path": "M 48.79545454545455,4 C 48.79545454545455,2.5 59.25,2.5 59.25,1",
          "type": "path"
         },
         {
          "layer": "below",
          "line": {
           "color": "rgb(180,180,180)",
           "width": 1.160964047443681
          },
          "path": "M 59.25,1 C 59.25,0.5 57.0,0.5 57.0,0",
          "type": "path"
         },
         {
          "layer": "below",
          "line": {
           "color": "rgb(180,180,180)",
           "width": 0.792481250360578
          },
          "path": "M 59.25,1 C 59.25,0.5 57.5,0.5 57.5,0",
          "type": "path"
         },
         {
          "layer": "below",
          "line": {
           "color": "rgb(180,180,180)",
           "width": 1.9534452978042594
          },
          "path": "M 59.25,1 C 59.25,0.5 58.0,0.5 58.0,0",
          "type": "path"
         },
         {
          "layer": "below",
          "line": {
           "color": "rgb(180,180,180)",
           "width": 0.792481250360578
          },
          "path": "M 59.25,1 C 59.25,0.5 58.5,0.5 58.5,0",
          "type": "path"
         },
         {
          "layer": "below",
          "line": {
           "color": "rgb(180,180,180)",
           "width": 1.7297158093186487
          },
          "path": "M 59.25,1 C 59.25,0.5 59.0,0.5 59.0,0",
          "type": "path"
         },
         {
          "layer": "below",
          "line": {
           "color": "rgb(180,180,180)",
           "width": 1.850219859070546
          },
          "path": "M 59.25,1 C 59.25,0.5 59.5,0.5 59.5,0",
          "type": "path"
         },
         {
          "layer": "below",
          "line": {
           "color": "rgb(180,180,180)",
           "width": 1.7297158093186487
          },
          "path": "M 59.25,1 C 59.25,0.5 60.0,0.5 60.0,0",
          "type": "path"
         },
         {
          "layer": "below",
          "line": {
           "color": "rgb(180,180,180)",
           "width": 0.792481250360578
          },
          "path": "M 59.25,1 C 59.25,0.5 60.5,0.5 60.5,0",
          "type": "path"
         },
         {
          "layer": "below",
          "line": {
           "color": "rgb(180,180,180)",
           "width": 0.5
          },
          "path": "M 59.25,1 C 59.25,0.5 61.0,0.5 61.0,0",
          "type": "path"
         },
         {
          "layer": "below",
          "line": {
           "color": "rgb(180,180,180)",
           "width": 1.292481250360578
          },
          "path": "M 59.25,1 C 59.25,0.5 61.5,0.5 61.5,0",
          "type": "path"
         },
         {
          "layer": "below",
          "line": {
           "color": "rgb(180,180,180)",
           "width": 1
          },
          "path": "M 48.79545454545455,4 C 48.79545454545455,2.5 65.5,2.5 65.5,1",
          "type": "path"
         },
         {
          "layer": "below",
          "line": {
           "color": "rgb(180,180,180)",
           "width": 1
          },
          "path": "M 65.5,1 C 65.5,0.5 65.5,0.5 65.5,0",
          "type": "path"
         },
         {
          "layer": "below",
          "line": {
           "color": "rgb(180,180,180)",
           "width": 1.5
          },
          "path": "M 48.79545454545455,4 C 48.79545454545455,2.5 69.5,2.5 69.5,1",
          "type": "path"
         },
         {
          "layer": "below",
          "line": {
           "color": "rgb(180,180,180)",
           "width": 1.5
          },
          "path": "M 69.5,1 C 69.5,0.5 69.5,0.5 69.5,0",
          "type": "path"
         },
         {
          "layer": "below",
          "line": {
           "color": "rgb(180,180,180)",
           "width": 0.792481250360578
          },
          "path": "M 48.79545454545455,4 C 48.79545454545455,2.5 73.5,2.5 73.5,1",
          "type": "path"
         },
         {
          "layer": "below",
          "line": {
           "color": "rgb(180,180,180)",
           "width": 0.792481250360578
          },
          "path": "M 73.5,1 C 73.5,0.5 73.5,0.5 73.5,0",
          "type": "path"
         },
         {
          "layer": "below",
          "line": {
           "color": "rgb(180,180,180)",
           "width": 0.792481250360578
          },
          "path": "M 77.67837465564739,5 C 77.67837465564739,4.5 77.5,4.5 77.5,4",
          "type": "path"
         },
         {
          "layer": "below",
          "line": {
           "color": "rgb(180,180,180)",
           "width": 0.792481250360578
          },
          "path": "M 77.5,4 C 77.5,2.5 77.5,2.5 77.5,1",
          "type": "path"
         },
         {
          "layer": "below",
          "line": {
           "color": "rgb(180,180,180)",
           "width": 0.792481250360578
          },
          "path": "M 77.5,1 C 77.5,0.5 77.5,0.5 77.5,0",
          "type": "path"
         },
         {
          "layer": "below",
          "line": {
           "color": "rgb(180,180,180)",
           "width": 3.7578499191420214
          },
          "path": "M 77.67837465564739,5 C 77.67837465564739,4.5 85.58333333333333,4.5 85.58333333333333,4",
          "type": "path"
         },
         {
          "layer": "below",
          "line": {
           "color": "rgb(180,180,180)",
           "width": 3.1518903740885515
          },
          "path": "M 85.58333333333333,4 C 85.58333333333333,2.5 81.5,2.5 81.5,1",
          "type": "path"
         },
         {
          "layer": "below",
          "line": {
           "color": "rgb(180,180,180)",
           "width": 3.1518903740885515
          },
          "path": "M 81.5,1 C 81.5,0.5 81.5,0.5 81.5,0",
          "type": "path"
         },
         {
          "layer": "below",
          "line": {
           "color": "rgb(180,180,180)",
           "width": 3.321928094887362
          },
          "path": "M 85.58333333333333,4 C 85.58333333333333,2.5 85.5,2.5 85.5,1",
          "type": "path"
         },
         {
          "layer": "below",
          "line": {
           "color": "rgb(180,180,180)",
           "width": 3.321928094887362
          },
          "path": "M 85.5,1 C 85.5,0.5 85.5,0.5 85.5,0",
          "type": "path"
         },
         {
          "layer": "below",
          "line": {
           "color": "rgb(180,180,180)",
           "width": 1.292481250360578
          },
          "path": "M 85.58333333333333,4 C 85.58333333333333,2.5 89.75,2.5 89.75,1",
          "type": "path"
         },
         {
          "layer": "below",
          "line": {
           "color": "rgb(180,180,180)",
           "width": 0.792481250360578
          },
          "path": "M 89.75,1 C 89.75,0.5 89.5,0.5 89.5,0",
          "type": "path"
         },
         {
          "layer": "below",
          "line": {
           "color": "rgb(180,180,180)",
           "width": 1
          },
          "path": "M 89.75,1 C 89.75,0.5 90.0,0.5 90.0,0",
          "type": "path"
         },
         {
          "layer": "below",
          "line": {
           "color": "rgb(180,180,180)",
           "width": 2.084962500721156
          },
          "path": "M 77.67837465564739,5 C 77.67837465564739,4.5 95.0,4.5 95.0,4",
          "type": "path"
         },
         {
          "layer": "below",
          "line": {
           "color": "rgb(180,180,180)",
           "width": 2.084962500721156
          },
          "path": "M 95.0,4 C 95.0,2.5 95.0,2.5 95.0,1",
          "type": "path"
         },
         {
          "layer": "below",
          "line": {
           "color": "rgb(180,180,180)",
           "width": 0.792481250360578
          },
          "path": "M 95.0,1 C 95.0,0.5 94.0,0.5 94.0,0",
          "type": "path"
         },
         {
          "layer": "below",
          "line": {
           "color": "rgb(180,180,180)",
           "width": 1.160964047443681
          },
          "path": "M 95.0,1 C 95.0,0.5 94.5,0.5 94.5,0",
          "type": "path"
         },
         {
          "layer": "below",
          "line": {
           "color": "rgb(180,180,180)",
           "width": 1.292481250360578
          },
          "path": "M 95.0,1 C 95.0,0.5 95.0,0.5 95.0,0",
          "type": "path"
         },
         {
          "layer": "below",
          "line": {
           "color": "rgb(180,180,180)",
           "width": 1.160964047443681
          },
          "path": "M 95.0,1 C 95.0,0.5 95.5,0.5 95.5,0",
          "type": "path"
         },
         {
          "layer": "below",
          "line": {
           "color": "rgb(180,180,180)",
           "width": 0.792481250360578
          },
          "path": "M 95.0,1 C 95.0,0.5 96.0,0.5 96.0,0",
          "type": "path"
         },
         {
          "layer": "below",
          "line": {
           "color": "rgb(180,180,180)",
           "width": 2.1961587113893803
          },
          "path": "M 77.67837465564739,5 C 77.67837465564739,4.5 105.08333333333333,4.5 105.08333333333333,4",
          "type": "path"
         },
         {
          "layer": "below",
          "line": {
           "color": "rgb(180,180,180)",
           "width": 0.792481250360578
          },
          "path": "M 105.08333333333333,4 C 105.08333333333333,2.5 100.0,2.5 100.0,1",
          "type": "path"
         },
         {
          "layer": "below",
          "line": {
           "color": "rgb(180,180,180)",
           "width": 0.792481250360578
          },
          "path": "M 100.0,1 C 100.0,0.5 100.0,0.5 100.0,0",
          "type": "path"
         },
         {
          "layer": "below",
          "line": {
           "color": "rgb(180,180,180)",
           "width": 1.7297158093186487
          },
          "path": "M 105.08333333333333,4 C 105.08333333333333,2.5 105.0,2.5 105.0,1",
          "type": "path"
         },
         {
          "layer": "below",
          "line": {
           "color": "rgb(180,180,180)",
           "width": 0.5
          },
          "path": "M 105.0,1 C 105.0,0.5 104.0,0.5 104.0,0",
          "type": "path"
         },
         {
          "layer": "below",
          "line": {
           "color": "rgb(180,180,180)",
           "width": 0.792481250360578
          },
          "path": "M 105.0,1 C 105.0,0.5 104.5,0.5 104.5,0",
          "type": "path"
         },
         {
          "layer": "below",
          "line": {
           "color": "rgb(180,180,180)",
           "width": 0.792481250360578
          },
          "path": "M 105.0,1 C 105.0,0.5 105.0,0.5 105.0,0",
          "type": "path"
         },
         {
          "layer": "below",
          "line": {
           "color": "rgb(180,180,180)",
           "width": 1.160964047443681
          },
          "path": "M 105.0,1 C 105.0,0.5 105.5,0.5 105.5,0",
          "type": "path"
         },
         {
          "layer": "below",
          "line": {
           "color": "rgb(180,180,180)",
           "width": 0.5
          },
          "path": "M 105.0,1 C 105.0,0.5 106.0,0.5 106.0,0",
          "type": "path"
         },
         {
          "layer": "below",
          "line": {
           "color": "rgb(180,180,180)",
           "width": 1.584962500721156
          },
          "path": "M 105.08333333333333,4 C 105.08333333333333,2.5 110.25,2.5 110.25,1",
          "type": "path"
         },
         {
          "layer": "below",
          "line": {
           "color": "rgb(180,180,180)",
           "width": 1.160964047443681
          },
          "path": "M 110.25,1 C 110.25,0.5 110.0,0.5 110.0,0",
          "type": "path"
         },
         {
          "layer": "below",
          "line": {
           "color": "rgb(180,180,180)",
           "width": 1.160964047443681
          },
          "path": "M 110.25,1 C 110.25,0.5 110.5,0.5 110.5,0",
          "type": "path"
         },
         {
          "layer": "below",
          "line": {
           "color": "rgb(180,180,180)",
           "width": 1.660964047443681
          },
          "path": "M 77.67837465564739,5 C 77.67837465564739,4.5 115.25,4.5 115.25,4",
          "type": "path"
         },
         {
          "layer": "below",
          "line": {
           "color": "rgb(180,180,180)",
           "width": 1.660964047443681
          },
          "path": "M 115.25,4 C 115.25,2.5 115.25,2.5 115.25,1",
          "type": "path"
         },
         {
          "layer": "below",
          "line": {
           "color": "rgb(180,180,180)",
           "width": 1
          },
          "path": "M 115.25,1 C 115.25,0.5 114.5,0.5 114.5,0",
          "type": "path"
         },
         {
          "layer": "below",
          "line": {
           "color": "rgb(180,180,180)",
           "width": 0.792481250360578
          },
          "path": "M 115.25,1 C 115.25,0.5 115.0,0.5 115.0,0",
          "type": "path"
         },
         {
          "layer": "below",
          "line": {
           "color": "rgb(180,180,180)",
           "width": 0.792481250360578
          },
          "path": "M 115.25,1 C 115.25,0.5 115.5,0.5 115.5,0",
          "type": "path"
         },
         {
          "layer": "below",
          "line": {
           "color": "rgb(180,180,180)",
           "width": 0.792481250360578
          },
          "path": "M 115.25,1 C 115.25,0.5 116.0,0.5 116.0,0",
          "type": "path"
         },
         {
          "layer": "below",
          "line": {
           "color": "rgb(180,180,180)",
           "width": 4.327318014263984
          },
          "path": "M 77.67837465564739,5 C 77.67837465564739,4.5 139.75,4.5 139.75,4",
          "type": "path"
         },
         {
          "layer": "below",
          "line": {
           "color": "rgb(180,180,180)",
           "width": 4.2999564210935635
          },
          "path": "M 139.75,4 C 139.75,2.5 129.25,2.5 129.25,1",
          "type": "path"
         },
         {
          "layer": "below",
          "line": {
           "color": "rgb(180,180,180)",
           "width": 0.792481250360578
          },
          "path": "M 129.25,1 C 129.25,0.5 120.0,0.5 120.0,0",
          "type": "path"
         },
         {
          "layer": "below",
          "line": {
           "color": "rgb(180,180,180)",
           "width": 1.160964047443681
          },
          "path": "M 129.25,1 C 129.25,0.5 120.5,0.5 120.5,0",
          "type": "path"
         },
         {
          "layer": "below",
          "line": {
           "color": "rgb(180,180,180)",
           "width": 1
          },
          "path": "M 129.25,1 C 129.25,0.5 121.0,0.5 121.0,0",
          "type": "path"
         },
         {
          "layer": "below",
          "line": {
           "color": "rgb(180,180,180)",
           "width": 1.160964047443681
          },
          "path": "M 129.25,1 C 129.25,0.5 121.5,0.5 121.5,0",
          "type": "path"
         },
         {
          "layer": "below",
          "line": {
           "color": "rgb(180,180,180)",
           "width": 0.792481250360578
          },
          "path": "M 129.25,1 C 129.25,0.5 122.0,0.5 122.0,0",
          "type": "path"
         },
         {
          "layer": "below",
          "line": {
           "color": "rgb(180,180,180)",
           "width": 1.5
          },
          "path": "M 129.25,1 C 129.25,0.5 122.5,0.5 122.5,0",
          "type": "path"
         },
         {
          "layer": "below",
          "line": {
           "color": "rgb(180,180,180)",
           "width": 1.584962500721156
          },
          "path": "M 129.25,1 C 129.25,0.5 123.0,0.5 123.0,0",
          "type": "path"
         },
         {
          "layer": "below",
          "line": {
           "color": "rgb(180,180,180)",
           "width": 1.660964047443681
          },
          "path": "M 129.25,1 C 129.25,0.5 123.5,0.5 123.5,0",
          "type": "path"
         },
         {
          "layer": "below",
          "line": {
           "color": "rgb(180,180,180)",
           "width": 0.792481250360578
          },
          "path": "M 129.25,1 C 129.25,0.5 124.0,0.5 124.0,0",
          "type": "path"
         },
         {
          "layer": "below",
          "line": {
           "color": "rgb(180,180,180)",
           "width": 0.792481250360578
          },
          "path": "M 129.25,1 C 129.25,0.5 124.5,0.5 124.5,0",
          "type": "path"
         },
         {
          "layer": "below",
          "line": {
           "color": "rgb(180,180,180)",
           "width": 1.403677461028802
          },
          "path": "M 129.25,1 C 129.25,0.5 125.0,0.5 125.0,0",
          "type": "path"
         },
         {
          "layer": "below",
          "line": {
           "color": "rgb(180,180,180)",
           "width": 1.403677461028802
          },
          "path": "M 129.25,1 C 129.25,0.5 125.5,0.5 125.5,0",
          "type": "path"
         },
         {
          "layer": "below",
          "line": {
           "color": "rgb(180,180,180)",
           "width": 1
          },
          "path": "M 129.25,1 C 129.25,0.5 126.0,0.5 126.0,0",
          "type": "path"
         },
         {
          "layer": "below",
          "line": {
           "color": "rgb(180,180,180)",
           "width": 2.428990497563786
          },
          "path": "M 129.25,1 C 129.25,0.5 126.5,0.5 126.5,0",
          "type": "path"
         },
         {
          "layer": "below",
          "line": {
           "color": "rgb(180,180,180)",
           "width": 1.5
          },
          "path": "M 129.25,1 C 129.25,0.5 127.0,0.5 127.0,0",
          "type": "path"
         },
         {
          "layer": "below",
          "line": {
           "color": "rgb(180,180,180)",
           "width": 1.584962500721156
          },
          "path": "M 129.25,1 C 129.25,0.5 127.5,0.5 127.5,0",
          "type": "path"
         },
         {
          "layer": "below",
          "line": {
           "color": "rgb(180,180,180)",
           "width": 1.403677461028802
          },
          "path": "M 129.25,1 C 129.25,0.5 128.0,0.5 128.0,0",
          "type": "path"
         },
         {
          "layer": "below",
          "line": {
           "color": "rgb(180,180,180)",
           "width": 2.2617809780285065
          },
          "path": "M 129.25,1 C 129.25,0.5 128.5,0.5 128.5,0",
          "type": "path"
         },
         {
          "layer": "below",
          "line": {
           "color": "rgb(180,180,180)",
           "width": 1.850219859070546
          },
          "path": "M 129.25,1 C 129.25,0.5 129.0,0.5 129.0,0",
          "type": "path"
         },
         {
          "layer": "below",
          "line": {
           "color": "rgb(180,180,180)",
           "width": 2.403677461028802
          },
          "path": "M 129.25,1 C 129.25,0.5 129.5,0.5 129.5,0",
          "type": "path"
         },
         {
          "layer": "below",
          "line": {
           "color": "rgb(180,180,180)",
           "width": 2.321928094887362
          },
          "path": "M 129.25,1 C 129.25,0.5 130.0,0.5 130.0,0",
          "type": "path"
         },
         {
          "layer": "below",
          "line": {
           "color": "rgb(180,180,180)",
           "width": 1.160964047443681
          },
          "path": "M 129.25,1 C 129.25,0.5 130.5,0.5 130.5,0",
          "type": "path"
         },
         {
          "layer": "below",
          "line": {
           "color": "rgb(180,180,180)",
           "width": 1.584962500721156
          },
          "path": "M 129.25,1 C 129.25,0.5 131.0,0.5 131.0,0",
          "type": "path"
         },
         {
          "layer": "below",
          "line": {
           "color": "rgb(180,180,180)",
           "width": 1.403677461028802
          },
          "path": "M 129.25,1 C 129.25,0.5 131.5,0.5 131.5,0",
          "type": "path"
         },
         {
          "layer": "below",
          "line": {
           "color": "rgb(180,180,180)",
           "width": 1.584962500721156
          },
          "path": "M 129.25,1 C 129.25,0.5 132.0,0.5 132.0,0",
          "type": "path"
         },
         {
          "layer": "below",
          "line": {
           "color": "rgb(180,180,180)",
           "width": 0.792481250360578
          },
          "path": "M 129.25,1 C 129.25,0.5 132.5,0.5 132.5,0",
          "type": "path"
         },
         {
          "layer": "below",
          "line": {
           "color": "rgb(180,180,180)",
           "width": 1.5
          },
          "path": "M 129.25,1 C 129.25,0.5 133.0,0.5 133.0,0",
          "type": "path"
         },
         {
          "layer": "below",
          "line": {
           "color": "rgb(180,180,180)",
           "width": 2.1609640474436813
          },
          "path": "M 129.25,1 C 129.25,0.5 133.5,0.5 133.5,0",
          "type": "path"
         },
         {
          "layer": "below",
          "line": {
           "color": "rgb(180,180,180)",
           "width": 0.792481250360578
          },
          "path": "M 129.25,1 C 129.25,0.5 134.0,0.5 134.0,0",
          "type": "path"
         },
         {
          "layer": "below",
          "line": {
           "color": "rgb(180,180,180)",
           "width": 2.292481250360578
          },
          "path": "M 129.25,1 C 129.25,0.5 134.5,0.5 134.5,0",
          "type": "path"
         },
         {
          "layer": "below",
          "line": {
           "color": "rgb(180,180,180)",
           "width": 2.1961587113893803
          },
          "path": "M 129.25,1 C 129.25,0.5 135.0,0.5 135.0,0",
          "type": "path"
         },
         {
          "layer": "below",
          "line": {
           "color": "rgb(180,180,180)",
           "width": 2.6427011094311244
          },
          "path": "M 129.25,1 C 129.25,0.5 135.5,0.5 135.5,0",
          "type": "path"
         },
         {
          "layer": "below",
          "line": {
           "color": "rgb(180,180,180)",
           "width": 1.403677461028802
          },
          "path": "M 129.25,1 C 129.25,0.5 136.0,0.5 136.0,0",
          "type": "path"
         },
         {
          "layer": "below",
          "line": {
           "color": "rgb(180,180,180)",
           "width": 1.160964047443681
          },
          "path": "M 129.25,1 C 129.25,0.5 136.5,0.5 136.5,0",
          "type": "path"
         },
         {
          "layer": "below",
          "line": {
           "color": "rgb(180,180,180)",
           "width": 1
          },
          "path": "M 129.25,1 C 129.25,0.5 137.0,0.5 137.0,0",
          "type": "path"
         },
         {
          "layer": "below",
          "line": {
           "color": "rgb(180,180,180)",
           "width": 1.5
          },
          "path": "M 129.25,1 C 129.25,0.5 137.5,0.5 137.5,0",
          "type": "path"
         },
         {
          "layer": "below",
          "line": {
           "color": "rgb(180,180,180)",
           "width": 1.5
          },
          "path": "M 129.25,1 C 129.25,0.5 138.0,0.5 138.0,0",
          "type": "path"
         },
         {
          "layer": "below",
          "line": {
           "color": "rgb(180,180,180)",
           "width": 2.5
          },
          "path": "M 129.25,1 C 129.25,0.5 138.5,0.5 138.5,0",
          "type": "path"
         },
         {
          "layer": "below",
          "line": {
           "color": "rgb(180,180,180)",
           "width": 1.7297158093186487
          },
          "path": "M 139.75,4 C 139.75,2.5 142.75,2.5 142.75,1",
          "type": "path"
         },
         {
          "layer": "below",
          "line": {
           "color": "rgb(180,180,180)",
           "width": 1.160964047443681
          },
          "path": "M 142.75,1 C 142.75,0.5 142.5,0.5 142.5,0",
          "type": "path"
         },
         {
          "layer": "below",
          "line": {
           "color": "rgb(180,180,180)",
           "width": 1.403677461028802
          },
          "path": "M 142.75,1 C 142.75,0.5 143.0,0.5 143.0,0",
          "type": "path"
         },
         {
          "layer": "below",
          "line": {
           "color": "rgb(180,180,180)",
           "width": 1.292481250360578
          },
          "path": "M 139.75,4 C 139.75,2.5 147.25,2.5 147.25,1",
          "type": "path"
         },
         {
          "layer": "below",
          "line": {
           "color": "rgb(180,180,180)",
           "width": 0.792481250360578
          },
          "path": "M 147.25,1 C 147.25,0.5 147.0,0.5 147.0,0",
          "type": "path"
         },
         {
          "layer": "below",
          "line": {
           "color": "rgb(180,180,180)",
           "width": 1
          },
          "path": "M 147.25,1 C 147.25,0.5 147.5,0.5 147.5,0",
          "type": "path"
         },
         {
          "layer": "below",
          "line": {
           "color": "rgb(180,180,180)",
           "width": 1.5
          },
          "path": "M 77.67837465564739,5 C 77.67837465564739,4.5 154.25,4.5 154.25,4",
          "type": "path"
         },
         {
          "layer": "below",
          "line": {
           "color": "rgb(180,180,180)",
           "width": 1.292481250360578
          },
          "path": "M 154.25,4 C 154.25,2.5 152.0,2.5 152.0,1",
          "type": "path"
         },
         {
          "layer": "below",
          "line": {
           "color": "rgb(180,180,180)",
           "width": 0.792481250360578
          },
          "path": "M 152.0,1 C 152.0,0.5 151.5,0.5 151.5,0",
          "type": "path"
         },
         {
          "layer": "below",
          "line": {
           "color": "rgb(180,180,180)",
           "width": 0.5
          },
          "path": "M 152.0,1 C 152.0,0.5 152.0,0.5 152.0,0",
          "type": "path"
         },
         {
          "layer": "below",
          "line": {
           "color": "rgb(180,180,180)",
           "width": 0.792481250360578
          },
          "path": "M 152.0,1 C 152.0,0.5 152.5,0.5 152.5,0",
          "type": "path"
         },
         {
          "layer": "below",
          "line": {
           "color": "rgb(180,180,180)",
           "width": 0.792481250360578
          },
          "path": "M 154.25,4 C 154.25,2.5 156.5,2.5 156.5,1",
          "type": "path"
         },
         {
          "layer": "below",
          "line": {
           "color": "rgb(180,180,180)",
           "width": 0.792481250360578
          },
          "path": "M 156.5,1 C 156.5,0.5 156.5,0.5 156.5,0",
          "type": "path"
         },
         {
          "layer": "below",
          "line": {
           "color": "rgb(180,180,180)",
           "width": 3.505613627711627
          },
          "path": "M 166.2930935778237,7 C 166.2930935778237,6.5 254.9078125,6.5 254.9078125,6",
          "type": "path"
         },
         {
          "layer": "below",
          "line": {
           "color": "rgb(180,180,180)",
           "width": 2.7617809780285065
          },
          "path": "M 254.9078125,6 C 254.9078125,5.5 191.0,5.5 191.0,5",
          "type": "path"
         },
         {
          "layer": "below",
          "line": {
           "color": "rgb(180,180,180)",
           "width": 1.9534452978042594
          },
          "path": "M 191.0,5 C 191.0,3.0 177.5,3.0 177.5,1",
          "type": "path"
         },
         {
          "layer": "below",
          "line": {
           "color": "rgb(180,180,180)",
           "width": 0.5
          },
          "path": "M 177.5,1 C 177.5,0.5 176.5,0.5 176.5,0",
          "type": "path"
         },
         {
          "layer": "below",
          "line": {
           "color": "rgb(180,180,180)",
           "width": 0.5
          },
          "path": "M 177.5,1 C 177.5,0.5 177.0,0.5 177.0,0",
          "type": "path"
         },
         {
          "layer": "below",
          "line": {
           "color": "rgb(180,180,180)",
           "width": 0.792481250360578
          },
          "path": "M 177.5,1 C 177.5,0.5 177.5,0.5 177.5,0",
          "type": "path"
         },
         {
          "layer": "below",
          "line": {
           "color": "rgb(180,180,180)",
           "width": 1.660964047443681
          },
          "path": "M 177.5,1 C 177.5,0.5 178.0,0.5 178.0,0",
          "type": "path"
         },
         {
          "layer": "below",
          "line": {
           "color": "rgb(180,180,180)",
           "width": 0.5
          },
          "path": "M 177.5,1 C 177.5,0.5 178.5,0.5 178.5,0",
          "type": "path"
         },
         {
          "layer": "below",
          "line": {
           "color": "rgb(180,180,180)",
           "width": 0.792481250360578
          },
          "path": "M 191.0,5 C 191.0,3.0 182.5,3.0 182.5,1",
          "type": "path"
         },
         {
          "layer": "below",
          "line": {
           "color": "rgb(180,180,180)",
           "width": 0.792481250360578
          },
          "path": "M 182.5,1 C 182.5,0.5 182.5,0.5 182.5,0",
          "type": "path"
         },
         {
          "layer": "below",
          "line": {
           "color": "rgb(180,180,180)",
           "width": 1.903677461028802
          },
          "path": "M 191.0,5 C 191.0,3.0 188.25,3.0 188.25,1",
          "type": "path"
         },
         {
          "layer": "below",
          "line": {
           "color": "rgb(180,180,180)",
           "width": 0.5
          },
          "path": "M 188.25,1 C 188.25,0.5 186.5,0.5 186.5,0",
          "type": "path"
         },
         {
          "layer": "below",
          "line": {
           "color": "rgb(180,180,180)",
           "width": 0.792481250360578
          },
          "path": "M 188.25,1 C 188.25,0.5 187.0,0.5 187.0,0",
          "type": "path"
         },
         {
          "layer": "below",
          "line": {
           "color": "rgb(180,180,180)",
           "width": 0.792481250360578
          },
          "path": "M 188.25,1 C 188.25,0.5 187.5,0.5 187.5,0",
          "type": "path"
         },
         {
          "layer": "below",
          "line": {
           "color": "rgb(180,180,180)",
           "width": 0.792481250360578
          },
          "path": "M 188.25,1 C 188.25,0.5 188.0,0.5 188.0,0",
          "type": "path"
         },
         {
          "layer": "below",
          "line": {
           "color": "rgb(180,180,180)",
           "width": 0.792481250360578
          },
          "path": "M 188.25,1 C 188.25,0.5 188.5,0.5 188.5,0",
          "type": "path"
         },
         {
          "layer": "below",
          "line": {
           "color": "rgb(180,180,180)",
           "width": 0.5
          },
          "path": "M 188.25,1 C 188.25,0.5 189.0,0.5 189.0,0",
          "type": "path"
         },
         {
          "layer": "below",
          "line": {
           "color": "rgb(180,180,180)",
           "width": 0.5
          },
          "path": "M 188.25,1 C 188.25,0.5 189.5,0.5 189.5,0",
          "type": "path"
         },
         {
          "layer": "below",
          "line": {
           "color": "rgb(180,180,180)",
           "width": 0.792481250360578
          },
          "path": "M 188.25,1 C 188.25,0.5 190.0,0.5 190.0,0",
          "type": "path"
         },
         {
          "layer": "below",
          "line": {
           "color": "rgb(180,180,180)",
           "width": 1.660964047443681
          },
          "path": "M 191.0,5 C 191.0,3.0 194.75,3.0 194.75,1",
          "type": "path"
         },
         {
          "layer": "below",
          "line": {
           "color": "rgb(180,180,180)",
           "width": 0.792481250360578
          },
          "path": "M 194.75,1 C 194.75,0.5 194.0,0.5 194.0,0",
          "type": "path"
         },
         {
          "layer": "below",
          "line": {
           "color": "rgb(180,180,180)",
           "width": 1
          },
          "path": "M 194.75,1 C 194.75,0.5 194.5,0.5 194.5,0",
          "type": "path"
         },
         {
          "layer": "below",
          "line": {
           "color": "rgb(180,180,180)",
           "width": 0.792481250360578
          },
          "path": "M 194.75,1 C 194.75,0.5 195.0,0.5 195.0,0",
          "type": "path"
         },
         {
          "layer": "below",
          "line": {
           "color": "rgb(180,180,180)",
           "width": 0.792481250360578
          },
          "path": "M 194.75,1 C 194.75,0.5 195.5,0.5 195.5,0",
          "type": "path"
         },
         {
          "layer": "below",
          "line": {
           "color": "rgb(180,180,180)",
           "width": 1.160964047443681
          },
          "path": "M 191.0,5 C 191.0,3.0 199.5,3.0 199.5,1",
          "type": "path"
         },
         {
          "layer": "below",
          "line": {
           "color": "rgb(180,180,180)",
           "width": 1.160964047443681
          },
          "path": "M 199.5,1 C 199.5,0.5 199.5,0.5 199.5,0",
          "type": "path"
         },
         {
          "layer": "below",
          "line": {
           "color": "rgb(180,180,180)",
           "width": 1
          },
          "path": "M 191.0,5 C 191.0,3.0 203.5,3.0 203.5,1",
          "type": "path"
         },
         {
          "layer": "below",
          "line": {
           "color": "rgb(180,180,180)",
           "width": 1
          },
          "path": "M 203.5,1 C 203.5,0.5 203.5,0.5 203.5,0",
          "type": "path"
         },
         {
          "layer": "below",
          "line": {
           "color": "rgb(180,180,180)",
           "width": 2.403677461028802
          },
          "path": "M 254.9078125,6 C 254.9078125,5.5 229.03125,5.5 229.03125,5",
          "type": "path"
         },
         {
          "layer": "below",
          "line": {
           "color": "rgb(180,180,180)",
           "width": 0.5
          },
          "path": "M 229.03125,5 C 229.03125,3.0 213.5,3.0 213.5,1",
          "type": "path"
         },
         {
          "layer": "below",
          "line": {
           "color": "rgb(180,180,180)",
           "width": 0.5
          },
          "path": "M 213.5,1 C 213.5,0.5 213.5,0.5 213.5,0",
          "type": "path"
         },
         {
          "layer": "below",
          "line": {
           "color": "rgb(180,180,180)",
           "width": 0.5
          },
          "path": "M 229.03125,5 C 229.03125,3.0 217.5,3.0 217.5,1",
          "type": "path"
         },
         {
          "layer": "below",
          "line": {
           "color": "rgb(180,180,180)",
           "width": 0.5
          },
          "path": "M 217.5,1 C 217.5,0.5 217.5,0.5 217.5,0",
          "type": "path"
         },
         {
          "layer": "below",
          "line": {
           "color": "rgb(180,180,180)",
           "width": 0.792481250360578
          },
          "path": "M 229.03125,5 C 229.03125,3.0 221.5,3.0 221.5,1",
          "type": "path"
         },
         {
          "layer": "below",
          "line": {
           "color": "rgb(180,180,180)",
           "width": 0.792481250360578
          },
          "path": "M 221.5,1 C 221.5,0.5 221.5,0.5 221.5,0",
          "type": "path"
         },
         {
          "layer": "below",
          "line": {
           "color": "rgb(180,180,180)",
           "width": 1.850219859070546
          },
          "path": "M 229.03125,5 C 229.03125,3.0 226.75,3.0 226.75,1",
          "type": "path"
         },
         {
          "layer": "below",
          "line": {
           "color": "rgb(180,180,180)",
           "width": 0.792481250360578
          },
          "path": "M 226.75,1 C 226.75,0.5 225.5,0.5 225.5,0",
          "type": "path"
         },
         {
          "layer": "below",
          "line": {
           "color": "rgb(180,180,180)",
           "width": 0.5
          },
          "path": "M 226.75,1 C 226.75,0.5 226.0,0.5 226.0,0",
          "type": "path"
         },
         {
          "layer": "below",
          "line": {
           "color": "rgb(180,180,180)",
           "width": 0.792481250360578
          },
          "path": "M 226.75,1 C 226.75,0.5 226.5,0.5 226.5,0",
          "type": "path"
         },
         {
          "layer": "below",
          "line": {
           "color": "rgb(180,180,180)",
           "width": 1
          },
          "path": "M 226.75,1 C 226.75,0.5 227.0,0.5 227.0,0",
          "type": "path"
         },
         {
          "layer": "below",
          "line": {
           "color": "rgb(180,180,180)",
           "width": 1
          },
          "path": "M 226.75,1 C 226.75,0.5 227.5,0.5 227.5,0",
          "type": "path"
         },
         {
          "layer": "below",
          "line": {
           "color": "rgb(180,180,180)",
           "width": 0.5
          },
          "path": "M 226.75,1 C 226.75,0.5 228.0,0.5 228.0,0",
          "type": "path"
         },
         {
          "layer": "below",
          "line": {
           "color": "rgb(180,180,180)",
           "width": 0.792481250360578
          },
          "path": "M 229.03125,5 C 229.03125,3.0 232.0,3.0 232.0,1",
          "type": "path"
         },
         {
          "layer": "below",
          "line": {
           "color": "rgb(180,180,180)",
           "width": 0.792481250360578
          },
          "path": "M 232.0,1 C 232.0,0.5 232.0,0.5 232.0,0",
          "type": "path"
         },
         {
          "layer": "below",
          "line": {
           "color": "rgb(180,180,180)",
           "width": 0.792481250360578
          },
          "path": "M 229.03125,5 C 229.03125,3.0 236.0,3.0 236.0,1",
          "type": "path"
         },
         {
          "layer": "below",
          "line": {
           "color": "rgb(180,180,180)",
           "width": 0.792481250360578
          },
          "path": "M 236.0,1 C 236.0,0.5 236.0,0.5 236.0,0",
          "type": "path"
         },
         {
          "layer": "below",
          "line": {
           "color": "rgb(180,180,180)",
           "width": 1.160964047443681
          },
          "path": "M 229.03125,5 C 229.03125,3.0 240.25,3.0 240.25,1",
          "type": "path"
         },
         {
          "layer": "below",
          "line": {
           "color": "rgb(180,180,180)",
           "width": 0.792481250360578
          },
          "path": "M 240.25,1 C 240.25,0.5 240.0,0.5 240.0,0",
          "type": "path"
         },
         {
          "layer": "below",
          "line": {
           "color": "rgb(180,180,180)",
           "width": 0.792481250360578
          },
          "path": "M 240.25,1 C 240.25,0.5 240.5,0.5 240.5,0",
          "type": "path"
         },
         {
          "layer": "below",
          "line": {
           "color": "rgb(180,180,180)",
           "width": 1
          },
          "path": "M 229.03125,5 C 229.03125,3.0 244.75,3.0 244.75,1",
          "type": "path"
         },
         {
          "layer": "below",
          "line": {
           "color": "rgb(180,180,180)",
           "width": 0.792481250360578
          },
          "path": "M 244.75,1 C 244.75,0.5 244.5,0.5 244.5,0",
          "type": "path"
         },
         {
          "layer": "below",
          "line": {
           "color": "rgb(180,180,180)",
           "width": 0.5
          },
          "path": "M 244.75,1 C 244.75,0.5 245.0,0.5 245.0,0",
          "type": "path"
         },
         {
          "layer": "below",
          "line": {
           "color": "rgb(180,180,180)",
           "width": 2.0437314206251695
          },
          "path": "M 254.9078125,6 C 254.9078125,5.5 276.6,5.5 276.6,5",
          "type": "path"
         },
         {
          "layer": "below",
          "line": {
           "color": "rgb(180,180,180)",
           "width": 1.403677461028802
          },
          "path": "M 276.6,5 C 276.6,4.5 261.0,4.5 261.0,4",
          "type": "path"
         },
         {
          "layer": "below",
          "line": {
           "color": "rgb(180,180,180)",
           "width": 1.403677461028802
          },
          "path": "M 261.0,4 C 261.0,3.0 261.0,3.0 261.0,2",
          "type": "path"
         },
         {
          "layer": "below",
          "line": {
           "color": "rgb(180,180,180)",
           "width": 0.792481250360578
          },
          "path": "M 261.0,2 C 261.0,1.0 255.0,1.0 255.0,0",
          "type": "path"
         },
         {
          "layer": "below",
          "line": {
           "color": "rgb(180,180,180)",
           "width": 0.792481250360578
          },
          "path": "M 261.0,2 C 261.0,1.0 259.0,1.0 259.0,0",
          "type": "path"
         },
         {
          "layer": "below",
          "line": {
           "color": "rgb(180,180,180)",
           "width": 0.5
          },
          "path": "M 261.0,2 C 261.0,1.0 263.0,1.0 263.0,0",
          "type": "path"
         },
         {
          "layer": "below",
          "line": {
           "color": "rgb(180,180,180)",
           "width": 0.5
          },
          "path": "M 261.0,2 C 261.0,1.0 267.0,1.0 267.0,0",
          "type": "path"
         },
         {
          "layer": "below",
          "line": {
           "color": "rgb(180,180,180)",
           "width": 1.403677461028802
          },
          "path": "M 276.6,5 C 276.6,4.5 273.0,4.5 273.0,4",
          "type": "path"
         },
         {
          "layer": "below",
          "line": {
           "color": "rgb(180,180,180)",
           "width": 1.160964047443681
          },
          "path": "M 273.0,4 C 273.0,3.0 271.0,3.0 271.0,2",
          "type": "path"
         },
         {
          "layer": "below",
          "line": {
           "color": "rgb(180,180,180)",
           "width": 1.160964047443681
          },
          "path": "M 271.0,2 C 271.0,1.0 271.0,1.0 271.0,0",
          "type": "path"
         },
         {
          "layer": "below",
          "line": {
           "color": "rgb(180,180,180)",
           "width": 0.792481250360578
          },
          "path": "M 273.0,4 C 273.0,3.0 275.0,3.0 275.0,2",
          "type": "path"
         },
         {
          "layer": "below",
          "line": {
           "color": "rgb(180,180,180)",
           "width": 0.792481250360578
          },
          "path": "M 275.0,2 C 275.0,1.0 275.0,1.0 275.0,0",
          "type": "path"
         },
         {
          "layer": "below",
          "line": {
           "color": "rgb(180,180,180)",
           "width": 0.792481250360578
          },
          "path": "M 276.6,5 C 276.6,4.5 279.0,4.5 279.0,4",
          "type": "path"
         },
         {
          "layer": "below",
          "line": {
           "color": "rgb(180,180,180)",
           "width": 0.792481250360578
          },
          "path": "M 279.0,4 C 279.0,3.0 279.0,3.0 279.0,2",
          "type": "path"
         },
         {
          "layer": "below",
          "line": {
           "color": "rgb(180,180,180)",
           "width": 0.792481250360578
          },
          "path": "M 279.0,2 C 279.0,1.0 279.0,1.0 279.0,0",
          "type": "path"
         },
         {
          "layer": "below",
          "line": {
           "color": "rgb(180,180,180)",
           "width": 0.5
          },
          "path": "M 276.6,5 C 276.6,4.5 283.0,4.5 283.0,4",
          "type": "path"
         },
         {
          "layer": "below",
          "line": {
           "color": "rgb(180,180,180)",
           "width": 0.5
          },
          "path": "M 283.0,4 C 283.0,3.0 283.0,3.0 283.0,2",
          "type": "path"
         },
         {
          "layer": "below",
          "line": {
           "color": "rgb(180,180,180)",
           "width": 0.5
          },
          "path": "M 283.0,2 C 283.0,1.0 283.0,1.0 283.0,0",
          "type": "path"
         },
         {
          "layer": "below",
          "line": {
           "color": "rgb(180,180,180)",
           "width": 0.5
          },
          "path": "M 276.6,5 C 276.6,4.5 287.0,4.5 287.0,4",
          "type": "path"
         },
         {
          "layer": "below",
          "line": {
           "color": "rgb(180,180,180)",
           "width": 0.5
          },
          "path": "M 287.0,4 C 287.0,3.0 287.0,3.0 287.0,2",
          "type": "path"
         },
         {
          "layer": "below",
          "line": {
           "color": "rgb(180,180,180)",
           "width": 0.5
          },
          "path": "M 287.0,2 C 287.0,1.0 287.0,1.0 287.0,0",
          "type": "path"
         },
         {
          "layer": "below",
          "line": {
           "color": "rgb(180,180,180)",
           "width": 2.678776002309042
          },
          "path": "M 254.9078125,6 C 254.9078125,5.5 323.0,5.5 323.0,5",
          "type": "path"
         },
         {
          "layer": "below",
          "line": {
           "color": "rgb(180,180,180)",
           "width": 0.792481250360578
          },
          "path": "M 323.0,5 C 323.0,2.5 297.0,2.5 297.0,0",
          "type": "path"
         },
         {
          "layer": "below",
          "line": {
           "color": "rgb(180,180,180)",
           "width": 0.5
          },
          "path": "M 323.0,5 C 323.0,2.5 301.0,2.5 301.0,0",
          "type": "path"
         },
         {
          "layer": "below",
          "line": {
           "color": "rgb(180,180,180)",
           "width": 1.160964047443681
          },
          "path": "M 323.0,5 C 323.0,2.5 305.0,2.5 305.0,0",
          "type": "path"
         },
         {
          "layer": "below",
          "line": {
           "color": "rgb(180,180,180)",
           "width": 1
          },
          "path": "M 323.0,5 C 323.0,2.5 309.0,2.5 309.0,0",
          "type": "path"
         },
         {
          "layer": "below",
          "line": {
           "color": "rgb(180,180,180)",
           "width": 1.850219859070546
          },
          "path": "M 323.0,5 C 323.0,2.5 313.0,2.5 313.0,0",
          "type": "path"
         },
         {
          "layer": "below",
          "line": {
           "color": "rgb(180,180,180)",
           "width": 0.792481250360578
          },
          "path": "M 323.0,5 C 323.0,2.5 317.0,2.5 317.0,0",
          "type": "path"
         },
         {
          "layer": "below",
          "line": {
           "color": "rgb(180,180,180)",
           "width": 0.792481250360578
          },
          "path": "M 323.0,5 C 323.0,2.5 321.0,2.5 321.0,0",
          "type": "path"
         },
         {
          "layer": "below",
          "line": {
           "color": "rgb(180,180,180)",
           "width": 0.792481250360578
          },
          "path": "M 323.0,5 C 323.0,2.5 325.0,2.5 325.0,0",
          "type": "path"
         },
         {
          "layer": "below",
          "line": {
           "color": "rgb(180,180,180)",
           "width": 0.792481250360578
          },
          "path": "M 323.0,5 C 323.0,2.5 329.0,2.5 329.0,0",
          "type": "path"
         },
         {
          "layer": "below",
          "line": {
           "color": "rgb(180,180,180)",
           "width": 0.5
          },
          "path": "M 323.0,5 C 323.0,2.5 333.0,2.5 333.0,0",
          "type": "path"
         },
         {
          "layer": "below",
          "line": {
           "color": "rgb(180,180,180)",
           "width": 0.5
          },
          "path": "M 323.0,5 C 323.0,2.5 337.0,2.5 337.0,0",
          "type": "path"
         },
         {
          "layer": "below",
          "line": {
           "color": "rgb(180,180,180)",
           "width": 1.160964047443681
          },
          "path": "M 323.0,5 C 323.0,2.5 341.0,2.5 341.0,0",
          "type": "path"
         },
         {
          "layer": "below",
          "line": {
           "color": "rgb(180,180,180)",
           "width": 0.792481250360578
          },
          "path": "M 323.0,5 C 323.0,2.5 345.0,2.5 345.0,0",
          "type": "path"
         },
         {
          "layer": "below",
          "line": {
           "color": "rgb(180,180,180)",
           "width": 0.792481250360578
          },
          "path": "M 323.0,5 C 323.0,2.5 349.0,2.5 349.0,0",
          "type": "path"
         },
         {
          "layer": "below",
          "line": {
           "color": "rgb(180,180,180)",
           "width": 5.672147953957908
          },
          "path": "M 358.44111009700754,8 C 358.44111009700754,7.5 550.5891266161914,7.5 550.5891266161914,7",
          "type": "path"
         },
         {
          "layer": "below",
          "line": {
           "color": "rgb(180,180,180)",
           "width": 1.160964047443681
          },
          "path": "M 550.5891266161914,7 C 550.5891266161914,6.5 369.0,6.5 369.0,6",
          "type": "path"
         },
         {
          "layer": "below",
          "line": {
           "color": "rgb(180,180,180)",
           "width": 1.160964047443681
          },
          "path": "M 369.0,6 C 369.0,5.0 369.0,5.0 369.0,4",
          "type": "path"
         },
         {
          "layer": "below",
          "line": {
           "color": "rgb(180,180,180)",
           "width": 1.160964047443681
          },
          "path": "M 369.0,4 C 369.0,3.0 369.0,3.0 369.0,2",
          "type": "path"
         },
         {
          "layer": "below",
          "line": {
           "color": "rgb(180,180,180)",
           "width": 1.160964047443681
          },
          "path": "M 369.0,2 C 369.0,1.0 369.0,1.0 369.0,0",
          "type": "path"
         },
         {
          "layer": "below",
          "line": {
           "color": "rgb(180,180,180)",
           "width": 5.671037333999569
          },
          "path": "M 550.5891266161914,7 C 550.5891266161914,6.5 732.1782532323828,6.5 732.1782532323828,6",
          "type": "path"
         },
         {
          "layer": "below",
          "line": {
           "color": "rgb(180,180,180)",
           "width": 4.32372921322746
          },
          "path": "M 732.1782532323828,6 C 732.1782532323828,5.5 523.5622710622711,5.5 523.5622710622711,5",
          "type": "path"
         },
         {
          "layer": "below",
          "line": {
           "color": "rgb(180,180,180)",
           "width": 2.4534452978042594
          },
          "path": "M 523.5622710622711,5 C 523.5622710622711,4.5 398.0,4.5 398.0,4",
          "type": "path"
         },
         {
          "layer": "below",
          "line": {
           "color": "rgb(180,180,180)",
           "width": 1
          },
          "path": "M 398.0,4 C 398.0,3.0 391.0,3.0 391.0,2",
          "type": "path"
         },
         {
          "layer": "below",
          "line": {
           "color": "rgb(180,180,180)",
           "width": 0.792481250360578
          },
          "path": "M 391.0,2 C 391.0,1.0 389.0,1.0 389.0,0",
          "type": "path"
         },
         {
          "layer": "below",
          "line": {
           "color": "rgb(180,180,180)",
           "width": 0.5
          },
          "path": "M 391.0,2 C 391.0,1.0 393.0,1.0 393.0,0",
          "type": "path"
         },
         {
          "layer": "below",
          "line": {
           "color": "rgb(180,180,180)",
           "width": 2.377443751081734
          },
          "path": "M 398.0,4 C 398.0,3.0 405.0,3.0 405.0,2",
          "type": "path"
         },
         {
          "layer": "below",
          "line": {
           "color": "rgb(180,180,180)",
           "width": 0.792481250360578
          },
          "path": "M 405.0,2 C 405.0,1.0 397.0,1.0 397.0,0",
          "type": "path"
         },
         {
          "layer": "below",
          "line": {
           "color": "rgb(180,180,180)",
           "width": 0.792481250360578
          },
          "path": "M 405.0,2 C 405.0,1.0 401.0,1.0 401.0,0",
          "type": "path"
         },
         {
          "layer": "below",
          "line": {
           "color": "rgb(180,180,180)",
           "width": 1
          },
          "path": "M 405.0,2 C 405.0,1.0 405.0,1.0 405.0,0",
          "type": "path"
         },
         {
          "layer": "below",
          "line": {
           "color": "rgb(180,180,180)",
           "width": 0.5
          },
          "path": "M 405.0,2 C 405.0,1.0 409.0,1.0 409.0,0",
          "type": "path"
         },
         {
          "layer": "below",
          "line": {
           "color": "rgb(180,180,180)",
           "width": 2.1239637567217926
          },
          "path": "M 405.0,2 C 405.0,1.0 413.0,1.0 413.0,0",
          "type": "path"
         },
         {
          "layer": "below",
          "line": {
           "color": "rgb(180,180,180)",
           "width": 2.584962500721156
          },
          "path": "M 523.5622710622711,5 C 523.5622710622711,4.5 446.14285714285717,4.5 446.14285714285717,4",
          "type": "path"
         },
         {
          "layer": "below",
          "line": {
           "color": "rgb(180,180,180)",
           "width": 1.292481250360578
          },
          "path": "M 446.14285714285717,4 C 446.14285714285717,3.0 425.0,3.0 425.0,2",
          "type": "path"
         },
         {
          "layer": "below",
          "line": {
           "color": "rgb(180,180,180)",
           "width": 0.5
          },
          "path": "M 425.0,2 C 425.0,1.0 417.0,1.0 417.0,0",
          "type": "path"
         },
         {
          "layer": "below",
          "line": {
           "color": "rgb(180,180,180)",
           "width": 0.5
          },
          "path": "M 425.0,2 C 425.0,1.0 421.0,1.0 421.0,0",
          "type": "path"
         },
         {
          "layer": "below",
          "line": {
           "color": "rgb(180,180,180)",
           "width": 0.5
          },
          "path": "M 425.0,2 C 425.0,1.0 425.0,1.0 425.0,0",
          "type": "path"
         },
         {
          "layer": "below",
          "line": {
           "color": "rgb(180,180,180)",
           "width": 0.5
          },
          "path": "M 425.0,2 C 425.0,1.0 429.0,1.0 429.0,0",
          "type": "path"
         },
         {
          "layer": "below",
          "line": {
           "color": "rgb(180,180,180)",
           "width": 0.5
          },
          "path": "M 425.0,2 C 425.0,1.0 433.0,1.0 433.0,0",
          "type": "path"
         },
         {
          "layer": "below",
          "line": {
           "color": "rgb(180,180,180)",
           "width": 0.792481250360578
          },
          "path": "M 446.14285714285717,4 C 446.14285714285717,3.0 437.0,3.0 437.0,2",
          "type": "path"
         },
         {
          "layer": "below",
          "line": {
           "color": "rgb(180,180,180)",
           "width": 0.792481250360578
          },
          "path": "M 437.0,2 C 437.0,1.0 437.0,1.0 437.0,0",
          "type": "path"
         },
         {
          "layer": "below",
          "line": {
           "color": "rgb(180,180,180)",
           "width": 0.792481250360578
          },
          "path": "M 446.14285714285717,4 C 446.14285714285717,3.0 441.0,3.0 441.0,2",
          "type": "path"
         },
         {
          "layer": "below",
          "line": {
           "color": "rgb(180,180,180)",
           "width": 0.792481250360578
          },
          "path": "M 441.0,2 C 441.0,1.0 441.0,1.0 441.0,0",
          "type": "path"
         },
         {
          "layer": "below",
          "line": {
           "color": "rgb(180,180,180)",
           "width": 1.160964047443681
          },
          "path": "M 446.14285714285717,4 C 446.14285714285717,3.0 447.0,3.0 447.0,2",
          "type": "path"
         },
         {
          "layer": "below",
          "line": {
           "color": "rgb(180,180,180)",
           "width": 0.792481250360578
          },
          "path": "M 447.0,2 C 447.0,1.0 445.0,1.0 445.0,0",
          "type": "path"
         },
         {
          "layer": "below",
          "line": {
           "color": "rgb(180,180,180)",
           "width": 0.792481250360578
          },
          "path": "M 447.0,2 C 447.0,1.0 449.0,1.0 449.0,0",
          "type": "path"
         },
         {
          "layer": "below",
          "line": {
           "color": "rgb(180,180,180)",
           "width": 0.792481250360578
          },
          "path": "M 446.14285714285717,4 C 446.14285714285717,3.0 453.0,3.0 453.0,2",
          "type": "path"
         },
         {
          "layer": "below",
          "line": {
           "color": "rgb(180,180,180)",
           "width": 0.792481250360578
          },
          "path": "M 453.0,2 C 453.0,1.0 453.0,1.0 453.0,0",
          "type": "path"
         },
         {
          "layer": "below",
          "line": {
           "color": "rgb(180,180,180)",
           "width": 0.792481250360578
          },
          "path": "M 446.14285714285717,4 C 446.14285714285717,3.0 457.0,3.0 457.0,2",
          "type": "path"
         },
         {
          "layer": "below",
          "line": {
           "color": "rgb(180,180,180)",
           "width": 0.792481250360578
          },
          "path": "M 457.0,2 C 457.0,1.0 457.0,1.0 457.0,0",
          "type": "path"
         },
         {
          "layer": "below",
          "line": {
           "color": "rgb(180,180,180)",
           "width": 2.1239637567217926
          },
          "path": "M 446.14285714285717,4 C 446.14285714285717,3.0 463.0,3.0 463.0,2",
          "type": "path"
         },
         {
          "layer": "below",
          "line": {
           "color": "rgb(180,180,180)",
           "width": 0.792481250360578
          },
          "path": "M 463.0,2 C 463.0,1.0 461.0,1.0 461.0,0",
          "type": "path"
         },
         {
          "layer": "below",
          "line": {
           "color": "rgb(180,180,180)",
           "width": 2.0437314206251695
          },
          "path": "M 463.0,2 C 463.0,1.0 465.0,1.0 465.0,0",
          "type": "path"
         },
         {
          "layer": "below",
          "line": {
           "color": "rgb(180,180,180)",
           "width": 2.777294425838819
          },
          "path": "M 523.5622710622711,5 C 523.5622710622711,4.5 475.0,4.5 475.0,4",
          "type": "path"
         },
         {
          "layer": "below",
          "line": {
           "color": "rgb(180,180,180)",
           "width": 2
          },
          "path": "M 475.0,4 C 475.0,3.0 469.0,3.0 469.0,2",
          "type": "path"
         },
         {
          "layer": "below",
          "line": {
           "color": "rgb(180,180,180)",
           "width": 2
          },
          "path": "M 469.0,2 C 469.0,1.0 469.0,1.0 469.0,0",
          "type": "path"
         },
         {
          "layer": "below",
          "line": {
           "color": "rgb(180,180,180)",
           "width": 1.903677461028802
          },
          "path": "M 475.0,4 C 475.0,3.0 473.0,3.0 473.0,2",
          "type": "path"
         },
         {
          "layer": "below",
          "line": {
           "color": "rgb(180,180,180)",
           "width": 1.903677461028802
          },
          "path": "M 473.0,2 C 473.0,1.0 473.0,1.0 473.0,0",
          "type": "path"
         },
         {
          "layer": "below",
          "line": {
           "color": "rgb(180,180,180)",
           "width": 2
          },
          "path": "M 475.0,4 C 475.0,3.0 477.0,3.0 477.0,2",
          "type": "path"
         },
         {
          "layer": "below",
          "line": {
           "color": "rgb(180,180,180)",
           "width": 2
          },
          "path": "M 477.0,2 C 477.0,1.0 477.0,1.0 477.0,0",
          "type": "path"
         },
         {
          "layer": "below",
          "line": {
           "color": "rgb(180,180,180)",
           "width": 1
          },
          "path": "M 475.0,4 C 475.0,3.0 481.0,3.0 481.0,2",
          "type": "path"
         },
         {
          "layer": "below",
          "line": {
           "color": "rgb(180,180,180)",
           "width": 1
          },
          "path": "M 481.0,2 C 481.0,1.0 481.0,1.0 481.0,0",
          "type": "path"
         },
         {
          "layer": "below",
          "line": {
           "color": "rgb(180,180,180)",
           "width": 0.5
          },
          "path": "M 523.5622710622711,5 C 523.5622710622711,4.5 485.0,4.5 485.0,4",
          "type": "path"
         },
         {
          "layer": "below",
          "line": {
           "color": "rgb(180,180,180)",
           "width": 0.5
          },
          "path": "M 485.0,4 C 485.0,3.0 485.0,3.0 485.0,2",
          "type": "path"
         },
         {
          "layer": "below",
          "line": {
           "color": "rgb(180,180,180)",
           "width": 0.5
          },
          "path": "M 485.0,2 C 485.0,1.0 485.0,1.0 485.0,0",
          "type": "path"
         },
         {
          "layer": "below",
          "line": {
           "color": "rgb(180,180,180)",
           "width": 1.5
          },
          "path": "M 523.5622710622711,5 C 523.5622710622711,4.5 489.0,4.5 489.0,4",
          "type": "path"
         },
         {
          "layer": "below",
          "line": {
           "color": "rgb(180,180,180)",
           "width": 1.5
          },
          "path": "M 489.0,4 C 489.0,3.0 489.0,3.0 489.0,2",
          "type": "path"
         },
         {
          "layer": "below",
          "line": {
           "color": "rgb(180,180,180)",
           "width": 1.5
          },
          "path": "M 489.0,2 C 489.0,1.0 489.0,1.0 489.0,0",
          "type": "path"
         },
         {
          "layer": "below",
          "line": {
           "color": "rgb(180,180,180)",
           "width": 1.850219859070546
          },
          "path": "M 523.5622710622711,5 C 523.5622710622711,4.5 499.0,4.5 499.0,4",
          "type": "path"
         },
         {
          "layer": "below",
          "line": {
           "color": "rgb(180,180,180)",
           "width": 0.792481250360578
          },
          "path": "M 499.0,4 C 499.0,3.0 493.0,3.0 493.0,2",
          "type": "path"
         },
         {
          "layer": "below",
          "line": {
           "color": "rgb(180,180,180)",
           "width": 0.792481250360578
          },
          "path": "M 493.0,2 C 493.0,1.0 493.0,1.0 493.0,0",
          "type": "path"
         },
         {
          "layer": "below",
          "line": {
           "color": "rgb(180,180,180)",
           "width": 0.792481250360578
          },
          "path": "M 499.0,4 C 499.0,3.0 497.0,3.0 497.0,2",
          "type": "path"
         },
         {
          "layer": "below",
          "line": {
           "color": "rgb(180,180,180)",
           "width": 0.792481250360578
          },
          "path": "M 497.0,2 C 497.0,1.0 497.0,1.0 497.0,0",
          "type": "path"
         },
         {
          "layer": "below",
          "line": {
           "color": "rgb(180,180,180)",
           "width": 1.584962500721156
          },
          "path": "M 499.0,4 C 499.0,3.0 507.0,3.0 507.0,2",
          "type": "path"
         },
         {
          "layer": "below",
          "line": {
           "color": "rgb(180,180,180)",
           "width": 0.792481250360578
          },
          "path": "M 507.0,2 C 507.0,1.0 501.0,1.0 501.0,0",
          "type": "path"
         },
         {
          "layer": "below",
          "line": {
           "color": "rgb(180,180,180)",
           "width": 0.792481250360578
          },
          "path": "M 507.0,2 C 507.0,1.0 505.0,1.0 505.0,0",
          "type": "path"
         },
         {
          "layer": "below",
          "line": {
           "color": "rgb(180,180,180)",
           "width": 0.792481250360578
          },
          "path": "M 507.0,2 C 507.0,1.0 509.0,1.0 509.0,0",
          "type": "path"
         },
         {
          "layer": "below",
          "line": {
           "color": "rgb(180,180,180)",
           "width": 0.792481250360578
          },
          "path": "M 507.0,2 C 507.0,1.0 513.0,1.0 513.0,0",
          "type": "path"
         },
         {
          "layer": "below",
          "line": {
           "color": "rgb(180,180,180)",
           "width": 2.6427011094311244
          },
          "path": "M 523.5622710622711,5 C 523.5622710622711,4.5 522.0,4.5 522.0,4",
          "type": "path"
         },
         {
          "layer": "below",
          "line": {
           "color": "rgb(180,180,180)",
           "width": 2.604726682814475
          },
          "path": "M 522.0,4 C 522.0,3.0 519.0,3.0 519.0,2",
          "type": "path"
         },
         {
          "layer": "below",
          "line": {
           "color": "rgb(180,180,180)",
           "width": 2.428990497563786
          },
          "path": "M 519.0,2 C 519.0,1.0 517.0,1.0 517.0,0",
          "type": "path"
         },
         {
          "layer": "below",
          "line": {
           "color": "rgb(180,180,180)",
           "width": 1.584962500721156
          },
          "path": "M 519.0,2 C 519.0,1.0 521.0,1.0 521.0,0",
          "type": "path"
         },
         {
          "layer": "below",
          "line": {
           "color": "rgb(180,180,180)",
           "width": 0.792481250360578
          },
          "path": "M 522.0,4 C 522.0,3.0 525.0,3.0 525.0,2",
          "type": "path"
         },
         {
          "layer": "below",
          "line": {
           "color": "rgb(180,180,180)",
           "width": 0.792481250360578
          },
          "path": "M 525.0,2 C 525.0,1.0 525.0,1.0 525.0,0",
          "type": "path"
         },
         {
          "layer": "below",
          "line": {
           "color": "rgb(180,180,180)",
           "width": 1.792481250360578
          },
          "path": "M 523.5622710622711,5 C 523.5622710622711,4.5 531.0,4.5 531.0,4",
          "type": "path"
         },
         {
          "layer": "below",
          "line": {
           "color": "rgb(180,180,180)",
           "width": 1.7297158093186487
          },
          "path": "M 531.0,4 C 531.0,3.0 529.0,3.0 529.0,2",
          "type": "path"
         },
         {
          "layer": "below",
          "line": {
           "color": "rgb(180,180,180)",
           "width": 1.7297158093186487
          },
          "path": "M 529.0,2 C 529.0,1.0 529.0,1.0 529.0,0",
          "type": "path"
         },
         {
          "layer": "below",
          "line": {
           "color": "rgb(180,180,180)",
           "width": 0.5
          },
          "path": "M 531.0,4 C 531.0,3.0 533.0,3.0 533.0,2",
          "type": "path"
         },
         {
          "layer": "below",
          "line": {
           "color": "rgb(180,180,180)",
           "width": 0.5
          },
          "path": "M 533.0,2 C 533.0,1.0 533.0,1.0 533.0,0",
          "type": "path"
         },
         {
          "layer": "below",
          "line": {
           "color": "rgb(180,180,180)",
           "width": 2.9770981551934375
          },
          "path": "M 523.5622710622711,5 C 523.5622710622711,4.5 547.5,4.5 547.5,4",
          "type": "path"
         },
         {
          "layer": "below",
          "line": {
           "color": "rgb(180,180,180)",
           "width": 1
          },
          "path": "M 547.5,4 C 547.5,3.0 537.0,3.0 537.0,2",
          "type": "path"
         },
         {
          "layer": "below",
          "line": {
           "color": "rgb(180,180,180)",
           "width": 1
          },
          "path": "M 537.0,2 C 537.0,1.0 537.0,1.0 537.0,0",
          "type": "path"
         },
         {
          "layer": "below",
          "line": {
           "color": "rgb(180,180,180)",
           "width": 1
          },
          "path": "M 547.5,4 C 547.5,3.0 541.0,3.0 541.0,2",
          "type": "path"
         },
         {
          "layer": "below",
          "line": {
           "color": "rgb(180,180,180)",
           "width": 1
          },
          "path": "M 541.0,2 C 541.0,1.0 541.0,1.0 541.0,0",
          "type": "path"
         },
         {
          "layer": "below",
          "line": {
           "color": "rgb(180,180,180)",
           "width": 2.877443751081734
          },
          "path": "M 547.5,4 C 547.5,3.0 551.0,3.0 551.0,2",
          "type": "path"
         },
         {
          "layer": "below",
          "line": {
           "color": "rgb(180,180,180)",
           "width": 2.1609640474436813
          },
          "path": "M 551.0,2 C 551.0,1.0 545.0,1.0 545.0,0",
          "type": "path"
         },
         {
          "layer": "below",
          "line": {
           "color": "rgb(180,180,180)",
           "width": 2
          },
          "path": "M 551.0,2 C 551.0,1.0 549.0,1.0 549.0,0",
          "type": "path"
         },
         {
          "layer": "below",
          "line": {
           "color": "rgb(180,180,180)",
           "width": 2
          },
          "path": "M 551.0,2 C 551.0,1.0 553.0,1.0 553.0,0",
          "type": "path"
         },
         {
          "layer": "below",
          "line": {
           "color": "rgb(180,180,180)",
           "width": 1.160964047443681
          },
          "path": "M 551.0,2 C 551.0,1.0 557.0,1.0 557.0,0",
          "type": "path"
         },
         {
          "layer": "below",
          "line": {
           "color": "rgb(180,180,180)",
           "width": 0.792481250360578
          },
          "path": "M 547.5,4 C 547.5,3.0 561.0,3.0 561.0,2",
          "type": "path"
         },
         {
          "layer": "below",
          "line": {
           "color": "rgb(180,180,180)",
           "width": 0.792481250360578
          },
          "path": "M 561.0,2 C 561.0,1.0 561.0,1.0 561.0,0",
          "type": "path"
         },
         {
          "layer": "below",
          "line": {
           "color": "rgb(180,180,180)",
           "width": 2.713132377351049
          },
          "path": "M 523.5622710622711,5 C 523.5622710622711,4.5 581.6666666666666,4.5 581.6666666666666,4",
          "type": "path"
         },
         {
          "layer": "below",
          "line": {
           "color": "rgb(180,180,180)",
           "width": 2.3502198590705463
          },
          "path": "M 581.6666666666666,4 C 581.6666666666666,3.0 571.0,3.0 571.0,2",
          "type": "path"
         },
         {
          "layer": "below",
          "line": {
           "color": "rgb(180,180,180)",
           "width": 0.792481250360578
          },
          "path": "M 571.0,2 C 571.0,1.0 565.0,1.0 565.0,0",
          "type": "path"
         },
         {
          "layer": "below",
          "line": {
           "color": "rgb(180,180,180)",
           "width": 0.792481250360578
          },
          "path": "M 571.0,2 C 571.0,1.0 569.0,1.0 569.0,0",
          "type": "path"
         },
         {
          "layer": "below",
          "line": {
           "color": "rgb(180,180,180)",
           "width": 0.792481250360578
          },
          "path": "M 571.0,2 C 571.0,1.0 573.0,1.0 573.0,0",
          "type": "path"
         },
         {
          "layer": "below",
          "line": {
           "color": "rgb(180,180,180)",
           "width": 2.1609640474436813
          },
          "path": "M 571.0,2 C 571.0,1.0 577.0,1.0 577.0,0",
          "type": "path"
         },
         {
          "layer": "below",
          "line": {
           "color": "rgb(180,180,180)",
           "width": 1.584962500721156
          },
          "path": "M 581.6666666666666,4 C 581.6666666666666,3.0 583.0,3.0 583.0,2",
          "type": "path"
         },
         {
          "layer": "below",
          "line": {
           "color": "rgb(180,180,180)",
           "width": 1
          },
          "path": "M 583.0,2 C 583.0,1.0 581.0,1.0 581.0,0",
          "type": "path"
         },
         {
          "layer": "below",
          "line": {
           "color": "rgb(180,180,180)",
           "width": 1.292481250360578
          },
          "path": "M 583.0,2 C 583.0,1.0 585.0,1.0 585.0,0",
          "type": "path"
         },
         {
          "layer": "below",
          "line": {
           "color": "rgb(180,180,180)",
           "width": 1.660964047443681
          },
          "path": "M 581.6666666666666,4 C 581.6666666666666,3.0 591.0,3.0 591.0,2",
          "type": "path"
         },
         {
          "layer": "below",
          "line": {
           "color": "rgb(180,180,180)",
           "width": 0.792481250360578
          },
          "path": "M 591.0,2 C 591.0,1.0 589.0,1.0 589.0,0",
          "type": "path"
         },
         {
          "layer": "below",
          "line": {
           "color": "rgb(180,180,180)",
           "width": 1.5
          },
          "path": "M 591.0,2 C 591.0,1.0 593.0,1.0 593.0,0",
          "type": "path"
         },
         {
          "layer": "below",
          "line": {
           "color": "rgb(180,180,180)",
           "width": 1
          },
          "path": "M 523.5622710622711,5 C 523.5622710622711,4.5 599.0,4.5 599.0,4",
          "type": "path"
         },
         {
          "layer": "below",
          "line": {
           "color": "rgb(180,180,180)",
           "width": 0.5
          },
          "path": "M 599.0,4 C 599.0,3.0 597.0,3.0 597.0,2",
          "type": "path"
         },
         {
          "layer": "below",
          "line": {
           "color": "rgb(180,180,180)",
           "width": 0.5
          },
          "path": "M 597.0,2 C 597.0,1.0 597.0,1.0 597.0,0",
          "type": "path"
         },
         {
          "layer": "below",
          "line": {
           "color": "rgb(180,180,180)",
           "width": 0.792481250360578
          },
          "path": "M 599.0,4 C 599.0,3.0 601.0,3.0 601.0,2",
          "type": "path"
         },
         {
          "layer": "below",
          "line": {
           "color": "rgb(180,180,180)",
           "width": 0.792481250360578
          },
          "path": "M 601.0,2 C 601.0,1.0 601.0,1.0 601.0,0",
          "type": "path"
         },
         {
          "layer": "below",
          "line": {
           "color": "rgb(180,180,180)",
           "width": 2.6961587113893803
          },
          "path": "M 523.5622710622711,5 C 523.5622710622711,4.5 609.0,4.5 609.0,4",
          "type": "path"
         },
         {
          "layer": "below",
          "line": {
           "color": "rgb(180,180,180)",
           "width": 2.6961587113893803
          },
          "path": "M 609.0,4 C 609.0,3.0 609.0,3.0 609.0,2",
          "type": "path"
         },
         {
          "layer": "below",
          "line": {
           "color": "rgb(180,180,180)",
           "width": 1.903677461028802
          },
          "path": "M 609.0,2 C 609.0,1.0 605.0,1.0 605.0,0",
          "type": "path"
         },
         {
          "layer": "below",
          "line": {
           "color": "rgb(180,180,180)",
           "width": 2.084962500721156
          },
          "path": "M 609.0,2 C 609.0,1.0 609.0,1.0 609.0,0",
          "type": "path"
         },
         {
          "layer": "below",
          "line": {
           "color": "rgb(180,180,180)",
           "width": 1.792481250360578
          },
          "path": "M 609.0,2 C 609.0,1.0 613.0,1.0 613.0,0",
          "type": "path"
         },
         {
          "layer": "below",
          "line": {
           "color": "rgb(180,180,180)",
           "width": 3.1144093452479407
          },
          "path": "M 523.5622710622711,5 C 523.5622710622711,4.5 624.0,4.5 624.0,4",
          "type": "path"
         },
         {
          "layer": "below",
          "line": {
           "color": "rgb(180,180,180)",
           "width": 0.5
          },
          "path": "M 624.0,4 C 624.0,3.0 617.0,3.0 617.0,2",
          "type": "path"
         },
         {
          "layer": "below",
          "line": {
           "color": "rgb(180,180,180)",
           "width": 0.5
          },
          "path": "M 617.0,2 C 617.0,1.0 617.0,1.0 617.0,0",
          "type": "path"
         },
         {
          "layer": "below",
          "line": {
           "color": "rgb(180,180,180)",
           "width": 3.104726682814475
          },
          "path": "M 624.0,4 C 624.0,3.0 631.0,3.0 631.0,2",
          "type": "path"
         },
         {
          "layer": "below",
          "line": {
           "color": "rgb(180,180,180)",
           "width": 0.792481250360578
          },
          "path": "M 631.0,2 C 631.0,1.0 621.0,1.0 621.0,0",
          "type": "path"
         },
         {
          "layer": "below",
          "line": {
           "color": "rgb(180,180,180)",
           "width": 2.1239637567217926
          },
          "path": "M 631.0,2 C 631.0,1.0 625.0,1.0 625.0,0",
          "type": "path"
         },
         {
          "layer": "below",
          "line": {
           "color": "rgb(180,180,180)",
           "width": 1.584962500721156
          },
          "path": "M 631.0,2 C 631.0,1.0 629.0,1.0 629.0,0",
          "type": "path"
         },
         {
          "layer": "below",
          "line": {
           "color": "rgb(180,180,180)",
           "width": 2.1239637567217926
          },
          "path": "M 631.0,2 C 631.0,1.0 633.0,1.0 633.0,0",
          "type": "path"
         },
         {
          "layer": "below",
          "line": {
           "color": "rgb(180,180,180)",
           "width": 2.084962500721156
          },
          "path": "M 631.0,2 C 631.0,1.0 637.0,1.0 637.0,0",
          "type": "path"
         },
         {
          "layer": "below",
          "line": {
           "color": "rgb(180,180,180)",
           "width": 1.7297158093186487
          },
          "path": "M 631.0,2 C 631.0,1.0 641.0,1.0 641.0,0",
          "type": "path"
         },
         {
          "layer": "below",
          "line": {
           "color": "rgb(180,180,180)",
           "width": 5.550331169502599
          },
          "path": "M 732.1782532323828,6 C 732.1782532323828,5.5 940.7942354024943,5.5 940.7942354024943,5",
          "type": "path"
         },
         {
          "layer": "below",
          "line": {
           "color": "rgb(180,180,180)",
           "width": 3
          },
          "path": "M 940.7942354024943,5 C 940.7942354024943,4.5 695.8571428571429,4.5 695.8571428571429,4",
          "type": "path"
         },
         {
          "layer": "below",
          "line": {
           "color": "rgb(180,180,180)",
           "width": 1.292481250360578
          },
          "path": "M 695.8571428571429,4 C 695.8571428571429,3.0 651.0,3.0 651.0,2",
          "type": "path"
         },
         {
          "layer": "below",
          "line": {
           "color": "rgb(180,180,180)",
           "width": 1.292481250360578
          },
          "path": "M 651.0,2 C 651.0,1.0 651.0,1.0 651.0,0",
          "type": "path"
         },
         {
          "layer": "below",
          "line": {
           "color": "rgb(180,180,180)",
           "width": 1
          },
          "path": "M 695.8571428571429,4 C 695.8571428571429,3.0 657.0,3.0 657.0,2",
          "type": "path"
         },
         {
          "layer": "below",
          "line": {
           "color": "rgb(180,180,180)",
           "width": 0.5
          },
          "path": "M 657.0,2 C 657.0,1.0 655.0,1.0 655.0,0",
          "type": "path"
         },
         {
          "layer": "below",
          "line": {
           "color": "rgb(180,180,180)",
           "width": 0.792481250360578
          },
          "path": "M 657.0,2 C 657.0,1.0 659.0,1.0 659.0,0",
          "type": "path"
         },
         {
          "layer": "below",
          "line": {
           "color": "rgb(180,180,180)",
           "width": 2.604726682814475
          },
          "path": "M 695.8571428571429,4 C 695.8571428571429,3.0 685.0,3.0 685.0,2",
          "type": "path"
         },
         {
          "layer": "below",
          "line": {
           "color": "rgb(180,180,180)",
           "width": 0.5
          },
          "path": "M 685.0,2 C 685.0,1.0 663.0,1.0 663.0,0",
          "type": "path"
         },
         {
          "layer": "below",
          "line": {
           "color": "rgb(180,180,180)",
           "width": 0.5
          },
          "path": "M 685.0,2 C 685.0,1.0 667.0,1.0 667.0,0",
          "type": "path"
         },
         {
          "layer": "below",
          "line": {
           "color": "rgb(180,180,180)",
           "width": 0.5
          },
          "path": "M 685.0,2 C 685.0,1.0 671.0,1.0 671.0,0",
          "type": "path"
         },
         {
          "layer": "below",
          "line": {
           "color": "rgb(180,180,180)",
           "width": 1.584962500721156
          },
          "path": "M 685.0,2 C 685.0,1.0 675.0,1.0 675.0,0",
          "type": "path"
         },
         {
          "layer": "below",
          "line": {
           "color": "rgb(180,180,180)",
           "width": 1.660964047443681
          },
          "path": "M 685.0,2 C 685.0,1.0 679.0,1.0 679.0,0",
          "type": "path"
         },
         {
          "layer": "below",
          "line": {
           "color": "rgb(180,180,180)",
           "width": 1.5
          },
          "path": "M 685.0,2 C 685.0,1.0 683.0,1.0 683.0,0",
          "type": "path"
         },
         {
          "layer": "below",
          "line": {
           "color": "rgb(180,180,180)",
           "width": 0.5
          },
          "path": "M 685.0,2 C 685.0,1.0 687.0,1.0 687.0,0",
          "type": "path"
         },
         {
          "layer": "below",
          "line": {
           "color": "rgb(180,180,180)",
           "width": 0.5
          },
          "path": "M 685.0,2 C 685.0,1.0 691.0,1.0 691.0,0",
          "type": "path"
         },
         {
          "layer": "below",
          "line": {
           "color": "rgb(180,180,180)",
           "width": 0.5
          },
          "path": "M 685.0,2 C 685.0,1.0 695.0,1.0 695.0,0",
          "type": "path"
         },
         {
          "layer": "below",
          "line": {
           "color": "rgb(180,180,180)",
           "width": 0.5
          },
          "path": "M 685.0,2 C 685.0,1.0 699.0,1.0 699.0,0",
          "type": "path"
         },
         {
          "layer": "below",
          "line": {
           "color": "rgb(180,180,180)",
           "width": 0.5
          },
          "path": "M 685.0,2 C 685.0,1.0 703.0,1.0 703.0,0",
          "type": "path"
         },
         {
          "layer": "below",
          "line": {
           "color": "rgb(180,180,180)",
           "width": 1.160964047443681
          },
          "path": "M 685.0,2 C 685.0,1.0 707.0,1.0 707.0,0",
          "type": "path"
         },
         {
          "layer": "below",
          "line": {
           "color": "rgb(180,180,180)",
           "width": 1.160964047443681
          },
          "path": "M 695.8571428571429,4 C 695.8571428571429,3.0 711.0,3.0 711.0,2",
          "type": "path"
         },
         {
          "layer": "below",
          "line": {
           "color": "rgb(180,180,180)",
           "width": 1.160964047443681
          },
          "path": "M 711.0,2 C 711.0,1.0 711.0,1.0 711.0,0",
          "type": "path"
         },
         {
          "layer": "below",
          "line": {
           "color": "rgb(180,180,180)",
           "width": 1.792481250360578
          },
          "path": "M 695.8571428571429,4 C 695.8571428571429,3.0 717.0,3.0 717.0,2",
          "type": "path"
         },
         {
          "layer": "below",
          "line": {
           "color": "rgb(180,180,180)",
           "width": 1.5
          },
          "path": "M 717.0,2 C 717.0,1.0 715.0,1.0 715.0,0",
          "type": "path"
         },
         {
          "layer": "below",
          "line": {
           "color": "rgb(180,180,180)",
           "width": 1.160964047443681
          },
          "path": "M 717.0,2 C 717.0,1.0 719.0,1.0 719.0,0",
          "type": "path"
         },
         {
          "layer": "below",
          "line": {
           "color": "rgb(180,180,180)",
           "width": 0.792481250360578
          },
          "path": "M 695.8571428571429,4 C 695.8571428571429,3.0 723.0,3.0 723.0,2",
          "type": "path"
         },
         {
          "layer": "below",
          "line": {
           "color": "rgb(180,180,180)",
           "width": 0.792481250360578
          },
          "path": "M 723.0,2 C 723.0,1.0 723.0,1.0 723.0,0",
          "type": "path"
         },
         {
          "layer": "below",
          "line": {
           "color": "rgb(180,180,180)",
           "width": 0.792481250360578
          },
          "path": "M 695.8571428571429,4 C 695.8571428571429,3.0 727.0,3.0 727.0,2",
          "type": "path"
         },
         {
          "layer": "below",
          "line": {
           "color": "rgb(180,180,180)",
           "width": 0.792481250360578
          },
          "path": "M 727.0,2 C 727.0,1.0 727.0,1.0 727.0,0",
          "type": "path"
         },
         {
          "layer": "below",
          "line": {
           "color": "rgb(180,180,180)",
           "width": 2.5437314206251695
          },
          "path": "M 940.7942354024943,5 C 940.7942354024943,4.5 755.0,4.5 755.0,4",
          "type": "path"
         },
         {
          "layer": "below",
          "line": {
           "color": "rgb(180,180,180)",
           "width": 1.160964047443681
          },
          "path": "M 755.0,4 C 755.0,3.0 733.0,3.0 733.0,2",
          "type": "path"
         },
         {
          "layer": "below",
          "line": {
           "color": "rgb(180,180,180)",
           "width": 0.792481250360578
          },
          "path": "M 733.0,2 C 733.0,1.0 731.0,1.0 731.0,0",
          "type": "path"
         },
         {
          "layer": "below",
          "line": {
           "color": "rgb(180,180,180)",
           "width": 0.792481250360578
          },
          "path": "M 733.0,2 C 733.0,1.0 735.0,1.0 735.0,0",
          "type": "path"
         },
         {
          "layer": "below",
          "line": {
           "color": "rgb(180,180,180)",
           "width": 1.160964047443681
          },
          "path": "M 755.0,4 C 755.0,3.0 741.0,3.0 741.0,2",
          "type": "path"
         },
         {
          "layer": "below",
          "line": {
           "color": "rgb(180,180,180)",
           "width": 0.792481250360578
          },
          "path": "M 741.0,2 C 741.0,1.0 739.0,1.0 739.0,0",
          "type": "path"
         },
         {
          "layer": "below",
          "line": {
           "color": "rgb(180,180,180)",
           "width": 0.792481250360578
          },
          "path": "M 741.0,2 C 741.0,1.0 743.0,1.0 743.0,0",
          "type": "path"
         },
         {
          "layer": "below",
          "line": {
           "color": "rgb(180,180,180)",
           "width": 0.792481250360578
          },
          "path": "M 755.0,4 C 755.0,3.0 747.0,3.0 747.0,2",
          "type": "path"
         },
         {
          "layer": "below",
          "line": {
           "color": "rgb(180,180,180)",
           "width": 0.792481250360578
          },
          "path": "M 747.0,2 C 747.0,1.0 747.0,1.0 747.0,0",
          "type": "path"
         },
         {
          "layer": "below",
          "line": {
           "color": "rgb(180,180,180)",
           "width": 0.5
          },
          "path": "M 755.0,4 C 755.0,3.0 751.0,3.0 751.0,2",
          "type": "path"
         },
         {
          "layer": "below",
          "line": {
           "color": "rgb(180,180,180)",
           "width": 0.5
          },
          "path": "M 751.0,2 C 751.0,1.0 751.0,1.0 751.0,0",
          "type": "path"
         },
         {
          "layer": "below",
          "line": {
           "color": "rgb(180,180,180)",
           "width": 0.792481250360578
          },
          "path": "M 755.0,4 C 755.0,3.0 755.0,3.0 755.0,2",
          "type": "path"
         },
         {
          "layer": "below",
          "line": {
           "color": "rgb(180,180,180)",
           "width": 0.792481250360578
          },
          "path": "M 755.0,2 C 755.0,1.0 755.0,1.0 755.0,0",
          "type": "path"
         },
         {
          "layer": "below",
          "line": {
           "color": "rgb(180,180,180)",
           "width": 2.1239637567217926
          },
          "path": "M 755.0,4 C 755.0,3.0 771.0,3.0 771.0,2",
          "type": "path"
         },
         {
          "layer": "below",
          "line": {
           "color": "rgb(180,180,180)",
           "width": 0.792481250360578
          },
          "path": "M 771.0,2 C 771.0,1.0 759.0,1.0 759.0,0",
          "type": "path"
         },
         {
          "layer": "below",
          "line": {
           "color": "rgb(180,180,180)",
           "width": 0.792481250360578
          },
          "path": "M 771.0,2 C 771.0,1.0 763.0,1.0 763.0,0",
          "type": "path"
         },
         {
          "layer": "below",
          "line": {
           "color": "rgb(180,180,180)",
           "width": 0.792481250360578
          },
          "path": "M 771.0,2 C 771.0,1.0 767.0,1.0 767.0,0",
          "type": "path"
         },
         {
          "layer": "below",
          "line": {
           "color": "rgb(180,180,180)",
           "width": 0.792481250360578
          },
          "path": "M 771.0,2 C 771.0,1.0 771.0,1.0 771.0,0",
          "type": "path"
         },
         {
          "layer": "below",
          "line": {
           "color": "rgb(180,180,180)",
           "width": 0.792481250360578
          },
          "path": "M 771.0,2 C 771.0,1.0 775.0,1.0 775.0,0",
          "type": "path"
         },
         {
          "layer": "below",
          "line": {
           "color": "rgb(180,180,180)",
           "width": 0.792481250360578
          },
          "path": "M 771.0,2 C 771.0,1.0 779.0,1.0 779.0,0",
          "type": "path"
         },
         {
          "layer": "below",
          "line": {
           "color": "rgb(180,180,180)",
           "width": 1.403677461028802
          },
          "path": "M 771.0,2 C 771.0,1.0 783.0,1.0 783.0,0",
          "type": "path"
         },
         {
          "layer": "below",
          "line": {
           "color": "rgb(180,180,180)",
           "width": 0.792481250360578
          },
          "path": "M 755.0,4 C 755.0,3.0 787.0,3.0 787.0,2",
          "type": "path"
         },
         {
          "layer": "below",
          "line": {
           "color": "rgb(180,180,180)",
           "width": 0.792481250360578
          },
          "path": "M 787.0,2 C 787.0,1.0 787.0,1.0 787.0,0",
          "type": "path"
         },
         {
          "layer": "below",
          "line": {
           "color": "rgb(180,180,180)",
           "width": 2.6961587113893803
          },
          "path": "M 940.7942354024943,5 C 940.7942354024943,4.5 823.6666666666666,4.5 823.6666666666666,4",
          "type": "path"
         },
         {
          "layer": "below",
          "line": {
           "color": "rgb(180,180,180)",
           "width": 2.3502198590705463
          },
          "path": "M 823.6666666666666,4 C 823.6666666666666,3.0 801.0,3.0 801.0,2",
          "type": "path"
         },
         {
          "layer": "below",
          "line": {
           "color": "rgb(180,180,180)",
           "width": 0.792481250360578
          },
          "path": "M 801.0,2 C 801.0,1.0 791.0,1.0 791.0,0",
          "type": "path"
         },
         {
          "layer": "below",
          "line": {
           "color": "rgb(180,180,180)",
           "width": 1
          },
          "path": "M 801.0,2 C 801.0,1.0 795.0,1.0 795.0,0",
          "type": "path"
         },
         {
          "layer": "below",
          "line": {
           "color": "rgb(180,180,180)",
           "width": 1.160964047443681
          },
          "path": "M 801.0,2 C 801.0,1.0 799.0,1.0 799.0,0",
          "type": "path"
         },
         {
          "layer": "below",
          "line": {
           "color": "rgb(180,180,180)",
           "width": 1.292481250360578
          },
          "path": "M 801.0,2 C 801.0,1.0 803.0,1.0 803.0,0",
          "type": "path"
         },
         {
          "layer": "below",
          "line": {
           "color": "rgb(180,180,180)",
           "width": 0.5
          },
          "path": "M 801.0,2 C 801.0,1.0 807.0,1.0 807.0,0",
          "type": "path"
         },
         {
          "layer": "below",
          "line": {
           "color": "rgb(180,180,180)",
           "width": 1.7297158093186487
          },
          "path": "M 801.0,2 C 801.0,1.0 811.0,1.0 811.0,0",
          "type": "path"
         },
         {
          "layer": "below",
          "line": {
           "color": "rgb(180,180,180)",
           "width": 0.792481250360578
          },
          "path": "M 823.6666666666666,4 C 823.6666666666666,3.0 817.0,3.0 817.0,2",
          "type": "path"
         },
         {
          "layer": "below",
          "line": {
           "color": "rgb(180,180,180)",
           "width": 0.5
          },
          "path": "M 817.0,2 C 817.0,1.0 815.0,1.0 815.0,0",
          "type": "path"
         },
         {
          "layer": "below",
          "line": {
           "color": "rgb(180,180,180)",
           "width": 0.5
          },
          "path": "M 817.0,2 C 817.0,1.0 819.0,1.0 819.0,0",
          "type": "path"
         },
         {
          "layer": "below",
          "line": {
           "color": "rgb(180,180,180)",
           "width": 0.5
          },
          "path": "M 823.6666666666666,4 C 823.6666666666666,3.0 823.0,3.0 823.0,2",
          "type": "path"
         },
         {
          "layer": "below",
          "line": {
           "color": "rgb(180,180,180)",
           "width": 0.5
          },
          "path": "M 823.0,2 C 823.0,1.0 823.0,1.0 823.0,0",
          "type": "path"
         },
         {
          "layer": "below",
          "line": {
           "color": "rgb(180,180,180)",
           "width": 0.792481250360578
          },
          "path": "M 823.6666666666666,4 C 823.6666666666666,3.0 827.0,3.0 827.0,2",
          "type": "path"
         },
         {
          "layer": "below",
          "line": {
           "color": "rgb(180,180,180)",
           "width": 0.792481250360578
          },
          "path": "M 827.0,2 C 827.0,1.0 827.0,1.0 827.0,0",
          "type": "path"
         },
         {
          "layer": "below",
          "line": {
           "color": "rgb(180,180,180)",
           "width": 1.5
          },
          "path": "M 823.6666666666666,4 C 823.6666666666666,3.0 833.0,3.0 833.0,2",
          "type": "path"
         },
         {
          "layer": "below",
          "line": {
           "color": "rgb(180,180,180)",
           "width": 1.403677461028802
          },
          "path": "M 833.0,2 C 833.0,1.0 831.0,1.0 831.0,0",
          "type": "path"
         },
         {
          "layer": "below",
          "line": {
           "color": "rgb(180,180,180)",
           "width": 0.5
          },
          "path": "M 833.0,2 C 833.0,1.0 835.0,1.0 835.0,0",
          "type": "path"
         },
         {
          "layer": "below",
          "line": {
           "color": "rgb(180,180,180)",
           "width": 1.160964047443681
          },
          "path": "M 823.6666666666666,4 C 823.6666666666666,3.0 841.0,3.0 841.0,2",
          "type": "path"
         },
         {
          "layer": "below",
          "line": {
           "color": "rgb(180,180,180)",
           "width": 0.5
          },
          "path": "M 841.0,2 C 841.0,1.0 839.0,1.0 839.0,0",
          "type": "path"
         },
         {
          "layer": "below",
          "line": {
           "color": "rgb(180,180,180)",
           "width": 1
          },
          "path": "M 841.0,2 C 841.0,1.0 843.0,1.0 843.0,0",
          "type": "path"
         },
         {
          "layer": "below",
          "line": {
           "color": "rgb(180,180,180)",
           "width": 2.8502198590705463
          },
          "path": "M 940.7942354024943,5 C 940.7942354024943,4.5 851.0,4.5 851.0,4",
          "type": "path"
         },
         {
          "layer": "below",
          "line": {
           "color": "rgb(180,180,180)",
           "width": 1.850219859070546
          },
          "path": "M 851.0,4 C 851.0,3.0 847.0,3.0 847.0,2",
          "type": "path"
         },
         {
          "layer": "below",
          "line": {
           "color": "rgb(180,180,180)",
           "width": 1.850219859070546
          },
          "path": "M 847.0,2 C 847.0,1.0 847.0,1.0 847.0,0",
          "type": "path"
         },
         {
          "layer": "below",
          "line": {
           "color": "rgb(180,180,180)",
           "width": 2.377443751081734
          },
          "path": "M 851.0,4 C 851.0,3.0 851.0,3.0 851.0,2",
          "type": "path"
         },
         {
          "layer": "below",
          "line": {
           "color": "rgb(180,180,180)",
           "width": 2.377443751081734
          },
          "path": "M 851.0,2 C 851.0,1.0 851.0,1.0 851.0,0",
          "type": "path"
         },
         {
          "layer": "below",
          "line": {
           "color": "rgb(180,180,180)",
           "width": 1.903677461028802
          },
          "path": "M 851.0,4 C 851.0,3.0 855.0,3.0 855.0,2",
          "type": "path"
         },
         {
          "layer": "below",
          "line": {
           "color": "rgb(180,180,180)",
           "width": 1.903677461028802
          },
          "path": "M 855.0,2 C 855.0,1.0 855.0,1.0 855.0,0",
          "type": "path"
         },
         {
          "layer": "below",
          "line": {
           "color": "rgb(180,180,180)",
           "width": 0.792481250360578
          },
          "path": "M 940.7942354024943,5 C 940.7942354024943,4.5 859.0,4.5 859.0,4",
          "type": "path"
         },
         {
          "layer": "below",
          "line": {
           "color": "rgb(180,180,180)",
           "width": 0.792481250360578
          },
          "path": "M 859.0,4 C 859.0,3.0 859.0,3.0 859.0,2",
          "type": "path"
         },
         {
          "layer": "below",
          "line": {
           "color": "rgb(180,180,180)",
           "width": 0.792481250360578
          },
          "path": "M 859.0,2 C 859.0,1.0 859.0,1.0 859.0,0",
          "type": "path"
         },
         {
          "layer": "below",
          "line": {
           "color": "rgb(180,180,180)",
           "width": 4.958686039738421
          },
          "path": "M 940.7942354024943,5 C 940.7942354024943,4.5 905.0954861111111,4.5 905.0954861111111,4",
          "type": "path"
         },
         {
          "layer": "below",
          "line": {
           "color": "rgb(180,180,180)",
           "width": 4.507010235157467
          },
          "path": "M 905.0954861111111,4 C 905.0954861111111,3.5 885.1944444444445,3.5 885.1944444444445,3",
          "type": "path"
         },
         {
          "layer": "below",
          "line": {
           "color": "rgb(180,180,180)",
           "width": 4.465368668781443
          },
          "path": "M 885.1944444444445,3 C 885.1944444444445,2.5 870.5833333333334,2.5 870.5833333333334,2",
          "type": "path"
         },
         {
          "layer": "below",
          "line": {
           "color": "rgb(180,180,180)",
           "width": 1.850219859070546
          },
          "path": "M 870.5833333333334,2 C 870.5833333333334,1.5 863.75,1.5 863.75,1",
          "type": "path"
         },
         {
          "layer": "below",
          "line": {
           "color": "rgb(180,180,180)",
           "width": 1.292481250360578
          },
          "path": "M 863.75,1 C 863.75,0.5 863.0,0.5 863.0,0",
          "type": "path"
         },
         {
          "layer": "below",
          "line": {
           "color": "rgb(180,180,180)",
           "width": 0.792481250360578
          },
          "path": "M 863.75,1 C 863.75,0.5 863.5,0.5 863.5,0",
          "type": "path"
         },
         {
          "layer": "below",
          "line": {
           "color": "rgb(180,180,180)",
           "width": 0.5
          },
          "path": "M 863.75,1 C 863.75,0.5 864.0,0.5 864.0,0",
          "type": "path"
         },
         {
          "layer": "below",
          "line": {
           "color": "rgb(180,180,180)",
           "width": 1.160964047443681
          },
          "path": "M 863.75,1 C 863.75,0.5 864.5,0.5 864.5,0",
          "type": "path"
         },
         {
          "layer": "below",
          "line": {
           "color": "rgb(180,180,180)",
           "width": 2.9770981551934375
          },
          "path": "M 870.5833333333334,2 C 870.5833333333334,1.5 868.75,1.5 868.75,1",
          "type": "path"
         },
         {
          "layer": "below",
          "line": {
           "color": "rgb(180,180,180)",
           "width": 2.807354922057604
          },
          "path": "M 868.75,1 C 868.75,0.5 868.5,0.5 868.5,0",
          "type": "path"
         },
         {
          "layer": "below",
          "line": {
           "color": "rgb(180,180,180)",
           "width": 1.903677461028802
          },
          "path": "M 868.75,1 C 868.75,0.5 869.0,0.5 869.0,0",
          "type": "path"
         },
         {
          "layer": "below",
          "line": {
           "color": "rgb(180,180,180)",
           "width": 4.348483763117144
          },
          "path": "M 870.5833333333334,2 C 870.5833333333334,1.5 879.25,1.5 879.25,1",
          "type": "path"
         },
         {
          "layer": "below",
          "line": {
           "color": "rgb(180,180,180)",
           "width": 1.403677461028802
          },
          "path": "M 879.25,1 C 879.25,0.5 873.0,0.5 873.0,0",
          "type": "path"
         },
         {
          "layer": "below",
          "line": {
           "color": "rgb(180,180,180)",
           "width": 0.5
          },
          "path": "M 879.25,1 C 879.25,0.5 873.5,0.5 873.5,0",
          "type": "path"
         },
         {
          "layer": "below",
          "line": {
           "color": "rgb(180,180,180)",
           "width": 3.721471747924364
          },
          "path": "M 879.25,1 C 879.25,0.5 874.0,0.5 874.0,0",
          "type": "path"
         },
         {
          "layer": "below",
          "line": {
           "color": "rgb(180,180,180)",
           "width": 3.0221970596792267
          },
          "path": "M 879.25,1 C 879.25,0.5 874.5,0.5 874.5,0",
          "type": "path"
         },
         {
          "layer": "below",
          "line": {
           "color": "rgb(180,180,180)",
           "width": 1
          },
          "path": "M 879.25,1 C 879.25,0.5 875.0,0.5 875.0,0",
          "type": "path"
         },
         {
          "layer": "below",
          "line": {
           "color": "rgb(180,180,180)",
           "width": 0.5
          },
          "path": "M 879.25,1 C 879.25,0.5 875.5,0.5 875.5,0",
          "type": "path"
         },
         {
          "layer": "below",
          "line": {
           "color": "rgb(180,180,180)",
           "width": 3.1427011094311244
          },
          "path": "M 879.25,1 C 879.25,0.5 876.0,0.5 876.0,0",
          "type": "path"
         },
         {
          "layer": "below",
          "line": {
           "color": "rgb(180,180,180)",
           "width": 1.850219859070546
          },
          "path": "M 879.25,1 C 879.25,0.5 876.5,0.5 876.5,0",
          "type": "path"
         },
         {
          "layer": "below",
          "line": {
           "color": "rgb(180,180,180)",
           "width": 1.5
          },
          "path": "M 879.25,1 C 879.25,0.5 877.0,0.5 877.0,0",
          "type": "path"
         },
         {
          "layer": "below",
          "line": {
           "color": "rgb(180,180,180)",
           "width": 1.792481250360578
          },
          "path": "M 879.25,1 C 879.25,0.5 877.5,0.5 877.5,0",
          "type": "path"
         },
         {
          "layer": "below",
          "line": {
           "color": "rgb(180,180,180)",
           "width": 0.5
          },
          "path": "M 879.25,1 C 879.25,0.5 878.0,0.5 878.0,0",
          "type": "path"
         },
         {
          "layer": "below",
          "line": {
           "color": "rgb(180,180,180)",
           "width": 0.792481250360578
          },
          "path": "M 879.25,1 C 879.25,0.5 878.5,0.5 878.5,0",
          "type": "path"
         },
         {
          "layer": "below",
          "line": {
           "color": "rgb(180,180,180)",
           "width": 0.792481250360578
          },
          "path": "M 879.25,1 C 879.25,0.5 879.0,0.5 879.0,0",
          "type": "path"
         },
         {
          "layer": "below",
          "line": {
           "color": "rgb(180,180,180)",
           "width": 0.5
          },
          "path": "M 879.25,1 C 879.25,0.5 879.5,0.5 879.5,0",
          "type": "path"
         },
         {
          "layer": "below",
          "line": {
           "color": "rgb(180,180,180)",
           "width": 0.792481250360578
          },
          "path": "M 879.25,1 C 879.25,0.5 880.0,0.5 880.0,0",
          "type": "path"
         },
         {
          "layer": "below",
          "line": {
           "color": "rgb(180,180,180)",
           "width": 1.403677461028802
          },
          "path": "M 879.25,1 C 879.25,0.5 880.5,0.5 880.5,0",
          "type": "path"
         },
         {
          "layer": "below",
          "line": {
           "color": "rgb(180,180,180)",
           "width": 0.792481250360578
          },
          "path": "M 879.25,1 C 879.25,0.5 881.0,0.5 881.0,0",
          "type": "path"
         },
         {
          "layer": "below",
          "line": {
           "color": "rgb(180,180,180)",
           "width": 0.792481250360578
          },
          "path": "M 879.25,1 C 879.25,0.5 881.5,0.5 881.5,0",
          "type": "path"
         },
         {
          "layer": "below",
          "line": {
           "color": "rgb(180,180,180)",
           "width": 0.792481250360578
          },
          "path": "M 879.25,1 C 879.25,0.5 882.0,0.5 882.0,0",
          "type": "path"
         },
         {
          "layer": "below",
          "line": {
           "color": "rgb(180,180,180)",
           "width": 0.792481250360578
          },
          "path": "M 879.25,1 C 879.25,0.5 882.5,0.5 882.5,0",
          "type": "path"
         },
         {
          "layer": "below",
          "line": {
           "color": "rgb(180,180,180)",
           "width": 1.5
          },
          "path": "M 879.25,1 C 879.25,0.5 883.0,0.5 883.0,0",
          "type": "path"
         },
         {
          "layer": "below",
          "line": {
           "color": "rgb(180,180,180)",
           "width": 0.5
          },
          "path": "M 879.25,1 C 879.25,0.5 883.5,0.5 883.5,0",
          "type": "path"
         },
         {
          "layer": "below",
          "line": {
           "color": "rgb(180,180,180)",
           "width": 0.792481250360578
          },
          "path": "M 879.25,1 C 879.25,0.5 884.0,0.5 884.0,0",
          "type": "path"
         },
         {
          "layer": "below",
          "line": {
           "color": "rgb(180,180,180)",
           "width": 1
          },
          "path": "M 879.25,1 C 879.25,0.5 884.5,0.5 884.5,0",
          "type": "path"
         },
         {
          "layer": "below",
          "line": {
           "color": "rgb(180,180,180)",
           "width": 1.403677461028802
          },
          "path": "M 879.25,1 C 879.25,0.5 885.0,0.5 885.0,0",
          "type": "path"
         },
         {
          "layer": "below",
          "line": {
           "color": "rgb(180,180,180)",
           "width": 2.084962500721156
          },
          "path": "M 879.25,1 C 879.25,0.5 885.5,0.5 885.5,0",
          "type": "path"
         },
         {
          "layer": "below",
          "line": {
           "color": "rgb(180,180,180)",
           "width": 1.584962500721156
          },
          "path": "M 885.1944444444445,3 C 885.1944444444445,2.5 889.5,2.5 889.5,2",
          "type": "path"
         },
         {
          "layer": "below",
          "line": {
           "color": "rgb(180,180,180)",
           "width": 1.584962500721156
          },
          "path": "M 889.5,2 C 889.5,1.0 889.5,1.0 889.5,0",
          "type": "path"
         },
         {
          "layer": "below",
          "line": {
           "color": "rgb(180,180,180)",
           "width": 2.2297158093186487
          },
          "path": "M 885.1944444444445,3 C 885.1944444444445,2.5 895.5,2.5 895.5,2",
          "type": "path"
         },
         {
          "layer": "below",
          "line": {
           "color": "rgb(180,180,180)",
           "width": 1.292481250360578
          },
          "path": "M 895.5,2 C 895.5,1.0 893.5,1.0 893.5,0",
          "type": "path"
         },
         {
          "layer": "below",
          "line": {
           "color": "rgb(180,180,180)",
           "width": 2.0437314206251695
          },
          "path": "M 895.5,2 C 895.5,1.0 897.5,1.0 897.5,0",
          "type": "path"
         },
         {
          "layer": "below",
          "line": {
           "color": "rgb(180,180,180)",
           "width": 1.160964047443681
          },
          "path": "M 905.0954861111111,4 C 905.0954861111111,3.5 901.5,3.5 901.5,3",
          "type": "path"
         },
         {
          "layer": "below",
          "line": {
           "color": "rgb(180,180,180)",
           "width": 1.160964047443681
          },
          "path": "M 901.5,3 C 901.5,2.5 901.5,2.5 901.5,2",
          "type": "path"
         },
         {
          "layer": "below",
          "line": {
           "color": "rgb(180,180,180)",
           "width": 1.160964047443681
          },
          "path": "M 901.5,2 C 901.5,1.0 901.5,1.0 901.5,0",
          "type": "path"
         },
         {
          "layer": "below",
          "line": {
           "color": "rgb(180,180,180)",
           "width": 4.344998985709723
          },
          "path": "M 905.0954861111111,4 C 905.0954861111111,3.5 911.6875,3.5 911.6875,3",
          "type": "path"
         },
         {
          "layer": "below",
          "line": {
           "color": "rgb(180,180,180)",
           "width": 4.344998985709723
          },
          "path": "M 911.6875,3 C 911.6875,2.5 911.6875,2.5 911.6875,2",
          "type": "path"
         },
         {
          "layer": "below",
          "line": {
           "color": "rgb(180,180,180)",
           "width": 3.6380622026371188
          },
          "path": "M 911.6875,2 C 911.6875,1.5 905.5,1.5 905.5,1",
          "type": "path"
         },
         {
          "layer": "below",
          "line": {
           "color": "rgb(180,180,180)",
           "width": 3.6380622026371188
          },
          "path": "M 905.5,1 C 905.5,0.5 905.5,0.5 905.5,0",
          "type": "path"
         },
         {
          "layer": "below",
          "line": {
           "color": "rgb(180,180,180)",
           "width": 3.3502198590705463
          },
          "path": "M 911.6875,2 C 911.6875,1.5 909.5,1.5 909.5,1",
          "type": "path"
         },
         {
          "layer": "below",
          "line": {
           "color": "rgb(180,180,180)",
           "width": 3.3502198590705463
          },
          "path": "M 909.5,1 C 909.5,0.5 909.5,0.5 909.5,0",
          "type": "path"
         },
         {
          "layer": "below",
          "line": {
           "color": "rgb(180,180,180)",
           "width": 0.792481250360578
          },
          "path": "M 911.6875,2 C 911.6875,1.5 913.75,1.5 913.75,1",
          "type": "path"
         },
         {
          "layer": "below",
          "line": {
           "color": "rgb(180,180,180)",
           "width": 0.5
          },
          "path": "M 913.75,1 C 913.75,0.5 913.5,0.5 913.5,0",
          "type": "path"
         },
         {
          "layer": "below",
          "line": {
           "color": "rgb(180,180,180)",
           "width": 0.5
          },
          "path": "M 913.75,1 C 913.75,0.5 914.0,0.5 914.0,0",
          "type": "path"
         },
         {
          "layer": "below",
          "line": {
           "color": "rgb(180,180,180)",
           "width": 3.6333932703474505
          },
          "path": "M 911.6875,2 C 911.6875,1.5 918.0,1.5 918.0,1",
          "type": "path"
         },
         {
          "layer": "below",
          "line": {
           "color": "rgb(180,180,180)",
           "width": 3.6333932703474505
          },
          "path": "M 918.0,1 C 918.0,0.5 918.0,0.5 918.0,0",
          "type": "path"
         },
         {
          "layer": "below",
          "line": {
           "color": "rgb(180,180,180)",
           "width": 2.564641508472483
          },
          "path": "M 905.0954861111111,4 C 905.0954861111111,3.5 922.0,3.5 922.0,3",
          "type": "path"
         },
         {
          "layer": "below",
          "line": {
           "color": "rgb(180,180,180)",
           "width": 2.564641508472483
          },
          "path": "M 922.0,3 C 922.0,2.5 922.0,2.5 922.0,2",
          "type": "path"
         },
         {
          "layer": "below",
          "line": {
           "color": "rgb(180,180,180)",
           "width": 2.564641508472483
          },
          "path": "M 922.0,2 C 922.0,1.5 922.0,1.5 922.0,1",
          "type": "path"
         },
         {
          "layer": "below",
          "line": {
           "color": "rgb(180,180,180)",
           "width": 2.564641508472483
          },
          "path": "M 922.0,1 C 922.0,0.5 922.0,0.5 922.0,0",
          "type": "path"
         },
         {
          "layer": "below",
          "line": {
           "color": "rgb(180,180,180)",
           "width": 1.7297158093186487
          },
          "path": "M 940.7942354024943,5 C 940.7942354024943,4.5 928.0,4.5 928.0,4",
          "type": "path"
         },
         {
          "layer": "below",
          "line": {
           "color": "rgb(180,180,180)",
           "width": 1.7297158093186487
          },
          "path": "M 928.0,4 C 928.0,3.0 928.0,3.0 928.0,2",
          "type": "path"
         },
         {
          "layer": "below",
          "line": {
           "color": "rgb(180,180,180)",
           "width": 0.5
          },
          "path": "M 928.0,2 C 928.0,1.0 926.0,1.0 926.0,0",
          "type": "path"
         },
         {
          "layer": "below",
          "line": {
           "color": "rgb(180,180,180)",
           "width": 1.660964047443681
          },
          "path": "M 928.0,2 C 928.0,1.0 930.0,1.0 930.0,0",
          "type": "path"
         },
         {
          "layer": "below",
          "line": {
           "color": "rgb(180,180,180)",
           "width": 2.428990497563786
          },
          "path": "M 940.7942354024943,5 C 940.7942354024943,4.5 946.0,4.5 946.0,4",
          "type": "path"
         },
         {
          "layer": "below",
          "line": {
           "color": "rgb(180,180,180)",
           "width": 1
          },
          "path": "M 946.0,4 C 946.0,3.0 936.0,3.0 936.0,2",
          "type": "path"
         },
         {
          "layer": "below",
          "line": {
           "color": "rgb(180,180,180)",
           "width": 0.5
          },
          "path": "M 936.0,2 C 936.0,1.0 934.0,1.0 934.0,0",
          "type": "path"
         },
         {
          "layer": "below",
          "line": {
           "color": "rgb(180,180,180)",
           "width": 0.792481250360578
          },
          "path": "M 936.0,2 C 936.0,1.0 938.0,1.0 938.0,0",
          "type": "path"
         },
         {
          "layer": "below",
          "line": {
           "color": "rgb(180,180,180)",
           "width": 1.584962500721156
          },
          "path": "M 946.0,4 C 946.0,3.0 944.0,3.0 944.0,2",
          "type": "path"
         },
         {
          "layer": "below",
          "line": {
           "color": "rgb(180,180,180)",
           "width": 1.160964047443681
          },
          "path": "M 944.0,2 C 944.0,1.0 942.0,1.0 942.0,0",
          "type": "path"
         },
         {
          "layer": "below",
          "line": {
           "color": "rgb(180,180,180)",
           "width": 1.160964047443681
          },
          "path": "M 944.0,2 C 944.0,1.0 946.0,1.0 946.0,0",
          "type": "path"
         },
         {
          "layer": "below",
          "line": {
           "color": "rgb(180,180,180)",
           "width": 2.084962500721156
          },
          "path": "M 946.0,4 C 946.0,3.0 958.0,3.0 958.0,2",
          "type": "path"
         },
         {
          "layer": "below",
          "line": {
           "color": "rgb(180,180,180)",
           "width": 1.160964047443681
          },
          "path": "M 958.0,2 C 958.0,1.0 950.0,1.0 950.0,0",
          "type": "path"
         },
         {
          "layer": "below",
          "line": {
           "color": "rgb(180,180,180)",
           "width": 1.160964047443681
          },
          "path": "M 958.0,2 C 958.0,1.0 954.0,1.0 954.0,0",
          "type": "path"
         },
         {
          "layer": "below",
          "line": {
           "color": "rgb(180,180,180)",
           "width": 0.792481250360578
          },
          "path": "M 958.0,2 C 958.0,1.0 958.0,1.0 958.0,0",
          "type": "path"
         },
         {
          "layer": "below",
          "line": {
           "color": "rgb(180,180,180)",
           "width": 1.160964047443681
          },
          "path": "M 958.0,2 C 958.0,1.0 962.0,1.0 962.0,0",
          "type": "path"
         },
         {
          "layer": "below",
          "line": {
           "color": "rgb(180,180,180)",
           "width": 1
          },
          "path": "M 958.0,2 C 958.0,1.0 966.0,1.0 966.0,0",
          "type": "path"
         },
         {
          "layer": "below",
          "line": {
           "color": "rgb(180,180,180)",
           "width": 0.792481250360578
          },
          "path": "M 940.7942354024943,5 C 940.7942354024943,4.5 970.0,4.5 970.0,4",
          "type": "path"
         },
         {
          "layer": "below",
          "line": {
           "color": "rgb(180,180,180)",
           "width": 0.792481250360578
          },
          "path": "M 970.0,4 C 970.0,3.0 970.0,3.0 970.0,2",
          "type": "path"
         },
         {
          "layer": "below",
          "line": {
           "color": "rgb(180,180,180)",
           "width": 0.792481250360578
          },
          "path": "M 970.0,2 C 970.0,1.0 970.0,1.0 970.0,0",
          "type": "path"
         },
         {
          "layer": "below",
          "line": {
           "color": "rgb(180,180,180)",
           "width": 2.084962500721156
          },
          "path": "M 940.7942354024943,5 C 940.7942354024943,4.5 980.0,4.5 980.0,4",
          "type": "path"
         },
         {
          "layer": "below",
          "line": {
           "color": "rgb(180,180,180)",
           "width": 2.084962500721156
          },
          "path": "M 980.0,4 C 980.0,3.0 980.0,3.0 980.0,2",
          "type": "path"
         },
         {
          "layer": "below",
          "line": {
           "color": "rgb(180,180,180)",
           "width": 1.160964047443681
          },
          "path": "M 980.0,2 C 980.0,1.0 974.0,1.0 974.0,0",
          "type": "path"
         },
         {
          "layer": "below",
          "line": {
           "color": "rgb(180,180,180)",
           "width": 1.403677461028802
          },
          "path": "M 980.0,2 C 980.0,1.0 978.0,1.0 978.0,0",
          "type": "path"
         },
         {
          "layer": "below",
          "line": {
           "color": "rgb(180,180,180)",
           "width": 1.292481250360578
          },
          "path": "M 980.0,2 C 980.0,1.0 982.0,1.0 982.0,0",
          "type": "path"
         },
         {
          "layer": "below",
          "line": {
           "color": "rgb(180,180,180)",
           "width": 0.792481250360578
          },
          "path": "M 980.0,2 C 980.0,1.0 986.0,1.0 986.0,0",
          "type": "path"
         },
         {
          "layer": "below",
          "line": {
           "color": "rgb(180,180,180)",
           "width": 4.922745025472188
          },
          "path": "M 940.7942354024943,5 C 940.7942354024943,4.5 1073.0,4.5 1073.0,4",
          "type": "path"
         },
         {
          "layer": "below",
          "line": {
           "color": "rgb(180,180,180)",
           "width": 4.918813966585702
          },
          "path": "M 1073.0,4 C 1073.0,3.5 1058.0,3.5 1058.0,3",
          "type": "path"
         },
         {
          "layer": "below",
          "line": {
           "color": "rgb(180,180,180)",
           "width": 4.905285817370573
          },
          "path": "M 1058.0,3 C 1058.0,2.5 1034.0,2.5 1034.0,2",
          "type": "path"
         },
         {
          "layer": "below",
          "line": {
           "color": "rgb(180,180,180)",
           "width": 1.403677461028802
          },
          "path": "M 1034.0,2 C 1034.0,1.0 990.0,1.0 990.0,0",
          "type": "path"
         },
         {
          "layer": "below",
          "line": {
           "color": "rgb(180,180,180)",
           "width": 0.5
          },
          "path": "M 1034.0,2 C 1034.0,1.0 994.0,1.0 994.0,0",
          "type": "path"
         },
         {
          "layer": "below",
          "line": {
           "color": "rgb(180,180,180)",
           "width": 0.792481250360578
          },
          "path": "M 1034.0,2 C 1034.0,1.0 998.0,1.0 998.0,0",
          "type": "path"
         },
         {
          "layer": "below",
          "line": {
           "color": "rgb(180,180,180)",
           "width": 0.5
          },
          "path": "M 1034.0,2 C 1034.0,1.0 1002.0,1.0 1002.0,0",
          "type": "path"
         },
         {
          "layer": "below",
          "line": {
           "color": "rgb(180,180,180)",
           "width": 3.0437314206251695
          },
          "path": "M 1034.0,2 C 1034.0,1.0 1006.0,1.0 1006.0,0",
          "type": "path"
         },
         {
          "layer": "below",
          "line": {
           "color": "rgb(180,180,180)",
           "width": 3.094912279440009
          },
          "path": "M 1034.0,2 C 1034.0,1.0 1010.0,1.0 1010.0,0",
          "type": "path"
         },
         {
          "layer": "below",
          "line": {
           "color": "rgb(180,180,180)",
           "width": 3.064641508472483
          },
          "path": "M 1034.0,2 C 1034.0,1.0 1014.0,1.0 1014.0,0",
          "type": "path"
         },
         {
          "layer": "below",
          "line": {
           "color": "rgb(180,180,180)",
           "width": 1
          },
          "path": "M 1034.0,2 C 1034.0,1.0 1018.0,1.0 1018.0,0",
          "type": "path"
         },
         {
          "layer": "below",
          "line": {
           "color": "rgb(180,180,180)",
           "width": 3.178776002309042
          },
          "path": "M 1034.0,2 C 1034.0,1.0 1022.0,1.0 1022.0,0",
          "type": "path"
         },
         {
          "layer": "below",
          "line": {
           "color": "rgb(180,180,180)",
           "width": 0.792481250360578
          },
          "path": "M 1034.0,2 C 1034.0,1.0 1026.0,1.0 1026.0,0",
          "type": "path"
         },
         {
          "layer": "below",
          "line": {
           "color": "rgb(180,180,180)",
           "width": 0.5
          },
          "path": "M 1034.0,2 C 1034.0,1.0 1030.0,1.0 1030.0,0",
          "type": "path"
         },
         {
          "layer": "below",
          "line": {
           "color": "rgb(180,180,180)",
           "width": 3.0437314206251695
          },
          "path": "M 1034.0,2 C 1034.0,1.0 1034.0,1.0 1034.0,0",
          "type": "path"
         },
         {
          "layer": "below",
          "line": {
           "color": "rgb(180,180,180)",
           "width": 3.221471747924364
          },
          "path": "M 1034.0,2 C 1034.0,1.0 1038.0,1.0 1038.0,0",
          "type": "path"
         },
         {
          "layer": "below",
          "line": {
           "color": "rgb(180,180,180)",
           "width": 3.0542622283890846
          },
          "path": "M 1034.0,2 C 1034.0,1.0 1042.0,1.0 1042.0,0",
          "type": "path"
         },
         {
          "layer": "below",
          "line": {
           "color": "rgb(180,180,180)",
           "width": 3
          },
          "path": "M 1034.0,2 C 1034.0,1.0 1046.0,1.0 1046.0,0",
          "type": "path"
         },
         {
          "layer": "below",
          "line": {
           "color": "rgb(180,180,180)",
           "width": 0.5
          },
          "path": "M 1034.0,2 C 1034.0,1.0 1050.0,1.0 1050.0,0",
          "type": "path"
         },
         {
          "layer": "below",
          "line": {
           "color": "rgb(180,180,180)",
           "width": 2.9164450070823706
          },
          "path": "M 1034.0,2 C 1034.0,1.0 1054.0,1.0 1054.0,0",
          "type": "path"
         },
         {
          "layer": "below",
          "line": {
           "color": "rgb(180,180,180)",
           "width": 3.064641508472483
          },
          "path": "M 1034.0,2 C 1034.0,1.0 1058.0,1.0 1058.0,0",
          "type": "path"
         },
         {
          "layer": "below",
          "line": {
           "color": "rgb(180,180,180)",
           "width": 1
          },
          "path": "M 1034.0,2 C 1034.0,1.0 1062.0,1.0 1062.0,0",
          "type": "path"
         },
         {
          "layer": "below",
          "line": {
           "color": "rgb(180,180,180)",
           "width": 0.5
          },
          "path": "M 1034.0,2 C 1034.0,1.0 1066.0,1.0 1066.0,0",
          "type": "path"
         },
         {
          "layer": "below",
          "line": {
           "color": "rgb(180,180,180)",
           "width": 2.807354922057604
          },
          "path": "M 1034.0,2 C 1034.0,1.0 1070.0,1.0 1070.0,0",
          "type": "path"
         },
         {
          "layer": "below",
          "line": {
           "color": "rgb(180,180,180)",
           "width": 3.094912279440009
          },
          "path": "M 1034.0,2 C 1034.0,1.0 1074.0,1.0 1074.0,0",
          "type": "path"
         },
         {
          "layer": "below",
          "line": {
           "color": "rgb(180,180,180)",
           "width": 2.941321524680921
          },
          "path": "M 1034.0,2 C 1034.0,1.0 1078.0,1.0 1078.0,0",
          "type": "path"
         },
         {
          "layer": "below",
          "line": {
           "color": "rgb(180,180,180)",
           "width": 2.084962500721156
          },
          "path": "M 1058.0,3 C 1058.0,2.5 1082.0,2.5 1082.0,2",
          "type": "path"
         },
         {
          "layer": "below",
          "line": {
           "color": "rgb(180,180,180)",
           "width": 2.084962500721156
          },
          "path": "M 1082.0,2 C 1082.0,1.0 1082.0,1.0 1082.0,0",
          "type": "path"
         },
         {
          "layer": "below",
          "line": {
           "color": "rgb(180,180,180)",
           "width": 1.292481250360578
          },
          "path": "M 1073.0,4 C 1073.0,3.5 1088.0,3.5 1088.0,3",
          "type": "path"
         },
         {
          "layer": "below",
          "line": {
           "color": "rgb(180,180,180)",
           "width": 1.292481250360578
          },
          "path": "M 1088.0,3 C 1088.0,2.5 1088.0,2.5 1088.0,2",
          "type": "path"
         },
         {
          "layer": "below",
          "line": {
           "color": "rgb(180,180,180)",
           "width": 0.5
          },
          "path": "M 1088.0,2 C 1088.0,1.0 1086.0,1.0 1086.0,0",
          "type": "path"
         },
         {
          "layer": "below",
          "line": {
           "color": "rgb(180,180,180)",
           "width": 1.160964047443681
          },
          "path": "M 1088.0,2 C 1088.0,1.0 1090.0,1.0 1090.0,0",
          "type": "path"
         },
         {
          "layer": "below",
          "line": {
           "color": "rgb(180,180,180)",
           "width": 2.1239637567217926
          },
          "path": "M 940.7942354024943,5 C 940.7942354024943,4.5 1102.5,4.5 1102.5,4",
          "type": "path"
         },
         {
          "layer": "below",
          "line": {
           "color": "rgb(180,180,180)",
           "width": 1.7297158093186487
          },
          "path": "M 1102.5,4 C 1102.5,3.0 1094.0,3.0 1094.0,2",
          "type": "path"
         },
         {
          "layer": "below",
          "line": {
           "color": "rgb(180,180,180)",
           "width": 1.7297158093186487
          },
          "path": "M 1094.0,2 C 1094.0,1.0 1094.0,1.0 1094.0,0",
          "type": "path"
         },
         {
          "layer": "below",
          "line": {
           "color": "rgb(180,180,180)",
           "width": 1.160964047443681
          },
          "path": "M 1102.5,4 C 1102.5,3.0 1100.0,3.0 1100.0,2",
          "type": "path"
         },
         {
          "layer": "below",
          "line": {
           "color": "rgb(180,180,180)",
           "width": 0.792481250360578
          },
          "path": "M 1100.0,2 C 1100.0,1.0 1098.0,1.0 1098.0,0",
          "type": "path"
         },
         {
          "layer": "below",
          "line": {
           "color": "rgb(180,180,180)",
           "width": 0.792481250360578
          },
          "path": "M 1100.0,2 C 1100.0,1.0 1102.0,1.0 1102.0,0",
          "type": "path"
         },
         {
          "layer": "below",
          "line": {
           "color": "rgb(180,180,180)",
           "width": 0.5
          },
          "path": "M 1102.5,4 C 1102.5,3.0 1106.0,3.0 1106.0,2",
          "type": "path"
         },
         {
          "layer": "below",
          "line": {
           "color": "rgb(180,180,180)",
           "width": 0.5
          },
          "path": "M 1106.0,2 C 1106.0,1.0 1106.0,1.0 1106.0,0",
          "type": "path"
         },
         {
          "layer": "below",
          "line": {
           "color": "rgb(180,180,180)",
           "width": 1
          },
          "path": "M 1102.5,4 C 1102.5,3.0 1110.0,3.0 1110.0,2",
          "type": "path"
         },
         {
          "layer": "below",
          "line": {
           "color": "rgb(180,180,180)",
           "width": 1
          },
          "path": "M 1110.0,2 C 1110.0,1.0 1110.0,1.0 1110.0,0",
          "type": "path"
         },
         {
          "layer": "below",
          "line": {
           "color": "rgb(180,180,180)",
           "width": 2.403677461028802
          },
          "path": "M 940.7942354024943,5 C 940.7942354024943,4.5 1124.0,4.5 1124.0,4",
          "type": "path"
         },
         {
          "layer": "below",
          "line": {
           "color": "rgb(180,180,180)",
           "width": 2.403677461028802
          },
          "path": "M 1124.0,4 C 1124.0,3.0 1124.0,3.0 1124.0,2",
          "type": "path"
         },
         {
          "layer": "below",
          "line": {
           "color": "rgb(180,180,180)",
           "width": 0.792481250360578
          },
          "path": "M 1124.0,2 C 1124.0,1.0 1114.0,1.0 1114.0,0",
          "type": "path"
         },
         {
          "layer": "below",
          "line": {
           "color": "rgb(180,180,180)",
           "width": 1.292481250360578
          },
          "path": "M 1124.0,2 C 1124.0,1.0 1118.0,1.0 1118.0,0",
          "type": "path"
         },
         {
          "layer": "below",
          "line": {
           "color": "rgb(180,180,180)",
           "width": 1.292481250360578
          },
          "path": "M 1124.0,2 C 1124.0,1.0 1122.0,1.0 1122.0,0",
          "type": "path"
         },
         {
          "layer": "below",
          "line": {
           "color": "rgb(180,180,180)",
           "width": 1
          },
          "path": "M 1124.0,2 C 1124.0,1.0 1126.0,1.0 1126.0,0",
          "type": "path"
         },
         {
          "layer": "below",
          "line": {
           "color": "rgb(180,180,180)",
           "width": 1.660964047443681
          },
          "path": "M 1124.0,2 C 1124.0,1.0 1130.0,1.0 1130.0,0",
          "type": "path"
         },
         {
          "layer": "below",
          "line": {
           "color": "rgb(180,180,180)",
           "width": 1
          },
          "path": "M 1124.0,2 C 1124.0,1.0 1134.0,1.0 1134.0,0",
          "type": "path"
         },
         {
          "layer": "below",
          "line": {
           "color": "rgb(180,180,180)",
           "width": 2.1239637567217926
          },
          "path": "M 940.7942354024943,5 C 940.7942354024943,4.5 1158.0,4.5 1158.0,4",
          "type": "path"
         },
         {
          "layer": "below",
          "line": {
           "color": "rgb(180,180,180)",
           "width": 2.084962500721156
          },
          "path": "M 1158.0,4 C 1158.0,3.0 1150.0,3.0 1150.0,2",
          "type": "path"
         },
         {
          "layer": "below",
          "line": {
           "color": "rgb(180,180,180)",
           "width": 0.5
          },
          "path": "M 1150.0,2 C 1150.0,1.0 1138.0,1.0 1138.0,0",
          "type": "path"
         },
         {
          "layer": "below",
          "line": {
           "color": "rgb(180,180,180)",
           "width": 0.792481250360578
          },
          "path": "M 1150.0,2 C 1150.0,1.0 1142.0,1.0 1142.0,0",
          "type": "path"
         },
         {
          "layer": "below",
          "line": {
           "color": "rgb(180,180,180)",
           "width": 0.792481250360578
          },
          "path": "M 1150.0,2 C 1150.0,1.0 1146.0,1.0 1146.0,0",
          "type": "path"
         },
         {
          "layer": "below",
          "line": {
           "color": "rgb(180,180,180)",
           "width": 0.5
          },
          "path": "M 1150.0,2 C 1150.0,1.0 1150.0,1.0 1150.0,0",
          "type": "path"
         },
         {
          "layer": "below",
          "line": {
           "color": "rgb(180,180,180)",
           "width": 1.403677461028802
          },
          "path": "M 1150.0,2 C 1150.0,1.0 1154.0,1.0 1154.0,0",
          "type": "path"
         },
         {
          "layer": "below",
          "line": {
           "color": "rgb(180,180,180)",
           "width": 1
          },
          "path": "M 1150.0,2 C 1150.0,1.0 1158.0,1.0 1158.0,0",
          "type": "path"
         },
         {
          "layer": "below",
          "line": {
           "color": "rgb(180,180,180)",
           "width": 0.792481250360578
          },
          "path": "M 1150.0,2 C 1150.0,1.0 1162.0,1.0 1162.0,0",
          "type": "path"
         },
         {
          "layer": "below",
          "line": {
           "color": "rgb(180,180,180)",
           "width": 0.5
          },
          "path": "M 1158.0,4 C 1158.0,3.0 1166.0,3.0 1166.0,2",
          "type": "path"
         },
         {
          "layer": "below",
          "line": {
           "color": "rgb(180,180,180)",
           "width": 0.5
          },
          "path": "M 1166.0,2 C 1166.0,1.0 1166.0,1.0 1166.0,0",
          "type": "path"
         },
         {
          "line": {
           "color": "rgb(200,200,200)",
           "dash": "dash",
           "width": 0.5
          },
          "type": "line",
          "x0": 0,
          "x1": 1,
          "xref": "x domain",
          "y0": 0,
          "y1": 0,
          "yref": "y"
         },
         {
          "line": {
           "color": "rgb(200,200,200)",
           "dash": "dash",
           "width": 0.5
          },
          "type": "line",
          "x0": 0,
          "x1": 1,
          "xref": "x domain",
          "y0": 1,
          "y1": 1,
          "yref": "y"
         },
         {
          "line": {
           "color": "rgb(200,200,200)",
           "dash": "dash",
           "width": 0.5
          },
          "type": "line",
          "x0": 0,
          "x1": 1,
          "xref": "x domain",
          "y0": 2,
          "y1": 2,
          "yref": "y"
         },
         {
          "line": {
           "color": "rgb(200,200,200)",
           "dash": "dash",
           "width": 0.5
          },
          "type": "line",
          "x0": 0,
          "x1": 1,
          "xref": "x domain",
          "y0": 3,
          "y1": 3,
          "yref": "y"
         },
         {
          "line": {
           "color": "rgb(200,200,200)",
           "dash": "dash",
           "width": 0.5
          },
          "type": "line",
          "x0": 0,
          "x1": 1,
          "xref": "x domain",
          "y0": 4,
          "y1": 4,
          "yref": "y"
         },
         {
          "line": {
           "color": "rgb(200,200,200)",
           "dash": "dash",
           "width": 0.5
          },
          "type": "line",
          "x0": 0,
          "x1": 1,
          "xref": "x domain",
          "y0": 5,
          "y1": 5,
          "yref": "y"
         },
         {
          "line": {
           "color": "rgb(200,200,200)",
           "dash": "dash",
           "width": 0.5
          },
          "type": "line",
          "x0": 0,
          "x1": 1,
          "xref": "x domain",
          "y0": 6,
          "y1": 6,
          "yref": "y"
         },
         {
          "line": {
           "color": "rgb(200,200,200)",
           "dash": "dash",
           "width": 0.5
          },
          "type": "line",
          "x0": 0,
          "x1": 1,
          "xref": "x domain",
          "y0": 7,
          "y1": 7,
          "yref": "y"
         }
        ],
        "showlegend": false,
        "template": {
         "data": {
          "bar": [
           {
            "error_x": {
             "color": "#2a3f5f"
            },
            "error_y": {
             "color": "#2a3f5f"
            },
            "marker": {
             "line": {
              "color": "#E5ECF6",
              "width": 0.5
             },
             "pattern": {
              "fillmode": "overlay",
              "size": 10,
              "solidity": 0.2
             }
            },
            "type": "bar"
           }
          ],
          "barpolar": [
           {
            "marker": {
             "line": {
              "color": "#E5ECF6",
              "width": 0.5
             },
             "pattern": {
              "fillmode": "overlay",
              "size": 10,
              "solidity": 0.2
             }
            },
            "type": "barpolar"
           }
          ],
          "carpet": [
           {
            "aaxis": {
             "endlinecolor": "#2a3f5f",
             "gridcolor": "white",
             "linecolor": "white",
             "minorgridcolor": "white",
             "startlinecolor": "#2a3f5f"
            },
            "baxis": {
             "endlinecolor": "#2a3f5f",
             "gridcolor": "white",
             "linecolor": "white",
             "minorgridcolor": "white",
             "startlinecolor": "#2a3f5f"
            },
            "type": "carpet"
           }
          ],
          "choropleth": [
           {
            "colorbar": {
             "outlinewidth": 0,
             "ticks": ""
            },
            "type": "choropleth"
           }
          ],
          "contour": [
           {
            "colorbar": {
             "outlinewidth": 0,
             "ticks": ""
            },
            "colorscale": [
             [
              0,
              "#0d0887"
             ],
             [
              0.1111111111111111,
              "#46039f"
             ],
             [
              0.2222222222222222,
              "#7201a8"
             ],
             [
              0.3333333333333333,
              "#9c179e"
             ],
             [
              0.4444444444444444,
              "#bd3786"
             ],
             [
              0.5555555555555556,
              "#d8576b"
             ],
             [
              0.6666666666666666,
              "#ed7953"
             ],
             [
              0.7777777777777778,
              "#fb9f3a"
             ],
             [
              0.8888888888888888,
              "#fdca26"
             ],
             [
              1,
              "#f0f921"
             ]
            ],
            "type": "contour"
           }
          ],
          "contourcarpet": [
           {
            "colorbar": {
             "outlinewidth": 0,
             "ticks": ""
            },
            "type": "contourcarpet"
           }
          ],
          "heatmap": [
           {
            "colorbar": {
             "outlinewidth": 0,
             "ticks": ""
            },
            "colorscale": [
             [
              0,
              "#0d0887"
             ],
             [
              0.1111111111111111,
              "#46039f"
             ],
             [
              0.2222222222222222,
              "#7201a8"
             ],
             [
              0.3333333333333333,
              "#9c179e"
             ],
             [
              0.4444444444444444,
              "#bd3786"
             ],
             [
              0.5555555555555556,
              "#d8576b"
             ],
             [
              0.6666666666666666,
              "#ed7953"
             ],
             [
              0.7777777777777778,
              "#fb9f3a"
             ],
             [
              0.8888888888888888,
              "#fdca26"
             ],
             [
              1,
              "#f0f921"
             ]
            ],
            "type": "heatmap"
           }
          ],
          "heatmapgl": [
           {
            "colorbar": {
             "outlinewidth": 0,
             "ticks": ""
            },
            "colorscale": [
             [
              0,
              "#0d0887"
             ],
             [
              0.1111111111111111,
              "#46039f"
             ],
             [
              0.2222222222222222,
              "#7201a8"
             ],
             [
              0.3333333333333333,
              "#9c179e"
             ],
             [
              0.4444444444444444,
              "#bd3786"
             ],
             [
              0.5555555555555556,
              "#d8576b"
             ],
             [
              0.6666666666666666,
              "#ed7953"
             ],
             [
              0.7777777777777778,
              "#fb9f3a"
             ],
             [
              0.8888888888888888,
              "#fdca26"
             ],
             [
              1,
              "#f0f921"
             ]
            ],
            "type": "heatmapgl"
           }
          ],
          "histogram": [
           {
            "marker": {
             "pattern": {
              "fillmode": "overlay",
              "size": 10,
              "solidity": 0.2
             }
            },
            "type": "histogram"
           }
          ],
          "histogram2d": [
           {
            "colorbar": {
             "outlinewidth": 0,
             "ticks": ""
            },
            "colorscale": [
             [
              0,
              "#0d0887"
             ],
             [
              0.1111111111111111,
              "#46039f"
             ],
             [
              0.2222222222222222,
              "#7201a8"
             ],
             [
              0.3333333333333333,
              "#9c179e"
             ],
             [
              0.4444444444444444,
              "#bd3786"
             ],
             [
              0.5555555555555556,
              "#d8576b"
             ],
             [
              0.6666666666666666,
              "#ed7953"
             ],
             [
              0.7777777777777778,
              "#fb9f3a"
             ],
             [
              0.8888888888888888,
              "#fdca26"
             ],
             [
              1,
              "#f0f921"
             ]
            ],
            "type": "histogram2d"
           }
          ],
          "histogram2dcontour": [
           {
            "colorbar": {
             "outlinewidth": 0,
             "ticks": ""
            },
            "colorscale": [
             [
              0,
              "#0d0887"
             ],
             [
              0.1111111111111111,
              "#46039f"
             ],
             [
              0.2222222222222222,
              "#7201a8"
             ],
             [
              0.3333333333333333,
              "#9c179e"
             ],
             [
              0.4444444444444444,
              "#bd3786"
             ],
             [
              0.5555555555555556,
              "#d8576b"
             ],
             [
              0.6666666666666666,
              "#ed7953"
             ],
             [
              0.7777777777777778,
              "#fb9f3a"
             ],
             [
              0.8888888888888888,
              "#fdca26"
             ],
             [
              1,
              "#f0f921"
             ]
            ],
            "type": "histogram2dcontour"
           }
          ],
          "mesh3d": [
           {
            "colorbar": {
             "outlinewidth": 0,
             "ticks": ""
            },
            "type": "mesh3d"
           }
          ],
          "parcoords": [
           {
            "line": {
             "colorbar": {
              "outlinewidth": 0,
              "ticks": ""
             }
            },
            "type": "parcoords"
           }
          ],
          "pie": [
           {
            "automargin": true,
            "type": "pie"
           }
          ],
          "scatter": [
           {
            "fillpattern": {
             "fillmode": "overlay",
             "size": 10,
             "solidity": 0.2
            },
            "type": "scatter"
           }
          ],
          "scatter3d": [
           {
            "line": {
             "colorbar": {
              "outlinewidth": 0,
              "ticks": ""
             }
            },
            "marker": {
             "colorbar": {
              "outlinewidth": 0,
              "ticks": ""
             }
            },
            "type": "scatter3d"
           }
          ],
          "scattercarpet": [
           {
            "marker": {
             "colorbar": {
              "outlinewidth": 0,
              "ticks": ""
             }
            },
            "type": "scattercarpet"
           }
          ],
          "scattergeo": [
           {
            "marker": {
             "colorbar": {
              "outlinewidth": 0,
              "ticks": ""
             }
            },
            "type": "scattergeo"
           }
          ],
          "scattergl": [
           {
            "marker": {
             "colorbar": {
              "outlinewidth": 0,
              "ticks": ""
             }
            },
            "type": "scattergl"
           }
          ],
          "scattermapbox": [
           {
            "marker": {
             "colorbar": {
              "outlinewidth": 0,
              "ticks": ""
             }
            },
            "type": "scattermapbox"
           }
          ],
          "scatterpolar": [
           {
            "marker": {
             "colorbar": {
              "outlinewidth": 0,
              "ticks": ""
             }
            },
            "type": "scatterpolar"
           }
          ],
          "scatterpolargl": [
           {
            "marker": {
             "colorbar": {
              "outlinewidth": 0,
              "ticks": ""
             }
            },
            "type": "scatterpolargl"
           }
          ],
          "scatterternary": [
           {
            "marker": {
             "colorbar": {
              "outlinewidth": 0,
              "ticks": ""
             }
            },
            "type": "scatterternary"
           }
          ],
          "surface": [
           {
            "colorbar": {
             "outlinewidth": 0,
             "ticks": ""
            },
            "colorscale": [
             [
              0,
              "#0d0887"
             ],
             [
              0.1111111111111111,
              "#46039f"
             ],
             [
              0.2222222222222222,
              "#7201a8"
             ],
             [
              0.3333333333333333,
              "#9c179e"
             ],
             [
              0.4444444444444444,
              "#bd3786"
             ],
             [
              0.5555555555555556,
              "#d8576b"
             ],
             [
              0.6666666666666666,
              "#ed7953"
             ],
             [
              0.7777777777777778,
              "#fb9f3a"
             ],
             [
              0.8888888888888888,
              "#fdca26"
             ],
             [
              1,
              "#f0f921"
             ]
            ],
            "type": "surface"
           }
          ],
          "table": [
           {
            "cells": {
             "fill": {
              "color": "#EBF0F8"
             },
             "line": {
              "color": "white"
             }
            },
            "header": {
             "fill": {
              "color": "#C8D4E3"
             },
             "line": {
              "color": "white"
             }
            },
            "type": "table"
           }
          ]
         },
         "layout": {
          "annotationdefaults": {
           "arrowcolor": "#2a3f5f",
           "arrowhead": 0,
           "arrowwidth": 1
          },
          "autotypenumbers": "strict",
          "coloraxis": {
           "colorbar": {
            "outlinewidth": 0,
            "ticks": ""
           }
          },
          "colorscale": {
           "diverging": [
            [
             0,
             "#8e0152"
            ],
            [
             0.1,
             "#c51b7d"
            ],
            [
             0.2,
             "#de77ae"
            ],
            [
             0.3,
             "#f1b6da"
            ],
            [
             0.4,
             "#fde0ef"
            ],
            [
             0.5,
             "#f7f7f7"
            ],
            [
             0.6,
             "#e6f5d0"
            ],
            [
             0.7,
             "#b8e186"
            ],
            [
             0.8,
             "#7fbc41"
            ],
            [
             0.9,
             "#4d9221"
            ],
            [
             1,
             "#276419"
            ]
           ],
           "sequential": [
            [
             0,
             "#0d0887"
            ],
            [
             0.1111111111111111,
             "#46039f"
            ],
            [
             0.2222222222222222,
             "#7201a8"
            ],
            [
             0.3333333333333333,
             "#9c179e"
            ],
            [
             0.4444444444444444,
             "#bd3786"
            ],
            [
             0.5555555555555556,
             "#d8576b"
            ],
            [
             0.6666666666666666,
             "#ed7953"
            ],
            [
             0.7777777777777778,
             "#fb9f3a"
            ],
            [
             0.8888888888888888,
             "#fdca26"
            ],
            [
             1,
             "#f0f921"
            ]
           ],
           "sequentialminus": [
            [
             0,
             "#0d0887"
            ],
            [
             0.1111111111111111,
             "#46039f"
            ],
            [
             0.2222222222222222,
             "#7201a8"
            ],
            [
             0.3333333333333333,
             "#9c179e"
            ],
            [
             0.4444444444444444,
             "#bd3786"
            ],
            [
             0.5555555555555556,
             "#d8576b"
            ],
            [
             0.6666666666666666,
             "#ed7953"
            ],
            [
             0.7777777777777778,
             "#fb9f3a"
            ],
            [
             0.8888888888888888,
             "#fdca26"
            ],
            [
             1,
             "#f0f921"
            ]
           ]
          },
          "colorway": [
           "#636efa",
           "#EF553B",
           "#00cc96",
           "#ab63fa",
           "#FFA15A",
           "#19d3f3",
           "#FF6692",
           "#B6E880",
           "#FF97FF",
           "#FECB52"
          ],
          "font": {
           "color": "#2a3f5f"
          },
          "geo": {
           "bgcolor": "white",
           "lakecolor": "white",
           "landcolor": "#E5ECF6",
           "showlakes": true,
           "showland": true,
           "subunitcolor": "white"
          },
          "hoverlabel": {
           "align": "left"
          },
          "hovermode": "closest",
          "mapbox": {
           "style": "light"
          },
          "paper_bgcolor": "white",
          "plot_bgcolor": "#E5ECF6",
          "polar": {
           "angularaxis": {
            "gridcolor": "white",
            "linecolor": "white",
            "ticks": ""
           },
           "bgcolor": "#E5ECF6",
           "radialaxis": {
            "gridcolor": "white",
            "linecolor": "white",
            "ticks": ""
           }
          },
          "scene": {
           "xaxis": {
            "backgroundcolor": "#E5ECF6",
            "gridcolor": "white",
            "gridwidth": 2,
            "linecolor": "white",
            "showbackground": true,
            "ticks": "",
            "zerolinecolor": "white"
           },
           "yaxis": {
            "backgroundcolor": "#E5ECF6",
            "gridcolor": "white",
            "gridwidth": 2,
            "linecolor": "white",
            "showbackground": true,
            "ticks": "",
            "zerolinecolor": "white"
           },
           "zaxis": {
            "backgroundcolor": "#E5ECF6",
            "gridcolor": "white",
            "gridwidth": 2,
            "linecolor": "white",
            "showbackground": true,
            "ticks": "",
            "zerolinecolor": "white"
           }
          },
          "shapedefaults": {
           "line": {
            "color": "#2a3f5f"
           }
          },
          "ternary": {
           "aaxis": {
            "gridcolor": "white",
            "linecolor": "white",
            "ticks": ""
           },
           "baxis": {
            "gridcolor": "white",
            "linecolor": "white",
            "ticks": ""
           },
           "bgcolor": "#E5ECF6",
           "caxis": {
            "gridcolor": "white",
            "linecolor": "white",
            "ticks": ""
           }
          },
          "title": {
           "x": 0.05
          },
          "xaxis": {
           "automargin": true,
           "gridcolor": "white",
           "linecolor": "white",
           "ticks": "",
           "title": {
            "standoff": 15
           },
           "zerolinecolor": "white",
           "zerolinewidth": 2
          },
          "yaxis": {
           "automargin": true,
           "gridcolor": "white",
           "linecolor": "white",
           "ticks": "",
           "title": {
            "standoff": 15
           },
           "zerolinecolor": "white",
           "zerolinewidth": 2
          }
         }
        },
        "title": {
         "text": "3780 Metadata"
        },
        "xaxis": {
         "range": [
          -174.9,
          1177.66
         ],
         "showgrid": false,
         "showline": false,
         "showticklabels": false,
         "zeroline": false
        },
        "yaxis": {
         "showgrid": false,
         "showline": false,
         "showticklabels": false,
         "zeroline": false
        }
       }
      },
      "text/html": [
       "<div>                            <div id=\"fc98ada8-a738-48e3-ac5e-0d5ddea8d2c6\" class=\"plotly-graph-div\" style=\"height:525px; width:100%;\"></div>            <script type=\"text/javascript\">                require([\"plotly\"], function(Plotly) {                    window.PLOTLYENV=window.PLOTLYENV || {};                                    if (document.getElementById(\"fc98ada8-a738-48e3-ac5e-0d5ddea8d2c6\")) {                    Plotly.newPlot(                        \"fc98ada8-a738-48e3-ac5e-0d5ddea8d2c6\",                        [{\"hoverinfo\":\"text\",\"marker\":{\"color\":[\"#6175c1\",\"#6175c1\",\"#6175c1\",\"#6175c1\",\"#6175c1\",\"#6175c1\",\"#6175c1\",\"#6175c1\",\"#6175c1\",\"#6175c1\",\"#6175c1\",\"#6175c1\",\"#6175c1\",\"#6175c1\",\"#6175c1\",\"#6175c1\",\"#6175c1\",\"#DB4551\",\"#6175c1\",\"#6175c1\",\"#6175c1\",\"#DB4551\",\"#6175c1\",\"#6175c1\",\"#6175c1\",\"#6175c1\",\"#6175c1\",\"#6175c1\",\"#6175c1\",\"#6175c1\",\"#6175c1\",\"#6175c1\",\"#6175c1\",\"#6175c1\",\"#6175c1\",\"#6175c1\",\"#DB4551\",\"#6175c1\",\"#6175c1\",\"#6175c1\",\"#6175c1\",\"#6175c1\",\"#6175c1\",\"#6175c1\",\"#6175c1\",\"#6175c1\",\"#6175c1\",\"#6175c1\",\"#6175c1\",\"#6175c1\",\"#6175c1\",\"#6175c1\",\"#6175c1\",\"#6175c1\",\"#DB4551\",\"#6175c1\",\"#6175c1\",\"#6175c1\",\"#6175c1\",\"#6175c1\",\"#6175c1\",\"#6175c1\",\"#6175c1\",\"#6175c1\",\"#6175c1\",\"#6175c1\",\"#6175c1\",\"#6175c1\",\"#6175c1\",\"#6175c1\",\"#6175c1\",\"#6175c1\",\"#6175c1\",\"#6175c1\",\"#6175c1\",\"#DB4551\",\"#6175c1\",\"#6175c1\",\"#6175c1\",\"#DB4551\",\"#6175c1\",\"#6175c1\",\"#6175c1\",\"#6175c1\",\"#6175c1\",\"#6175c1\",\"#6175c1\",\"#6175c1\",\"#DB4551\",\"#6175c1\",\"#6175c1\",\"#6175c1\",\"#6175c1\",\"#6175c1\",\"#6175c1\",\"#6175c1\",\"#6175c1\",\"#6175c1\",\"#6175c1\",\"#6175c1\",\"#6175c1\",\"#6175c1\",\"#6175c1\",\"#6175c1\",\"#6175c1\",\"#6175c1\",\"#6175c1\",\"#6175c1\",\"#6175c1\",\"#6175c1\",\"#6175c1\",\"#6175c1\",\"#6175c1\",\"#DB4551\",\"#6175c1\",\"#6175c1\",\"#6175c1\",\"#6175c1\",\"#6175c1\",\"#6175c1\",\"#6175c1\",\"#6175c1\",\"#6175c1\",\"#6175c1\",\"#6175c1\",\"#6175c1\",\"#6175c1\",\"#6175c1\",\"#6175c1\",\"#6175c1\",\"#6175c1\",\"#6175c1\",\"#6175c1\",\"#6175c1\",\"#6175c1\",\"#6175c1\",\"#6175c1\",\"#6175c1\",\"#6175c1\",\"#6175c1\",\"#6175c1\",\"#6175c1\",\"#6175c1\",\"#6175c1\",\"#6175c1\",\"#6175c1\",\"#6175c1\",\"#6175c1\",\"#6175c1\",\"#6175c1\",\"#6175c1\",\"#6175c1\",\"#6175c1\",\"#6175c1\",\"#DB4551\",\"#6175c1\",\"#6175c1\",\"#6175c1\",\"#6175c1\",\"#6175c1\",\"#6175c1\",\"#6175c1\",\"#6175c1\",\"#6175c1\",\"#6175c1\",\"#6175c1\",\"#6175c1\",\"#6175c1\",\"#6175c1\",\"#6175c1\",\"#6175c1\",\"#6175c1\",\"#6175c1\",\"#6175c1\",\"#6175c1\",\"#DB4551\",\"#6175c1\",\"#6175c1\",\"#6175c1\",\"#6175c1\",\"#6175c1\",\"#6175c1\",\"#6175c1\",\"#6175c1\",\"#6175c1\",\"#6175c1\",\"#6175c1\",\"#6175c1\",\"#6175c1\",\"#6175c1\",\"#6175c1\",\"#DB4551\",\"#6175c1\",\"#6175c1\",\"#6175c1\",\"#6175c1\",\"#6175c1\",\"#6175c1\",\"#6175c1\",\"#6175c1\",\"#6175c1\",\"#6175c1\",\"#6175c1\",\"#6175c1\",\"#6175c1\",\"#6175c1\",\"#6175c1\",\"#6175c1\",\"#6175c1\",\"#6175c1\",\"#6175c1\",\"#6175c1\",\"#6175c1\",\"#6175c1\",\"#6175c1\",\"#6175c1\",\"#6175c1\",\"#6175c1\",\"#DB4551\",\"#6175c1\",\"#6175c1\",\"#6175c1\",\"#6175c1\",\"#6175c1\",\"#6175c1\",\"#6175c1\",\"#6175c1\",\"#6175c1\",\"#6175c1\",\"#6175c1\",\"#6175c1\",\"#6175c1\",\"#6175c1\",\"#6175c1\",\"#6175c1\",\"#6175c1\",\"#6175c1\",\"#6175c1\",\"#6175c1\",\"#6175c1\",\"#6175c1\",\"#6175c1\",\"#6175c1\",\"#6175c1\",\"#6175c1\",\"#6175c1\",\"#6175c1\",\"#6175c1\",\"#6175c1\",\"#6175c1\",\"#6175c1\",\"#6175c1\",\"#6175c1\",\"#6175c1\",\"#6175c1\",\"#6175c1\",\"#6175c1\",\"#6175c1\",\"#6175c1\",\"#6175c1\",\"#6175c1\",\"#6175c1\",\"#6175c1\",\"#6175c1\",\"#6175c1\",\"#6175c1\",\"#6175c1\",\"#6175c1\",\"#6175c1\",\"#6175c1\",\"#6175c1\",\"#6175c1\",\"#6175c1\",\"#6175c1\",\"#6175c1\",\"#6175c1\",\"#6175c1\",\"#6175c1\",\"#6175c1\",\"#6175c1\",\"#6175c1\",\"#6175c1\",\"#6175c1\",\"#6175c1\",\"#6175c1\",\"#6175c1\",\"#6175c1\",\"#6175c1\",\"#6175c1\",\"#6175c1\",\"#6175c1\",\"#6175c1\",\"#6175c1\",\"#6175c1\",\"#6175c1\",\"#6175c1\",\"#6175c1\",\"#6175c1\",\"#6175c1\",\"#6175c1\",\"#6175c1\",\"#6175c1\",\"#6175c1\",\"#6175c1\",\"#6175c1\",\"#6175c1\",\"#6175c1\",\"#6175c1\",\"#6175c1\",\"#6175c1\",\"#6175c1\",\"#6175c1\",\"#6175c1\",\"#6175c1\",\"#6175c1\",\"#6175c1\",\"#6175c1\",\"#6175c1\",\"#6175c1\",\"#6175c1\",\"#6175c1\",\"#6175c1\",\"#6175c1\",\"#6175c1\",\"#6175c1\",\"#6175c1\",\"#6175c1\",\"#6175c1\",\"#6175c1\",\"#6175c1\",\"#6175c1\",\"#6175c1\",\"#6175c1\",\"#6175c1\",\"#6175c1\",\"#6175c1\",\"#6175c1\",\"#6175c1\",\"#6175c1\",\"#6175c1\",\"#6175c1\",\"#6175c1\",\"#6175c1\",\"#6175c1\",\"#6175c1\",\"#6175c1\",\"#6175c1\",\"#6175c1\",\"#6175c1\",\"#6175c1\",\"#6175c1\",\"#6175c1\",\"#6175c1\",\"#6175c1\",\"#6175c1\",\"#6175c1\",\"#6175c1\",\"#6175c1\",\"#6175c1\",\"#6175c1\",\"#6175c1\",\"#6175c1\",\"#6175c1\",\"#6175c1\",\"#6175c1\",\"#6175c1\",\"#6175c1\",\"#6175c1\",\"#6175c1\",\"#6175c1\",\"#6175c1\",\"#6175c1\",\"#6175c1\",\"#6175c1\",\"#6175c1\",\"#6175c1\",\"#6175c1\",\"#6175c1\",\"#6175c1\",\"#6175c1\",\"#6175c1\",\"#6175c1\",\"#6175c1\",\"#6175c1\",\"#6175c1\",\"#6175c1\",\"#6175c1\",\"#6175c1\",\"#6175c1\",\"#6175c1\",\"#6175c1\",\"#6175c1\",\"#6175c1\",\"#6175c1\",\"#6175c1\",\"#6175c1\",\"#6175c1\",\"#6175c1\",\"#6175c1\",\"#6175c1\",\"#6175c1\",\"#6175c1\",\"#6175c1\",\"#6175c1\",\"#6175c1\",\"#6175c1\",\"#6175c1\",\"#6175c1\",\"#6175c1\",\"#6175c1\",\"#6175c1\",\"#6175c1\",\"#6175c1\",\"#6175c1\",\"#6175c1\",\"#6175c1\",\"#6175c1\",\"#6175c1\",\"#6175c1\",\"#6175c1\",\"#6175c1\",\"#6175c1\",\"#6175c1\",\"#6175c1\",\"#6175c1\",\"#6175c1\",\"#6175c1\",\"#6175c1\",\"#6175c1\",\"#6175c1\",\"#6175c1\",\"#6175c1\",\"#6175c1\",\"#6175c1\",\"#6175c1\",\"#6175c1\",\"#6175c1\",\"#6175c1\",\"#6175c1\",\"#6175c1\",\"#6175c1\",\"#6175c1\",\"#6175c1\",\"#6175c1\",\"#6175c1\",\"#6175c1\",\"#6175c1\",\"#6175c1\",\"#6175c1\",\"#6175c1\",\"#6175c1\",\"#6175c1\",\"#6175c1\",\"#6175c1\",\"#6175c1\",\"#6175c1\",\"#6175c1\",\"#6175c1\",\"#6175c1\",\"#6175c1\",\"#6175c1\",\"#6175c1\",\"#6175c1\",\"#6175c1\",\"#6175c1\",\"#6175c1\",\"#6175c1\",\"#6175c1\",\"#6175c1\",\"#6175c1\",\"#6175c1\",\"#6175c1\",\"#6175c1\",\"#6175c1\",\"#6175c1\",\"#6175c1\",\"#6175c1\",\"#6175c1\",\"#6175c1\",\"#6175c1\",\"#6175c1\",\"#6175c1\",\"#6175c1\",\"#6175c1\",\"#6175c1\",\"#6175c1\",\"#6175c1\",\"#6175c1\",\"#DB4551\",\"#6175c1\",\"#6175c1\",\"#6175c1\",\"#6175c1\",\"#6175c1\",\"#6175c1\",\"#6175c1\",\"#6175c1\",\"#6175c1\",\"#6175c1\",\"#6175c1\",\"#6175c1\",\"#6175c1\",\"#6175c1\",\"#6175c1\",\"#6175c1\",\"#6175c1\",\"#6175c1\",\"#6175c1\",\"#6175c1\",\"#6175c1\",\"#6175c1\",\"#6175c1\",\"#6175c1\",\"#6175c1\",\"#6175c1\",\"#6175c1\",\"#6175c1\",\"#6175c1\",\"#6175c1\",\"#6175c1\",\"#6175c1\",\"#6175c1\",\"#6175c1\",\"#DB4551\",\"#DB4551\",\"#6175c1\",\"#6175c1\",\"#6175c1\",\"#6175c1\",\"#6175c1\",\"#6175c1\",\"#6175c1\",\"#6175c1\",\"#6175c1\",\"#6175c1\",\"#6175c1\",\"#6175c1\",\"#6175c1\",\"#6175c1\",\"#6175c1\",\"#6175c1\",\"#6175c1\",\"#6175c1\",\"#6175c1\",\"#6175c1\",\"#6175c1\",\"#6175c1\",\"#6175c1\",\"#6175c1\",\"#6175c1\",\"#6175c1\",\"#6175c1\",\"#6175c1\",\"#6175c1\",\"#6175c1\",\"#6175c1\",\"#6175c1\",\"#6175c1\",\"#6175c1\",\"#6175c1\",\"#6175c1\",\"#6175c1\",\"#6175c1\",\"#6175c1\",\"#6175c1\",\"#6175c1\",\"#6175c1\",\"#6175c1\",\"#6175c1\",\"#6175c1\",\"#6175c1\",\"#6175c1\",\"#6175c1\",\"#6175c1\",\"#6175c1\",\"#6175c1\",\"#6175c1\",\"#6175c1\",\"#6175c1\",\"#6175c1\",\"#6175c1\",\"#6175c1\",\"#6175c1\",\"#6175c1\",\"#6175c1\",\"#6175c1\",\"#6175c1\",\"#6175c1\",\"#6175c1\",\"#6175c1\",\"#6175c1\",\"#6175c1\",\"#6175c1\"],\"line\":{\"color\":\"rgb(50,50,50)\",\"width\":0.5},\"opacity\":1,\"size\":[11.884552133987235,10.207014320177532,10.041659151637214,10.041659151637214,3.169925001442312,1.584962500721156,1.584962500721156,2.807354922057604,1.584962500721156,2.321928094887362,5.357552004618084,4.0,2.584962500721156,1.584962500721156,2.321928094887362,1.584962500721156,1.584962500721156,4.700439718141093,4.584962500721156,1.584962500721156,1.584962500721156,1.584962500721156,1.584962500721156,8.51175265376738,2.321928094887362,1.584962500721156,1.584962500721156,2.807354922057604,2.807354922057604,7.906890595608519,3.169925001442312,1.584962500721156,3.321928094887362,7.754887502163468,1.584962500721156,2.0,4.754887502163468,2.321928094887362,1.584962500721156,1.584962500721156,1.584962500721156,1.584962500721156,3.9068905956085187,1.584962500721156,1.584962500721156,3.584962500721156,1.0,3.4594316186372973,1.584962500721156,1.584962500721156,5.977279923499917,2.321928094887362,1.584962500721156,3.9068905956085187,1.584962500721156,3.4594316186372973,3.700439718141092,3.4594316186372973,1.584962500721156,1.0,2.584962500721156,2.0,2.0,3.0,3.0,1.584962500721156,1.584962500721156,1.584962500721156,1.584962500721156,1.584962500721156,7.515699838284043,6.303780748177103,6.303780748177103,6.643856189774724,6.643856189774724,2.584962500721156,1.584962500721156,2.0,4.169925001442312,4.169925001442312,1.584962500721156,2.321928094887362,2.584962500721156,2.321928094887362,1.584962500721156,4.392317422778761,1.584962500721156,1.584962500721156,3.4594316186372973,1.0,1.584962500721156,1.584962500721156,2.321928094887362,1.0,3.169925001442312,2.321928094887362,2.321928094887362,3.321928094887362,3.321928094887362,2.0,1.584962500721156,1.584962500721156,1.584962500721156,8.654636028527968,8.599912842187127,1.584962500721156,2.321928094887362,2.0,2.321928094887362,1.584962500721156,3.0,3.169925001442312,3.321928094887362,1.584962500721156,1.584962500721156,2.807354922057604,2.807354922057604,2.0,4.857980995127572,3.0,3.169925001442312,2.807354922057604,4.523561956057013,3.700439718141092,4.807354922057604,4.643856189774724,2.321928094887362,3.169925001442312,2.807354922057604,3.169925001442312,1.584962500721156,3.0,4.321928094887363,1.584962500721156,4.584962500721156,4.392317422778761,5.285402218862249,2.807354922057604,2.321928094887362,2.0,3.0,3.0,5.0,3.4594316186372973,2.321928094887362,2.807354922057604,2.584962500721156,1.584962500721156,2.0,3.0,2.584962500721156,1.584962500721156,1.0,1.584962500721156,1.584962500721156,1.584962500721156,7.011227255423254,5.523561956057013,3.9068905956085187,1.0,1.0,1.584962500721156,3.321928094887362,1.0,1.584962500721156,1.584962500721156,3.807354922057604,1.0,1.584962500721156,1.584962500721156,1.584962500721156,1.584962500721156,1.0,1.0,1.584962500721156,3.321928094887362,1.584962500721156,2.0,1.584962500721156,1.584962500721156,2.321928094887362,2.321928094887362,2.0,2.0,4.807354922057604,1.0,1.0,1.0,1.0,1.584962500721156,1.584962500721156,3.700439718141092,1.584962500721156,1.0,1.584962500721156,2.0,2.0,1.0,1.584962500721156,1.584962500721156,1.584962500721156,1.584962500721156,2.321928094887362,1.584962500721156,1.584962500721156,2.0,1.584962500721156,1.0,4.087462841250339,2.807354922057604,2.807354922057604,1.584962500721156,1.584962500721156,1.0,1.0,2.807354922057604,2.321928094887362,2.321928094887362,1.584962500721156,1.584962500721156,1.584962500721156,1.584962500721156,1.584962500721156,1.0,1.0,1.0,1.0,1.0,1.0,5.357552004618084,1.584962500721156,1.0,2.321928094887362,2.0,3.700439718141092,1.584962500721156,1.584962500721156,1.584962500721156,1.584962500721156,1.0,1.0,2.321928094887362,1.584962500721156,1.584962500721156,11.344295907915816,2.321928094887362,2.321928094887362,2.321928094887362,2.321928094887362,11.342074667999139,8.64745842645492,4.906890595608519,2.0,1.584962500721156,1.0,4.754887502163468,1.584962500721156,1.584962500721156,2.0,1.0,4.247927513443585,5.169925001442312,2.584962500721156,1.0,1.0,1.0,1.0,1.0,1.584962500721156,1.584962500721156,1.584962500721156,1.584962500721156,2.321928094887362,1.584962500721156,1.584962500721156,1.584962500721156,1.584962500721156,1.584962500721156,1.584962500721156,4.247927513443585,1.584962500721156,4.087462841250339,5.554588851677638,4.0,4.0,3.807354922057604,3.807354922057604,4.0,4.0,2.0,2.0,1.0,1.0,1.0,3.0,3.0,3.0,3.700439718141092,1.584962500721156,1.584962500721156,1.584962500721156,1.584962500721156,3.169925001442312,1.584962500721156,1.584962500721156,1.584962500721156,1.584962500721156,5.285402218862249,5.20945336562895,4.857980995127572,3.169925001442312,1.584962500721156,1.584962500721156,3.584962500721156,3.4594316186372973,3.4594316186372973,1.0,1.0,5.954196310386875,2.0,2.0,2.0,2.0,5.754887502163468,4.321928094887363,4.0,4.0,2.321928094887362,1.584962500721156,1.584962500721156,5.426264754702098,4.700439718141093,1.584962500721156,1.584962500721156,1.584962500721156,4.321928094887363,3.169925001442312,2.0,2.584962500721156,3.321928094887362,1.584962500721156,3.0,2.0,1.0,1.0,1.584962500721156,1.584962500721156,5.392317422778761,5.392317422778761,3.807354922057604,4.169925001442312,3.584962500721156,6.228818690495881,1.0,1.0,6.20945336562895,1.584962500721156,4.247927513443585,3.169925001442312,4.247927513443585,4.169925001442312,3.4594316186372973,11.100662339005199,6.0,2.584962500721156,2.584962500721156,2.0,1.0,1.584962500721156,5.20945336562895,1.0,1.0,1.0,3.169925001442312,3.321928094887362,3.0,1.0,1.0,1.0,1.0,1.0,2.321928094887362,2.321928094887362,2.321928094887362,3.584962500721156,3.0,2.321928094887362,1.584962500721156,1.584962500721156,1.584962500721156,1.584962500721156,5.087462841250339,2.321928094887362,1.584962500721156,1.584962500721156,2.321928094887362,1.584962500721156,1.584962500721156,1.584962500721156,1.584962500721156,1.0,1.0,1.584962500721156,1.584962500721156,4.247927513443585,1.584962500721156,1.584962500721156,1.584962500721156,1.584962500721156,1.584962500721156,1.584962500721156,2.807354922057604,1.584962500721156,1.584962500721156,5.392317422778761,4.700439718141093,1.584962500721156,2.0,2.321928094887362,2.584962500721156,1.0,3.4594316186372973,1.584962500721156,1.0,1.0,1.0,1.0,1.584962500721156,1.584962500721156,3.0,2.807354922057604,1.0,2.321928094887362,1.0,2.0,5.700439718141093,3.700439718141092,3.700439718141092,4.754887502163468,4.754887502163468,3.807354922057604,3.807354922057604,1.584962500721156,1.584962500721156,1.584962500721156,9.917372079476841,9.014020470314934,8.930737337562887,3.700439718141092,2.584962500721156,1.584962500721156,1.0,2.321928094887362,5.954196310386875,5.614709844115208,3.807354922057604,8.696967526234287,2.807354922057604,1.0,7.442943495848728,6.044394119358453,2.0,1.0,6.285402218862249,3.700439718141092,3.0,3.584962500721156,1.0,1.584962500721156,1.584962500721156,1.0,1.584962500721156,2.807354922057604,1.584962500721156,1.584962500721156,1.584962500721156,1.584962500721156,3.0,1.0,1.584962500721156,2.0,2.807354922057604,4.169925001442312,3.169925001442312,3.169925001442312,4.459431618637297,2.584962500721156,4.087462841250339,2.321928094887362,2.321928094887362,2.321928094887362,8.689997971419446,8.689997971419446,7.2761244052742375,7.2761244052742375,6.700439718141093,6.700439718141093,1.584962500721156,1.0,1.0,7.266786540694901,7.266786540694901,5.129283016944966,5.129283016944966,5.129283016944966,5.129283016944966,3.4594316186372973,3.4594316186372973,1.0,3.321928094887362,4.857980995127572,2.0,1.0,1.584962500721156,3.169925001442312,2.321928094887362,2.321928094887362,4.169925001442312,2.321928094887362,2.321928094887362,1.584962500721156,2.321928094887362,2.0,1.584962500721156,1.584962500721156,1.584962500721156,4.169925001442312,4.169925001442312,2.321928094887362,2.807354922057604,2.584962500721156,1.584962500721156,9.845490050944376,9.837627933171404,9.810571634741146,2.807354922057604,1.0,1.584962500721156,1.0,6.087462841250339,6.189824558880018,6.129283016944966,2.0,6.357552004618084,1.584962500721156,1.0,6.087462841250339,6.442943495848728,6.108524456778169,6.0,1.0,5.832890014164741,6.129283016944966,2.0,1.0,5.614709844115208,6.189824558880018,5.882643049361842,4.169925001442312,4.169925001442312,2.584962500721156,2.584962500721156,1.0,2.321928094887362,4.247927513443585,3.4594316186372973,3.4594316186372973,2.321928094887362,1.584962500721156,1.584962500721156,1.0,1.0,2.0,2.0,4.807354922057604,4.807354922057604,1.584962500721156,2.584962500721156,2.584962500721156,2.0,3.321928094887362,2.0,4.247927513443585,4.169925001442312,1.0,1.584962500721156,1.584962500721156,1.0,2.807354922057604,2.0,1.584962500721156,1.0,1.0],\"sizemode\":\"diameter\",\"symbol\":\"circle\"},\"mode\":\"markers\",\"text\":[\"Root: Root (3780)\",\"Sampling origin: Cultured (1181)\",\"Disease pathology: Cancer (1053)\",\"State: Cell line (1053)\",\"System: Connective (8)\",\"Cell type: Epithelial-like cancer cell (2)\",\"Ontology term: HT1080 (2)\",\"Cell type: Fibroblast (6)\",\"Ontology term: EH (2)\",\"Ontology term: WI38 (4)\",\"System: Digestive (40)\",\"Cell type: Epithelial-like cancer cell (15)\",\"Ontology term: Caco-2 (5)\",\"Ontology term: HCT116 (2)\",\"Ontology term: HT-29 (4)\",\"Ontology term: LoVo (2)\",\"Ontology term: SW480 (2)\",\"Cell type: MISSING (25)\",\"Ontology term: HCT116 (23)\",\"Ontology term: RKO (2)\",\"System: Endocrine (2)\",\"Cell type: MISSING (2)\",\"Ontology term: Panc1 (2)\",\"System: Hematopoietic (364)\",\"Cell type: B-cell (4)\",\"Ontology term: NCI-H929 (2)\",\"Ontology term: RPMI 8226 (2)\",\"Cell type: Erythroblast (6)\",\"Ontology term: TF-1.CN5a.1 (6)\",\"Cell type: Lymphoblast (239)\",\"Ontology term: AML-193 (8)\",\"Ontology term: GDM1 (2)\",\"Ontology term: GF-D8 (9)\",\"Ontology term: K562 (215)\",\"Ontology term: MM.1S (2)\",\"Ontology term: NAMALWA (3)\",\"Cell type: MISSING (26)\",\"Ontology term: DND-41 (4)\",\"Ontology term: KARPAS-422 (2)\",\"Ontology term: KBM-7 (2)\",\"Ontology term: NB4 (2)\",\"Ontology term: OCI-LY7 (2)\",\"Ontology term: SIG-M5 (14)\",\"Cell type: Macrophage (2)\",\"Ontology term: MV-4-11 (2)\",\"Cell type: Megakaryoblast (11)\",\"Ontology term: CMK (1)\",\"Ontology term: UT-7 (10)\",\"Cell type: Monocyte (2)\",\"Ontology term: THP-1 (2)\",\"Cell type: Myeloblast (62)\",\"Ontology term: HAP-1 (4)\",\"Ontology term: KG1 (2)\",\"Ontology term: Kasumi-1 (14)\",\"Ontology term: MISSING (2)\",\"Ontology term: MOLM-13 (10)\",\"Ontology term: NOMO-1 (12)\",\"Ontology term: OCI-AML2 (10)\",\"Ontology term: OCI-M1 (2)\",\"Ontology term: OCI-M2 (1)\",\"Ontology term: SKM-1 (5)\",\"Cell type: Natural killer cell (3)\",\"Ontology term: NK-92 cell (3)\",\"Cell type: Promyeloblast (7)\",\"Ontology term: HL-60 (7)\",\"Cell type: T-cell (2)\",\"Ontology term: Jurkat, Clone E6-1 (2)\",\"System: Hepatic (2)\",\"Cell type: Epithelial-like cancer cell (2)\",\"Ontology term: HepG2 (2)\",\"System: Integumentary (182)\",\"Cell type: Epithelial-like cancer cell (78)\",\"Ontology term: T47D (78)\",\"Cell type: Lactocyte (99)\",\"Ontology term: MCF-7 (99)\",\"Cell type: MISSING (5)\",\"Ontology term: RPMI-7951 (2)\",\"Ontology term: SK-MEL-5 (3)\",\"System: Musculoskeletal (17)\",\"Cell type: MISSING (17)\",\"Ontology term: A673 (2)\",\"Ontology term: MG-63 (4)\",\"Ontology term: SJCRH30 (5)\",\"Ontology term: SJSA1 (4)\",\"Ontology term: SK-N-MC (2)\",\"System: Nervous (20)\",\"Cell type: Glial (2)\",\"Ontology term: H4 (2)\",\"Cell type: MISSING (10)\",\"Ontology term: A172 (1)\",\"Ontology term: Daoy (2)\",\"Ontology term: M059J (2)\",\"Ontology term: SK-N-DZ (4)\",\"Ontology term: SK-N-SH (1)\",\"Cell type: Neuroblast (8)\",\"Ontology term: BE2C (4)\",\"Ontology term: WERI-Rb-1 (4)\",\"System: Reproductive (9)\",\"Cell type: Epithelial-like cancer cell (9)\",\"Ontology term: HeLa-S3 (3)\",\"Ontology term: LNCaP clone FGC (2)\",\"Ontology term: NT2/D1 (2)\",\"Ontology term: PC-3 (2)\",\"System: Respiratory (402)\",\"Cell type: Epithelial-like cancer cell (387)\",\"Ontology term: A549 (2)\",\"Ontology term: COLO668 (4)\",\"Ontology term: COR-L47 (3)\",\"Ontology term: DMS 273 (4)\",\"Ontology term: DMS114 (2)\",\"Ontology term: DMS153 (7)\",\"Ontology term: DMS53 (8)\",\"Ontology term: DMS79 (9)\",\"Ontology term: MISSING (2)\",\"Ontology term: NCI-H1048 (2)\",\"Ontology term: NCI-H1092 (6)\",\"Ontology term: NCI-H1105 (6)\",\"Ontology term: NCI-H128 (3)\",\"Ontology term: NCI-H1417 (28)\",\"Ontology term: NCI-H1436 (7)\",\"Ontology term: NCI-H146 (8)\",\"Ontology term: NCI-H1694 (6)\",\"Ontology term: NCI-H187 (22)\",\"Ontology term: NCI-H1930 (12)\",\"Ontology term: NCI-H2029 (27)\",\"Ontology term: NCI-H2081 (24)\",\"Ontology term: NCI-H209 (4)\",\"Ontology term: NCI-H2107 (8)\",\"Ontology term: NCI-H2196 (6)\",\"Ontology term: NCI-H2227 (8)\",\"Ontology term: NCI-H226 (2)\",\"Ontology term: NCI-H345 (7)\",\"Ontology term: NCI-H446 (19)\",\"Ontology term: NCI-H460 (2)\",\"Ontology term: NCI-H510A (23)\",\"Ontology term: NCI-H524 (20)\",\"Ontology term: NCI-H526 (38)\",\"Ontology term: NCI-H69 (6)\",\"Ontology term: NCI-H748 (4)\",\"Ontology term: NCI-H774 (3)\",\"Ontology term: NCI-H82 (7)\",\"Ontology term: NCI-H889 (7)\",\"Ontology term: SHP77 (31)\",\"Cell type: Lymphoblast (10)\",\"Ontology term: NCI-H2141 (4)\",\"Ontology term: NCI-H2171 (6)\",\"Cell type: Type 2 pneumocyte (5)\",\"Ontology term: Calu3 (2)\",\"Ontology term: PC-9 (3)\",\"System: Urinary (7)\",\"Cell type: Epithelial-like cancer cell (5)\",\"Ontology term: ACHN (2)\",\"Ontology term: G-401 (1)\",\"Ontology term: RCC 7860 (2)\",\"Cell type: MISSING (2)\",\"Ontology term: Caki-2 (2)\",\"Disease pathology: Normal (128)\",\"State: Cell line (45)\",\"Cell type: B-cell (14)\",\"Ontology term: GM06990 (1)\",\"Ontology term: GM12864 (1)\",\"Ontology term: GM12865 (2)\",\"Ontology term: GM12878 (9)\",\"Ontology term: GM12879 (1)\",\"Cell type: Endothelial (2)\",\"Ontology term: brain microvascular endothelial cell (2)\",\"Cell type: Fibroblast (13)\",\"Ontology term: BJ (1)\",\"Ontology term: ELR (2)\",\"Ontology term: EL (2)\",\"Ontology term: HFF-Myc (2)\",\"Ontology term: HFFc6 (2)\",\"Ontology term: HS-27A (1)\",\"Ontology term: HS-5 (1)\",\"Ontology term: foreskin fibroblast (2)\",\"Cell type: MISSING (9)\",\"Ontology term: HK-2 (2)\",\"Ontology term: MCF 10A (3)\",\"Ontology term: RWPE2 (2)\",\"Ontology term: islet precursor cell (2)\",\"Cell type: Myocyte (4)\",\"Ontology term: myocyte (4)\",\"Cell type: Podocyte (3)\",\"Ontology term: glomerular visceral epithelial (3)\",\"State: Differentiated stem cells (27)\",\"Cell type: Astrocyte (1)\",\"Ontology term: Astrocyte (1)\",\"Cell type: Endodermal (1)\",\"Ontology term: endodermal (1)\",\"Cell type: Endothelial (2)\",\"Ontology term: endothelial (2)\",\"Cell type: MISSING (12)\",\"Ontology term: chondrocyte (2)\",\"Ontology term: ecto neural progenitor cell (1)\",\"Ontology term: neural crest (2)\",\"Ontology term: neuronal stem cell (3)\",\"Ontology term: smooth muscle cell (3)\",\"Ontology term: type B pancreatic (1)\",\"Cell type: Mesothelial (2)\",\"Ontology term: mesothelial cell of epicardium (2)\",\"Cell type: Myocyte (2)\",\"Ontology term: cardiac myocyte (2)\",\"Cell type: Neuron (4)\",\"Ontology term: Bipolar neuron (2)\",\"Ontology term: excitatory neuron (2)\",\"Cell type: Progenitor (3)\",\"Ontology term: nephron progenitor (2)\",\"Ontology term: progenitor cell of endocrine pancreas (1)\",\"State: Primary (16)\",\"System: Cardiovascular (6)\",\"Organ: Heart (6)\",\"Ontology term: cardiac myoblast (2)\",\"Ontology term: cardiac myocyte (2)\",\"Ontology term: cardiovascular progenitor (1)\",\"Ontology term: mesodermal (1)\",\"System: Connective (6)\",\"Organ: Lung (4)\",\"Ontology term: IMR-90 (4)\",\"Organ: MISSING (2)\",\"Ontology term: Adipocytes (2)\",\"System: Hematopoietic (2)\",\"Organ: Bone marrow (2)\",\"Ontology term: L1-S8 (2)\",\"System: Integumentary (1)\",\"Organ: Mammary (1)\",\"Ontology term: mammary epithelial (1)\",\"System: Nervous (1)\",\"Organ: Brain (1)\",\"Ontology term: brain (1)\",\"State: Stem cells (40)\",\"Ontology term: ESC derived line (2)\",\"Ontology term: GM23338 (1)\",\"Ontology term: H1 (4)\",\"Ontology term: H7 (3)\",\"Ontology term: H9 (12)\",\"Ontology term: Immortal neuronal stem cell line (2)\",\"Ontology term: Induced pluripotent stem cell line (2)\",\"Ontology term: L1-S8R (2)\",\"Ontology term: WTC11 (2)\",\"Ontology term: amniotic stem (1)\",\"Ontology term: dedifferentiated amniotic fluid mesenchymal stem (1)\",\"Ontology term: iPS DF 6.9 (4)\",\"Ontology term: mesenchymal stem (2)\",\"Ontology term: mesendoderm (2)\",\"Sampling origin: Tissue (2599)\",\"Disease pathology: Cancer (4)\",\"System: Urinary (4)\",\"Organ: Kidney (4)\",\"Ontology term: renal cell carcinoma (4)\",\"Disease pathology: Normal (2595)\",\"Growth stage: Fetal (400)\",\"System: Cardiovascular (29)\",\"Organ: Brain (3)\",\"Ontology term: brain microvascular endothelial cell (2)\",\"Ontology term: brain pericyte (1)\",\"Organ: Heart (26)\",\"Ontology term: cardiac fibroblast (2)\",\"Ontology term: cardiac myocyte (2)\",\"Ontology term: heart left ventricle (3)\",\"Ontology term: heart right ventricle (1)\",\"Ontology term: heart (18)\",\"System: Connective (35)\",\"Organ: Bone (5)\",\"Ontology term: femur (1)\",\"Ontology term: left forelimb (1)\",\"Ontology term: left hindlimb (1)\",\"Ontology term: right forelimb (1)\",\"Ontology term: right hindlimb (1)\",\"Organ: Eye (2)\",\"Ontology term: fibroblast of the conjunctiva (2)\",\"Organ: Heart (2)\",\"Ontology term: cardiac fibroblast (2)\",\"Organ: Lung (4)\",\"Ontology term: AG04450 (2)\",\"Ontology term: fibroblast of lung (2)\",\"Organ: Placenta (2)\",\"Ontology term: fibroblast of villous mesenchyme (2)\",\"Organ: Pulmonary artery (2)\",\"Ontology term: fibroblast of pulmonary artery (2)\",\"Organ: Skin (18)\",\"Ontology term: AG04449 (2)\",\"Ontology term: skin fibroblast (16)\",\"System: Digestive (46)\",\"Organ: Large intestine (15)\",\"Ontology term: large intestine (15)\",\"Organ: Small intestine (13)\",\"Ontology term: small intestine (13)\",\"Organ: Stomach (15)\",\"Ontology term: stomach (15)\",\"Organ: Tongue (3)\",\"Ontology term: tongue (3)\",\"System: Embryonic (1)\",\"Organ: Face (1)\",\"Ontology term: embryonic facial prominence (1)\",\"System: Endocrine (7)\",\"Organ: Adrenal gland (7)\",\"Ontology term: adrenal gland (7)\",\"System: Epithelial (12)\",\"Organ: Amnion (2)\",\"Ontology term: amniotic epithelial cell (2)\",\"Organ: Esophagus (2)\",\"Ontology term: epithelial cell of esophagus (2)\",\"Organ: Eye (8)\",\"Ontology term: choroid plexus epithelial cell (2)\",\"Ontology term: iris pigment epithelial cell (2)\",\"Ontology term: non-pigmented ciliary epithelial cell (2)\",\"Ontology term: retinal pigment epithelial cell (2)\",\"System: Fetal life support (38)\",\"Organ: Placenta (36)\",\"Ontology term: placenta (28)\",\"Ontology term: trophoblast cell (8)\",\"Organ: Umbilical (2)\",\"Ontology term: umbilical cord (2)\",\"System: Hematopoietic (11)\",\"Organ: Blood (10)\",\"Ontology term: thymus (10)\",\"Organ: Spleen (1)\",\"Ontology term: spleen (1)\",\"System: Musculoskeletal (61)\",\"Organ: Limb (3)\",\"Ontology term: limb (3)\",\"Organ: Liver (3)\",\"Ontology term: liver (3)\",\"Organ: Muscle (53)\",\"Ontology term: muscle of arm (19)\",\"Ontology term: muscle of back (15)\",\"Ontology term: muscle of leg (15)\",\"Ontology term: muscle of trunk (4)\",\"Organ: Vascular (2)\",\"Ontology term: smooth muscle cell of the brain vasculature (2)\",\"System: Nervous (42)\",\"Organ: Brain (25)\",\"Ontology term: Astrocyte (2)\",\"Ontology term: astrocyte of the cerebellum (2)\",\"Ontology term: astrocyte of the hippocampus (2)\",\"Ontology term: brain (19)\",\"Organ: Eye (8)\",\"Ontology term: eye (3)\",\"Ontology term: retina (5)\",\"Organ: Spinal cord (9)\",\"Ontology term: astrocyte of the spinal cord (2)\",\"Ontology term: spinal cord (7)\",\"System: Reproductive (3)\",\"Organ: Gonad (1)\",\"Ontology term: ovary (1)\",\"Organ: Testis (2)\",\"Ontology term: testis (2)\",\"System: Respiratory (41)\",\"Organ: Lung (41)\",\"Ontology term: left lung (13)\",\"Ontology term: lung (17)\",\"Ontology term: right lung (11)\",\"System: Urinary (74)\",\"Organ: Bladder (1)\",\"Ontology term: bladder organ (1)\",\"Organ: Kidney (73)\",\"Ontology term: glomerular endothelial cell (2)\",\"Ontology term: kidney (18)\",\"Ontology term: left kidney (8)\",\"Ontology term: renal cortex interstitium (18)\",\"Ontology term: renal pelvis (17)\",\"Ontology term: right kidney (10)\",\"Growth stage: Postnatal (2195)\",\"System: Cardiovascular (63)\",\"Organ: Aorta (5)\",\"Ontology term: thoracic aorta (5)\",\"Organ: Artery (3)\",\"Ontology term: coronary artery (1)\",\"Ontology term: tibial artery (2)\",\"Organ: Heart (36)\",\"Ontology term: Right ventricle myocardium inferior (1)\",\"Ontology term: Right ventricle myocardium superior (1)\",\"Ontology term: cardiac septum (1)\",\"Ontology term: heart left ventricle (8)\",\"Ontology term: heart right ventricle (9)\",\"Ontology term: heart (7)\",\"Ontology term: left cardiac atrium (1)\",\"Ontology term: left ventricle myocardium inferior (1)\",\"Ontology term: left ventricle myocardium superior (1)\",\"Ontology term: pulmonary artery endothelial cell (1)\",\"Ontology term: right atrium auricular region (1)\",\"Ontology term: right cardiac atrium (4)\",\"Organ: Lung (4)\",\"Ontology term: lung microvascular endothelial cell (4)\",\"Organ: Skin (11)\",\"Ontology term: dermis blood vessel endothelial cell (7)\",\"Ontology term: dermis microvascular lymphatic vessel endothelial cell (4)\",\"Organ: Umbilical (2)\",\"Ontology term: endothelial cell of umbilical vein (2)\",\"Organ: Vein (2)\",\"Ontology term: posterior vena cava (2)\",\"System: Connective (33)\",\"Organ: Gum (4)\",\"Ontology term: AG09319 (2)\",\"Ontology term: fibroblast of gingiva (2)\",\"Organ: Heart (4)\",\"Ontology term: cardiac fibroblast (2)\",\"Ontology term: fibroblast of the aortic adventitia (2)\",\"Organ: Lung (2)\",\"Ontology term: fibroblast of lung (2)\",\"Organ: Mammary (1)\",\"Ontology term: fibroblast of mammary gland (1)\",\"Organ: Periodontal ligament (2)\",\"Ontology term: fibroblast of peridontal ligament (2)\",\"Organ: Skin (18)\",\"Ontology term: AG09309 (2)\",\"Ontology term: AG10803 (2)\",\"Ontology term: GM04503 (2)\",\"Ontology term: GM04504 (2)\",\"Ontology term: fibroblast of dermis (2)\",\"Ontology term: fibroblast (2)\",\"Ontology term: foreskin fibroblast (6)\",\"Organ: Stroma (2)\",\"Ontology term: stromal cell of bone marrow (2)\",\"System: Digestive (41)\",\"Organ: Colon (25)\",\"Ontology term: colon epithelial (2)\",\"Ontology term: colonic mucosa (3)\",\"Ontology term: left colon (4)\",\"Ontology term: mucosa of descending colon (5)\",\"Ontology term: sigmoid colon (1)\",\"Ontology term: transverse colon (10)\",\"Organ: Esophagus (2)\",\"Ontology term: esophagus muscularis mucosa (1)\",\"Ontology term: esophagus squamous epithelium (1)\",\"Organ: Gallbladder (1)\",\"Ontology term: mucosa of gallbladder (1)\",\"Organ: Liver (2)\",\"Ontology term: hepatocyte (2)\",\"Organ: Small intestine (7)\",\"Ontology term: Peyer's patch (6)\",\"Ontology term: small intestine (1)\",\"Organ: Stomach (4)\",\"Ontology term: mucosa of stomach (1)\",\"Ontology term: stomach (3)\",\"System: Endocrine (51)\",\"Organ: Adrenal gland (12)\",\"Ontology term: adrenal gland (12)\",\"Organ: Pancreas (26)\",\"Ontology term: pancreas (26)\",\"Organ: Thyroid gland (13)\",\"Ontology term: thyroid gland (13)\",\"System: Epithelial (2)\",\"Organ: Lung (2)\",\"Ontology term: bronchial epithelial cell (2)\",\"System: Hematopoietic (966)\",\"Subsystem: Lymphoid (516)\",\"Organ: Blood (487)\",\"Cell type: B-cell (12)\",\"Ontology term: B cell (5)\",\"Ontology term: activated B cell (2)\",\"Ontology term: memory B cell (1)\",\"Ontology term: naive B cell (4)\",\"Cell type: Natural killer cell (61)\",\"Ontology term: immature natural killer cell (48)\",\"Ontology term: natural killer cell (13)\",\"Cell type: T-cell (414)\",\"Ontology term: CD4-positive, CD25-positive, alpha-beta regulatory T cell (6)\",\"Ontology term: CD4-positive, CD25-positive, alpha-beta regulatory T (1)\",\"Ontology term: CD4-positive, alpha-beta T cell (173)\",\"Ontology term: CD8-positive, alpha-beta T cell (65)\",\"Ontology term: CD8-positive, alpha-beta memory T cell (3)\",\"Ontology term: T follicular helper cell (1)\",\"Ontology term: T-cell (77)\",\"Ontology term: T-helper 1 cell (12)\",\"Ontology term: T-helper 17 cell (7)\",\"Ontology term: T-helper 2 cell (11)\",\"Ontology term: T-helper 22 cell (1)\",\"Ontology term: T-helper 9 cell (2)\",\"Ontology term: activated CD4-positive, alpha-beta T cell (2)\",\"Ontology term: activated T-helper 1 (1)\",\"Ontology term: activated T-helper 2 (2)\",\"Ontology term: activated effector memory CD4-positive, alpha-beta T cell (6)\",\"Ontology term: activated gamma-delta T cell (2)\",\"Ontology term: central memory CD4-positive, alpha-beta T cell (2)\",\"Ontology term: central memory CD8-positive, alpha-beta T cell (2)\",\"Ontology term: effector CD4-positive, alpha-beta T cell (2)\",\"Ontology term: effector memory CD8-positive, alpha-beta T cell (7)\",\"Ontology term: memory B cell (1)\",\"Ontology term: naive thymus-derived CD4-positive, alpha-beta T cell (2)\",\"Ontology term: naive thymus-derived CD8-positive, alpha-beta T cell (3)\",\"Ontology term: stimulated activated CD4-positive, alpha-beta memory T cell (6)\",\"Ontology term: stimulated activated naive CD4-positive, alpha-beta T cell (17)\",\"Organ: Spleen (8)\",\"Ontology term: spleen (8)\",\"Organ: Thymus (21)\",\"Ontology term: naive B cell (5)\",\"Ontology term: naive thymus-derived CD8-positive, alpha-beta T cell (16)\",\"Subsystem: MISSING (4)\",\"Organ: Bone marrow (4)\",\"Ontology term: bone marrow (4)\",\"Subsystem: Myeloid (412)\",\"Organ: Blood (412)\",\"Cell type: Inflammatory macrophage (154)\",\"Ontology term: inflammatory macrophage (154)\",\"Cell type: Monocyte (103)\",\"Ontology term: CD14-positive monocyte (103)\",\"Cell type: Myeloid dendritic cell (2)\",\"Ontology term: CD1c-positive myeloid dendritic cell (1)\",\"Ontology term: CD1c-positive myeloid dendritic (1)\",\"Cell type: Suppressor macrophage (153)\",\"Ontology term: suppressor macrophage (153)\",\"Subsystem: Progenitor (34)\",\"Organ: Blood (34)\",\"Cell type: Myeloid progenitor (34)\",\"Ontology term: common myeloid progenitor, CD34-positive (34)\",\"System: Hepatic (10)\",\"Organ: Liver (10)\",\"Ontology term: left lobe of liver (1)\",\"Ontology term: right lobe of liver (9)\",\"System: Integumentary (28)\",\"Organ: Fat pad (3)\",\"Ontology term: mesenteric fat pad (1)\",\"Ontology term: omental fat pad (2)\",\"Organ: Mammary (8)\",\"Ontology term: breast epithelium (4)\",\"Ontology term: mammary epithelial cell (4)\",\"Organ: Skin (17)\",\"Ontology term: foreskin keratinocyte (4)\",\"Ontology term: foreskin melanocyte (4)\",\"Ontology term: keratinocyte (2)\",\"Ontology term: lower leg skin (4)\",\"Ontology term: suprapubic skin (3)\",\"System: MISSING (2)\",\"Organ: MISSING (2)\",\"Ontology term: endodermal cell (2)\",\"System: Musculoskeletal (17)\",\"Organ: Muscle (17)\",\"Ontology term: Myotube (4)\",\"Ontology term: gastrocnemius medialis (6)\",\"Ontology term: psoas muscle (5)\",\"Ontology term: skeletal muscle cell (2)\",\"System: Nervous (919)\",\"Subsystem: Central (914)\",\"Organ: Brain (897)\",\"Ontology term: Globus pallidus (6)\",\"Ontology term: Mid frontal gyrus (1)\",\"Ontology term: Midbrain (2)\",\"Ontology term: ammon's horn (1)\",\"Ontology term: amygdala (67)\",\"Ontology term: anterior cingulate cortex (72)\",\"Ontology term: caudate nucleus (69)\",\"Ontology term: cerebellar cortex (3)\",\"Ontology term: cerebellar hemisphere (81)\",\"Ontology term: cerebellar nuclear complex (2)\",\"Ontology term: cerebellum (1)\",\"Ontology term: frontal cortex (67)\",\"Ontology term: head of caudate nucleus (86)\",\"Ontology term: hippocampus (68)\",\"Ontology term: hypothalamus (63)\",\"Ontology term: medulla (1)\",\"Ontology term: middle frontal area 46 (56)\",\"Ontology term: nucleus accumbens (69)\",\"Ontology term: occipital lobe (3)\",\"Ontology term: pons (1)\",\"Ontology term: posterior cingulate gyrus (48)\",\"Ontology term: putamen (72)\",\"Ontology term: substantia nigra (58)\",\"Organ: Spinal cord (17)\",\"Ontology term: spinal cord (17)\",\"Subsystem: Peripheral (5)\",\"Organ: Nerve (5)\",\"Ontology term: sciatic nerve (1)\",\"Ontology term: tibial nerve (4)\",\"System: Reproductive (18)\",\"Organ: Ovary (10)\",\"Ontology term: female gonad (10)\",\"Organ: Prostate (4)\",\"Ontology term: epithelial cell of prostate (2)\",\"Ontology term: prostate (2)\",\"Organ: Testis (1)\",\"Ontology term: testis (1)\",\"Organ: Uterus (3)\",\"Ontology term: uterus (3)\",\"System: Respiratory (27)\",\"Organ: Lung (27)\",\"Ontology term: bronchial epithelial cell (2)\",\"Ontology term: left lung (5)\",\"Ontology term: lower lobe of left lung (5)\",\"Ontology term: lower lobe of right lung (3)\",\"Ontology term: upper lobe of left lung (9)\",\"Ontology term: upper lobe of right lung (3)\",\"System: Urinary (18)\",\"Organ: Kidney (17)\",\"Ontology term: cortex of kidney (1)\",\"Ontology term: epithelial cell of proximal tubule (2)\",\"Ontology term: kidney epithelial cell (2)\",\"Ontology term: kidney glomerular epithelial cell (1)\",\"Ontology term: kidney tubule cell (6)\",\"Ontology term: kidney (3)\",\"Ontology term: renal cortical epithelial cell (2)\",\"Organ: Ureter (1)\",\"Ontology term: ureter (1)\"],\"x\":[358.44111009700754,166.2930935778237,77.67837465564739,77.67837465564739,2.125,0.0,0,4.25,4,4.5,12.125,9.5,8.5,9.0,9.5,10.0,10.5,14.75,14.5,15.0,19.0,19.0,19.0,48.79545454545455,23.25,23.0,23.5,27.5,27.5,32.75,31.5,32.0,32.5,33.0,33.5,34.0,39.25,38.0,38.5,39.0,39.5,40.0,40.5,44.5,44.5,48.75,48.5,49.0,53.0,53.0,59.25,57.0,57.5,58.0,58.5,59.0,59.5,60.0,60.5,61.0,61.5,65.5,65.5,69.5,69.5,73.5,73.5,77.5,77.5,77.5,85.58333333333333,81.5,81.5,85.5,85.5,89.75,89.5,90.0,95.0,95.0,94.0,94.5,95.0,95.5,96.0,105.08333333333333,100.0,100.0,105.0,104.0,104.5,105.0,105.5,106.0,110.25,110.0,110.5,115.25,115.25,114.5,115.0,115.5,116.0,139.75,129.25,120.0,120.5,121.0,121.5,122.0,122.5,123.0,123.5,124.0,124.5,125.0,125.5,126.0,126.5,127.0,127.5,128.0,128.5,129.0,129.5,130.0,130.5,131.0,131.5,132.0,132.5,133.0,133.5,134.0,134.5,135.0,135.5,136.0,136.5,137.0,137.5,138.0,138.5,142.75,142.5,143.0,147.25,147.0,147.5,154.25,152.0,151.5,152.0,152.5,156.5,156.5,254.9078125,191.0,177.5,176.5,177.0,177.5,178.0,178.5,182.5,182.5,188.25,186.5,187.0,187.5,188.0,188.5,189.0,189.5,190.0,194.75,194.0,194.5,195.0,195.5,199.5,199.5,203.5,203.5,229.03125,213.5,213.5,217.5,217.5,221.5,221.5,226.75,225.5,226.0,226.5,227.0,227.5,228.0,232.0,232.0,236.0,236.0,240.25,240.0,240.5,244.75,244.5,245.0,276.6,261.0,261.0,255.0,259.0,263.0,267.0,273.0,271.0,271.0,275.0,275.0,279.0,279.0,279.0,283.0,283.0,283.0,287.0,287.0,287.0,323.0,297.0,301.0,305.0,309.0,313.0,317.0,321.0,325.0,329.0,333.0,337.0,341.0,345.0,349.0,550.5891266161914,369.0,369.0,369.0,369.0,732.1782532323828,523.5622710622711,398.0,391.0,389.0,393.0,405.0,397.0,401.0,405.0,409.0,413.0,446.14285714285717,425.0,417.0,421.0,425.0,429.0,433.0,437.0,437.0,441.0,441.0,447.0,445.0,449.0,453.0,453.0,457.0,457.0,463.0,461.0,465.0,475.0,469.0,469.0,473.0,473.0,477.0,477.0,481.0,481.0,485.0,485.0,485.0,489.0,489.0,489.0,499.0,493.0,493.0,497.0,497.0,507.0,501.0,505.0,509.0,513.0,522.0,519.0,517.0,521.0,525.0,525.0,531.0,529.0,529.0,533.0,533.0,547.5,537.0,537.0,541.0,541.0,551.0,545.0,549.0,553.0,557.0,561.0,561.0,581.6666666666666,571.0,565.0,569.0,573.0,577.0,583.0,581.0,585.0,591.0,589.0,593.0,599.0,597.0,597.0,601.0,601.0,609.0,609.0,605.0,609.0,613.0,624.0,617.0,617.0,631.0,621.0,625.0,629.0,633.0,637.0,641.0,940.7942354024943,695.8571428571429,651.0,651.0,657.0,655.0,659.0,685.0,663.0,667.0,671.0,675.0,679.0,683.0,687.0,691.0,695.0,699.0,703.0,707.0,711.0,711.0,717.0,715.0,719.0,723.0,723.0,727.0,727.0,755.0,733.0,731.0,735.0,741.0,739.0,743.0,747.0,747.0,751.0,751.0,755.0,755.0,771.0,759.0,763.0,767.0,771.0,775.0,779.0,783.0,787.0,787.0,823.6666666666666,801.0,791.0,795.0,799.0,803.0,807.0,811.0,817.0,815.0,819.0,823.0,823.0,827.0,827.0,833.0,831.0,835.0,841.0,839.0,843.0,851.0,847.0,847.0,851.0,851.0,855.0,855.0,859.0,859.0,859.0,905.0954861111111,885.1944444444445,870.5833333333334,863.75,863.0,863.5,864.0,864.5,868.75,868.5,869.0,879.25,873.0,873.5,874.0,874.5,875.0,875.5,876.0,876.5,877.0,877.5,878.0,878.5,879.0,879.5,880.0,880.5,881.0,881.5,882.0,882.5,883.0,883.5,884.0,884.5,885.0,885.5,889.5,889.5,895.5,893.5,897.5,901.5,901.5,901.5,911.6875,911.6875,905.5,905.5,909.5,909.5,913.75,913.5,914.0,918.0,918.0,922.0,922.0,922.0,922.0,928.0,928.0,926.0,930.0,946.0,936.0,934.0,938.0,944.0,942.0,946.0,958.0,950.0,954.0,958.0,962.0,966.0,970.0,970.0,970.0,980.0,980.0,974.0,978.0,982.0,986.0,1073.0,1058.0,1034.0,990.0,994.0,998.0,1002.0,1006.0,1010.0,1014.0,1018.0,1022.0,1026.0,1030.0,1034.0,1038.0,1042.0,1046.0,1050.0,1054.0,1058.0,1062.0,1066.0,1070.0,1074.0,1078.0,1082.0,1082.0,1088.0,1088.0,1086.0,1090.0,1102.5,1094.0,1094.0,1100.0,1098.0,1102.0,1106.0,1106.0,1110.0,1110.0,1124.0,1124.0,1114.0,1118.0,1122.0,1126.0,1130.0,1134.0,1158.0,1150.0,1138.0,1142.0,1146.0,1150.0,1154.0,1158.0,1162.0,1166.0,1166.0],\"y\":[8,7,6,5,4,1,0,1,0,0,4,1,0,0,0,0,0,1,0,0,4,1,0,4,1,0,0,1,0,1,0,0,0,0,0,0,1,0,0,0,0,0,0,1,0,1,0,0,1,0,1,0,0,0,0,0,0,0,0,0,0,1,0,1,0,1,0,4,1,0,4,1,0,1,0,1,0,0,4,1,0,0,0,0,0,4,1,0,1,0,0,0,0,0,1,0,0,4,1,0,0,0,0,4,1,0,0,0,0,0,0,0,0,0,0,0,0,0,0,0,0,0,0,0,0,0,0,0,0,0,0,0,0,0,0,0,0,0,0,0,0,0,0,1,0,0,1,0,0,4,1,0,0,0,1,0,6,5,1,0,0,0,0,0,1,0,1,0,0,0,0,0,0,0,0,1,0,0,0,0,1,0,1,0,5,1,0,1,0,1,0,1,0,0,0,0,0,0,1,0,1,0,1,0,0,1,0,0,5,4,2,0,0,0,0,4,2,0,2,0,4,2,0,4,2,0,4,2,0,5,0,0,0,0,0,0,0,0,0,0,0,0,0,0,7,6,4,2,0,6,5,4,2,0,0,2,0,0,0,0,0,4,2,0,0,0,0,0,2,0,2,0,2,0,0,2,0,2,0,2,0,0,4,2,0,2,0,2,0,2,0,4,2,0,4,2,0,4,2,0,2,0,2,0,0,0,0,4,2,0,0,2,0,4,2,0,2,0,4,2,0,2,0,2,0,0,0,0,2,0,4,2,0,0,0,0,2,0,0,2,0,0,4,2,0,2,0,4,2,0,0,0,4,2,0,2,0,0,0,0,0,0,5,4,2,0,2,0,0,2,0,0,0,0,0,0,0,0,0,0,0,0,2,0,2,0,0,2,0,2,0,4,2,0,0,2,0,0,2,0,2,0,2,0,2,0,0,0,0,0,0,0,2,0,4,2,0,0,0,0,0,0,2,0,0,2,0,2,0,2,0,0,2,0,0,4,2,0,2,0,2,0,4,2,0,4,3,2,1,0,0,0,0,1,0,0,1,0,0,0,0,0,0,0,0,0,0,0,0,0,0,0,0,0,0,0,0,0,0,0,0,0,0,2,0,2,0,0,3,2,0,3,2,1,0,1,0,1,0,0,1,0,3,2,1,0,4,2,0,0,4,2,0,0,2,0,0,2,0,0,0,0,0,4,2,0,4,2,0,0,0,0,4,3,2,0,0,0,0,0,0,0,0,0,0,0,0,0,0,0,0,0,0,0,0,0,0,0,2,0,3,2,0,0,4,2,0,2,0,0,2,0,2,0,4,2,0,0,0,0,0,0,4,2,0,0,0,0,0,0,0,2,0],\"type\":\"scatter\"}],                        {\"template\":{\"data\":{\"histogram2dcontour\":[{\"type\":\"histogram2dcontour\",\"colorbar\":{\"outlinewidth\":0,\"ticks\":\"\"},\"colorscale\":[[0.0,\"#0d0887\"],[0.1111111111111111,\"#46039f\"],[0.2222222222222222,\"#7201a8\"],[0.3333333333333333,\"#9c179e\"],[0.4444444444444444,\"#bd3786\"],[0.5555555555555556,\"#d8576b\"],[0.6666666666666666,\"#ed7953\"],[0.7777777777777778,\"#fb9f3a\"],[0.8888888888888888,\"#fdca26\"],[1.0,\"#f0f921\"]]}],\"choropleth\":[{\"type\":\"choropleth\",\"colorbar\":{\"outlinewidth\":0,\"ticks\":\"\"}}],\"histogram2d\":[{\"type\":\"histogram2d\",\"colorbar\":{\"outlinewidth\":0,\"ticks\":\"\"},\"colorscale\":[[0.0,\"#0d0887\"],[0.1111111111111111,\"#46039f\"],[0.2222222222222222,\"#7201a8\"],[0.3333333333333333,\"#9c179e\"],[0.4444444444444444,\"#bd3786\"],[0.5555555555555556,\"#d8576b\"],[0.6666666666666666,\"#ed7953\"],[0.7777777777777778,\"#fb9f3a\"],[0.8888888888888888,\"#fdca26\"],[1.0,\"#f0f921\"]]}],\"heatmap\":[{\"type\":\"heatmap\",\"colorbar\":{\"outlinewidth\":0,\"ticks\":\"\"},\"colorscale\":[[0.0,\"#0d0887\"],[0.1111111111111111,\"#46039f\"],[0.2222222222222222,\"#7201a8\"],[0.3333333333333333,\"#9c179e\"],[0.4444444444444444,\"#bd3786\"],[0.5555555555555556,\"#d8576b\"],[0.6666666666666666,\"#ed7953\"],[0.7777777777777778,\"#fb9f3a\"],[0.8888888888888888,\"#fdca26\"],[1.0,\"#f0f921\"]]}],\"heatmapgl\":[{\"type\":\"heatmapgl\",\"colorbar\":{\"outlinewidth\":0,\"ticks\":\"\"},\"colorscale\":[[0.0,\"#0d0887\"],[0.1111111111111111,\"#46039f\"],[0.2222222222222222,\"#7201a8\"],[0.3333333333333333,\"#9c179e\"],[0.4444444444444444,\"#bd3786\"],[0.5555555555555556,\"#d8576b\"],[0.6666666666666666,\"#ed7953\"],[0.7777777777777778,\"#fb9f3a\"],[0.8888888888888888,\"#fdca26\"],[1.0,\"#f0f921\"]]}],\"contourcarpet\":[{\"type\":\"contourcarpet\",\"colorbar\":{\"outlinewidth\":0,\"ticks\":\"\"}}],\"contour\":[{\"type\":\"contour\",\"colorbar\":{\"outlinewidth\":0,\"ticks\":\"\"},\"colorscale\":[[0.0,\"#0d0887\"],[0.1111111111111111,\"#46039f\"],[0.2222222222222222,\"#7201a8\"],[0.3333333333333333,\"#9c179e\"],[0.4444444444444444,\"#bd3786\"],[0.5555555555555556,\"#d8576b\"],[0.6666666666666666,\"#ed7953\"],[0.7777777777777778,\"#fb9f3a\"],[0.8888888888888888,\"#fdca26\"],[1.0,\"#f0f921\"]]}],\"surface\":[{\"type\":\"surface\",\"colorbar\":{\"outlinewidth\":0,\"ticks\":\"\"},\"colorscale\":[[0.0,\"#0d0887\"],[0.1111111111111111,\"#46039f\"],[0.2222222222222222,\"#7201a8\"],[0.3333333333333333,\"#9c179e\"],[0.4444444444444444,\"#bd3786\"],[0.5555555555555556,\"#d8576b\"],[0.6666666666666666,\"#ed7953\"],[0.7777777777777778,\"#fb9f3a\"],[0.8888888888888888,\"#fdca26\"],[1.0,\"#f0f921\"]]}],\"mesh3d\":[{\"type\":\"mesh3d\",\"colorbar\":{\"outlinewidth\":0,\"ticks\":\"\"}}],\"scatter\":[{\"fillpattern\":{\"fillmode\":\"overlay\",\"size\":10,\"solidity\":0.2},\"type\":\"scatter\"}],\"parcoords\":[{\"type\":\"parcoords\",\"line\":{\"colorbar\":{\"outlinewidth\":0,\"ticks\":\"\"}}}],\"scatterpolargl\":[{\"type\":\"scatterpolargl\",\"marker\":{\"colorbar\":{\"outlinewidth\":0,\"ticks\":\"\"}}}],\"bar\":[{\"error_x\":{\"color\":\"#2a3f5f\"},\"error_y\":{\"color\":\"#2a3f5f\"},\"marker\":{\"line\":{\"color\":\"#E5ECF6\",\"width\":0.5},\"pattern\":{\"fillmode\":\"overlay\",\"size\":10,\"solidity\":0.2}},\"type\":\"bar\"}],\"scattergeo\":[{\"type\":\"scattergeo\",\"marker\":{\"colorbar\":{\"outlinewidth\":0,\"ticks\":\"\"}}}],\"scatterpolar\":[{\"type\":\"scatterpolar\",\"marker\":{\"colorbar\":{\"outlinewidth\":0,\"ticks\":\"\"}}}],\"histogram\":[{\"marker\":{\"pattern\":{\"fillmode\":\"overlay\",\"size\":10,\"solidity\":0.2}},\"type\":\"histogram\"}],\"scattergl\":[{\"type\":\"scattergl\",\"marker\":{\"colorbar\":{\"outlinewidth\":0,\"ticks\":\"\"}}}],\"scatter3d\":[{\"type\":\"scatter3d\",\"line\":{\"colorbar\":{\"outlinewidth\":0,\"ticks\":\"\"}},\"marker\":{\"colorbar\":{\"outlinewidth\":0,\"ticks\":\"\"}}}],\"scattermapbox\":[{\"type\":\"scattermapbox\",\"marker\":{\"colorbar\":{\"outlinewidth\":0,\"ticks\":\"\"}}}],\"scatterternary\":[{\"type\":\"scatterternary\",\"marker\":{\"colorbar\":{\"outlinewidth\":0,\"ticks\":\"\"}}}],\"scattercarpet\":[{\"type\":\"scattercarpet\",\"marker\":{\"colorbar\":{\"outlinewidth\":0,\"ticks\":\"\"}}}],\"carpet\":[{\"aaxis\":{\"endlinecolor\":\"#2a3f5f\",\"gridcolor\":\"white\",\"linecolor\":\"white\",\"minorgridcolor\":\"white\",\"startlinecolor\":\"#2a3f5f\"},\"baxis\":{\"endlinecolor\":\"#2a3f5f\",\"gridcolor\":\"white\",\"linecolor\":\"white\",\"minorgridcolor\":\"white\",\"startlinecolor\":\"#2a3f5f\"},\"type\":\"carpet\"}],\"table\":[{\"cells\":{\"fill\":{\"color\":\"#EBF0F8\"},\"line\":{\"color\":\"white\"}},\"header\":{\"fill\":{\"color\":\"#C8D4E3\"},\"line\":{\"color\":\"white\"}},\"type\":\"table\"}],\"barpolar\":[{\"marker\":{\"line\":{\"color\":\"#E5ECF6\",\"width\":0.5},\"pattern\":{\"fillmode\":\"overlay\",\"size\":10,\"solidity\":0.2}},\"type\":\"barpolar\"}],\"pie\":[{\"automargin\":true,\"type\":\"pie\"}]},\"layout\":{\"autotypenumbers\":\"strict\",\"colorway\":[\"#636efa\",\"#EF553B\",\"#00cc96\",\"#ab63fa\",\"#FFA15A\",\"#19d3f3\",\"#FF6692\",\"#B6E880\",\"#FF97FF\",\"#FECB52\"],\"font\":{\"color\":\"#2a3f5f\"},\"hovermode\":\"closest\",\"hoverlabel\":{\"align\":\"left\"},\"paper_bgcolor\":\"white\",\"plot_bgcolor\":\"#E5ECF6\",\"polar\":{\"bgcolor\":\"#E5ECF6\",\"angularaxis\":{\"gridcolor\":\"white\",\"linecolor\":\"white\",\"ticks\":\"\"},\"radialaxis\":{\"gridcolor\":\"white\",\"linecolor\":\"white\",\"ticks\":\"\"}},\"ternary\":{\"bgcolor\":\"#E5ECF6\",\"aaxis\":{\"gridcolor\":\"white\",\"linecolor\":\"white\",\"ticks\":\"\"},\"baxis\":{\"gridcolor\":\"white\",\"linecolor\":\"white\",\"ticks\":\"\"},\"caxis\":{\"gridcolor\":\"white\",\"linecolor\":\"white\",\"ticks\":\"\"}},\"coloraxis\":{\"colorbar\":{\"outlinewidth\":0,\"ticks\":\"\"}},\"colorscale\":{\"sequential\":[[0.0,\"#0d0887\"],[0.1111111111111111,\"#46039f\"],[0.2222222222222222,\"#7201a8\"],[0.3333333333333333,\"#9c179e\"],[0.4444444444444444,\"#bd3786\"],[0.5555555555555556,\"#d8576b\"],[0.6666666666666666,\"#ed7953\"],[0.7777777777777778,\"#fb9f3a\"],[0.8888888888888888,\"#fdca26\"],[1.0,\"#f0f921\"]],\"sequentialminus\":[[0.0,\"#0d0887\"],[0.1111111111111111,\"#46039f\"],[0.2222222222222222,\"#7201a8\"],[0.3333333333333333,\"#9c179e\"],[0.4444444444444444,\"#bd3786\"],[0.5555555555555556,\"#d8576b\"],[0.6666666666666666,\"#ed7953\"],[0.7777777777777778,\"#fb9f3a\"],[0.8888888888888888,\"#fdca26\"],[1.0,\"#f0f921\"]],\"diverging\":[[0,\"#8e0152\"],[0.1,\"#c51b7d\"],[0.2,\"#de77ae\"],[0.3,\"#f1b6da\"],[0.4,\"#fde0ef\"],[0.5,\"#f7f7f7\"],[0.6,\"#e6f5d0\"],[0.7,\"#b8e186\"],[0.8,\"#7fbc41\"],[0.9,\"#4d9221\"],[1,\"#276419\"]]},\"xaxis\":{\"gridcolor\":\"white\",\"linecolor\":\"white\",\"ticks\":\"\",\"title\":{\"standoff\":15},\"zerolinecolor\":\"white\",\"automargin\":true,\"zerolinewidth\":2},\"yaxis\":{\"gridcolor\":\"white\",\"linecolor\":\"white\",\"ticks\":\"\",\"title\":{\"standoff\":15},\"zerolinecolor\":\"white\",\"automargin\":true,\"zerolinewidth\":2},\"scene\":{\"xaxis\":{\"backgroundcolor\":\"#E5ECF6\",\"gridcolor\":\"white\",\"linecolor\":\"white\",\"showbackground\":true,\"ticks\":\"\",\"zerolinecolor\":\"white\",\"gridwidth\":2},\"yaxis\":{\"backgroundcolor\":\"#E5ECF6\",\"gridcolor\":\"white\",\"linecolor\":\"white\",\"showbackground\":true,\"ticks\":\"\",\"zerolinecolor\":\"white\",\"gridwidth\":2},\"zaxis\":{\"backgroundcolor\":\"#E5ECF6\",\"gridcolor\":\"white\",\"linecolor\":\"white\",\"showbackground\":true,\"ticks\":\"\",\"zerolinecolor\":\"white\",\"gridwidth\":2}},\"shapedefaults\":{\"line\":{\"color\":\"#2a3f5f\"}},\"annotationdefaults\":{\"arrowcolor\":\"#2a3f5f\",\"arrowhead\":0,\"arrowwidth\":1},\"geo\":{\"bgcolor\":\"white\",\"landcolor\":\"#E5ECF6\",\"subunitcolor\":\"white\",\"showland\":true,\"showlakes\":true,\"lakecolor\":\"white\"},\"title\":{\"x\":0.05},\"mapbox\":{\"style\":\"light\"}}},\"font\":{\"size\":12},\"xaxis\":{\"showline\":false,\"zeroline\":false,\"showgrid\":false,\"showticklabels\":false,\"range\":[-174.9,1177.66]},\"yaxis\":{\"showline\":false,\"zeroline\":false,\"showgrid\":false,\"showticklabels\":false},\"margin\":{\"l\":40,\"r\":40,\"b\":85,\"t\":100},\"title\":{\"text\":\"3780 Metadata\"},\"showlegend\":false,\"hovermode\":\"closest\",\"plot_bgcolor\":\"rgb(255,255,255)\",\"shapes\":[{\"layer\":\"below\",\"line\":{\"color\":\"rgb(180,180,180)\",\"width\":5.103507160088766},\"path\":\"M 358.44111009700754,8 C 358.44111009700754,7.5 166.2930935778237,7.5 166.2930935778237,7\",\"type\":\"path\"},{\"layer\":\"below\",\"line\":{\"color\":\"rgb(180,180,180)\",\"width\":5.020829575818607},\"path\":\"M 166.2930935778237,7 C 166.2930935778237,6.5 77.67837465564739,6.5 77.67837465564739,6\",\"type\":\"path\"},{\"layer\":\"below\",\"line\":{\"color\":\"rgb(180,180,180)\",\"width\":5.020829575818607},\"path\":\"M 77.67837465564739,6 C 77.67837465564739,5.5 77.67837465564739,5.5 77.67837465564739,5\",\"type\":\"path\"},{\"layer\":\"below\",\"line\":{\"color\":\"rgb(180,180,180)\",\"width\":1.584962500721156},\"path\":\"M 77.67837465564739,5 C 77.67837465564739,4.5 2.125,4.5 2.125,4\",\"type\":\"path\"},{\"layer\":\"below\",\"line\":{\"color\":\"rgb(180,180,180)\",\"width\":0.792481250360578},\"path\":\"M 2.125,4 C 2.125,2.5 0.0,2.5 0.0,1\",\"type\":\"path\"},{\"layer\":\"below\",\"line\":{\"color\":\"rgb(180,180,180)\",\"width\":0.792481250360578},\"path\":\"M 0.0,1 C 0.0,0.5 0,0.5 0,0\",\"type\":\"path\"},{\"layer\":\"below\",\"line\":{\"color\":\"rgb(180,180,180)\",\"width\":1.403677461028802},\"path\":\"M 2.125,4 C 2.125,2.5 4.25,2.5 4.25,1\",\"type\":\"path\"},{\"layer\":\"below\",\"line\":{\"color\":\"rgb(180,180,180)\",\"width\":0.792481250360578},\"path\":\"M 4.25,1 C 4.25,0.5 4,0.5 4,0\",\"type\":\"path\"},{\"layer\":\"below\",\"line\":{\"color\":\"rgb(180,180,180)\",\"width\":1.160964047443681},\"path\":\"M 4.25,1 C 4.25,0.5 4.5,0.5 4.5,0\",\"type\":\"path\"},{\"layer\":\"below\",\"line\":{\"color\":\"rgb(180,180,180)\",\"width\":2.678776002309042},\"path\":\"M 77.67837465564739,5 C 77.67837465564739,4.5 12.125,4.5 12.125,4\",\"type\":\"path\"},{\"layer\":\"below\",\"line\":{\"color\":\"rgb(180,180,180)\",\"width\":2.0},\"path\":\"M 12.125,4 C 12.125,2.5 9.5,2.5 9.5,1\",\"type\":\"path\"},{\"layer\":\"below\",\"line\":{\"color\":\"rgb(180,180,180)\",\"width\":1.292481250360578},\"path\":\"M 9.5,1 C 9.5,0.5 8.5,0.5 8.5,0\",\"type\":\"path\"},{\"layer\":\"below\",\"line\":{\"color\":\"rgb(180,180,180)\",\"width\":0.792481250360578},\"path\":\"M 9.5,1 C 9.5,0.5 9.0,0.5 9.0,0\",\"type\":\"path\"},{\"layer\":\"below\",\"line\":{\"color\":\"rgb(180,180,180)\",\"width\":1.160964047443681},\"path\":\"M 9.5,1 C 9.5,0.5 9.5,0.5 9.5,0\",\"type\":\"path\"},{\"layer\":\"below\",\"line\":{\"color\":\"rgb(180,180,180)\",\"width\":0.792481250360578},\"path\":\"M 9.5,1 C 9.5,0.5 10.0,0.5 10.0,0\",\"type\":\"path\"},{\"layer\":\"below\",\"line\":{\"color\":\"rgb(180,180,180)\",\"width\":0.792481250360578},\"path\":\"M 9.5,1 C 9.5,0.5 10.5,0.5 10.5,0\",\"type\":\"path\"},{\"layer\":\"below\",\"line\":{\"color\":\"rgb(180,180,180)\",\"width\":2.3502198590705463},\"path\":\"M 12.125,4 C 12.125,2.5 14.75,2.5 14.75,1\",\"type\":\"path\"},{\"layer\":\"below\",\"line\":{\"color\":\"rgb(180,180,180)\",\"width\":2.292481250360578},\"path\":\"M 14.75,1 C 14.75,0.5 14.5,0.5 14.5,0\",\"type\":\"path\"},{\"layer\":\"below\",\"line\":{\"color\":\"rgb(180,180,180)\",\"width\":0.792481250360578},\"path\":\"M 14.75,1 C 14.75,0.5 15.0,0.5 15.0,0\",\"type\":\"path\"},{\"layer\":\"below\",\"line\":{\"color\":\"rgb(180,180,180)\",\"width\":0.792481250360578},\"path\":\"M 77.67837465564739,5 C 77.67837465564739,4.5 19.0,4.5 19.0,4\",\"type\":\"path\"},{\"layer\":\"below\",\"line\":{\"color\":\"rgb(180,180,180)\",\"width\":0.792481250360578},\"path\":\"M 19.0,4 C 19.0,2.5 19.0,2.5 19.0,1\",\"type\":\"path\"},{\"layer\":\"below\",\"line\":{\"color\":\"rgb(180,180,180)\",\"width\":0.792481250360578},\"path\":\"M 19.0,1 C 19.0,0.5 19.0,0.5 19.0,0\",\"type\":\"path\"},{\"layer\":\"below\",\"line\":{\"color\":\"rgb(180,180,180)\",\"width\":4.25587632688369},\"path\":\"M 77.67837465564739,5 C 77.67837465564739,4.5 48.79545454545455,4.5 48.79545454545455,4\",\"type\":\"path\"},{\"layer\":\"below\",\"line\":{\"color\":\"rgb(180,180,180)\",\"width\":1.160964047443681},\"path\":\"M 48.79545454545455,4 C 48.79545454545455,2.5 23.25,2.5 23.25,1\",\"type\":\"path\"},{\"layer\":\"below\",\"line\":{\"color\":\"rgb(180,180,180)\",\"width\":0.792481250360578},\"path\":\"M 23.25,1 C 23.25,0.5 23.0,0.5 23.0,0\",\"type\":\"path\"},{\"layer\":\"below\",\"line\":{\"color\":\"rgb(180,180,180)\",\"width\":0.792481250360578},\"path\":\"M 23.25,1 C 23.25,0.5 23.5,0.5 23.5,0\",\"type\":\"path\"},{\"layer\":\"below\",\"line\":{\"color\":\"rgb(180,180,180)\",\"width\":1.403677461028802},\"path\":\"M 48.79545454545455,4 C 48.79545454545455,2.5 27.5,2.5 27.5,1\",\"type\":\"path\"},{\"layer\":\"below\",\"line\":{\"color\":\"rgb(180,180,180)\",\"width\":1.403677461028802},\"path\":\"M 27.5,1 C 27.5,0.5 27.5,0.5 27.5,0\",\"type\":\"path\"},{\"layer\":\"below\",\"line\":{\"color\":\"rgb(180,180,180)\",\"width\":3.9534452978042594},\"path\":\"M 48.79545454545455,4 C 48.79545454545455,2.5 32.75,2.5 32.75,1\",\"type\":\"path\"},{\"layer\":\"below\",\"line\":{\"color\":\"rgb(180,180,180)\",\"width\":1.584962500721156},\"path\":\"M 32.75,1 C 32.75,0.5 31.5,0.5 31.5,0\",\"type\":\"path\"},{\"layer\":\"below\",\"line\":{\"color\":\"rgb(180,180,180)\",\"width\":0.792481250360578},\"path\":\"M 32.75,1 C 32.75,0.5 32.0,0.5 32.0,0\",\"type\":\"path\"},{\"layer\":\"below\",\"line\":{\"color\":\"rgb(180,180,180)\",\"width\":1.660964047443681},\"path\":\"M 32.75,1 C 32.75,0.5 32.5,0.5 32.5,0\",\"type\":\"path\"},{\"layer\":\"below\",\"line\":{\"color\":\"rgb(180,180,180)\",\"width\":3.877443751081734},\"path\":\"M 32.75,1 C 32.75,0.5 33.0,0.5 33.0,0\",\"type\":\"path\"},{\"layer\":\"below\",\"line\":{\"color\":\"rgb(180,180,180)\",\"width\":0.792481250360578},\"path\":\"M 32.75,1 C 32.75,0.5 33.5,0.5 33.5,0\",\"type\":\"path\"},{\"layer\":\"below\",\"line\":{\"color\":\"rgb(180,180,180)\",\"width\":1.0},\"path\":\"M 32.75,1 C 32.75,0.5 34.0,0.5 34.0,0\",\"type\":\"path\"},{\"layer\":\"below\",\"line\":{\"color\":\"rgb(180,180,180)\",\"width\":2.377443751081734},\"path\":\"M 48.79545454545455,4 C 48.79545454545455,2.5 39.25,2.5 39.25,1\",\"type\":\"path\"},{\"layer\":\"below\",\"line\":{\"color\":\"rgb(180,180,180)\",\"width\":1.160964047443681},\"path\":\"M 39.25,1 C 39.25,0.5 38.0,0.5 38.0,0\",\"type\":\"path\"},{\"layer\":\"below\",\"line\":{\"color\":\"rgb(180,180,180)\",\"width\":0.792481250360578},\"path\":\"M 39.25,1 C 39.25,0.5 38.5,0.5 38.5,0\",\"type\":\"path\"},{\"layer\":\"below\",\"line\":{\"color\":\"rgb(180,180,180)\",\"width\":0.792481250360578},\"path\":\"M 39.25,1 C 39.25,0.5 39.0,0.5 39.0,0\",\"type\":\"path\"},{\"layer\":\"below\",\"line\":{\"color\":\"rgb(180,180,180)\",\"width\":0.792481250360578},\"path\":\"M 39.25,1 C 39.25,0.5 39.5,0.5 39.5,0\",\"type\":\"path\"},{\"layer\":\"below\",\"line\":{\"color\":\"rgb(180,180,180)\",\"width\":0.792481250360578},\"path\":\"M 39.25,1 C 39.25,0.5 40.0,0.5 40.0,0\",\"type\":\"path\"},{\"layer\":\"below\",\"line\":{\"color\":\"rgb(180,180,180)\",\"width\":1.9534452978042594},\"path\":\"M 39.25,1 C 39.25,0.5 40.5,0.5 40.5,0\",\"type\":\"path\"},{\"layer\":\"below\",\"line\":{\"color\":\"rgb(180,180,180)\",\"width\":0.792481250360578},\"path\":\"M 48.79545454545455,4 C 48.79545454545455,2.5 44.5,2.5 44.5,1\",\"type\":\"path\"},{\"layer\":\"below\",\"line\":{\"color\":\"rgb(180,180,180)\",\"width\":0.792481250360578},\"path\":\"M 44.5,1 C 44.5,0.5 44.5,0.5 44.5,0\",\"type\":\"path\"},{\"layer\":\"below\",\"line\":{\"color\":\"rgb(180,180,180)\",\"width\":1.792481250360578},\"path\":\"M 48.79545454545455,4 C 48.79545454545455,2.5 48.75,2.5 48.75,1\",\"type\":\"path\"},{\"layer\":\"below\",\"line\":{\"color\":\"rgb(180,180,180)\",\"width\":0.5},\"path\":\"M 48.75,1 C 48.75,0.5 48.5,0.5 48.5,0\",\"type\":\"path\"},{\"layer\":\"below\",\"line\":{\"color\":\"rgb(180,180,180)\",\"width\":1.7297158093186487},\"path\":\"M 48.75,1 C 48.75,0.5 49.0,0.5 49.0,0\",\"type\":\"path\"},{\"layer\":\"below\",\"line\":{\"color\":\"rgb(180,180,180)\",\"width\":0.792481250360578},\"path\":\"M 48.79545454545455,4 C 48.79545454545455,2.5 53.0,2.5 53.0,1\",\"type\":\"path\"},{\"layer\":\"below\",\"line\":{\"color\":\"rgb(180,180,180)\",\"width\":0.792481250360578},\"path\":\"M 53.0,1 C 53.0,0.5 53.0,0.5 53.0,0\",\"type\":\"path\"},{\"layer\":\"below\",\"line\":{\"color\":\"rgb(180,180,180)\",\"width\":2.9886399617499584},\"path\":\"M 48.79545454545455,4 C 48.79545454545455,2.5 59.25,2.5 59.25,1\",\"type\":\"path\"},{\"layer\":\"below\",\"line\":{\"color\":\"rgb(180,180,180)\",\"width\":1.160964047443681},\"path\":\"M 59.25,1 C 59.25,0.5 57.0,0.5 57.0,0\",\"type\":\"path\"},{\"layer\":\"below\",\"line\":{\"color\":\"rgb(180,180,180)\",\"width\":0.792481250360578},\"path\":\"M 59.25,1 C 59.25,0.5 57.5,0.5 57.5,0\",\"type\":\"path\"},{\"layer\":\"below\",\"line\":{\"color\":\"rgb(180,180,180)\",\"width\":1.9534452978042594},\"path\":\"M 59.25,1 C 59.25,0.5 58.0,0.5 58.0,0\",\"type\":\"path\"},{\"layer\":\"below\",\"line\":{\"color\":\"rgb(180,180,180)\",\"width\":0.792481250360578},\"path\":\"M 59.25,1 C 59.25,0.5 58.5,0.5 58.5,0\",\"type\":\"path\"},{\"layer\":\"below\",\"line\":{\"color\":\"rgb(180,180,180)\",\"width\":1.7297158093186487},\"path\":\"M 59.25,1 C 59.25,0.5 59.0,0.5 59.0,0\",\"type\":\"path\"},{\"layer\":\"below\",\"line\":{\"color\":\"rgb(180,180,180)\",\"width\":1.850219859070546},\"path\":\"M 59.25,1 C 59.25,0.5 59.5,0.5 59.5,0\",\"type\":\"path\"},{\"layer\":\"below\",\"line\":{\"color\":\"rgb(180,180,180)\",\"width\":1.7297158093186487},\"path\":\"M 59.25,1 C 59.25,0.5 60.0,0.5 60.0,0\",\"type\":\"path\"},{\"layer\":\"below\",\"line\":{\"color\":\"rgb(180,180,180)\",\"width\":0.792481250360578},\"path\":\"M 59.25,1 C 59.25,0.5 60.5,0.5 60.5,0\",\"type\":\"path\"},{\"layer\":\"below\",\"line\":{\"color\":\"rgb(180,180,180)\",\"width\":0.5},\"path\":\"M 59.25,1 C 59.25,0.5 61.0,0.5 61.0,0\",\"type\":\"path\"},{\"layer\":\"below\",\"line\":{\"color\":\"rgb(180,180,180)\",\"width\":1.292481250360578},\"path\":\"M 59.25,1 C 59.25,0.5 61.5,0.5 61.5,0\",\"type\":\"path\"},{\"layer\":\"below\",\"line\":{\"color\":\"rgb(180,180,180)\",\"width\":1.0},\"path\":\"M 48.79545454545455,4 C 48.79545454545455,2.5 65.5,2.5 65.5,1\",\"type\":\"path\"},{\"layer\":\"below\",\"line\":{\"color\":\"rgb(180,180,180)\",\"width\":1.0},\"path\":\"M 65.5,1 C 65.5,0.5 65.5,0.5 65.5,0\",\"type\":\"path\"},{\"layer\":\"below\",\"line\":{\"color\":\"rgb(180,180,180)\",\"width\":1.5},\"path\":\"M 48.79545454545455,4 C 48.79545454545455,2.5 69.5,2.5 69.5,1\",\"type\":\"path\"},{\"layer\":\"below\",\"line\":{\"color\":\"rgb(180,180,180)\",\"width\":1.5},\"path\":\"M 69.5,1 C 69.5,0.5 69.5,0.5 69.5,0\",\"type\":\"path\"},{\"layer\":\"below\",\"line\":{\"color\":\"rgb(180,180,180)\",\"width\":0.792481250360578},\"path\":\"M 48.79545454545455,4 C 48.79545454545455,2.5 73.5,2.5 73.5,1\",\"type\":\"path\"},{\"layer\":\"below\",\"line\":{\"color\":\"rgb(180,180,180)\",\"width\":0.792481250360578},\"path\":\"M 73.5,1 C 73.5,0.5 73.5,0.5 73.5,0\",\"type\":\"path\"},{\"layer\":\"below\",\"line\":{\"color\":\"rgb(180,180,180)\",\"width\":0.792481250360578},\"path\":\"M 77.67837465564739,5 C 77.67837465564739,4.5 77.5,4.5 77.5,4\",\"type\":\"path\"},{\"layer\":\"below\",\"line\":{\"color\":\"rgb(180,180,180)\",\"width\":0.792481250360578},\"path\":\"M 77.5,4 C 77.5,2.5 77.5,2.5 77.5,1\",\"type\":\"path\"},{\"layer\":\"below\",\"line\":{\"color\":\"rgb(180,180,180)\",\"width\":0.792481250360578},\"path\":\"M 77.5,1 C 77.5,0.5 77.5,0.5 77.5,0\",\"type\":\"path\"},{\"layer\":\"below\",\"line\":{\"color\":\"rgb(180,180,180)\",\"width\":3.7578499191420214},\"path\":\"M 77.67837465564739,5 C 77.67837465564739,4.5 85.58333333333333,4.5 85.58333333333333,4\",\"type\":\"path\"},{\"layer\":\"below\",\"line\":{\"color\":\"rgb(180,180,180)\",\"width\":3.1518903740885515},\"path\":\"M 85.58333333333333,4 C 85.58333333333333,2.5 81.5,2.5 81.5,1\",\"type\":\"path\"},{\"layer\":\"below\",\"line\":{\"color\":\"rgb(180,180,180)\",\"width\":3.1518903740885515},\"path\":\"M 81.5,1 C 81.5,0.5 81.5,0.5 81.5,0\",\"type\":\"path\"},{\"layer\":\"below\",\"line\":{\"color\":\"rgb(180,180,180)\",\"width\":3.321928094887362},\"path\":\"M 85.58333333333333,4 C 85.58333333333333,2.5 85.5,2.5 85.5,1\",\"type\":\"path\"},{\"layer\":\"below\",\"line\":{\"color\":\"rgb(180,180,180)\",\"width\":3.321928094887362},\"path\":\"M 85.5,1 C 85.5,0.5 85.5,0.5 85.5,0\",\"type\":\"path\"},{\"layer\":\"below\",\"line\":{\"color\":\"rgb(180,180,180)\",\"width\":1.292481250360578},\"path\":\"M 85.58333333333333,4 C 85.58333333333333,2.5 89.75,2.5 89.75,1\",\"type\":\"path\"},{\"layer\":\"below\",\"line\":{\"color\":\"rgb(180,180,180)\",\"width\":0.792481250360578},\"path\":\"M 89.75,1 C 89.75,0.5 89.5,0.5 89.5,0\",\"type\":\"path\"},{\"layer\":\"below\",\"line\":{\"color\":\"rgb(180,180,180)\",\"width\":1.0},\"path\":\"M 89.75,1 C 89.75,0.5 90.0,0.5 90.0,0\",\"type\":\"path\"},{\"layer\":\"below\",\"line\":{\"color\":\"rgb(180,180,180)\",\"width\":2.084962500721156},\"path\":\"M 77.67837465564739,5 C 77.67837465564739,4.5 95.0,4.5 95.0,4\",\"type\":\"path\"},{\"layer\":\"below\",\"line\":{\"color\":\"rgb(180,180,180)\",\"width\":2.084962500721156},\"path\":\"M 95.0,4 C 95.0,2.5 95.0,2.5 95.0,1\",\"type\":\"path\"},{\"layer\":\"below\",\"line\":{\"color\":\"rgb(180,180,180)\",\"width\":0.792481250360578},\"path\":\"M 95.0,1 C 95.0,0.5 94.0,0.5 94.0,0\",\"type\":\"path\"},{\"layer\":\"below\",\"line\":{\"color\":\"rgb(180,180,180)\",\"width\":1.160964047443681},\"path\":\"M 95.0,1 C 95.0,0.5 94.5,0.5 94.5,0\",\"type\":\"path\"},{\"layer\":\"below\",\"line\":{\"color\":\"rgb(180,180,180)\",\"width\":1.292481250360578},\"path\":\"M 95.0,1 C 95.0,0.5 95.0,0.5 95.0,0\",\"type\":\"path\"},{\"layer\":\"below\",\"line\":{\"color\":\"rgb(180,180,180)\",\"width\":1.160964047443681},\"path\":\"M 95.0,1 C 95.0,0.5 95.5,0.5 95.5,0\",\"type\":\"path\"},{\"layer\":\"below\",\"line\":{\"color\":\"rgb(180,180,180)\",\"width\":0.792481250360578},\"path\":\"M 95.0,1 C 95.0,0.5 96.0,0.5 96.0,0\",\"type\":\"path\"},{\"layer\":\"below\",\"line\":{\"color\":\"rgb(180,180,180)\",\"width\":2.1961587113893803},\"path\":\"M 77.67837465564739,5 C 77.67837465564739,4.5 105.08333333333333,4.5 105.08333333333333,4\",\"type\":\"path\"},{\"layer\":\"below\",\"line\":{\"color\":\"rgb(180,180,180)\",\"width\":0.792481250360578},\"path\":\"M 105.08333333333333,4 C 105.08333333333333,2.5 100.0,2.5 100.0,1\",\"type\":\"path\"},{\"layer\":\"below\",\"line\":{\"color\":\"rgb(180,180,180)\",\"width\":0.792481250360578},\"path\":\"M 100.0,1 C 100.0,0.5 100.0,0.5 100.0,0\",\"type\":\"path\"},{\"layer\":\"below\",\"line\":{\"color\":\"rgb(180,180,180)\",\"width\":1.7297158093186487},\"path\":\"M 105.08333333333333,4 C 105.08333333333333,2.5 105.0,2.5 105.0,1\",\"type\":\"path\"},{\"layer\":\"below\",\"line\":{\"color\":\"rgb(180,180,180)\",\"width\":0.5},\"path\":\"M 105.0,1 C 105.0,0.5 104.0,0.5 104.0,0\",\"type\":\"path\"},{\"layer\":\"below\",\"line\":{\"color\":\"rgb(180,180,180)\",\"width\":0.792481250360578},\"path\":\"M 105.0,1 C 105.0,0.5 104.5,0.5 104.5,0\",\"type\":\"path\"},{\"layer\":\"below\",\"line\":{\"color\":\"rgb(180,180,180)\",\"width\":0.792481250360578},\"path\":\"M 105.0,1 C 105.0,0.5 105.0,0.5 105.0,0\",\"type\":\"path\"},{\"layer\":\"below\",\"line\":{\"color\":\"rgb(180,180,180)\",\"width\":1.160964047443681},\"path\":\"M 105.0,1 C 105.0,0.5 105.5,0.5 105.5,0\",\"type\":\"path\"},{\"layer\":\"below\",\"line\":{\"color\":\"rgb(180,180,180)\",\"width\":0.5},\"path\":\"M 105.0,1 C 105.0,0.5 106.0,0.5 106.0,0\",\"type\":\"path\"},{\"layer\":\"below\",\"line\":{\"color\":\"rgb(180,180,180)\",\"width\":1.584962500721156},\"path\":\"M 105.08333333333333,4 C 105.08333333333333,2.5 110.25,2.5 110.25,1\",\"type\":\"path\"},{\"layer\":\"below\",\"line\":{\"color\":\"rgb(180,180,180)\",\"width\":1.160964047443681},\"path\":\"M 110.25,1 C 110.25,0.5 110.0,0.5 110.0,0\",\"type\":\"path\"},{\"layer\":\"below\",\"line\":{\"color\":\"rgb(180,180,180)\",\"width\":1.160964047443681},\"path\":\"M 110.25,1 C 110.25,0.5 110.5,0.5 110.5,0\",\"type\":\"path\"},{\"layer\":\"below\",\"line\":{\"color\":\"rgb(180,180,180)\",\"width\":1.660964047443681},\"path\":\"M 77.67837465564739,5 C 77.67837465564739,4.5 115.25,4.5 115.25,4\",\"type\":\"path\"},{\"layer\":\"below\",\"line\":{\"color\":\"rgb(180,180,180)\",\"width\":1.660964047443681},\"path\":\"M 115.25,4 C 115.25,2.5 115.25,2.5 115.25,1\",\"type\":\"path\"},{\"layer\":\"below\",\"line\":{\"color\":\"rgb(180,180,180)\",\"width\":1.0},\"path\":\"M 115.25,1 C 115.25,0.5 114.5,0.5 114.5,0\",\"type\":\"path\"},{\"layer\":\"below\",\"line\":{\"color\":\"rgb(180,180,180)\",\"width\":0.792481250360578},\"path\":\"M 115.25,1 C 115.25,0.5 115.0,0.5 115.0,0\",\"type\":\"path\"},{\"layer\":\"below\",\"line\":{\"color\":\"rgb(180,180,180)\",\"width\":0.792481250360578},\"path\":\"M 115.25,1 C 115.25,0.5 115.5,0.5 115.5,0\",\"type\":\"path\"},{\"layer\":\"below\",\"line\":{\"color\":\"rgb(180,180,180)\",\"width\":0.792481250360578},\"path\":\"M 115.25,1 C 115.25,0.5 116.0,0.5 116.0,0\",\"type\":\"path\"},{\"layer\":\"below\",\"line\":{\"color\":\"rgb(180,180,180)\",\"width\":4.327318014263984},\"path\":\"M 77.67837465564739,5 C 77.67837465564739,4.5 139.75,4.5 139.75,4\",\"type\":\"path\"},{\"layer\":\"below\",\"line\":{\"color\":\"rgb(180,180,180)\",\"width\":4.2999564210935635},\"path\":\"M 139.75,4 C 139.75,2.5 129.25,2.5 129.25,1\",\"type\":\"path\"},{\"layer\":\"below\",\"line\":{\"color\":\"rgb(180,180,180)\",\"width\":0.792481250360578},\"path\":\"M 129.25,1 C 129.25,0.5 120.0,0.5 120.0,0\",\"type\":\"path\"},{\"layer\":\"below\",\"line\":{\"color\":\"rgb(180,180,180)\",\"width\":1.160964047443681},\"path\":\"M 129.25,1 C 129.25,0.5 120.5,0.5 120.5,0\",\"type\":\"path\"},{\"layer\":\"below\",\"line\":{\"color\":\"rgb(180,180,180)\",\"width\":1.0},\"path\":\"M 129.25,1 C 129.25,0.5 121.0,0.5 121.0,0\",\"type\":\"path\"},{\"layer\":\"below\",\"line\":{\"color\":\"rgb(180,180,180)\",\"width\":1.160964047443681},\"path\":\"M 129.25,1 C 129.25,0.5 121.5,0.5 121.5,0\",\"type\":\"path\"},{\"layer\":\"below\",\"line\":{\"color\":\"rgb(180,180,180)\",\"width\":0.792481250360578},\"path\":\"M 129.25,1 C 129.25,0.5 122.0,0.5 122.0,0\",\"type\":\"path\"},{\"layer\":\"below\",\"line\":{\"color\":\"rgb(180,180,180)\",\"width\":1.5},\"path\":\"M 129.25,1 C 129.25,0.5 122.5,0.5 122.5,0\",\"type\":\"path\"},{\"layer\":\"below\",\"line\":{\"color\":\"rgb(180,180,180)\",\"width\":1.584962500721156},\"path\":\"M 129.25,1 C 129.25,0.5 123.0,0.5 123.0,0\",\"type\":\"path\"},{\"layer\":\"below\",\"line\":{\"color\":\"rgb(180,180,180)\",\"width\":1.660964047443681},\"path\":\"M 129.25,1 C 129.25,0.5 123.5,0.5 123.5,0\",\"type\":\"path\"},{\"layer\":\"below\",\"line\":{\"color\":\"rgb(180,180,180)\",\"width\":0.792481250360578},\"path\":\"M 129.25,1 C 129.25,0.5 124.0,0.5 124.0,0\",\"type\":\"path\"},{\"layer\":\"below\",\"line\":{\"color\":\"rgb(180,180,180)\",\"width\":0.792481250360578},\"path\":\"M 129.25,1 C 129.25,0.5 124.5,0.5 124.5,0\",\"type\":\"path\"},{\"layer\":\"below\",\"line\":{\"color\":\"rgb(180,180,180)\",\"width\":1.403677461028802},\"path\":\"M 129.25,1 C 129.25,0.5 125.0,0.5 125.0,0\",\"type\":\"path\"},{\"layer\":\"below\",\"line\":{\"color\":\"rgb(180,180,180)\",\"width\":1.403677461028802},\"path\":\"M 129.25,1 C 129.25,0.5 125.5,0.5 125.5,0\",\"type\":\"path\"},{\"layer\":\"below\",\"line\":{\"color\":\"rgb(180,180,180)\",\"width\":1.0},\"path\":\"M 129.25,1 C 129.25,0.5 126.0,0.5 126.0,0\",\"type\":\"path\"},{\"layer\":\"below\",\"line\":{\"color\":\"rgb(180,180,180)\",\"width\":2.428990497563786},\"path\":\"M 129.25,1 C 129.25,0.5 126.5,0.5 126.5,0\",\"type\":\"path\"},{\"layer\":\"below\",\"line\":{\"color\":\"rgb(180,180,180)\",\"width\":1.5},\"path\":\"M 129.25,1 C 129.25,0.5 127.0,0.5 127.0,0\",\"type\":\"path\"},{\"layer\":\"below\",\"line\":{\"color\":\"rgb(180,180,180)\",\"width\":1.584962500721156},\"path\":\"M 129.25,1 C 129.25,0.5 127.5,0.5 127.5,0\",\"type\":\"path\"},{\"layer\":\"below\",\"line\":{\"color\":\"rgb(180,180,180)\",\"width\":1.403677461028802},\"path\":\"M 129.25,1 C 129.25,0.5 128.0,0.5 128.0,0\",\"type\":\"path\"},{\"layer\":\"below\",\"line\":{\"color\":\"rgb(180,180,180)\",\"width\":2.2617809780285065},\"path\":\"M 129.25,1 C 129.25,0.5 128.5,0.5 128.5,0\",\"type\":\"path\"},{\"layer\":\"below\",\"line\":{\"color\":\"rgb(180,180,180)\",\"width\":1.850219859070546},\"path\":\"M 129.25,1 C 129.25,0.5 129.0,0.5 129.0,0\",\"type\":\"path\"},{\"layer\":\"below\",\"line\":{\"color\":\"rgb(180,180,180)\",\"width\":2.403677461028802},\"path\":\"M 129.25,1 C 129.25,0.5 129.5,0.5 129.5,0\",\"type\":\"path\"},{\"layer\":\"below\",\"line\":{\"color\":\"rgb(180,180,180)\",\"width\":2.321928094887362},\"path\":\"M 129.25,1 C 129.25,0.5 130.0,0.5 130.0,0\",\"type\":\"path\"},{\"layer\":\"below\",\"line\":{\"color\":\"rgb(180,180,180)\",\"width\":1.160964047443681},\"path\":\"M 129.25,1 C 129.25,0.5 130.5,0.5 130.5,0\",\"type\":\"path\"},{\"layer\":\"below\",\"line\":{\"color\":\"rgb(180,180,180)\",\"width\":1.584962500721156},\"path\":\"M 129.25,1 C 129.25,0.5 131.0,0.5 131.0,0\",\"type\":\"path\"},{\"layer\":\"below\",\"line\":{\"color\":\"rgb(180,180,180)\",\"width\":1.403677461028802},\"path\":\"M 129.25,1 C 129.25,0.5 131.5,0.5 131.5,0\",\"type\":\"path\"},{\"layer\":\"below\",\"line\":{\"color\":\"rgb(180,180,180)\",\"width\":1.584962500721156},\"path\":\"M 129.25,1 C 129.25,0.5 132.0,0.5 132.0,0\",\"type\":\"path\"},{\"layer\":\"below\",\"line\":{\"color\":\"rgb(180,180,180)\",\"width\":0.792481250360578},\"path\":\"M 129.25,1 C 129.25,0.5 132.5,0.5 132.5,0\",\"type\":\"path\"},{\"layer\":\"below\",\"line\":{\"color\":\"rgb(180,180,180)\",\"width\":1.5},\"path\":\"M 129.25,1 C 129.25,0.5 133.0,0.5 133.0,0\",\"type\":\"path\"},{\"layer\":\"below\",\"line\":{\"color\":\"rgb(180,180,180)\",\"width\":2.1609640474436813},\"path\":\"M 129.25,1 C 129.25,0.5 133.5,0.5 133.5,0\",\"type\":\"path\"},{\"layer\":\"below\",\"line\":{\"color\":\"rgb(180,180,180)\",\"width\":0.792481250360578},\"path\":\"M 129.25,1 C 129.25,0.5 134.0,0.5 134.0,0\",\"type\":\"path\"},{\"layer\":\"below\",\"line\":{\"color\":\"rgb(180,180,180)\",\"width\":2.292481250360578},\"path\":\"M 129.25,1 C 129.25,0.5 134.5,0.5 134.5,0\",\"type\":\"path\"},{\"layer\":\"below\",\"line\":{\"color\":\"rgb(180,180,180)\",\"width\":2.1961587113893803},\"path\":\"M 129.25,1 C 129.25,0.5 135.0,0.5 135.0,0\",\"type\":\"path\"},{\"layer\":\"below\",\"line\":{\"color\":\"rgb(180,180,180)\",\"width\":2.6427011094311244},\"path\":\"M 129.25,1 C 129.25,0.5 135.5,0.5 135.5,0\",\"type\":\"path\"},{\"layer\":\"below\",\"line\":{\"color\":\"rgb(180,180,180)\",\"width\":1.403677461028802},\"path\":\"M 129.25,1 C 129.25,0.5 136.0,0.5 136.0,0\",\"type\":\"path\"},{\"layer\":\"below\",\"line\":{\"color\":\"rgb(180,180,180)\",\"width\":1.160964047443681},\"path\":\"M 129.25,1 C 129.25,0.5 136.5,0.5 136.5,0\",\"type\":\"path\"},{\"layer\":\"below\",\"line\":{\"color\":\"rgb(180,180,180)\",\"width\":1.0},\"path\":\"M 129.25,1 C 129.25,0.5 137.0,0.5 137.0,0\",\"type\":\"path\"},{\"layer\":\"below\",\"line\":{\"color\":\"rgb(180,180,180)\",\"width\":1.5},\"path\":\"M 129.25,1 C 129.25,0.5 137.5,0.5 137.5,0\",\"type\":\"path\"},{\"layer\":\"below\",\"line\":{\"color\":\"rgb(180,180,180)\",\"width\":1.5},\"path\":\"M 129.25,1 C 129.25,0.5 138.0,0.5 138.0,0\",\"type\":\"path\"},{\"layer\":\"below\",\"line\":{\"color\":\"rgb(180,180,180)\",\"width\":2.5},\"path\":\"M 129.25,1 C 129.25,0.5 138.5,0.5 138.5,0\",\"type\":\"path\"},{\"layer\":\"below\",\"line\":{\"color\":\"rgb(180,180,180)\",\"width\":1.7297158093186487},\"path\":\"M 139.75,4 C 139.75,2.5 142.75,2.5 142.75,1\",\"type\":\"path\"},{\"layer\":\"below\",\"line\":{\"color\":\"rgb(180,180,180)\",\"width\":1.160964047443681},\"path\":\"M 142.75,1 C 142.75,0.5 142.5,0.5 142.5,0\",\"type\":\"path\"},{\"layer\":\"below\",\"line\":{\"color\":\"rgb(180,180,180)\",\"width\":1.403677461028802},\"path\":\"M 142.75,1 C 142.75,0.5 143.0,0.5 143.0,0\",\"type\":\"path\"},{\"layer\":\"below\",\"line\":{\"color\":\"rgb(180,180,180)\",\"width\":1.292481250360578},\"path\":\"M 139.75,4 C 139.75,2.5 147.25,2.5 147.25,1\",\"type\":\"path\"},{\"layer\":\"below\",\"line\":{\"color\":\"rgb(180,180,180)\",\"width\":0.792481250360578},\"path\":\"M 147.25,1 C 147.25,0.5 147.0,0.5 147.0,0\",\"type\":\"path\"},{\"layer\":\"below\",\"line\":{\"color\":\"rgb(180,180,180)\",\"width\":1.0},\"path\":\"M 147.25,1 C 147.25,0.5 147.5,0.5 147.5,0\",\"type\":\"path\"},{\"layer\":\"below\",\"line\":{\"color\":\"rgb(180,180,180)\",\"width\":1.5},\"path\":\"M 77.67837465564739,5 C 77.67837465564739,4.5 154.25,4.5 154.25,4\",\"type\":\"path\"},{\"layer\":\"below\",\"line\":{\"color\":\"rgb(180,180,180)\",\"width\":1.292481250360578},\"path\":\"M 154.25,4 C 154.25,2.5 152.0,2.5 152.0,1\",\"type\":\"path\"},{\"layer\":\"below\",\"line\":{\"color\":\"rgb(180,180,180)\",\"width\":0.792481250360578},\"path\":\"M 152.0,1 C 152.0,0.5 151.5,0.5 151.5,0\",\"type\":\"path\"},{\"layer\":\"below\",\"line\":{\"color\":\"rgb(180,180,180)\",\"width\":0.5},\"path\":\"M 152.0,1 C 152.0,0.5 152.0,0.5 152.0,0\",\"type\":\"path\"},{\"layer\":\"below\",\"line\":{\"color\":\"rgb(180,180,180)\",\"width\":0.792481250360578},\"path\":\"M 152.0,1 C 152.0,0.5 152.5,0.5 152.5,0\",\"type\":\"path\"},{\"layer\":\"below\",\"line\":{\"color\":\"rgb(180,180,180)\",\"width\":0.792481250360578},\"path\":\"M 154.25,4 C 154.25,2.5 156.5,2.5 156.5,1\",\"type\":\"path\"},{\"layer\":\"below\",\"line\":{\"color\":\"rgb(180,180,180)\",\"width\":0.792481250360578},\"path\":\"M 156.5,1 C 156.5,0.5 156.5,0.5 156.5,0\",\"type\":\"path\"},{\"layer\":\"below\",\"line\":{\"color\":\"rgb(180,180,180)\",\"width\":3.505613627711627},\"path\":\"M 166.2930935778237,7 C 166.2930935778237,6.5 254.9078125,6.5 254.9078125,6\",\"type\":\"path\"},{\"layer\":\"below\",\"line\":{\"color\":\"rgb(180,180,180)\",\"width\":2.7617809780285065},\"path\":\"M 254.9078125,6 C 254.9078125,5.5 191.0,5.5 191.0,5\",\"type\":\"path\"},{\"layer\":\"below\",\"line\":{\"color\":\"rgb(180,180,180)\",\"width\":1.9534452978042594},\"path\":\"M 191.0,5 C 191.0,3.0 177.5,3.0 177.5,1\",\"type\":\"path\"},{\"layer\":\"below\",\"line\":{\"color\":\"rgb(180,180,180)\",\"width\":0.5},\"path\":\"M 177.5,1 C 177.5,0.5 176.5,0.5 176.5,0\",\"type\":\"path\"},{\"layer\":\"below\",\"line\":{\"color\":\"rgb(180,180,180)\",\"width\":0.5},\"path\":\"M 177.5,1 C 177.5,0.5 177.0,0.5 177.0,0\",\"type\":\"path\"},{\"layer\":\"below\",\"line\":{\"color\":\"rgb(180,180,180)\",\"width\":0.792481250360578},\"path\":\"M 177.5,1 C 177.5,0.5 177.5,0.5 177.5,0\",\"type\":\"path\"},{\"layer\":\"below\",\"line\":{\"color\":\"rgb(180,180,180)\",\"width\":1.660964047443681},\"path\":\"M 177.5,1 C 177.5,0.5 178.0,0.5 178.0,0\",\"type\":\"path\"},{\"layer\":\"below\",\"line\":{\"color\":\"rgb(180,180,180)\",\"width\":0.5},\"path\":\"M 177.5,1 C 177.5,0.5 178.5,0.5 178.5,0\",\"type\":\"path\"},{\"layer\":\"below\",\"line\":{\"color\":\"rgb(180,180,180)\",\"width\":0.792481250360578},\"path\":\"M 191.0,5 C 191.0,3.0 182.5,3.0 182.5,1\",\"type\":\"path\"},{\"layer\":\"below\",\"line\":{\"color\":\"rgb(180,180,180)\",\"width\":0.792481250360578},\"path\":\"M 182.5,1 C 182.5,0.5 182.5,0.5 182.5,0\",\"type\":\"path\"},{\"layer\":\"below\",\"line\":{\"color\":\"rgb(180,180,180)\",\"width\":1.903677461028802},\"path\":\"M 191.0,5 C 191.0,3.0 188.25,3.0 188.25,1\",\"type\":\"path\"},{\"layer\":\"below\",\"line\":{\"color\":\"rgb(180,180,180)\",\"width\":0.5},\"path\":\"M 188.25,1 C 188.25,0.5 186.5,0.5 186.5,0\",\"type\":\"path\"},{\"layer\":\"below\",\"line\":{\"color\":\"rgb(180,180,180)\",\"width\":0.792481250360578},\"path\":\"M 188.25,1 C 188.25,0.5 187.0,0.5 187.0,0\",\"type\":\"path\"},{\"layer\":\"below\",\"line\":{\"color\":\"rgb(180,180,180)\",\"width\":0.792481250360578},\"path\":\"M 188.25,1 C 188.25,0.5 187.5,0.5 187.5,0\",\"type\":\"path\"},{\"layer\":\"below\",\"line\":{\"color\":\"rgb(180,180,180)\",\"width\":0.792481250360578},\"path\":\"M 188.25,1 C 188.25,0.5 188.0,0.5 188.0,0\",\"type\":\"path\"},{\"layer\":\"below\",\"line\":{\"color\":\"rgb(180,180,180)\",\"width\":0.792481250360578},\"path\":\"M 188.25,1 C 188.25,0.5 188.5,0.5 188.5,0\",\"type\":\"path\"},{\"layer\":\"below\",\"line\":{\"color\":\"rgb(180,180,180)\",\"width\":0.5},\"path\":\"M 188.25,1 C 188.25,0.5 189.0,0.5 189.0,0\",\"type\":\"path\"},{\"layer\":\"below\",\"line\":{\"color\":\"rgb(180,180,180)\",\"width\":0.5},\"path\":\"M 188.25,1 C 188.25,0.5 189.5,0.5 189.5,0\",\"type\":\"path\"},{\"layer\":\"below\",\"line\":{\"color\":\"rgb(180,180,180)\",\"width\":0.792481250360578},\"path\":\"M 188.25,1 C 188.25,0.5 190.0,0.5 190.0,0\",\"type\":\"path\"},{\"layer\":\"below\",\"line\":{\"color\":\"rgb(180,180,180)\",\"width\":1.660964047443681},\"path\":\"M 191.0,5 C 191.0,3.0 194.75,3.0 194.75,1\",\"type\":\"path\"},{\"layer\":\"below\",\"line\":{\"color\":\"rgb(180,180,180)\",\"width\":0.792481250360578},\"path\":\"M 194.75,1 C 194.75,0.5 194.0,0.5 194.0,0\",\"type\":\"path\"},{\"layer\":\"below\",\"line\":{\"color\":\"rgb(180,180,180)\",\"width\":1.0},\"path\":\"M 194.75,1 C 194.75,0.5 194.5,0.5 194.5,0\",\"type\":\"path\"},{\"layer\":\"below\",\"line\":{\"color\":\"rgb(180,180,180)\",\"width\":0.792481250360578},\"path\":\"M 194.75,1 C 194.75,0.5 195.0,0.5 195.0,0\",\"type\":\"path\"},{\"layer\":\"below\",\"line\":{\"color\":\"rgb(180,180,180)\",\"width\":0.792481250360578},\"path\":\"M 194.75,1 C 194.75,0.5 195.5,0.5 195.5,0\",\"type\":\"path\"},{\"layer\":\"below\",\"line\":{\"color\":\"rgb(180,180,180)\",\"width\":1.160964047443681},\"path\":\"M 191.0,5 C 191.0,3.0 199.5,3.0 199.5,1\",\"type\":\"path\"},{\"layer\":\"below\",\"line\":{\"color\":\"rgb(180,180,180)\",\"width\":1.160964047443681},\"path\":\"M 199.5,1 C 199.5,0.5 199.5,0.5 199.5,0\",\"type\":\"path\"},{\"layer\":\"below\",\"line\":{\"color\":\"rgb(180,180,180)\",\"width\":1.0},\"path\":\"M 191.0,5 C 191.0,3.0 203.5,3.0 203.5,1\",\"type\":\"path\"},{\"layer\":\"below\",\"line\":{\"color\":\"rgb(180,180,180)\",\"width\":1.0},\"path\":\"M 203.5,1 C 203.5,0.5 203.5,0.5 203.5,0\",\"type\":\"path\"},{\"layer\":\"below\",\"line\":{\"color\":\"rgb(180,180,180)\",\"width\":2.403677461028802},\"path\":\"M 254.9078125,6 C 254.9078125,5.5 229.03125,5.5 229.03125,5\",\"type\":\"path\"},{\"layer\":\"below\",\"line\":{\"color\":\"rgb(180,180,180)\",\"width\":0.5},\"path\":\"M 229.03125,5 C 229.03125,3.0 213.5,3.0 213.5,1\",\"type\":\"path\"},{\"layer\":\"below\",\"line\":{\"color\":\"rgb(180,180,180)\",\"width\":0.5},\"path\":\"M 213.5,1 C 213.5,0.5 213.5,0.5 213.5,0\",\"type\":\"path\"},{\"layer\":\"below\",\"line\":{\"color\":\"rgb(180,180,180)\",\"width\":0.5},\"path\":\"M 229.03125,5 C 229.03125,3.0 217.5,3.0 217.5,1\",\"type\":\"path\"},{\"layer\":\"below\",\"line\":{\"color\":\"rgb(180,180,180)\",\"width\":0.5},\"path\":\"M 217.5,1 C 217.5,0.5 217.5,0.5 217.5,0\",\"type\":\"path\"},{\"layer\":\"below\",\"line\":{\"color\":\"rgb(180,180,180)\",\"width\":0.792481250360578},\"path\":\"M 229.03125,5 C 229.03125,3.0 221.5,3.0 221.5,1\",\"type\":\"path\"},{\"layer\":\"below\",\"line\":{\"color\":\"rgb(180,180,180)\",\"width\":0.792481250360578},\"path\":\"M 221.5,1 C 221.5,0.5 221.5,0.5 221.5,0\",\"type\":\"path\"},{\"layer\":\"below\",\"line\":{\"color\":\"rgb(180,180,180)\",\"width\":1.850219859070546},\"path\":\"M 229.03125,5 C 229.03125,3.0 226.75,3.0 226.75,1\",\"type\":\"path\"},{\"layer\":\"below\",\"line\":{\"color\":\"rgb(180,180,180)\",\"width\":0.792481250360578},\"path\":\"M 226.75,1 C 226.75,0.5 225.5,0.5 225.5,0\",\"type\":\"path\"},{\"layer\":\"below\",\"line\":{\"color\":\"rgb(180,180,180)\",\"width\":0.5},\"path\":\"M 226.75,1 C 226.75,0.5 226.0,0.5 226.0,0\",\"type\":\"path\"},{\"layer\":\"below\",\"line\":{\"color\":\"rgb(180,180,180)\",\"width\":0.792481250360578},\"path\":\"M 226.75,1 C 226.75,0.5 226.5,0.5 226.5,0\",\"type\":\"path\"},{\"layer\":\"below\",\"line\":{\"color\":\"rgb(180,180,180)\",\"width\":1.0},\"path\":\"M 226.75,1 C 226.75,0.5 227.0,0.5 227.0,0\",\"type\":\"path\"},{\"layer\":\"below\",\"line\":{\"color\":\"rgb(180,180,180)\",\"width\":1.0},\"path\":\"M 226.75,1 C 226.75,0.5 227.5,0.5 227.5,0\",\"type\":\"path\"},{\"layer\":\"below\",\"line\":{\"color\":\"rgb(180,180,180)\",\"width\":0.5},\"path\":\"M 226.75,1 C 226.75,0.5 228.0,0.5 228.0,0\",\"type\":\"path\"},{\"layer\":\"below\",\"line\":{\"color\":\"rgb(180,180,180)\",\"width\":0.792481250360578},\"path\":\"M 229.03125,5 C 229.03125,3.0 232.0,3.0 232.0,1\",\"type\":\"path\"},{\"layer\":\"below\",\"line\":{\"color\":\"rgb(180,180,180)\",\"width\":0.792481250360578},\"path\":\"M 232.0,1 C 232.0,0.5 232.0,0.5 232.0,0\",\"type\":\"path\"},{\"layer\":\"below\",\"line\":{\"color\":\"rgb(180,180,180)\",\"width\":0.792481250360578},\"path\":\"M 229.03125,5 C 229.03125,3.0 236.0,3.0 236.0,1\",\"type\":\"path\"},{\"layer\":\"below\",\"line\":{\"color\":\"rgb(180,180,180)\",\"width\":0.792481250360578},\"path\":\"M 236.0,1 C 236.0,0.5 236.0,0.5 236.0,0\",\"type\":\"path\"},{\"layer\":\"below\",\"line\":{\"color\":\"rgb(180,180,180)\",\"width\":1.160964047443681},\"path\":\"M 229.03125,5 C 229.03125,3.0 240.25,3.0 240.25,1\",\"type\":\"path\"},{\"layer\":\"below\",\"line\":{\"color\":\"rgb(180,180,180)\",\"width\":0.792481250360578},\"path\":\"M 240.25,1 C 240.25,0.5 240.0,0.5 240.0,0\",\"type\":\"path\"},{\"layer\":\"below\",\"line\":{\"color\":\"rgb(180,180,180)\",\"width\":0.792481250360578},\"path\":\"M 240.25,1 C 240.25,0.5 240.5,0.5 240.5,0\",\"type\":\"path\"},{\"layer\":\"below\",\"line\":{\"color\":\"rgb(180,180,180)\",\"width\":1.0},\"path\":\"M 229.03125,5 C 229.03125,3.0 244.75,3.0 244.75,1\",\"type\":\"path\"},{\"layer\":\"below\",\"line\":{\"color\":\"rgb(180,180,180)\",\"width\":0.792481250360578},\"path\":\"M 244.75,1 C 244.75,0.5 244.5,0.5 244.5,0\",\"type\":\"path\"},{\"layer\":\"below\",\"line\":{\"color\":\"rgb(180,180,180)\",\"width\":0.5},\"path\":\"M 244.75,1 C 244.75,0.5 245.0,0.5 245.0,0\",\"type\":\"path\"},{\"layer\":\"below\",\"line\":{\"color\":\"rgb(180,180,180)\",\"width\":2.0437314206251695},\"path\":\"M 254.9078125,6 C 254.9078125,5.5 276.6,5.5 276.6,5\",\"type\":\"path\"},{\"layer\":\"below\",\"line\":{\"color\":\"rgb(180,180,180)\",\"width\":1.403677461028802},\"path\":\"M 276.6,5 C 276.6,4.5 261.0,4.5 261.0,4\",\"type\":\"path\"},{\"layer\":\"below\",\"line\":{\"color\":\"rgb(180,180,180)\",\"width\":1.403677461028802},\"path\":\"M 261.0,4 C 261.0,3.0 261.0,3.0 261.0,2\",\"type\":\"path\"},{\"layer\":\"below\",\"line\":{\"color\":\"rgb(180,180,180)\",\"width\":0.792481250360578},\"path\":\"M 261.0,2 C 261.0,1.0 255.0,1.0 255.0,0\",\"type\":\"path\"},{\"layer\":\"below\",\"line\":{\"color\":\"rgb(180,180,180)\",\"width\":0.792481250360578},\"path\":\"M 261.0,2 C 261.0,1.0 259.0,1.0 259.0,0\",\"type\":\"path\"},{\"layer\":\"below\",\"line\":{\"color\":\"rgb(180,180,180)\",\"width\":0.5},\"path\":\"M 261.0,2 C 261.0,1.0 263.0,1.0 263.0,0\",\"type\":\"path\"},{\"layer\":\"below\",\"line\":{\"color\":\"rgb(180,180,180)\",\"width\":0.5},\"path\":\"M 261.0,2 C 261.0,1.0 267.0,1.0 267.0,0\",\"type\":\"path\"},{\"layer\":\"below\",\"line\":{\"color\":\"rgb(180,180,180)\",\"width\":1.403677461028802},\"path\":\"M 276.6,5 C 276.6,4.5 273.0,4.5 273.0,4\",\"type\":\"path\"},{\"layer\":\"below\",\"line\":{\"color\":\"rgb(180,180,180)\",\"width\":1.160964047443681},\"path\":\"M 273.0,4 C 273.0,3.0 271.0,3.0 271.0,2\",\"type\":\"path\"},{\"layer\":\"below\",\"line\":{\"color\":\"rgb(180,180,180)\",\"width\":1.160964047443681},\"path\":\"M 271.0,2 C 271.0,1.0 271.0,1.0 271.0,0\",\"type\":\"path\"},{\"layer\":\"below\",\"line\":{\"color\":\"rgb(180,180,180)\",\"width\":0.792481250360578},\"path\":\"M 273.0,4 C 273.0,3.0 275.0,3.0 275.0,2\",\"type\":\"path\"},{\"layer\":\"below\",\"line\":{\"color\":\"rgb(180,180,180)\",\"width\":0.792481250360578},\"path\":\"M 275.0,2 C 275.0,1.0 275.0,1.0 275.0,0\",\"type\":\"path\"},{\"layer\":\"below\",\"line\":{\"color\":\"rgb(180,180,180)\",\"width\":0.792481250360578},\"path\":\"M 276.6,5 C 276.6,4.5 279.0,4.5 279.0,4\",\"type\":\"path\"},{\"layer\":\"below\",\"line\":{\"color\":\"rgb(180,180,180)\",\"width\":0.792481250360578},\"path\":\"M 279.0,4 C 279.0,3.0 279.0,3.0 279.0,2\",\"type\":\"path\"},{\"layer\":\"below\",\"line\":{\"color\":\"rgb(180,180,180)\",\"width\":0.792481250360578},\"path\":\"M 279.0,2 C 279.0,1.0 279.0,1.0 279.0,0\",\"type\":\"path\"},{\"layer\":\"below\",\"line\":{\"color\":\"rgb(180,180,180)\",\"width\":0.5},\"path\":\"M 276.6,5 C 276.6,4.5 283.0,4.5 283.0,4\",\"type\":\"path\"},{\"layer\":\"below\",\"line\":{\"color\":\"rgb(180,180,180)\",\"width\":0.5},\"path\":\"M 283.0,4 C 283.0,3.0 283.0,3.0 283.0,2\",\"type\":\"path\"},{\"layer\":\"below\",\"line\":{\"color\":\"rgb(180,180,180)\",\"width\":0.5},\"path\":\"M 283.0,2 C 283.0,1.0 283.0,1.0 283.0,0\",\"type\":\"path\"},{\"layer\":\"below\",\"line\":{\"color\":\"rgb(180,180,180)\",\"width\":0.5},\"path\":\"M 276.6,5 C 276.6,4.5 287.0,4.5 287.0,4\",\"type\":\"path\"},{\"layer\":\"below\",\"line\":{\"color\":\"rgb(180,180,180)\",\"width\":0.5},\"path\":\"M 287.0,4 C 287.0,3.0 287.0,3.0 287.0,2\",\"type\":\"path\"},{\"layer\":\"below\",\"line\":{\"color\":\"rgb(180,180,180)\",\"width\":0.5},\"path\":\"M 287.0,2 C 287.0,1.0 287.0,1.0 287.0,0\",\"type\":\"path\"},{\"layer\":\"below\",\"line\":{\"color\":\"rgb(180,180,180)\",\"width\":2.678776002309042},\"path\":\"M 254.9078125,6 C 254.9078125,5.5 323.0,5.5 323.0,5\",\"type\":\"path\"},{\"layer\":\"below\",\"line\":{\"color\":\"rgb(180,180,180)\",\"width\":0.792481250360578},\"path\":\"M 323.0,5 C 323.0,2.5 297.0,2.5 297.0,0\",\"type\":\"path\"},{\"layer\":\"below\",\"line\":{\"color\":\"rgb(180,180,180)\",\"width\":0.5},\"path\":\"M 323.0,5 C 323.0,2.5 301.0,2.5 301.0,0\",\"type\":\"path\"},{\"layer\":\"below\",\"line\":{\"color\":\"rgb(180,180,180)\",\"width\":1.160964047443681},\"path\":\"M 323.0,5 C 323.0,2.5 305.0,2.5 305.0,0\",\"type\":\"path\"},{\"layer\":\"below\",\"line\":{\"color\":\"rgb(180,180,180)\",\"width\":1.0},\"path\":\"M 323.0,5 C 323.0,2.5 309.0,2.5 309.0,0\",\"type\":\"path\"},{\"layer\":\"below\",\"line\":{\"color\":\"rgb(180,180,180)\",\"width\":1.850219859070546},\"path\":\"M 323.0,5 C 323.0,2.5 313.0,2.5 313.0,0\",\"type\":\"path\"},{\"layer\":\"below\",\"line\":{\"color\":\"rgb(180,180,180)\",\"width\":0.792481250360578},\"path\":\"M 323.0,5 C 323.0,2.5 317.0,2.5 317.0,0\",\"type\":\"path\"},{\"layer\":\"below\",\"line\":{\"color\":\"rgb(180,180,180)\",\"width\":0.792481250360578},\"path\":\"M 323.0,5 C 323.0,2.5 321.0,2.5 321.0,0\",\"type\":\"path\"},{\"layer\":\"below\",\"line\":{\"color\":\"rgb(180,180,180)\",\"width\":0.792481250360578},\"path\":\"M 323.0,5 C 323.0,2.5 325.0,2.5 325.0,0\",\"type\":\"path\"},{\"layer\":\"below\",\"line\":{\"color\":\"rgb(180,180,180)\",\"width\":0.792481250360578},\"path\":\"M 323.0,5 C 323.0,2.5 329.0,2.5 329.0,0\",\"type\":\"path\"},{\"layer\":\"below\",\"line\":{\"color\":\"rgb(180,180,180)\",\"width\":0.5},\"path\":\"M 323.0,5 C 323.0,2.5 333.0,2.5 333.0,0\",\"type\":\"path\"},{\"layer\":\"below\",\"line\":{\"color\":\"rgb(180,180,180)\",\"width\":0.5},\"path\":\"M 323.0,5 C 323.0,2.5 337.0,2.5 337.0,0\",\"type\":\"path\"},{\"layer\":\"below\",\"line\":{\"color\":\"rgb(180,180,180)\",\"width\":1.160964047443681},\"path\":\"M 323.0,5 C 323.0,2.5 341.0,2.5 341.0,0\",\"type\":\"path\"},{\"layer\":\"below\",\"line\":{\"color\":\"rgb(180,180,180)\",\"width\":0.792481250360578},\"path\":\"M 323.0,5 C 323.0,2.5 345.0,2.5 345.0,0\",\"type\":\"path\"},{\"layer\":\"below\",\"line\":{\"color\":\"rgb(180,180,180)\",\"width\":0.792481250360578},\"path\":\"M 323.0,5 C 323.0,2.5 349.0,2.5 349.0,0\",\"type\":\"path\"},{\"layer\":\"below\",\"line\":{\"color\":\"rgb(180,180,180)\",\"width\":5.672147953957908},\"path\":\"M 358.44111009700754,8 C 358.44111009700754,7.5 550.5891266161914,7.5 550.5891266161914,7\",\"type\":\"path\"},{\"layer\":\"below\",\"line\":{\"color\":\"rgb(180,180,180)\",\"width\":1.160964047443681},\"path\":\"M 550.5891266161914,7 C 550.5891266161914,6.5 369.0,6.5 369.0,6\",\"type\":\"path\"},{\"layer\":\"below\",\"line\":{\"color\":\"rgb(180,180,180)\",\"width\":1.160964047443681},\"path\":\"M 369.0,6 C 369.0,5.0 369.0,5.0 369.0,4\",\"type\":\"path\"},{\"layer\":\"below\",\"line\":{\"color\":\"rgb(180,180,180)\",\"width\":1.160964047443681},\"path\":\"M 369.0,4 C 369.0,3.0 369.0,3.0 369.0,2\",\"type\":\"path\"},{\"layer\":\"below\",\"line\":{\"color\":\"rgb(180,180,180)\",\"width\":1.160964047443681},\"path\":\"M 369.0,2 C 369.0,1.0 369.0,1.0 369.0,0\",\"type\":\"path\"},{\"layer\":\"below\",\"line\":{\"color\":\"rgb(180,180,180)\",\"width\":5.671037333999569},\"path\":\"M 550.5891266161914,7 C 550.5891266161914,6.5 732.1782532323828,6.5 732.1782532323828,6\",\"type\":\"path\"},{\"layer\":\"below\",\"line\":{\"color\":\"rgb(180,180,180)\",\"width\":4.32372921322746},\"path\":\"M 732.1782532323828,6 C 732.1782532323828,5.5 523.5622710622711,5.5 523.5622710622711,5\",\"type\":\"path\"},{\"layer\":\"below\",\"line\":{\"color\":\"rgb(180,180,180)\",\"width\":2.4534452978042594},\"path\":\"M 523.5622710622711,5 C 523.5622710622711,4.5 398.0,4.5 398.0,4\",\"type\":\"path\"},{\"layer\":\"below\",\"line\":{\"color\":\"rgb(180,180,180)\",\"width\":1.0},\"path\":\"M 398.0,4 C 398.0,3.0 391.0,3.0 391.0,2\",\"type\":\"path\"},{\"layer\":\"below\",\"line\":{\"color\":\"rgb(180,180,180)\",\"width\":0.792481250360578},\"path\":\"M 391.0,2 C 391.0,1.0 389.0,1.0 389.0,0\",\"type\":\"path\"},{\"layer\":\"below\",\"line\":{\"color\":\"rgb(180,180,180)\",\"width\":0.5},\"path\":\"M 391.0,2 C 391.0,1.0 393.0,1.0 393.0,0\",\"type\":\"path\"},{\"layer\":\"below\",\"line\":{\"color\":\"rgb(180,180,180)\",\"width\":2.377443751081734},\"path\":\"M 398.0,4 C 398.0,3.0 405.0,3.0 405.0,2\",\"type\":\"path\"},{\"layer\":\"below\",\"line\":{\"color\":\"rgb(180,180,180)\",\"width\":0.792481250360578},\"path\":\"M 405.0,2 C 405.0,1.0 397.0,1.0 397.0,0\",\"type\":\"path\"},{\"layer\":\"below\",\"line\":{\"color\":\"rgb(180,180,180)\",\"width\":0.792481250360578},\"path\":\"M 405.0,2 C 405.0,1.0 401.0,1.0 401.0,0\",\"type\":\"path\"},{\"layer\":\"below\",\"line\":{\"color\":\"rgb(180,180,180)\",\"width\":1.0},\"path\":\"M 405.0,2 C 405.0,1.0 405.0,1.0 405.0,0\",\"type\":\"path\"},{\"layer\":\"below\",\"line\":{\"color\":\"rgb(180,180,180)\",\"width\":0.5},\"path\":\"M 405.0,2 C 405.0,1.0 409.0,1.0 409.0,0\",\"type\":\"path\"},{\"layer\":\"below\",\"line\":{\"color\":\"rgb(180,180,180)\",\"width\":2.1239637567217926},\"path\":\"M 405.0,2 C 405.0,1.0 413.0,1.0 413.0,0\",\"type\":\"path\"},{\"layer\":\"below\",\"line\":{\"color\":\"rgb(180,180,180)\",\"width\":2.584962500721156},\"path\":\"M 523.5622710622711,5 C 523.5622710622711,4.5 446.14285714285717,4.5 446.14285714285717,4\",\"type\":\"path\"},{\"layer\":\"below\",\"line\":{\"color\":\"rgb(180,180,180)\",\"width\":1.292481250360578},\"path\":\"M 446.14285714285717,4 C 446.14285714285717,3.0 425.0,3.0 425.0,2\",\"type\":\"path\"},{\"layer\":\"below\",\"line\":{\"color\":\"rgb(180,180,180)\",\"width\":0.5},\"path\":\"M 425.0,2 C 425.0,1.0 417.0,1.0 417.0,0\",\"type\":\"path\"},{\"layer\":\"below\",\"line\":{\"color\":\"rgb(180,180,180)\",\"width\":0.5},\"path\":\"M 425.0,2 C 425.0,1.0 421.0,1.0 421.0,0\",\"type\":\"path\"},{\"layer\":\"below\",\"line\":{\"color\":\"rgb(180,180,180)\",\"width\":0.5},\"path\":\"M 425.0,2 C 425.0,1.0 425.0,1.0 425.0,0\",\"type\":\"path\"},{\"layer\":\"below\",\"line\":{\"color\":\"rgb(180,180,180)\",\"width\":0.5},\"path\":\"M 425.0,2 C 425.0,1.0 429.0,1.0 429.0,0\",\"type\":\"path\"},{\"layer\":\"below\",\"line\":{\"color\":\"rgb(180,180,180)\",\"width\":0.5},\"path\":\"M 425.0,2 C 425.0,1.0 433.0,1.0 433.0,0\",\"type\":\"path\"},{\"layer\":\"below\",\"line\":{\"color\":\"rgb(180,180,180)\",\"width\":0.792481250360578},\"path\":\"M 446.14285714285717,4 C 446.14285714285717,3.0 437.0,3.0 437.0,2\",\"type\":\"path\"},{\"layer\":\"below\",\"line\":{\"color\":\"rgb(180,180,180)\",\"width\":0.792481250360578},\"path\":\"M 437.0,2 C 437.0,1.0 437.0,1.0 437.0,0\",\"type\":\"path\"},{\"layer\":\"below\",\"line\":{\"color\":\"rgb(180,180,180)\",\"width\":0.792481250360578},\"path\":\"M 446.14285714285717,4 C 446.14285714285717,3.0 441.0,3.0 441.0,2\",\"type\":\"path\"},{\"layer\":\"below\",\"line\":{\"color\":\"rgb(180,180,180)\",\"width\":0.792481250360578},\"path\":\"M 441.0,2 C 441.0,1.0 441.0,1.0 441.0,0\",\"type\":\"path\"},{\"layer\":\"below\",\"line\":{\"color\":\"rgb(180,180,180)\",\"width\":1.160964047443681},\"path\":\"M 446.14285714285717,4 C 446.14285714285717,3.0 447.0,3.0 447.0,2\",\"type\":\"path\"},{\"layer\":\"below\",\"line\":{\"color\":\"rgb(180,180,180)\",\"width\":0.792481250360578},\"path\":\"M 447.0,2 C 447.0,1.0 445.0,1.0 445.0,0\",\"type\":\"path\"},{\"layer\":\"below\",\"line\":{\"color\":\"rgb(180,180,180)\",\"width\":0.792481250360578},\"path\":\"M 447.0,2 C 447.0,1.0 449.0,1.0 449.0,0\",\"type\":\"path\"},{\"layer\":\"below\",\"line\":{\"color\":\"rgb(180,180,180)\",\"width\":0.792481250360578},\"path\":\"M 446.14285714285717,4 C 446.14285714285717,3.0 453.0,3.0 453.0,2\",\"type\":\"path\"},{\"layer\":\"below\",\"line\":{\"color\":\"rgb(180,180,180)\",\"width\":0.792481250360578},\"path\":\"M 453.0,2 C 453.0,1.0 453.0,1.0 453.0,0\",\"type\":\"path\"},{\"layer\":\"below\",\"line\":{\"color\":\"rgb(180,180,180)\",\"width\":0.792481250360578},\"path\":\"M 446.14285714285717,4 C 446.14285714285717,3.0 457.0,3.0 457.0,2\",\"type\":\"path\"},{\"layer\":\"below\",\"line\":{\"color\":\"rgb(180,180,180)\",\"width\":0.792481250360578},\"path\":\"M 457.0,2 C 457.0,1.0 457.0,1.0 457.0,0\",\"type\":\"path\"},{\"layer\":\"below\",\"line\":{\"color\":\"rgb(180,180,180)\",\"width\":2.1239637567217926},\"path\":\"M 446.14285714285717,4 C 446.14285714285717,3.0 463.0,3.0 463.0,2\",\"type\":\"path\"},{\"layer\":\"below\",\"line\":{\"color\":\"rgb(180,180,180)\",\"width\":0.792481250360578},\"path\":\"M 463.0,2 C 463.0,1.0 461.0,1.0 461.0,0\",\"type\":\"path\"},{\"layer\":\"below\",\"line\":{\"color\":\"rgb(180,180,180)\",\"width\":2.0437314206251695},\"path\":\"M 463.0,2 C 463.0,1.0 465.0,1.0 465.0,0\",\"type\":\"path\"},{\"layer\":\"below\",\"line\":{\"color\":\"rgb(180,180,180)\",\"width\":2.777294425838819},\"path\":\"M 523.5622710622711,5 C 523.5622710622711,4.5 475.0,4.5 475.0,4\",\"type\":\"path\"},{\"layer\":\"below\",\"line\":{\"color\":\"rgb(180,180,180)\",\"width\":2.0},\"path\":\"M 475.0,4 C 475.0,3.0 469.0,3.0 469.0,2\",\"type\":\"path\"},{\"layer\":\"below\",\"line\":{\"color\":\"rgb(180,180,180)\",\"width\":2.0},\"path\":\"M 469.0,2 C 469.0,1.0 469.0,1.0 469.0,0\",\"type\":\"path\"},{\"layer\":\"below\",\"line\":{\"color\":\"rgb(180,180,180)\",\"width\":1.903677461028802},\"path\":\"M 475.0,4 C 475.0,3.0 473.0,3.0 473.0,2\",\"type\":\"path\"},{\"layer\":\"below\",\"line\":{\"color\":\"rgb(180,180,180)\",\"width\":1.903677461028802},\"path\":\"M 473.0,2 C 473.0,1.0 473.0,1.0 473.0,0\",\"type\":\"path\"},{\"layer\":\"below\",\"line\":{\"color\":\"rgb(180,180,180)\",\"width\":2.0},\"path\":\"M 475.0,4 C 475.0,3.0 477.0,3.0 477.0,2\",\"type\":\"path\"},{\"layer\":\"below\",\"line\":{\"color\":\"rgb(180,180,180)\",\"width\":2.0},\"path\":\"M 477.0,2 C 477.0,1.0 477.0,1.0 477.0,0\",\"type\":\"path\"},{\"layer\":\"below\",\"line\":{\"color\":\"rgb(180,180,180)\",\"width\":1.0},\"path\":\"M 475.0,4 C 475.0,3.0 481.0,3.0 481.0,2\",\"type\":\"path\"},{\"layer\":\"below\",\"line\":{\"color\":\"rgb(180,180,180)\",\"width\":1.0},\"path\":\"M 481.0,2 C 481.0,1.0 481.0,1.0 481.0,0\",\"type\":\"path\"},{\"layer\":\"below\",\"line\":{\"color\":\"rgb(180,180,180)\",\"width\":0.5},\"path\":\"M 523.5622710622711,5 C 523.5622710622711,4.5 485.0,4.5 485.0,4\",\"type\":\"path\"},{\"layer\":\"below\",\"line\":{\"color\":\"rgb(180,180,180)\",\"width\":0.5},\"path\":\"M 485.0,4 C 485.0,3.0 485.0,3.0 485.0,2\",\"type\":\"path\"},{\"layer\":\"below\",\"line\":{\"color\":\"rgb(180,180,180)\",\"width\":0.5},\"path\":\"M 485.0,2 C 485.0,1.0 485.0,1.0 485.0,0\",\"type\":\"path\"},{\"layer\":\"below\",\"line\":{\"color\":\"rgb(180,180,180)\",\"width\":1.5},\"path\":\"M 523.5622710622711,5 C 523.5622710622711,4.5 489.0,4.5 489.0,4\",\"type\":\"path\"},{\"layer\":\"below\",\"line\":{\"color\":\"rgb(180,180,180)\",\"width\":1.5},\"path\":\"M 489.0,4 C 489.0,3.0 489.0,3.0 489.0,2\",\"type\":\"path\"},{\"layer\":\"below\",\"line\":{\"color\":\"rgb(180,180,180)\",\"width\":1.5},\"path\":\"M 489.0,2 C 489.0,1.0 489.0,1.0 489.0,0\",\"type\":\"path\"},{\"layer\":\"below\",\"line\":{\"color\":\"rgb(180,180,180)\",\"width\":1.850219859070546},\"path\":\"M 523.5622710622711,5 C 523.5622710622711,4.5 499.0,4.5 499.0,4\",\"type\":\"path\"},{\"layer\":\"below\",\"line\":{\"color\":\"rgb(180,180,180)\",\"width\":0.792481250360578},\"path\":\"M 499.0,4 C 499.0,3.0 493.0,3.0 493.0,2\",\"type\":\"path\"},{\"layer\":\"below\",\"line\":{\"color\":\"rgb(180,180,180)\",\"width\":0.792481250360578},\"path\":\"M 493.0,2 C 493.0,1.0 493.0,1.0 493.0,0\",\"type\":\"path\"},{\"layer\":\"below\",\"line\":{\"color\":\"rgb(180,180,180)\",\"width\":0.792481250360578},\"path\":\"M 499.0,4 C 499.0,3.0 497.0,3.0 497.0,2\",\"type\":\"path\"},{\"layer\":\"below\",\"line\":{\"color\":\"rgb(180,180,180)\",\"width\":0.792481250360578},\"path\":\"M 497.0,2 C 497.0,1.0 497.0,1.0 497.0,0\",\"type\":\"path\"},{\"layer\":\"below\",\"line\":{\"color\":\"rgb(180,180,180)\",\"width\":1.584962500721156},\"path\":\"M 499.0,4 C 499.0,3.0 507.0,3.0 507.0,2\",\"type\":\"path\"},{\"layer\":\"below\",\"line\":{\"color\":\"rgb(180,180,180)\",\"width\":0.792481250360578},\"path\":\"M 507.0,2 C 507.0,1.0 501.0,1.0 501.0,0\",\"type\":\"path\"},{\"layer\":\"below\",\"line\":{\"color\":\"rgb(180,180,180)\",\"width\":0.792481250360578},\"path\":\"M 507.0,2 C 507.0,1.0 505.0,1.0 505.0,0\",\"type\":\"path\"},{\"layer\":\"below\",\"line\":{\"color\":\"rgb(180,180,180)\",\"width\":0.792481250360578},\"path\":\"M 507.0,2 C 507.0,1.0 509.0,1.0 509.0,0\",\"type\":\"path\"},{\"layer\":\"below\",\"line\":{\"color\":\"rgb(180,180,180)\",\"width\":0.792481250360578},\"path\":\"M 507.0,2 C 507.0,1.0 513.0,1.0 513.0,0\",\"type\":\"path\"},{\"layer\":\"below\",\"line\":{\"color\":\"rgb(180,180,180)\",\"width\":2.6427011094311244},\"path\":\"M 523.5622710622711,5 C 523.5622710622711,4.5 522.0,4.5 522.0,4\",\"type\":\"path\"},{\"layer\":\"below\",\"line\":{\"color\":\"rgb(180,180,180)\",\"width\":2.604726682814475},\"path\":\"M 522.0,4 C 522.0,3.0 519.0,3.0 519.0,2\",\"type\":\"path\"},{\"layer\":\"below\",\"line\":{\"color\":\"rgb(180,180,180)\",\"width\":2.428990497563786},\"path\":\"M 519.0,2 C 519.0,1.0 517.0,1.0 517.0,0\",\"type\":\"path\"},{\"layer\":\"below\",\"line\":{\"color\":\"rgb(180,180,180)\",\"width\":1.584962500721156},\"path\":\"M 519.0,2 C 519.0,1.0 521.0,1.0 521.0,0\",\"type\":\"path\"},{\"layer\":\"below\",\"line\":{\"color\":\"rgb(180,180,180)\",\"width\":0.792481250360578},\"path\":\"M 522.0,4 C 522.0,3.0 525.0,3.0 525.0,2\",\"type\":\"path\"},{\"layer\":\"below\",\"line\":{\"color\":\"rgb(180,180,180)\",\"width\":0.792481250360578},\"path\":\"M 525.0,2 C 525.0,1.0 525.0,1.0 525.0,0\",\"type\":\"path\"},{\"layer\":\"below\",\"line\":{\"color\":\"rgb(180,180,180)\",\"width\":1.792481250360578},\"path\":\"M 523.5622710622711,5 C 523.5622710622711,4.5 531.0,4.5 531.0,4\",\"type\":\"path\"},{\"layer\":\"below\",\"line\":{\"color\":\"rgb(180,180,180)\",\"width\":1.7297158093186487},\"path\":\"M 531.0,4 C 531.0,3.0 529.0,3.0 529.0,2\",\"type\":\"path\"},{\"layer\":\"below\",\"line\":{\"color\":\"rgb(180,180,180)\",\"width\":1.7297158093186487},\"path\":\"M 529.0,2 C 529.0,1.0 529.0,1.0 529.0,0\",\"type\":\"path\"},{\"layer\":\"below\",\"line\":{\"color\":\"rgb(180,180,180)\",\"width\":0.5},\"path\":\"M 531.0,4 C 531.0,3.0 533.0,3.0 533.0,2\",\"type\":\"path\"},{\"layer\":\"below\",\"line\":{\"color\":\"rgb(180,180,180)\",\"width\":0.5},\"path\":\"M 533.0,2 C 533.0,1.0 533.0,1.0 533.0,0\",\"type\":\"path\"},{\"layer\":\"below\",\"line\":{\"color\":\"rgb(180,180,180)\",\"width\":2.9770981551934375},\"path\":\"M 523.5622710622711,5 C 523.5622710622711,4.5 547.5,4.5 547.5,4\",\"type\":\"path\"},{\"layer\":\"below\",\"line\":{\"color\":\"rgb(180,180,180)\",\"width\":1.0},\"path\":\"M 547.5,4 C 547.5,3.0 537.0,3.0 537.0,2\",\"type\":\"path\"},{\"layer\":\"below\",\"line\":{\"color\":\"rgb(180,180,180)\",\"width\":1.0},\"path\":\"M 537.0,2 C 537.0,1.0 537.0,1.0 537.0,0\",\"type\":\"path\"},{\"layer\":\"below\",\"line\":{\"color\":\"rgb(180,180,180)\",\"width\":1.0},\"path\":\"M 547.5,4 C 547.5,3.0 541.0,3.0 541.0,2\",\"type\":\"path\"},{\"layer\":\"below\",\"line\":{\"color\":\"rgb(180,180,180)\",\"width\":1.0},\"path\":\"M 541.0,2 C 541.0,1.0 541.0,1.0 541.0,0\",\"type\":\"path\"},{\"layer\":\"below\",\"line\":{\"color\":\"rgb(180,180,180)\",\"width\":2.877443751081734},\"path\":\"M 547.5,4 C 547.5,3.0 551.0,3.0 551.0,2\",\"type\":\"path\"},{\"layer\":\"below\",\"line\":{\"color\":\"rgb(180,180,180)\",\"width\":2.1609640474436813},\"path\":\"M 551.0,2 C 551.0,1.0 545.0,1.0 545.0,0\",\"type\":\"path\"},{\"layer\":\"below\",\"line\":{\"color\":\"rgb(180,180,180)\",\"width\":2.0},\"path\":\"M 551.0,2 C 551.0,1.0 549.0,1.0 549.0,0\",\"type\":\"path\"},{\"layer\":\"below\",\"line\":{\"color\":\"rgb(180,180,180)\",\"width\":2.0},\"path\":\"M 551.0,2 C 551.0,1.0 553.0,1.0 553.0,0\",\"type\":\"path\"},{\"layer\":\"below\",\"line\":{\"color\":\"rgb(180,180,180)\",\"width\":1.160964047443681},\"path\":\"M 551.0,2 C 551.0,1.0 557.0,1.0 557.0,0\",\"type\":\"path\"},{\"layer\":\"below\",\"line\":{\"color\":\"rgb(180,180,180)\",\"width\":0.792481250360578},\"path\":\"M 547.5,4 C 547.5,3.0 561.0,3.0 561.0,2\",\"type\":\"path\"},{\"layer\":\"below\",\"line\":{\"color\":\"rgb(180,180,180)\",\"width\":0.792481250360578},\"path\":\"M 561.0,2 C 561.0,1.0 561.0,1.0 561.0,0\",\"type\":\"path\"},{\"layer\":\"below\",\"line\":{\"color\":\"rgb(180,180,180)\",\"width\":2.713132377351049},\"path\":\"M 523.5622710622711,5 C 523.5622710622711,4.5 581.6666666666666,4.5 581.6666666666666,4\",\"type\":\"path\"},{\"layer\":\"below\",\"line\":{\"color\":\"rgb(180,180,180)\",\"width\":2.3502198590705463},\"path\":\"M 581.6666666666666,4 C 581.6666666666666,3.0 571.0,3.0 571.0,2\",\"type\":\"path\"},{\"layer\":\"below\",\"line\":{\"color\":\"rgb(180,180,180)\",\"width\":0.792481250360578},\"path\":\"M 571.0,2 C 571.0,1.0 565.0,1.0 565.0,0\",\"type\":\"path\"},{\"layer\":\"below\",\"line\":{\"color\":\"rgb(180,180,180)\",\"width\":0.792481250360578},\"path\":\"M 571.0,2 C 571.0,1.0 569.0,1.0 569.0,0\",\"type\":\"path\"},{\"layer\":\"below\",\"line\":{\"color\":\"rgb(180,180,180)\",\"width\":0.792481250360578},\"path\":\"M 571.0,2 C 571.0,1.0 573.0,1.0 573.0,0\",\"type\":\"path\"},{\"layer\":\"below\",\"line\":{\"color\":\"rgb(180,180,180)\",\"width\":2.1609640474436813},\"path\":\"M 571.0,2 C 571.0,1.0 577.0,1.0 577.0,0\",\"type\":\"path\"},{\"layer\":\"below\",\"line\":{\"color\":\"rgb(180,180,180)\",\"width\":1.584962500721156},\"path\":\"M 581.6666666666666,4 C 581.6666666666666,3.0 583.0,3.0 583.0,2\",\"type\":\"path\"},{\"layer\":\"below\",\"line\":{\"color\":\"rgb(180,180,180)\",\"width\":1.0},\"path\":\"M 583.0,2 C 583.0,1.0 581.0,1.0 581.0,0\",\"type\":\"path\"},{\"layer\":\"below\",\"line\":{\"color\":\"rgb(180,180,180)\",\"width\":1.292481250360578},\"path\":\"M 583.0,2 C 583.0,1.0 585.0,1.0 585.0,0\",\"type\":\"path\"},{\"layer\":\"below\",\"line\":{\"color\":\"rgb(180,180,180)\",\"width\":1.660964047443681},\"path\":\"M 581.6666666666666,4 C 581.6666666666666,3.0 591.0,3.0 591.0,2\",\"type\":\"path\"},{\"layer\":\"below\",\"line\":{\"color\":\"rgb(180,180,180)\",\"width\":0.792481250360578},\"path\":\"M 591.0,2 C 591.0,1.0 589.0,1.0 589.0,0\",\"type\":\"path\"},{\"layer\":\"below\",\"line\":{\"color\":\"rgb(180,180,180)\",\"width\":1.5},\"path\":\"M 591.0,2 C 591.0,1.0 593.0,1.0 593.0,0\",\"type\":\"path\"},{\"layer\":\"below\",\"line\":{\"color\":\"rgb(180,180,180)\",\"width\":1.0},\"path\":\"M 523.5622710622711,5 C 523.5622710622711,4.5 599.0,4.5 599.0,4\",\"type\":\"path\"},{\"layer\":\"below\",\"line\":{\"color\":\"rgb(180,180,180)\",\"width\":0.5},\"path\":\"M 599.0,4 C 599.0,3.0 597.0,3.0 597.0,2\",\"type\":\"path\"},{\"layer\":\"below\",\"line\":{\"color\":\"rgb(180,180,180)\",\"width\":0.5},\"path\":\"M 597.0,2 C 597.0,1.0 597.0,1.0 597.0,0\",\"type\":\"path\"},{\"layer\":\"below\",\"line\":{\"color\":\"rgb(180,180,180)\",\"width\":0.792481250360578},\"path\":\"M 599.0,4 C 599.0,3.0 601.0,3.0 601.0,2\",\"type\":\"path\"},{\"layer\":\"below\",\"line\":{\"color\":\"rgb(180,180,180)\",\"width\":0.792481250360578},\"path\":\"M 601.0,2 C 601.0,1.0 601.0,1.0 601.0,0\",\"type\":\"path\"},{\"layer\":\"below\",\"line\":{\"color\":\"rgb(180,180,180)\",\"width\":2.6961587113893803},\"path\":\"M 523.5622710622711,5 C 523.5622710622711,4.5 609.0,4.5 609.0,4\",\"type\":\"path\"},{\"layer\":\"below\",\"line\":{\"color\":\"rgb(180,180,180)\",\"width\":2.6961587113893803},\"path\":\"M 609.0,4 C 609.0,3.0 609.0,3.0 609.0,2\",\"type\":\"path\"},{\"layer\":\"below\",\"line\":{\"color\":\"rgb(180,180,180)\",\"width\":1.903677461028802},\"path\":\"M 609.0,2 C 609.0,1.0 605.0,1.0 605.0,0\",\"type\":\"path\"},{\"layer\":\"below\",\"line\":{\"color\":\"rgb(180,180,180)\",\"width\":2.084962500721156},\"path\":\"M 609.0,2 C 609.0,1.0 609.0,1.0 609.0,0\",\"type\":\"path\"},{\"layer\":\"below\",\"line\":{\"color\":\"rgb(180,180,180)\",\"width\":1.792481250360578},\"path\":\"M 609.0,2 C 609.0,1.0 613.0,1.0 613.0,0\",\"type\":\"path\"},{\"layer\":\"below\",\"line\":{\"color\":\"rgb(180,180,180)\",\"width\":3.1144093452479407},\"path\":\"M 523.5622710622711,5 C 523.5622710622711,4.5 624.0,4.5 624.0,4\",\"type\":\"path\"},{\"layer\":\"below\",\"line\":{\"color\":\"rgb(180,180,180)\",\"width\":0.5},\"path\":\"M 624.0,4 C 624.0,3.0 617.0,3.0 617.0,2\",\"type\":\"path\"},{\"layer\":\"below\",\"line\":{\"color\":\"rgb(180,180,180)\",\"width\":0.5},\"path\":\"M 617.0,2 C 617.0,1.0 617.0,1.0 617.0,0\",\"type\":\"path\"},{\"layer\":\"below\",\"line\":{\"color\":\"rgb(180,180,180)\",\"width\":3.104726682814475},\"path\":\"M 624.0,4 C 624.0,3.0 631.0,3.0 631.0,2\",\"type\":\"path\"},{\"layer\":\"below\",\"line\":{\"color\":\"rgb(180,180,180)\",\"width\":0.792481250360578},\"path\":\"M 631.0,2 C 631.0,1.0 621.0,1.0 621.0,0\",\"type\":\"path\"},{\"layer\":\"below\",\"line\":{\"color\":\"rgb(180,180,180)\",\"width\":2.1239637567217926},\"path\":\"M 631.0,2 C 631.0,1.0 625.0,1.0 625.0,0\",\"type\":\"path\"},{\"layer\":\"below\",\"line\":{\"color\":\"rgb(180,180,180)\",\"width\":1.584962500721156},\"path\":\"M 631.0,2 C 631.0,1.0 629.0,1.0 629.0,0\",\"type\":\"path\"},{\"layer\":\"below\",\"line\":{\"color\":\"rgb(180,180,180)\",\"width\":2.1239637567217926},\"path\":\"M 631.0,2 C 631.0,1.0 633.0,1.0 633.0,0\",\"type\":\"path\"},{\"layer\":\"below\",\"line\":{\"color\":\"rgb(180,180,180)\",\"width\":2.084962500721156},\"path\":\"M 631.0,2 C 631.0,1.0 637.0,1.0 637.0,0\",\"type\":\"path\"},{\"layer\":\"below\",\"line\":{\"color\":\"rgb(180,180,180)\",\"width\":1.7297158093186487},\"path\":\"M 631.0,2 C 631.0,1.0 641.0,1.0 641.0,0\",\"type\":\"path\"},{\"layer\":\"below\",\"line\":{\"color\":\"rgb(180,180,180)\",\"width\":5.550331169502599},\"path\":\"M 732.1782532323828,6 C 732.1782532323828,5.5 940.7942354024943,5.5 940.7942354024943,5\",\"type\":\"path\"},{\"layer\":\"below\",\"line\":{\"color\":\"rgb(180,180,180)\",\"width\":3.0},\"path\":\"M 940.7942354024943,5 C 940.7942354024943,4.5 695.8571428571429,4.5 695.8571428571429,4\",\"type\":\"path\"},{\"layer\":\"below\",\"line\":{\"color\":\"rgb(180,180,180)\",\"width\":1.292481250360578},\"path\":\"M 695.8571428571429,4 C 695.8571428571429,3.0 651.0,3.0 651.0,2\",\"type\":\"path\"},{\"layer\":\"below\",\"line\":{\"color\":\"rgb(180,180,180)\",\"width\":1.292481250360578},\"path\":\"M 651.0,2 C 651.0,1.0 651.0,1.0 651.0,0\",\"type\":\"path\"},{\"layer\":\"below\",\"line\":{\"color\":\"rgb(180,180,180)\",\"width\":1.0},\"path\":\"M 695.8571428571429,4 C 695.8571428571429,3.0 657.0,3.0 657.0,2\",\"type\":\"path\"},{\"layer\":\"below\",\"line\":{\"color\":\"rgb(180,180,180)\",\"width\":0.5},\"path\":\"M 657.0,2 C 657.0,1.0 655.0,1.0 655.0,0\",\"type\":\"path\"},{\"layer\":\"below\",\"line\":{\"color\":\"rgb(180,180,180)\",\"width\":0.792481250360578},\"path\":\"M 657.0,2 C 657.0,1.0 659.0,1.0 659.0,0\",\"type\":\"path\"},{\"layer\":\"below\",\"line\":{\"color\":\"rgb(180,180,180)\",\"width\":2.604726682814475},\"path\":\"M 695.8571428571429,4 C 695.8571428571429,3.0 685.0,3.0 685.0,2\",\"type\":\"path\"},{\"layer\":\"below\",\"line\":{\"color\":\"rgb(180,180,180)\",\"width\":0.5},\"path\":\"M 685.0,2 C 685.0,1.0 663.0,1.0 663.0,0\",\"type\":\"path\"},{\"layer\":\"below\",\"line\":{\"color\":\"rgb(180,180,180)\",\"width\":0.5},\"path\":\"M 685.0,2 C 685.0,1.0 667.0,1.0 667.0,0\",\"type\":\"path\"},{\"layer\":\"below\",\"line\":{\"color\":\"rgb(180,180,180)\",\"width\":0.5},\"path\":\"M 685.0,2 C 685.0,1.0 671.0,1.0 671.0,0\",\"type\":\"path\"},{\"layer\":\"below\",\"line\":{\"color\":\"rgb(180,180,180)\",\"width\":1.584962500721156},\"path\":\"M 685.0,2 C 685.0,1.0 675.0,1.0 675.0,0\",\"type\":\"path\"},{\"layer\":\"below\",\"line\":{\"color\":\"rgb(180,180,180)\",\"width\":1.660964047443681},\"path\":\"M 685.0,2 C 685.0,1.0 679.0,1.0 679.0,0\",\"type\":\"path\"},{\"layer\":\"below\",\"line\":{\"color\":\"rgb(180,180,180)\",\"width\":1.5},\"path\":\"M 685.0,2 C 685.0,1.0 683.0,1.0 683.0,0\",\"type\":\"path\"},{\"layer\":\"below\",\"line\":{\"color\":\"rgb(180,180,180)\",\"width\":0.5},\"path\":\"M 685.0,2 C 685.0,1.0 687.0,1.0 687.0,0\",\"type\":\"path\"},{\"layer\":\"below\",\"line\":{\"color\":\"rgb(180,180,180)\",\"width\":0.5},\"path\":\"M 685.0,2 C 685.0,1.0 691.0,1.0 691.0,0\",\"type\":\"path\"},{\"layer\":\"below\",\"line\":{\"color\":\"rgb(180,180,180)\",\"width\":0.5},\"path\":\"M 685.0,2 C 685.0,1.0 695.0,1.0 695.0,0\",\"type\":\"path\"},{\"layer\":\"below\",\"line\":{\"color\":\"rgb(180,180,180)\",\"width\":0.5},\"path\":\"M 685.0,2 C 685.0,1.0 699.0,1.0 699.0,0\",\"type\":\"path\"},{\"layer\":\"below\",\"line\":{\"color\":\"rgb(180,180,180)\",\"width\":0.5},\"path\":\"M 685.0,2 C 685.0,1.0 703.0,1.0 703.0,0\",\"type\":\"path\"},{\"layer\":\"below\",\"line\":{\"color\":\"rgb(180,180,180)\",\"width\":1.160964047443681},\"path\":\"M 685.0,2 C 685.0,1.0 707.0,1.0 707.0,0\",\"type\":\"path\"},{\"layer\":\"below\",\"line\":{\"color\":\"rgb(180,180,180)\",\"width\":1.160964047443681},\"path\":\"M 695.8571428571429,4 C 695.8571428571429,3.0 711.0,3.0 711.0,2\",\"type\":\"path\"},{\"layer\":\"below\",\"line\":{\"color\":\"rgb(180,180,180)\",\"width\":1.160964047443681},\"path\":\"M 711.0,2 C 711.0,1.0 711.0,1.0 711.0,0\",\"type\":\"path\"},{\"layer\":\"below\",\"line\":{\"color\":\"rgb(180,180,180)\",\"width\":1.792481250360578},\"path\":\"M 695.8571428571429,4 C 695.8571428571429,3.0 717.0,3.0 717.0,2\",\"type\":\"path\"},{\"layer\":\"below\",\"line\":{\"color\":\"rgb(180,180,180)\",\"width\":1.5},\"path\":\"M 717.0,2 C 717.0,1.0 715.0,1.0 715.0,0\",\"type\":\"path\"},{\"layer\":\"below\",\"line\":{\"color\":\"rgb(180,180,180)\",\"width\":1.160964047443681},\"path\":\"M 717.0,2 C 717.0,1.0 719.0,1.0 719.0,0\",\"type\":\"path\"},{\"layer\":\"below\",\"line\":{\"color\":\"rgb(180,180,180)\",\"width\":0.792481250360578},\"path\":\"M 695.8571428571429,4 C 695.8571428571429,3.0 723.0,3.0 723.0,2\",\"type\":\"path\"},{\"layer\":\"below\",\"line\":{\"color\":\"rgb(180,180,180)\",\"width\":0.792481250360578},\"path\":\"M 723.0,2 C 723.0,1.0 723.0,1.0 723.0,0\",\"type\":\"path\"},{\"layer\":\"below\",\"line\":{\"color\":\"rgb(180,180,180)\",\"width\":0.792481250360578},\"path\":\"M 695.8571428571429,4 C 695.8571428571429,3.0 727.0,3.0 727.0,2\",\"type\":\"path\"},{\"layer\":\"below\",\"line\":{\"color\":\"rgb(180,180,180)\",\"width\":0.792481250360578},\"path\":\"M 727.0,2 C 727.0,1.0 727.0,1.0 727.0,0\",\"type\":\"path\"},{\"layer\":\"below\",\"line\":{\"color\":\"rgb(180,180,180)\",\"width\":2.5437314206251695},\"path\":\"M 940.7942354024943,5 C 940.7942354024943,4.5 755.0,4.5 755.0,4\",\"type\":\"path\"},{\"layer\":\"below\",\"line\":{\"color\":\"rgb(180,180,180)\",\"width\":1.160964047443681},\"path\":\"M 755.0,4 C 755.0,3.0 733.0,3.0 733.0,2\",\"type\":\"path\"},{\"layer\":\"below\",\"line\":{\"color\":\"rgb(180,180,180)\",\"width\":0.792481250360578},\"path\":\"M 733.0,2 C 733.0,1.0 731.0,1.0 731.0,0\",\"type\":\"path\"},{\"layer\":\"below\",\"line\":{\"color\":\"rgb(180,180,180)\",\"width\":0.792481250360578},\"path\":\"M 733.0,2 C 733.0,1.0 735.0,1.0 735.0,0\",\"type\":\"path\"},{\"layer\":\"below\",\"line\":{\"color\":\"rgb(180,180,180)\",\"width\":1.160964047443681},\"path\":\"M 755.0,4 C 755.0,3.0 741.0,3.0 741.0,2\",\"type\":\"path\"},{\"layer\":\"below\",\"line\":{\"color\":\"rgb(180,180,180)\",\"width\":0.792481250360578},\"path\":\"M 741.0,2 C 741.0,1.0 739.0,1.0 739.0,0\",\"type\":\"path\"},{\"layer\":\"below\",\"line\":{\"color\":\"rgb(180,180,180)\",\"width\":0.792481250360578},\"path\":\"M 741.0,2 C 741.0,1.0 743.0,1.0 743.0,0\",\"type\":\"path\"},{\"layer\":\"below\",\"line\":{\"color\":\"rgb(180,180,180)\",\"width\":0.792481250360578},\"path\":\"M 755.0,4 C 755.0,3.0 747.0,3.0 747.0,2\",\"type\":\"path\"},{\"layer\":\"below\",\"line\":{\"color\":\"rgb(180,180,180)\",\"width\":0.792481250360578},\"path\":\"M 747.0,2 C 747.0,1.0 747.0,1.0 747.0,0\",\"type\":\"path\"},{\"layer\":\"below\",\"line\":{\"color\":\"rgb(180,180,180)\",\"width\":0.5},\"path\":\"M 755.0,4 C 755.0,3.0 751.0,3.0 751.0,2\",\"type\":\"path\"},{\"layer\":\"below\",\"line\":{\"color\":\"rgb(180,180,180)\",\"width\":0.5},\"path\":\"M 751.0,2 C 751.0,1.0 751.0,1.0 751.0,0\",\"type\":\"path\"},{\"layer\":\"below\",\"line\":{\"color\":\"rgb(180,180,180)\",\"width\":0.792481250360578},\"path\":\"M 755.0,4 C 755.0,3.0 755.0,3.0 755.0,2\",\"type\":\"path\"},{\"layer\":\"below\",\"line\":{\"color\":\"rgb(180,180,180)\",\"width\":0.792481250360578},\"path\":\"M 755.0,2 C 755.0,1.0 755.0,1.0 755.0,0\",\"type\":\"path\"},{\"layer\":\"below\",\"line\":{\"color\":\"rgb(180,180,180)\",\"width\":2.1239637567217926},\"path\":\"M 755.0,4 C 755.0,3.0 771.0,3.0 771.0,2\",\"type\":\"path\"},{\"layer\":\"below\",\"line\":{\"color\":\"rgb(180,180,180)\",\"width\":0.792481250360578},\"path\":\"M 771.0,2 C 771.0,1.0 759.0,1.0 759.0,0\",\"type\":\"path\"},{\"layer\":\"below\",\"line\":{\"color\":\"rgb(180,180,180)\",\"width\":0.792481250360578},\"path\":\"M 771.0,2 C 771.0,1.0 763.0,1.0 763.0,0\",\"type\":\"path\"},{\"layer\":\"below\",\"line\":{\"color\":\"rgb(180,180,180)\",\"width\":0.792481250360578},\"path\":\"M 771.0,2 C 771.0,1.0 767.0,1.0 767.0,0\",\"type\":\"path\"},{\"layer\":\"below\",\"line\":{\"color\":\"rgb(180,180,180)\",\"width\":0.792481250360578},\"path\":\"M 771.0,2 C 771.0,1.0 771.0,1.0 771.0,0\",\"type\":\"path\"},{\"layer\":\"below\",\"line\":{\"color\":\"rgb(180,180,180)\",\"width\":0.792481250360578},\"path\":\"M 771.0,2 C 771.0,1.0 775.0,1.0 775.0,0\",\"type\":\"path\"},{\"layer\":\"below\",\"line\":{\"color\":\"rgb(180,180,180)\",\"width\":0.792481250360578},\"path\":\"M 771.0,2 C 771.0,1.0 779.0,1.0 779.0,0\",\"type\":\"path\"},{\"layer\":\"below\",\"line\":{\"color\":\"rgb(180,180,180)\",\"width\":1.403677461028802},\"path\":\"M 771.0,2 C 771.0,1.0 783.0,1.0 783.0,0\",\"type\":\"path\"},{\"layer\":\"below\",\"line\":{\"color\":\"rgb(180,180,180)\",\"width\":0.792481250360578},\"path\":\"M 755.0,4 C 755.0,3.0 787.0,3.0 787.0,2\",\"type\":\"path\"},{\"layer\":\"below\",\"line\":{\"color\":\"rgb(180,180,180)\",\"width\":0.792481250360578},\"path\":\"M 787.0,2 C 787.0,1.0 787.0,1.0 787.0,0\",\"type\":\"path\"},{\"layer\":\"below\",\"line\":{\"color\":\"rgb(180,180,180)\",\"width\":2.6961587113893803},\"path\":\"M 940.7942354024943,5 C 940.7942354024943,4.5 823.6666666666666,4.5 823.6666666666666,4\",\"type\":\"path\"},{\"layer\":\"below\",\"line\":{\"color\":\"rgb(180,180,180)\",\"width\":2.3502198590705463},\"path\":\"M 823.6666666666666,4 C 823.6666666666666,3.0 801.0,3.0 801.0,2\",\"type\":\"path\"},{\"layer\":\"below\",\"line\":{\"color\":\"rgb(180,180,180)\",\"width\":0.792481250360578},\"path\":\"M 801.0,2 C 801.0,1.0 791.0,1.0 791.0,0\",\"type\":\"path\"},{\"layer\":\"below\",\"line\":{\"color\":\"rgb(180,180,180)\",\"width\":1.0},\"path\":\"M 801.0,2 C 801.0,1.0 795.0,1.0 795.0,0\",\"type\":\"path\"},{\"layer\":\"below\",\"line\":{\"color\":\"rgb(180,180,180)\",\"width\":1.160964047443681},\"path\":\"M 801.0,2 C 801.0,1.0 799.0,1.0 799.0,0\",\"type\":\"path\"},{\"layer\":\"below\",\"line\":{\"color\":\"rgb(180,180,180)\",\"width\":1.292481250360578},\"path\":\"M 801.0,2 C 801.0,1.0 803.0,1.0 803.0,0\",\"type\":\"path\"},{\"layer\":\"below\",\"line\":{\"color\":\"rgb(180,180,180)\",\"width\":0.5},\"path\":\"M 801.0,2 C 801.0,1.0 807.0,1.0 807.0,0\",\"type\":\"path\"},{\"layer\":\"below\",\"line\":{\"color\":\"rgb(180,180,180)\",\"width\":1.7297158093186487},\"path\":\"M 801.0,2 C 801.0,1.0 811.0,1.0 811.0,0\",\"type\":\"path\"},{\"layer\":\"below\",\"line\":{\"color\":\"rgb(180,180,180)\",\"width\":0.792481250360578},\"path\":\"M 823.6666666666666,4 C 823.6666666666666,3.0 817.0,3.0 817.0,2\",\"type\":\"path\"},{\"layer\":\"below\",\"line\":{\"color\":\"rgb(180,180,180)\",\"width\":0.5},\"path\":\"M 817.0,2 C 817.0,1.0 815.0,1.0 815.0,0\",\"type\":\"path\"},{\"layer\":\"below\",\"line\":{\"color\":\"rgb(180,180,180)\",\"width\":0.5},\"path\":\"M 817.0,2 C 817.0,1.0 819.0,1.0 819.0,0\",\"type\":\"path\"},{\"layer\":\"below\",\"line\":{\"color\":\"rgb(180,180,180)\",\"width\":0.5},\"path\":\"M 823.6666666666666,4 C 823.6666666666666,3.0 823.0,3.0 823.0,2\",\"type\":\"path\"},{\"layer\":\"below\",\"line\":{\"color\":\"rgb(180,180,180)\",\"width\":0.5},\"path\":\"M 823.0,2 C 823.0,1.0 823.0,1.0 823.0,0\",\"type\":\"path\"},{\"layer\":\"below\",\"line\":{\"color\":\"rgb(180,180,180)\",\"width\":0.792481250360578},\"path\":\"M 823.6666666666666,4 C 823.6666666666666,3.0 827.0,3.0 827.0,2\",\"type\":\"path\"},{\"layer\":\"below\",\"line\":{\"color\":\"rgb(180,180,180)\",\"width\":0.792481250360578},\"path\":\"M 827.0,2 C 827.0,1.0 827.0,1.0 827.0,0\",\"type\":\"path\"},{\"layer\":\"below\",\"line\":{\"color\":\"rgb(180,180,180)\",\"width\":1.5},\"path\":\"M 823.6666666666666,4 C 823.6666666666666,3.0 833.0,3.0 833.0,2\",\"type\":\"path\"},{\"layer\":\"below\",\"line\":{\"color\":\"rgb(180,180,180)\",\"width\":1.403677461028802},\"path\":\"M 833.0,2 C 833.0,1.0 831.0,1.0 831.0,0\",\"type\":\"path\"},{\"layer\":\"below\",\"line\":{\"color\":\"rgb(180,180,180)\",\"width\":0.5},\"path\":\"M 833.0,2 C 833.0,1.0 835.0,1.0 835.0,0\",\"type\":\"path\"},{\"layer\":\"below\",\"line\":{\"color\":\"rgb(180,180,180)\",\"width\":1.160964047443681},\"path\":\"M 823.6666666666666,4 C 823.6666666666666,3.0 841.0,3.0 841.0,2\",\"type\":\"path\"},{\"layer\":\"below\",\"line\":{\"color\":\"rgb(180,180,180)\",\"width\":0.5},\"path\":\"M 841.0,2 C 841.0,1.0 839.0,1.0 839.0,0\",\"type\":\"path\"},{\"layer\":\"below\",\"line\":{\"color\":\"rgb(180,180,180)\",\"width\":1.0},\"path\":\"M 841.0,2 C 841.0,1.0 843.0,1.0 843.0,0\",\"type\":\"path\"},{\"layer\":\"below\",\"line\":{\"color\":\"rgb(180,180,180)\",\"width\":2.8502198590705463},\"path\":\"M 940.7942354024943,5 C 940.7942354024943,4.5 851.0,4.5 851.0,4\",\"type\":\"path\"},{\"layer\":\"below\",\"line\":{\"color\":\"rgb(180,180,180)\",\"width\":1.850219859070546},\"path\":\"M 851.0,4 C 851.0,3.0 847.0,3.0 847.0,2\",\"type\":\"path\"},{\"layer\":\"below\",\"line\":{\"color\":\"rgb(180,180,180)\",\"width\":1.850219859070546},\"path\":\"M 847.0,2 C 847.0,1.0 847.0,1.0 847.0,0\",\"type\":\"path\"},{\"layer\":\"below\",\"line\":{\"color\":\"rgb(180,180,180)\",\"width\":2.377443751081734},\"path\":\"M 851.0,4 C 851.0,3.0 851.0,3.0 851.0,2\",\"type\":\"path\"},{\"layer\":\"below\",\"line\":{\"color\":\"rgb(180,180,180)\",\"width\":2.377443751081734},\"path\":\"M 851.0,2 C 851.0,1.0 851.0,1.0 851.0,0\",\"type\":\"path\"},{\"layer\":\"below\",\"line\":{\"color\":\"rgb(180,180,180)\",\"width\":1.903677461028802},\"path\":\"M 851.0,4 C 851.0,3.0 855.0,3.0 855.0,2\",\"type\":\"path\"},{\"layer\":\"below\",\"line\":{\"color\":\"rgb(180,180,180)\",\"width\":1.903677461028802},\"path\":\"M 855.0,2 C 855.0,1.0 855.0,1.0 855.0,0\",\"type\":\"path\"},{\"layer\":\"below\",\"line\":{\"color\":\"rgb(180,180,180)\",\"width\":0.792481250360578},\"path\":\"M 940.7942354024943,5 C 940.7942354024943,4.5 859.0,4.5 859.0,4\",\"type\":\"path\"},{\"layer\":\"below\",\"line\":{\"color\":\"rgb(180,180,180)\",\"width\":0.792481250360578},\"path\":\"M 859.0,4 C 859.0,3.0 859.0,3.0 859.0,2\",\"type\":\"path\"},{\"layer\":\"below\",\"line\":{\"color\":\"rgb(180,180,180)\",\"width\":0.792481250360578},\"path\":\"M 859.0,2 C 859.0,1.0 859.0,1.0 859.0,0\",\"type\":\"path\"},{\"layer\":\"below\",\"line\":{\"color\":\"rgb(180,180,180)\",\"width\":4.958686039738421},\"path\":\"M 940.7942354024943,5 C 940.7942354024943,4.5 905.0954861111111,4.5 905.0954861111111,4\",\"type\":\"path\"},{\"layer\":\"below\",\"line\":{\"color\":\"rgb(180,180,180)\",\"width\":4.507010235157467},\"path\":\"M 905.0954861111111,4 C 905.0954861111111,3.5 885.1944444444445,3.5 885.1944444444445,3\",\"type\":\"path\"},{\"layer\":\"below\",\"line\":{\"color\":\"rgb(180,180,180)\",\"width\":4.465368668781443},\"path\":\"M 885.1944444444445,3 C 885.1944444444445,2.5 870.5833333333334,2.5 870.5833333333334,2\",\"type\":\"path\"},{\"layer\":\"below\",\"line\":{\"color\":\"rgb(180,180,180)\",\"width\":1.850219859070546},\"path\":\"M 870.5833333333334,2 C 870.5833333333334,1.5 863.75,1.5 863.75,1\",\"type\":\"path\"},{\"layer\":\"below\",\"line\":{\"color\":\"rgb(180,180,180)\",\"width\":1.292481250360578},\"path\":\"M 863.75,1 C 863.75,0.5 863.0,0.5 863.0,0\",\"type\":\"path\"},{\"layer\":\"below\",\"line\":{\"color\":\"rgb(180,180,180)\",\"width\":0.792481250360578},\"path\":\"M 863.75,1 C 863.75,0.5 863.5,0.5 863.5,0\",\"type\":\"path\"},{\"layer\":\"below\",\"line\":{\"color\":\"rgb(180,180,180)\",\"width\":0.5},\"path\":\"M 863.75,1 C 863.75,0.5 864.0,0.5 864.0,0\",\"type\":\"path\"},{\"layer\":\"below\",\"line\":{\"color\":\"rgb(180,180,180)\",\"width\":1.160964047443681},\"path\":\"M 863.75,1 C 863.75,0.5 864.5,0.5 864.5,0\",\"type\":\"path\"},{\"layer\":\"below\",\"line\":{\"color\":\"rgb(180,180,180)\",\"width\":2.9770981551934375},\"path\":\"M 870.5833333333334,2 C 870.5833333333334,1.5 868.75,1.5 868.75,1\",\"type\":\"path\"},{\"layer\":\"below\",\"line\":{\"color\":\"rgb(180,180,180)\",\"width\":2.807354922057604},\"path\":\"M 868.75,1 C 868.75,0.5 868.5,0.5 868.5,0\",\"type\":\"path\"},{\"layer\":\"below\",\"line\":{\"color\":\"rgb(180,180,180)\",\"width\":1.903677461028802},\"path\":\"M 868.75,1 C 868.75,0.5 869.0,0.5 869.0,0\",\"type\":\"path\"},{\"layer\":\"below\",\"line\":{\"color\":\"rgb(180,180,180)\",\"width\":4.348483763117144},\"path\":\"M 870.5833333333334,2 C 870.5833333333334,1.5 879.25,1.5 879.25,1\",\"type\":\"path\"},{\"layer\":\"below\",\"line\":{\"color\":\"rgb(180,180,180)\",\"width\":1.403677461028802},\"path\":\"M 879.25,1 C 879.25,0.5 873.0,0.5 873.0,0\",\"type\":\"path\"},{\"layer\":\"below\",\"line\":{\"color\":\"rgb(180,180,180)\",\"width\":0.5},\"path\":\"M 879.25,1 C 879.25,0.5 873.5,0.5 873.5,0\",\"type\":\"path\"},{\"layer\":\"below\",\"line\":{\"color\":\"rgb(180,180,180)\",\"width\":3.721471747924364},\"path\":\"M 879.25,1 C 879.25,0.5 874.0,0.5 874.0,0\",\"type\":\"path\"},{\"layer\":\"below\",\"line\":{\"color\":\"rgb(180,180,180)\",\"width\":3.0221970596792267},\"path\":\"M 879.25,1 C 879.25,0.5 874.5,0.5 874.5,0\",\"type\":\"path\"},{\"layer\":\"below\",\"line\":{\"color\":\"rgb(180,180,180)\",\"width\":1.0},\"path\":\"M 879.25,1 C 879.25,0.5 875.0,0.5 875.0,0\",\"type\":\"path\"},{\"layer\":\"below\",\"line\":{\"color\":\"rgb(180,180,180)\",\"width\":0.5},\"path\":\"M 879.25,1 C 879.25,0.5 875.5,0.5 875.5,0\",\"type\":\"path\"},{\"layer\":\"below\",\"line\":{\"color\":\"rgb(180,180,180)\",\"width\":3.1427011094311244},\"path\":\"M 879.25,1 C 879.25,0.5 876.0,0.5 876.0,0\",\"type\":\"path\"},{\"layer\":\"below\",\"line\":{\"color\":\"rgb(180,180,180)\",\"width\":1.850219859070546},\"path\":\"M 879.25,1 C 879.25,0.5 876.5,0.5 876.5,0\",\"type\":\"path\"},{\"layer\":\"below\",\"line\":{\"color\":\"rgb(180,180,180)\",\"width\":1.5},\"path\":\"M 879.25,1 C 879.25,0.5 877.0,0.5 877.0,0\",\"type\":\"path\"},{\"layer\":\"below\",\"line\":{\"color\":\"rgb(180,180,180)\",\"width\":1.792481250360578},\"path\":\"M 879.25,1 C 879.25,0.5 877.5,0.5 877.5,0\",\"type\":\"path\"},{\"layer\":\"below\",\"line\":{\"color\":\"rgb(180,180,180)\",\"width\":0.5},\"path\":\"M 879.25,1 C 879.25,0.5 878.0,0.5 878.0,0\",\"type\":\"path\"},{\"layer\":\"below\",\"line\":{\"color\":\"rgb(180,180,180)\",\"width\":0.792481250360578},\"path\":\"M 879.25,1 C 879.25,0.5 878.5,0.5 878.5,0\",\"type\":\"path\"},{\"layer\":\"below\",\"line\":{\"color\":\"rgb(180,180,180)\",\"width\":0.792481250360578},\"path\":\"M 879.25,1 C 879.25,0.5 879.0,0.5 879.0,0\",\"type\":\"path\"},{\"layer\":\"below\",\"line\":{\"color\":\"rgb(180,180,180)\",\"width\":0.5},\"path\":\"M 879.25,1 C 879.25,0.5 879.5,0.5 879.5,0\",\"type\":\"path\"},{\"layer\":\"below\",\"line\":{\"color\":\"rgb(180,180,180)\",\"width\":0.792481250360578},\"path\":\"M 879.25,1 C 879.25,0.5 880.0,0.5 880.0,0\",\"type\":\"path\"},{\"layer\":\"below\",\"line\":{\"color\":\"rgb(180,180,180)\",\"width\":1.403677461028802},\"path\":\"M 879.25,1 C 879.25,0.5 880.5,0.5 880.5,0\",\"type\":\"path\"},{\"layer\":\"below\",\"line\":{\"color\":\"rgb(180,180,180)\",\"width\":0.792481250360578},\"path\":\"M 879.25,1 C 879.25,0.5 881.0,0.5 881.0,0\",\"type\":\"path\"},{\"layer\":\"below\",\"line\":{\"color\":\"rgb(180,180,180)\",\"width\":0.792481250360578},\"path\":\"M 879.25,1 C 879.25,0.5 881.5,0.5 881.5,0\",\"type\":\"path\"},{\"layer\":\"below\",\"line\":{\"color\":\"rgb(180,180,180)\",\"width\":0.792481250360578},\"path\":\"M 879.25,1 C 879.25,0.5 882.0,0.5 882.0,0\",\"type\":\"path\"},{\"layer\":\"below\",\"line\":{\"color\":\"rgb(180,180,180)\",\"width\":0.792481250360578},\"path\":\"M 879.25,1 C 879.25,0.5 882.5,0.5 882.5,0\",\"type\":\"path\"},{\"layer\":\"below\",\"line\":{\"color\":\"rgb(180,180,180)\",\"width\":1.5},\"path\":\"M 879.25,1 C 879.25,0.5 883.0,0.5 883.0,0\",\"type\":\"path\"},{\"layer\":\"below\",\"line\":{\"color\":\"rgb(180,180,180)\",\"width\":0.5},\"path\":\"M 879.25,1 C 879.25,0.5 883.5,0.5 883.5,0\",\"type\":\"path\"},{\"layer\":\"below\",\"line\":{\"color\":\"rgb(180,180,180)\",\"width\":0.792481250360578},\"path\":\"M 879.25,1 C 879.25,0.5 884.0,0.5 884.0,0\",\"type\":\"path\"},{\"layer\":\"below\",\"line\":{\"color\":\"rgb(180,180,180)\",\"width\":1.0},\"path\":\"M 879.25,1 C 879.25,0.5 884.5,0.5 884.5,0\",\"type\":\"path\"},{\"layer\":\"below\",\"line\":{\"color\":\"rgb(180,180,180)\",\"width\":1.403677461028802},\"path\":\"M 879.25,1 C 879.25,0.5 885.0,0.5 885.0,0\",\"type\":\"path\"},{\"layer\":\"below\",\"line\":{\"color\":\"rgb(180,180,180)\",\"width\":2.084962500721156},\"path\":\"M 879.25,1 C 879.25,0.5 885.5,0.5 885.5,0\",\"type\":\"path\"},{\"layer\":\"below\",\"line\":{\"color\":\"rgb(180,180,180)\",\"width\":1.584962500721156},\"path\":\"M 885.1944444444445,3 C 885.1944444444445,2.5 889.5,2.5 889.5,2\",\"type\":\"path\"},{\"layer\":\"below\",\"line\":{\"color\":\"rgb(180,180,180)\",\"width\":1.584962500721156},\"path\":\"M 889.5,2 C 889.5,1.0 889.5,1.0 889.5,0\",\"type\":\"path\"},{\"layer\":\"below\",\"line\":{\"color\":\"rgb(180,180,180)\",\"width\":2.2297158093186487},\"path\":\"M 885.1944444444445,3 C 885.1944444444445,2.5 895.5,2.5 895.5,2\",\"type\":\"path\"},{\"layer\":\"below\",\"line\":{\"color\":\"rgb(180,180,180)\",\"width\":1.292481250360578},\"path\":\"M 895.5,2 C 895.5,1.0 893.5,1.0 893.5,0\",\"type\":\"path\"},{\"layer\":\"below\",\"line\":{\"color\":\"rgb(180,180,180)\",\"width\":2.0437314206251695},\"path\":\"M 895.5,2 C 895.5,1.0 897.5,1.0 897.5,0\",\"type\":\"path\"},{\"layer\":\"below\",\"line\":{\"color\":\"rgb(180,180,180)\",\"width\":1.160964047443681},\"path\":\"M 905.0954861111111,4 C 905.0954861111111,3.5 901.5,3.5 901.5,3\",\"type\":\"path\"},{\"layer\":\"below\",\"line\":{\"color\":\"rgb(180,180,180)\",\"width\":1.160964047443681},\"path\":\"M 901.5,3 C 901.5,2.5 901.5,2.5 901.5,2\",\"type\":\"path\"},{\"layer\":\"below\",\"line\":{\"color\":\"rgb(180,180,180)\",\"width\":1.160964047443681},\"path\":\"M 901.5,2 C 901.5,1.0 901.5,1.0 901.5,0\",\"type\":\"path\"},{\"layer\":\"below\",\"line\":{\"color\":\"rgb(180,180,180)\",\"width\":4.344998985709723},\"path\":\"M 905.0954861111111,4 C 905.0954861111111,3.5 911.6875,3.5 911.6875,3\",\"type\":\"path\"},{\"layer\":\"below\",\"line\":{\"color\":\"rgb(180,180,180)\",\"width\":4.344998985709723},\"path\":\"M 911.6875,3 C 911.6875,2.5 911.6875,2.5 911.6875,2\",\"type\":\"path\"},{\"layer\":\"below\",\"line\":{\"color\":\"rgb(180,180,180)\",\"width\":3.6380622026371188},\"path\":\"M 911.6875,2 C 911.6875,1.5 905.5,1.5 905.5,1\",\"type\":\"path\"},{\"layer\":\"below\",\"line\":{\"color\":\"rgb(180,180,180)\",\"width\":3.6380622026371188},\"path\":\"M 905.5,1 C 905.5,0.5 905.5,0.5 905.5,0\",\"type\":\"path\"},{\"layer\":\"below\",\"line\":{\"color\":\"rgb(180,180,180)\",\"width\":3.3502198590705463},\"path\":\"M 911.6875,2 C 911.6875,1.5 909.5,1.5 909.5,1\",\"type\":\"path\"},{\"layer\":\"below\",\"line\":{\"color\":\"rgb(180,180,180)\",\"width\":3.3502198590705463},\"path\":\"M 909.5,1 C 909.5,0.5 909.5,0.5 909.5,0\",\"type\":\"path\"},{\"layer\":\"below\",\"line\":{\"color\":\"rgb(180,180,180)\",\"width\":0.792481250360578},\"path\":\"M 911.6875,2 C 911.6875,1.5 913.75,1.5 913.75,1\",\"type\":\"path\"},{\"layer\":\"below\",\"line\":{\"color\":\"rgb(180,180,180)\",\"width\":0.5},\"path\":\"M 913.75,1 C 913.75,0.5 913.5,0.5 913.5,0\",\"type\":\"path\"},{\"layer\":\"below\",\"line\":{\"color\":\"rgb(180,180,180)\",\"width\":0.5},\"path\":\"M 913.75,1 C 913.75,0.5 914.0,0.5 914.0,0\",\"type\":\"path\"},{\"layer\":\"below\",\"line\":{\"color\":\"rgb(180,180,180)\",\"width\":3.6333932703474505},\"path\":\"M 911.6875,2 C 911.6875,1.5 918.0,1.5 918.0,1\",\"type\":\"path\"},{\"layer\":\"below\",\"line\":{\"color\":\"rgb(180,180,180)\",\"width\":3.6333932703474505},\"path\":\"M 918.0,1 C 918.0,0.5 918.0,0.5 918.0,0\",\"type\":\"path\"},{\"layer\":\"below\",\"line\":{\"color\":\"rgb(180,180,180)\",\"width\":2.564641508472483},\"path\":\"M 905.0954861111111,4 C 905.0954861111111,3.5 922.0,3.5 922.0,3\",\"type\":\"path\"},{\"layer\":\"below\",\"line\":{\"color\":\"rgb(180,180,180)\",\"width\":2.564641508472483},\"path\":\"M 922.0,3 C 922.0,2.5 922.0,2.5 922.0,2\",\"type\":\"path\"},{\"layer\":\"below\",\"line\":{\"color\":\"rgb(180,180,180)\",\"width\":2.564641508472483},\"path\":\"M 922.0,2 C 922.0,1.5 922.0,1.5 922.0,1\",\"type\":\"path\"},{\"layer\":\"below\",\"line\":{\"color\":\"rgb(180,180,180)\",\"width\":2.564641508472483},\"path\":\"M 922.0,1 C 922.0,0.5 922.0,0.5 922.0,0\",\"type\":\"path\"},{\"layer\":\"below\",\"line\":{\"color\":\"rgb(180,180,180)\",\"width\":1.7297158093186487},\"path\":\"M 940.7942354024943,5 C 940.7942354024943,4.5 928.0,4.5 928.0,4\",\"type\":\"path\"},{\"layer\":\"below\",\"line\":{\"color\":\"rgb(180,180,180)\",\"width\":1.7297158093186487},\"path\":\"M 928.0,4 C 928.0,3.0 928.0,3.0 928.0,2\",\"type\":\"path\"},{\"layer\":\"below\",\"line\":{\"color\":\"rgb(180,180,180)\",\"width\":0.5},\"path\":\"M 928.0,2 C 928.0,1.0 926.0,1.0 926.0,0\",\"type\":\"path\"},{\"layer\":\"below\",\"line\":{\"color\":\"rgb(180,180,180)\",\"width\":1.660964047443681},\"path\":\"M 928.0,2 C 928.0,1.0 930.0,1.0 930.0,0\",\"type\":\"path\"},{\"layer\":\"below\",\"line\":{\"color\":\"rgb(180,180,180)\",\"width\":2.428990497563786},\"path\":\"M 940.7942354024943,5 C 940.7942354024943,4.5 946.0,4.5 946.0,4\",\"type\":\"path\"},{\"layer\":\"below\",\"line\":{\"color\":\"rgb(180,180,180)\",\"width\":1.0},\"path\":\"M 946.0,4 C 946.0,3.0 936.0,3.0 936.0,2\",\"type\":\"path\"},{\"layer\":\"below\",\"line\":{\"color\":\"rgb(180,180,180)\",\"width\":0.5},\"path\":\"M 936.0,2 C 936.0,1.0 934.0,1.0 934.0,0\",\"type\":\"path\"},{\"layer\":\"below\",\"line\":{\"color\":\"rgb(180,180,180)\",\"width\":0.792481250360578},\"path\":\"M 936.0,2 C 936.0,1.0 938.0,1.0 938.0,0\",\"type\":\"path\"},{\"layer\":\"below\",\"line\":{\"color\":\"rgb(180,180,180)\",\"width\":1.584962500721156},\"path\":\"M 946.0,4 C 946.0,3.0 944.0,3.0 944.0,2\",\"type\":\"path\"},{\"layer\":\"below\",\"line\":{\"color\":\"rgb(180,180,180)\",\"width\":1.160964047443681},\"path\":\"M 944.0,2 C 944.0,1.0 942.0,1.0 942.0,0\",\"type\":\"path\"},{\"layer\":\"below\",\"line\":{\"color\":\"rgb(180,180,180)\",\"width\":1.160964047443681},\"path\":\"M 944.0,2 C 944.0,1.0 946.0,1.0 946.0,0\",\"type\":\"path\"},{\"layer\":\"below\",\"line\":{\"color\":\"rgb(180,180,180)\",\"width\":2.084962500721156},\"path\":\"M 946.0,4 C 946.0,3.0 958.0,3.0 958.0,2\",\"type\":\"path\"},{\"layer\":\"below\",\"line\":{\"color\":\"rgb(180,180,180)\",\"width\":1.160964047443681},\"path\":\"M 958.0,2 C 958.0,1.0 950.0,1.0 950.0,0\",\"type\":\"path\"},{\"layer\":\"below\",\"line\":{\"color\":\"rgb(180,180,180)\",\"width\":1.160964047443681},\"path\":\"M 958.0,2 C 958.0,1.0 954.0,1.0 954.0,0\",\"type\":\"path\"},{\"layer\":\"below\",\"line\":{\"color\":\"rgb(180,180,180)\",\"width\":0.792481250360578},\"path\":\"M 958.0,2 C 958.0,1.0 958.0,1.0 958.0,0\",\"type\":\"path\"},{\"layer\":\"below\",\"line\":{\"color\":\"rgb(180,180,180)\",\"width\":1.160964047443681},\"path\":\"M 958.0,2 C 958.0,1.0 962.0,1.0 962.0,0\",\"type\":\"path\"},{\"layer\":\"below\",\"line\":{\"color\":\"rgb(180,180,180)\",\"width\":1.0},\"path\":\"M 958.0,2 C 958.0,1.0 966.0,1.0 966.0,0\",\"type\":\"path\"},{\"layer\":\"below\",\"line\":{\"color\":\"rgb(180,180,180)\",\"width\":0.792481250360578},\"path\":\"M 940.7942354024943,5 C 940.7942354024943,4.5 970.0,4.5 970.0,4\",\"type\":\"path\"},{\"layer\":\"below\",\"line\":{\"color\":\"rgb(180,180,180)\",\"width\":0.792481250360578},\"path\":\"M 970.0,4 C 970.0,3.0 970.0,3.0 970.0,2\",\"type\":\"path\"},{\"layer\":\"below\",\"line\":{\"color\":\"rgb(180,180,180)\",\"width\":0.792481250360578},\"path\":\"M 970.0,2 C 970.0,1.0 970.0,1.0 970.0,0\",\"type\":\"path\"},{\"layer\":\"below\",\"line\":{\"color\":\"rgb(180,180,180)\",\"width\":2.084962500721156},\"path\":\"M 940.7942354024943,5 C 940.7942354024943,4.5 980.0,4.5 980.0,4\",\"type\":\"path\"},{\"layer\":\"below\",\"line\":{\"color\":\"rgb(180,180,180)\",\"width\":2.084962500721156},\"path\":\"M 980.0,4 C 980.0,3.0 980.0,3.0 980.0,2\",\"type\":\"path\"},{\"layer\":\"below\",\"line\":{\"color\":\"rgb(180,180,180)\",\"width\":1.160964047443681},\"path\":\"M 980.0,2 C 980.0,1.0 974.0,1.0 974.0,0\",\"type\":\"path\"},{\"layer\":\"below\",\"line\":{\"color\":\"rgb(180,180,180)\",\"width\":1.403677461028802},\"path\":\"M 980.0,2 C 980.0,1.0 978.0,1.0 978.0,0\",\"type\":\"path\"},{\"layer\":\"below\",\"line\":{\"color\":\"rgb(180,180,180)\",\"width\":1.292481250360578},\"path\":\"M 980.0,2 C 980.0,1.0 982.0,1.0 982.0,0\",\"type\":\"path\"},{\"layer\":\"below\",\"line\":{\"color\":\"rgb(180,180,180)\",\"width\":0.792481250360578},\"path\":\"M 980.0,2 C 980.0,1.0 986.0,1.0 986.0,0\",\"type\":\"path\"},{\"layer\":\"below\",\"line\":{\"color\":\"rgb(180,180,180)\",\"width\":4.922745025472188},\"path\":\"M 940.7942354024943,5 C 940.7942354024943,4.5 1073.0,4.5 1073.0,4\",\"type\":\"path\"},{\"layer\":\"below\",\"line\":{\"color\":\"rgb(180,180,180)\",\"width\":4.918813966585702},\"path\":\"M 1073.0,4 C 1073.0,3.5 1058.0,3.5 1058.0,3\",\"type\":\"path\"},{\"layer\":\"below\",\"line\":{\"color\":\"rgb(180,180,180)\",\"width\":4.905285817370573},\"path\":\"M 1058.0,3 C 1058.0,2.5 1034.0,2.5 1034.0,2\",\"type\":\"path\"},{\"layer\":\"below\",\"line\":{\"color\":\"rgb(180,180,180)\",\"width\":1.403677461028802},\"path\":\"M 1034.0,2 C 1034.0,1.0 990.0,1.0 990.0,0\",\"type\":\"path\"},{\"layer\":\"below\",\"line\":{\"color\":\"rgb(180,180,180)\",\"width\":0.5},\"path\":\"M 1034.0,2 C 1034.0,1.0 994.0,1.0 994.0,0\",\"type\":\"path\"},{\"layer\":\"below\",\"line\":{\"color\":\"rgb(180,180,180)\",\"width\":0.792481250360578},\"path\":\"M 1034.0,2 C 1034.0,1.0 998.0,1.0 998.0,0\",\"type\":\"path\"},{\"layer\":\"below\",\"line\":{\"color\":\"rgb(180,180,180)\",\"width\":0.5},\"path\":\"M 1034.0,2 C 1034.0,1.0 1002.0,1.0 1002.0,0\",\"type\":\"path\"},{\"layer\":\"below\",\"line\":{\"color\":\"rgb(180,180,180)\",\"width\":3.0437314206251695},\"path\":\"M 1034.0,2 C 1034.0,1.0 1006.0,1.0 1006.0,0\",\"type\":\"path\"},{\"layer\":\"below\",\"line\":{\"color\":\"rgb(180,180,180)\",\"width\":3.094912279440009},\"path\":\"M 1034.0,2 C 1034.0,1.0 1010.0,1.0 1010.0,0\",\"type\":\"path\"},{\"layer\":\"below\",\"line\":{\"color\":\"rgb(180,180,180)\",\"width\":3.064641508472483},\"path\":\"M 1034.0,2 C 1034.0,1.0 1014.0,1.0 1014.0,0\",\"type\":\"path\"},{\"layer\":\"below\",\"line\":{\"color\":\"rgb(180,180,180)\",\"width\":1.0},\"path\":\"M 1034.0,2 C 1034.0,1.0 1018.0,1.0 1018.0,0\",\"type\":\"path\"},{\"layer\":\"below\",\"line\":{\"color\":\"rgb(180,180,180)\",\"width\":3.178776002309042},\"path\":\"M 1034.0,2 C 1034.0,1.0 1022.0,1.0 1022.0,0\",\"type\":\"path\"},{\"layer\":\"below\",\"line\":{\"color\":\"rgb(180,180,180)\",\"width\":0.792481250360578},\"path\":\"M 1034.0,2 C 1034.0,1.0 1026.0,1.0 1026.0,0\",\"type\":\"path\"},{\"layer\":\"below\",\"line\":{\"color\":\"rgb(180,180,180)\",\"width\":0.5},\"path\":\"M 1034.0,2 C 1034.0,1.0 1030.0,1.0 1030.0,0\",\"type\":\"path\"},{\"layer\":\"below\",\"line\":{\"color\":\"rgb(180,180,180)\",\"width\":3.0437314206251695},\"path\":\"M 1034.0,2 C 1034.0,1.0 1034.0,1.0 1034.0,0\",\"type\":\"path\"},{\"layer\":\"below\",\"line\":{\"color\":\"rgb(180,180,180)\",\"width\":3.221471747924364},\"path\":\"M 1034.0,2 C 1034.0,1.0 1038.0,1.0 1038.0,0\",\"type\":\"path\"},{\"layer\":\"below\",\"line\":{\"color\":\"rgb(180,180,180)\",\"width\":3.0542622283890846},\"path\":\"M 1034.0,2 C 1034.0,1.0 1042.0,1.0 1042.0,0\",\"type\":\"path\"},{\"layer\":\"below\",\"line\":{\"color\":\"rgb(180,180,180)\",\"width\":3.0},\"path\":\"M 1034.0,2 C 1034.0,1.0 1046.0,1.0 1046.0,0\",\"type\":\"path\"},{\"layer\":\"below\",\"line\":{\"color\":\"rgb(180,180,180)\",\"width\":0.5},\"path\":\"M 1034.0,2 C 1034.0,1.0 1050.0,1.0 1050.0,0\",\"type\":\"path\"},{\"layer\":\"below\",\"line\":{\"color\":\"rgb(180,180,180)\",\"width\":2.9164450070823706},\"path\":\"M 1034.0,2 C 1034.0,1.0 1054.0,1.0 1054.0,0\",\"type\":\"path\"},{\"layer\":\"below\",\"line\":{\"color\":\"rgb(180,180,180)\",\"width\":3.064641508472483},\"path\":\"M 1034.0,2 C 1034.0,1.0 1058.0,1.0 1058.0,0\",\"type\":\"path\"},{\"layer\":\"below\",\"line\":{\"color\":\"rgb(180,180,180)\",\"width\":1.0},\"path\":\"M 1034.0,2 C 1034.0,1.0 1062.0,1.0 1062.0,0\",\"type\":\"path\"},{\"layer\":\"below\",\"line\":{\"color\":\"rgb(180,180,180)\",\"width\":0.5},\"path\":\"M 1034.0,2 C 1034.0,1.0 1066.0,1.0 1066.0,0\",\"type\":\"path\"},{\"layer\":\"below\",\"line\":{\"color\":\"rgb(180,180,180)\",\"width\":2.807354922057604},\"path\":\"M 1034.0,2 C 1034.0,1.0 1070.0,1.0 1070.0,0\",\"type\":\"path\"},{\"layer\":\"below\",\"line\":{\"color\":\"rgb(180,180,180)\",\"width\":3.094912279440009},\"path\":\"M 1034.0,2 C 1034.0,1.0 1074.0,1.0 1074.0,0\",\"type\":\"path\"},{\"layer\":\"below\",\"line\":{\"color\":\"rgb(180,180,180)\",\"width\":2.941321524680921},\"path\":\"M 1034.0,2 C 1034.0,1.0 1078.0,1.0 1078.0,0\",\"type\":\"path\"},{\"layer\":\"below\",\"line\":{\"color\":\"rgb(180,180,180)\",\"width\":2.084962500721156},\"path\":\"M 1058.0,3 C 1058.0,2.5 1082.0,2.5 1082.0,2\",\"type\":\"path\"},{\"layer\":\"below\",\"line\":{\"color\":\"rgb(180,180,180)\",\"width\":2.084962500721156},\"path\":\"M 1082.0,2 C 1082.0,1.0 1082.0,1.0 1082.0,0\",\"type\":\"path\"},{\"layer\":\"below\",\"line\":{\"color\":\"rgb(180,180,180)\",\"width\":1.292481250360578},\"path\":\"M 1073.0,4 C 1073.0,3.5 1088.0,3.5 1088.0,3\",\"type\":\"path\"},{\"layer\":\"below\",\"line\":{\"color\":\"rgb(180,180,180)\",\"width\":1.292481250360578},\"path\":\"M 1088.0,3 C 1088.0,2.5 1088.0,2.5 1088.0,2\",\"type\":\"path\"},{\"layer\":\"below\",\"line\":{\"color\":\"rgb(180,180,180)\",\"width\":0.5},\"path\":\"M 1088.0,2 C 1088.0,1.0 1086.0,1.0 1086.0,0\",\"type\":\"path\"},{\"layer\":\"below\",\"line\":{\"color\":\"rgb(180,180,180)\",\"width\":1.160964047443681},\"path\":\"M 1088.0,2 C 1088.0,1.0 1090.0,1.0 1090.0,0\",\"type\":\"path\"},{\"layer\":\"below\",\"line\":{\"color\":\"rgb(180,180,180)\",\"width\":2.1239637567217926},\"path\":\"M 940.7942354024943,5 C 940.7942354024943,4.5 1102.5,4.5 1102.5,4\",\"type\":\"path\"},{\"layer\":\"below\",\"line\":{\"color\":\"rgb(180,180,180)\",\"width\":1.7297158093186487},\"path\":\"M 1102.5,4 C 1102.5,3.0 1094.0,3.0 1094.0,2\",\"type\":\"path\"},{\"layer\":\"below\",\"line\":{\"color\":\"rgb(180,180,180)\",\"width\":1.7297158093186487},\"path\":\"M 1094.0,2 C 1094.0,1.0 1094.0,1.0 1094.0,0\",\"type\":\"path\"},{\"layer\":\"below\",\"line\":{\"color\":\"rgb(180,180,180)\",\"width\":1.160964047443681},\"path\":\"M 1102.5,4 C 1102.5,3.0 1100.0,3.0 1100.0,2\",\"type\":\"path\"},{\"layer\":\"below\",\"line\":{\"color\":\"rgb(180,180,180)\",\"width\":0.792481250360578},\"path\":\"M 1100.0,2 C 1100.0,1.0 1098.0,1.0 1098.0,0\",\"type\":\"path\"},{\"layer\":\"below\",\"line\":{\"color\":\"rgb(180,180,180)\",\"width\":0.792481250360578},\"path\":\"M 1100.0,2 C 1100.0,1.0 1102.0,1.0 1102.0,0\",\"type\":\"path\"},{\"layer\":\"below\",\"line\":{\"color\":\"rgb(180,180,180)\",\"width\":0.5},\"path\":\"M 1102.5,4 C 1102.5,3.0 1106.0,3.0 1106.0,2\",\"type\":\"path\"},{\"layer\":\"below\",\"line\":{\"color\":\"rgb(180,180,180)\",\"width\":0.5},\"path\":\"M 1106.0,2 C 1106.0,1.0 1106.0,1.0 1106.0,0\",\"type\":\"path\"},{\"layer\":\"below\",\"line\":{\"color\":\"rgb(180,180,180)\",\"width\":1.0},\"path\":\"M 1102.5,4 C 1102.5,3.0 1110.0,3.0 1110.0,2\",\"type\":\"path\"},{\"layer\":\"below\",\"line\":{\"color\":\"rgb(180,180,180)\",\"width\":1.0},\"path\":\"M 1110.0,2 C 1110.0,1.0 1110.0,1.0 1110.0,0\",\"type\":\"path\"},{\"layer\":\"below\",\"line\":{\"color\":\"rgb(180,180,180)\",\"width\":2.403677461028802},\"path\":\"M 940.7942354024943,5 C 940.7942354024943,4.5 1124.0,4.5 1124.0,4\",\"type\":\"path\"},{\"layer\":\"below\",\"line\":{\"color\":\"rgb(180,180,180)\",\"width\":2.403677461028802},\"path\":\"M 1124.0,4 C 1124.0,3.0 1124.0,3.0 1124.0,2\",\"type\":\"path\"},{\"layer\":\"below\",\"line\":{\"color\":\"rgb(180,180,180)\",\"width\":0.792481250360578},\"path\":\"M 1124.0,2 C 1124.0,1.0 1114.0,1.0 1114.0,0\",\"type\":\"path\"},{\"layer\":\"below\",\"line\":{\"color\":\"rgb(180,180,180)\",\"width\":1.292481250360578},\"path\":\"M 1124.0,2 C 1124.0,1.0 1118.0,1.0 1118.0,0\",\"type\":\"path\"},{\"layer\":\"below\",\"line\":{\"color\":\"rgb(180,180,180)\",\"width\":1.292481250360578},\"path\":\"M 1124.0,2 C 1124.0,1.0 1122.0,1.0 1122.0,0\",\"type\":\"path\"},{\"layer\":\"below\",\"line\":{\"color\":\"rgb(180,180,180)\",\"width\":1.0},\"path\":\"M 1124.0,2 C 1124.0,1.0 1126.0,1.0 1126.0,0\",\"type\":\"path\"},{\"layer\":\"below\",\"line\":{\"color\":\"rgb(180,180,180)\",\"width\":1.660964047443681},\"path\":\"M 1124.0,2 C 1124.0,1.0 1130.0,1.0 1130.0,0\",\"type\":\"path\"},{\"layer\":\"below\",\"line\":{\"color\":\"rgb(180,180,180)\",\"width\":1.0},\"path\":\"M 1124.0,2 C 1124.0,1.0 1134.0,1.0 1134.0,0\",\"type\":\"path\"},{\"layer\":\"below\",\"line\":{\"color\":\"rgb(180,180,180)\",\"width\":2.1239637567217926},\"path\":\"M 940.7942354024943,5 C 940.7942354024943,4.5 1158.0,4.5 1158.0,4\",\"type\":\"path\"},{\"layer\":\"below\",\"line\":{\"color\":\"rgb(180,180,180)\",\"width\":2.084962500721156},\"path\":\"M 1158.0,4 C 1158.0,3.0 1150.0,3.0 1150.0,2\",\"type\":\"path\"},{\"layer\":\"below\",\"line\":{\"color\":\"rgb(180,180,180)\",\"width\":0.5},\"path\":\"M 1150.0,2 C 1150.0,1.0 1138.0,1.0 1138.0,0\",\"type\":\"path\"},{\"layer\":\"below\",\"line\":{\"color\":\"rgb(180,180,180)\",\"width\":0.792481250360578},\"path\":\"M 1150.0,2 C 1150.0,1.0 1142.0,1.0 1142.0,0\",\"type\":\"path\"},{\"layer\":\"below\",\"line\":{\"color\":\"rgb(180,180,180)\",\"width\":0.792481250360578},\"path\":\"M 1150.0,2 C 1150.0,1.0 1146.0,1.0 1146.0,0\",\"type\":\"path\"},{\"layer\":\"below\",\"line\":{\"color\":\"rgb(180,180,180)\",\"width\":0.5},\"path\":\"M 1150.0,2 C 1150.0,1.0 1150.0,1.0 1150.0,0\",\"type\":\"path\"},{\"layer\":\"below\",\"line\":{\"color\":\"rgb(180,180,180)\",\"width\":1.403677461028802},\"path\":\"M 1150.0,2 C 1150.0,1.0 1154.0,1.0 1154.0,0\",\"type\":\"path\"},{\"layer\":\"below\",\"line\":{\"color\":\"rgb(180,180,180)\",\"width\":1.0},\"path\":\"M 1150.0,2 C 1150.0,1.0 1158.0,1.0 1158.0,0\",\"type\":\"path\"},{\"layer\":\"below\",\"line\":{\"color\":\"rgb(180,180,180)\",\"width\":0.792481250360578},\"path\":\"M 1150.0,2 C 1150.0,1.0 1162.0,1.0 1162.0,0\",\"type\":\"path\"},{\"layer\":\"below\",\"line\":{\"color\":\"rgb(180,180,180)\",\"width\":0.5},\"path\":\"M 1158.0,4 C 1158.0,3.0 1166.0,3.0 1166.0,2\",\"type\":\"path\"},{\"layer\":\"below\",\"line\":{\"color\":\"rgb(180,180,180)\",\"width\":0.5},\"path\":\"M 1166.0,2 C 1166.0,1.0 1166.0,1.0 1166.0,0\",\"type\":\"path\"},{\"line\":{\"color\":\"rgb(200,200,200)\",\"dash\":\"dash\",\"width\":0.5},\"type\":\"line\",\"x0\":0,\"x1\":1,\"xref\":\"x domain\",\"y0\":0,\"y1\":0,\"yref\":\"y\"},{\"line\":{\"color\":\"rgb(200,200,200)\",\"dash\":\"dash\",\"width\":0.5},\"type\":\"line\",\"x0\":0,\"x1\":1,\"xref\":\"x domain\",\"y0\":1,\"y1\":1,\"yref\":\"y\"},{\"line\":{\"color\":\"rgb(200,200,200)\",\"dash\":\"dash\",\"width\":0.5},\"type\":\"line\",\"x0\":0,\"x1\":1,\"xref\":\"x domain\",\"y0\":2,\"y1\":2,\"yref\":\"y\"},{\"line\":{\"color\":\"rgb(200,200,200)\",\"dash\":\"dash\",\"width\":0.5},\"type\":\"line\",\"x0\":0,\"x1\":1,\"xref\":\"x domain\",\"y0\":3,\"y1\":3,\"yref\":\"y\"},{\"line\":{\"color\":\"rgb(200,200,200)\",\"dash\":\"dash\",\"width\":0.5},\"type\":\"line\",\"x0\":0,\"x1\":1,\"xref\":\"x domain\",\"y0\":4,\"y1\":4,\"yref\":\"y\"},{\"line\":{\"color\":\"rgb(200,200,200)\",\"dash\":\"dash\",\"width\":0.5},\"type\":\"line\",\"x0\":0,\"x1\":1,\"xref\":\"x domain\",\"y0\":5,\"y1\":5,\"yref\":\"y\"},{\"line\":{\"color\":\"rgb(200,200,200)\",\"dash\":\"dash\",\"width\":0.5},\"type\":\"line\",\"x0\":0,\"x1\":1,\"xref\":\"x domain\",\"y0\":6,\"y1\":6,\"yref\":\"y\"},{\"line\":{\"color\":\"rgb(200,200,200)\",\"dash\":\"dash\",\"width\":0.5},\"type\":\"line\",\"x0\":0,\"x1\":1,\"xref\":\"x domain\",\"y0\":7,\"y1\":7,\"yref\":\"y\"}],\"annotations\":[{\"font\":{\"color\":\"rgb(50,50,50)\",\"size\":15},\"showarrow\":false,\"text\":\"Ontology term\",\"x\":0,\"xanchor\":\"left\",\"xref\":\"x domain\",\"y\":0,\"yanchor\":\"bottom\",\"yref\":\"y\"},{\"font\":{\"color\":\"rgb(50,50,50)\",\"size\":15},\"showarrow\":false,\"text\":\"Cell type\",\"x\":0,\"xanchor\":\"left\",\"xref\":\"x domain\",\"y\":1,\"yanchor\":\"bottom\",\"yref\":\"y\"},{\"font\":{\"color\":\"rgb(50,50,50)\",\"size\":15},\"showarrow\":false,\"text\":\"Organ\",\"x\":0,\"xanchor\":\"left\",\"xref\":\"x domain\",\"y\":2,\"yanchor\":\"bottom\",\"yref\":\"y\"},{\"font\":{\"color\":\"rgb(50,50,50)\",\"size\":15},\"showarrow\":false,\"text\":\"Subsystem\",\"x\":0,\"xanchor\":\"left\",\"xref\":\"x domain\",\"y\":3,\"yanchor\":\"bottom\",\"yref\":\"y\"},{\"font\":{\"color\":\"rgb(50,50,50)\",\"size\":15},\"showarrow\":false,\"text\":\"System\",\"x\":0,\"xanchor\":\"left\",\"xref\":\"x domain\",\"y\":4,\"yanchor\":\"bottom\",\"yref\":\"y\"},{\"font\":{\"color\":\"rgb(50,50,50)\",\"size\":15},\"showarrow\":false,\"text\":\"Growth stage/State\",\"x\":0,\"xanchor\":\"left\",\"xref\":\"x domain\",\"y\":5,\"yanchor\":\"bottom\",\"yref\":\"y\"},{\"font\":{\"color\":\"rgb(50,50,50)\",\"size\":15},\"showarrow\":false,\"text\":\"Disease pathology\",\"x\":0,\"xanchor\":\"left\",\"xref\":\"x domain\",\"y\":6,\"yanchor\":\"bottom\",\"yref\":\"y\"},{\"font\":{\"color\":\"rgb(50,50,50)\",\"size\":15},\"showarrow\":false,\"text\":\"Sampling origin\",\"x\":0,\"xanchor\":\"left\",\"xref\":\"x domain\",\"y\":7,\"yanchor\":\"bottom\",\"yref\":\"y\"},{\"font\":{\"color\":\"rgb(50,50,50)\",\"size\":8},\"showarrow\":false,\"text\":\"Cultured\",\"x\":166.2930935778237,\"xanchor\":\"center\",\"y\":7,\"yanchor\":\"bottom\",\"yshift\":5},{\"font\":{\"color\":\"rgb(50,50,50)\",\"size\":8},\"showarrow\":false,\"text\":\"Cancer\",\"x\":77.67837465564739,\"xanchor\":\"center\",\"y\":6,\"yanchor\":\"bottom\",\"yshift\":5},{\"font\":{\"color\":\"rgb(50,50,50)\",\"size\":8},\"showarrow\":false,\"text\":\"Cell line\",\"x\":77.67837465564739,\"xanchor\":\"center\",\"y\":5,\"yanchor\":\"bottom\",\"yshift\":5},{\"font\":{\"color\":\"rgb(50,50,50)\",\"size\":8},\"showarrow\":false,\"text\":\"Normal\",\"x\":254.9078125,\"xanchor\":\"center\",\"y\":6,\"yanchor\":\"bottom\",\"yshift\":5},{\"font\":{\"color\":\"rgb(50,50,50)\",\"size\":8},\"showarrow\":false,\"text\":\"Cell line\",\"x\":191.0,\"xanchor\":\"center\",\"y\":5,\"yanchor\":\"bottom\",\"yshift\":5},{\"font\":{\"color\":\"rgb(50,50,50)\",\"size\":8},\"showarrow\":false,\"text\":\"Differentiated\\nstem cells\",\"x\":229.03125,\"xanchor\":\"center\",\"y\":5,\"yanchor\":\"bottom\",\"yshift\":5},{\"font\":{\"color\":\"rgb(50,50,50)\",\"size\":8},\"showarrow\":false,\"text\":\"Primary\",\"x\":276.6,\"xanchor\":\"center\",\"y\":5,\"yanchor\":\"bottom\",\"yshift\":5},{\"font\":{\"color\":\"rgb(50,50,50)\",\"size\":8},\"showarrow\":false,\"text\":\"Stem cells\",\"x\":323.0,\"xanchor\":\"center\",\"y\":5,\"yanchor\":\"bottom\",\"yshift\":5},{\"font\":{\"color\":\"rgb(50,50,50)\",\"size\":8},\"showarrow\":false,\"text\":\"Tissue\",\"x\":550.5891266161914,\"xanchor\":\"center\",\"y\":7,\"yanchor\":\"bottom\",\"yshift\":5},{\"font\":{\"color\":\"rgb(50,50,50)\",\"size\":8},\"showarrow\":false,\"text\":\"Cancer\",\"x\":369.0,\"xanchor\":\"center\",\"y\":6,\"yanchor\":\"bottom\",\"yshift\":5},{\"font\":{\"color\":\"rgb(50,50,50)\",\"size\":8},\"showarrow\":false,\"text\":\"Normal\",\"x\":732.1782532323828,\"xanchor\":\"center\",\"y\":6,\"yanchor\":\"bottom\",\"yshift\":5},{\"font\":{\"color\":\"rgb(50,50,50)\",\"size\":8},\"showarrow\":false,\"text\":\"Fetal\",\"x\":523.5622710622711,\"xanchor\":\"center\",\"y\":5,\"yanchor\":\"bottom\",\"yshift\":5},{\"font\":{\"color\":\"rgb(50,50,50)\",\"size\":8},\"showarrow\":false,\"text\":\"Postnatal\",\"x\":940.7942354024943,\"xanchor\":\"center\",\"y\":5,\"yanchor\":\"bottom\",\"yshift\":5}]},                        {\"responsive\": true}                    ).then(function(){\n",
       "                            \n",
       "var gd = document.getElementById('fc98ada8-a738-48e3-ac5e-0d5ddea8d2c6');\n",
       "var x = new MutationObserver(function (mutations, observer) {{\n",
       "        var display = window.getComputedStyle(gd).display;\n",
       "        if (!display || display === 'none') {{\n",
       "            console.log([gd, 'removed!']);\n",
       "            Plotly.purge(gd);\n",
       "            observer.disconnect();\n",
       "        }}\n",
       "}});\n",
       "\n",
       "// Listen for the removal of the full notebook cells\n",
       "var notebookContainer = gd.closest('#notebook-container');\n",
       "if (notebookContainer) {{\n",
       "    x.observe(notebookContainer, {childList: true});\n",
       "}}\n",
       "\n",
       "// Listen for the clearing of the current output cell\n",
       "var outputEl = gd.closest('.output');\n",
       "if (outputEl) {{\n",
       "    x.observe(outputEl, {childList: true});\n",
       "}}\n",
       "\n",
       "                        })                };                });            </script>        </div>"
      ]
     },
     "metadata": {},
     "output_type": "display_data"
    }
   ],
   "source": [
    "import plotly.graph_objects as go\n",
    "import plotly.express as px\n",
    "\n",
    "fig = go.Figure()\n",
    "# fig.add_trace(go.Scatter(x=Xe,\n",
    "#                    y=Ye,\n",
    "#                    mode='lines',\n",
    "#                    line=dict(color='rgb(210,210,210)', width=1),\n",
    "#                    hoverinfo='none'\n",
    "#                    ))\n",
    "\n",
    "fig.add_trace(go.Scatter(x=Xn,\n",
    "                  y=Yn,\n",
    "                  mode='markers',\n",
    "                  marker=dict(symbol='circle',\n",
    "                                size=sizes,\n",
    "                                color=colors,\n",
    "                                line=dict(color='rgb(50,50,50)', width=0.5),\n",
    "                                opacity=1,\n",
    "                                sizemode='diameter',\n",
    "                                ),\n",
    "                  text=labels,\n",
    "                  hoverinfo='text',\n",
    "                  ))\n",
    "axis = dict(showline=False, # hide axis line, grid, ticklabels and  title\n",
    "            zeroline=False,\n",
    "            showgrid=False,\n",
    "            showticklabels=False,\n",
    "            )\n",
    "fig.update_layout(title= '3780 Metadata',\n",
    "#               annotations=make_annotations(position, v_label),\n",
    "              font_size=12,\n",
    "              showlegend=False,\n",
    "              xaxis=axis,\n",
    "              yaxis=axis,\n",
    "              margin=dict(l=40, r=40, b=85, t=100),\n",
    "              hovermode='closest',\n",
    "#               plot_bgcolor='rgb(248,248,248)',\n",
    "              plot_bgcolor='rgb(255,255,255)',\n",
    "              shapes=[\n",
    "                dict(\n",
    "                  type=\"path\",\n",
    "                  path=\"M {0},{1} C {2},{3} {4},{5} {6},{7}\".format(*s),\n",
    "                  line=dict(\n",
    "#                       color='rgb(120,120,120)',\n",
    "                      color='rgb(180,180,180)',\n",
    "                      width=w,\n",
    "                  ),\n",
    "                  layer=\"below\",\n",
    "                )\n",
    "                for s, w in zip(splines, fwidths)\n",
    "              ]\n",
    "              )\n",
    "line_labels = {}\n",
    "for oc in ontology_configuration[::-1]:\n",
    "    line_labels.setdefault(oc['level'], []).append(oc['display_name'])\n",
    "line_labels = ['/'.join(x) for x in line_labels.values()]\n",
    "\n",
    "for i, oc in zip(range(M), line_labels):\n",
    "    fig.add_hline(y=min_y + i, line_width=0.5, line_dash='dash', line_color='rgb(200,200,200)',\n",
    "              annotation_text=oc, \n",
    "              annotation_position=\"top left\",\n",
    "              annotation_font_size=15,\n",
    "              annotation_font_color=\"rgb(50,50,50)\")\n",
    "for v in nodes_to_annotate:\n",
    "    fig.add_annotation(\n",
    "        x=Xn[v], y=Yn[v],\n",
    "        text=labels[v].split(': ')[1].split(' (')[0].replace(\n",
    "            'Differentiated stem cells', 'Differentiated\\nstem cells'),\n",
    "        showarrow=False,\n",
    "        xanchor=\"center\",\n",
    "        yanchor=\"bottom\",\n",
    "        yshift=5,\n",
    "        font=dict(\n",
    "            color=\"rgb(50,50,50)\",\n",
    "            size=8,\n",
    "        )\n",
    "    )\n",
    "delta = max_x - min_x\n",
    "fig.update_xaxes(range=[min_x - 0.15 * delta, max_x + 0.01 * delta])\n",
    "fig.show()\n",
    "fig.write_html(\"/home/sboytsov/meta_figures/meta_hierarchy_backup.html\")"
   ]
  },
  {
   "cell_type": "code",
   "execution_count": 116,
   "id": "d67f5566",
   "metadata": {},
   "outputs": [],
   "source": [
    "def make_annotations(pos, text, font_size=10, font_color='rgb(250,250,250)'):\n",
    "    L=len(pos)\n",
    "    if len(text)!=L:\n",
    "        raise ValueError('The lists pos and text must have the same len')\n",
    "    annotations = []\n",
    "    for k in range(L):\n",
    "        annotations.append(\n",
    "            dict(\n",
    "                text=labels[k], # or replace labels with a different list for the text within the circle\n",
    "                x=pos[k][0], y=2*M-position[k][1],\n",
    "                xref='x1', yref='y1',\n",
    "                font=dict(color=font_color, size=font_size),\n",
    "                showarrow=False)\n",
    "        )\n",
    "    return annotations"
   ]
  },
  {
   "cell_type": "code",
   "execution_count": 117,
   "id": "79472fd6",
   "metadata": {},
   "outputs": [
    {
     "data": {
      "image/png": "[encoded data removed]",
      "text/plain": [
       "<Figure size 640x480 with 1 Axes>"
      ]
     },
     "metadata": {},
     "output_type": "display_data"
    },
    {
     "data": {
      "text/plain": [
       "<matplotlib.collections.PathCollection at 0x7fbe658ea1c0>"
      ]
     },
     "execution_count": 117,
     "metadata": {},
     "output_type": "execute_result"
    },
    {
     "data": {
      "image/png": "[encoded data removed]",
      "text/plain": [
       "<Figure size 640x480 with 1 Axes>"
      ]
     },
     "metadata": {},
     "output_type": "display_data"
    }
   ],
   "source": [
    "from matplotlib import pyplot as plt\n",
    "plt.hist([0.1*np.log2(1+x)*np.power(x, 1/4) for x in values])\n",
    "plt.show()\n",
    "X = np.linspace(0, 3800, 3801)\n",
    "y1 = [0.1*np.log2(1+x)*np.power(x, 1/4) for x in X]\n",
    "y2 = [0.1*np.log2(1+x)*np.power(x, 1/2) for x in X]\n",
    "y3 = [0.1*np.log2(1+x) for x in X]\n",
    "plt.scatter(X, y1)\n",
    "plt.scatter(X, y2)\n",
    "plt.scatter(X, y3)"
   ]
  },
  {
   "cell_type": "code",
   "execution_count": null,
   "id": "2a5118f6",
   "metadata": {},
   "outputs": [],
   "source": []
  },
  {
   "cell_type": "code",
   "execution_count": null,
   "id": "44238e95",
   "metadata": {},
   "outputs": [],
   "source": []
  },
  {
   "cell_type": "code",
   "execution_count": null,
   "id": "922419d5",
   "metadata": {},
   "outputs": [],
   "source": []
  },
  {
   "cell_type": "code",
   "execution_count": null,
   "id": "89619a30",
   "metadata": {},
   "outputs": [],
   "source": []
  },
  {
   "cell_type": "code",
   "execution_count": null,
   "id": "53864481",
   "metadata": {},
   "outputs": [],
   "source": []
  },
  {
   "cell_type": "code",
   "execution_count": null,
   "id": "389c3223",
   "metadata": {},
   "outputs": [],
   "source": []
  },
  {
   "cell_type": "code",
   "execution_count": null,
   "id": "3b073385",
   "metadata": {},
   "outputs": [],
   "source": []
  },
  {
   "cell_type": "code",
   "execution_count": null,
   "id": "448f8df2",
   "metadata": {},
   "outputs": [],
   "source": []
  }
 ],
 "metadata": {
  "kernelspec": {
   "display_name": "Python 3 (ipykernel)",
   "language": "python",
   "name": "python3"
  },
  "language_info": {
   "codemirror_mode": {
    "name": "ipython",
    "version": 3
   },
   "file_extension": ".py",
   "mimetype": "text/x-python",
   "name": "python",
   "nbconvert_exporter": "python",
   "pygments_lexer": "ipython3",
   "version": "3.10.10"
  }
 },
 "nbformat": 4,
 "nbformat_minor": 5
}
